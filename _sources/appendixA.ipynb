{
 "cells": [
  {
   "cell_type": "markdown",
   "id": "2b3842ea",
   "metadata": {},
   "source": [
    "# (APPENDIX) Appendix {-}\n",
    "\n",
    "# Downloading files from JupyterHub {#appendixA}\n",
    "\n",
    "This section will help you\n",
    "save your work from a JupyterHub web-based platform to your own computer. \n",
    "Let's say you want to download everything inside a folder called `your_folder`\n",
    "in your home directory.\n",
    "First open a terminal \\index{JupyterHub!file download} by clicking \"terminal\" in the Launcher tab. \n",
    "Next, type the following in the terminal to create a \n",
    "compressed `.zip` archive for the work you are interested in downloading:\n",
    "\n",
    "```\n",
    "zip -r hub_folder.zip your_folder\n",
    "```\n",
    "\n",
    "After the compressing process is complete, right-click on `hub_folder.zip`\n",
    "in the JupyterHub file browser\n",
    "and click \"Download\". After the download is complete, you should be \n",
    "able to find the `hub_folder.zip` file on your own computer,\n",
    "and unzip the file (typically by double-clicking on it)."
   ]
  }
 ],
 "metadata": {
  "jupytext": {
   "cell_metadata_filter": "-all",
   "formats": "py:percent,md:myst,ipynb",
   "text_representation": {
    "extension": ".md",
    "format_name": "myst",
    "format_version": 0.13,
    "jupytext_version": "1.13.8"
   }
  },
  "kernelspec": {
   "display_name": "Python 3 (ipykernel)",
   "language": "python",
   "name": "python3"
  },
  "language_info": {
   "codemirror_mode": {
    "name": "ipython",
    "version": 3
   },
   "file_extension": ".py",
   "mimetype": "text/x-python",
   "name": "python",
   "nbconvert_exporter": "python",
   "pygments_lexer": "ipython3",
   "version": "3.8.13"
  },
  "source_map": [
   14
  ]
 },
 "nbformat": 4,
 "nbformat_minor": 5
}
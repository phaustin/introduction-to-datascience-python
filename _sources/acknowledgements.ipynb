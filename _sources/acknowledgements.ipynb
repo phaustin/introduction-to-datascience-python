{
 "cells": [
  {
   "cell_type": "markdown",
   "id": "c08866ac",
   "metadata": {},
   "source": [
    "# Acknowledgments {-}\n",
    "\n",
    "We'd like to thank everyone that has contributed to the development of \n",
    "[*Data Science: A First Introduction*](https://datasciencebook.ca).\n",
    "This is an open source textbook that began as a collection of course readings\n",
    "for DSCI 100, a new introductory data science course \n",
    "at the University of British Columbia (UBC).\n",
    "Several faculty members in the UBC Department of Statistics \n",
    "were pivotal in shaping the direction of that course, \n",
    "and as such, contributed greatly to the broad structure and \n",
    "list of topics in this book. We would especially like to thank Matías\n",
    "Salibían-Barrera for his mentorship during the initial development and roll-out\n",
    "of both DSCI 100 and this book. His door was always open when\n",
    "we needed to chat about how to best introduce and teach data science to our first-year students.\n",
    "\n",
    "We would also like to thank all those who contributed to the process of \n",
    "publishing this book. In particular, we would like to thank all of our reviewers for their feedback and suggestions:\n",
    "Rohan Alexander, Isabella Ghement, Virgilio Gómez Rubio, Albert Kim, Adam Loy, Maria Prokofieva, Emily Riederer, and Greg Wilson.\n",
    "The book was improved substantially by their insights.\n",
    "We would like to give special thanks to Jim Zidek\n",
    "for his support and encouragement throughout the process, and to\n",
    "Roger Peng for graciously offering to write the Foreword.\n",
    "\n",
    "Finally, we owe a debt of gratitude to all of the students of DSCI 100 over the past\n",
    "few years. They provided invaluable feedback on the book and worksheets; \n",
    "they found bugs for us (and stood by very patiently in class while \n",
    "we frantically fixed those bugs); and they brought a level of enthusiasm to the class\n",
    "that sustained us during the hard work of creating a new course and writing a textbook.\n",
    "Our interactions with them taught us how to teach data science, and that learning\n",
    "is reflected in the content of this book."
   ]
  }
 ],
 "metadata": {
  "jupytext": {
   "cell_metadata_filter": "-all",
   "formats": "py:percent,md:myst,ipynb",
   "text_representation": {
    "extension": ".md",
    "format_name": "myst",
    "format_version": 0.13,
    "jupytext_version": "1.13.8"
   }
  },
  "kernelspec": {
   "display_name": "Python 3 (ipykernel)",
   "language": "python",
   "name": "python3"
  },
  "language_info": {
   "codemirror_mode": {
    "name": "ipython",
    "version": 3
   },
   "file_extension": ".py",
   "mimetype": "text/x-python",
   "name": "python",
   "nbconvert_exporter": "python",
   "pygments_lexer": "ipython3",
   "version": "3.8.13"
  },
  "source_map": [
   14
  ]
 },
 "nbformat": 4,
 "nbformat_minor": 5
}
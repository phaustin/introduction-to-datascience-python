{
 "cells": [
  {
   "cell_type": "markdown",
   "id": "a1fc0ea7",
   "metadata": {},
   "source": [
    "# About the authors {-}\n",
    "\n",
    "**Tiffany Timbers** is an Assistant Professor of Teaching in the Department of\n",
    "Statistics and Co-Director for the Master of Data Science program (Vancouver\n",
    "Option) at the University of British Columbia. In these roles she teaches and\n",
    "develops curriculum around the responsible application of Data Science to solve\n",
    "real-world problems. One of her favorite courses she teaches is a graduate\n",
    "course on collaborative software development, which focuses on teaching how to\n",
    "create R and Python packages using modern tools and workflows."
   ]
  },
  {
   "cell_type": "markdown",
   "id": "9e28103c",
   "metadata": {},
   "source": [
    "**Trevor Campbell** is an Assistant Professor in the Department of Statistics at\n",
    "the University of British Columbia. His research focuses on automated, scalable\n",
    "Bayesian inference algorithms, Bayesian nonparametrics, streaming data, and\n",
    "Bayesian theory. He was previously a postdoctoral associate advised by Tamara\n",
    "Broderick in the Computer Science and Artificial Intelligence Laboratory\n",
    "(CSAIL) and Institute for Data, Systems, and Society (IDSS) at MIT, a Ph.D.\n",
    "candidate under Jonathan How in the Laboratory for Information and Decision\n",
    "Systems (LIDS) at MIT, and before that he was in the Engineering Science\n",
    "program at the University of Toronto."
   ]
  },
  {
   "cell_type": "markdown",
   "id": "df3da20e",
   "metadata": {},
   "source": [
    "**Melissa Lee** is an Assistant Professor of Teaching in the Department of\n",
    "Statistics at the University of British Columbia. She teaches and develops\n",
    "curriculum for undergraduate statistics and data science courses. Her work\n",
    "focuses on student-centered approaches to teaching, developing and assessing\n",
    "open educational resources, and promoting equity, diversity, and inclusion\n",
    "initiatives."
   ]
  }
 ],
 "metadata": {
  "jupytext": {
   "cell_metadata_filter": "-all",
   "formats": "py:percent,md:myst,ipynb",
   "text_representation": {
    "extension": ".md",
    "format_name": "myst",
    "format_version": 0.13,
    "jupytext_version": "1.13.8"
   }
  },
  "kernelspec": {
   "display_name": "Python 3 (ipykernel)",
   "language": "python",
   "name": "python3"
  },
  "language_info": {
   "codemirror_mode": {
    "name": "ipython",
    "version": 3
   },
   "file_extension": ".py",
   "mimetype": "text/x-python",
   "name": "python",
   "nbconvert_exporter": "python",
   "pygments_lexer": "ipython3",
   "version": "3.8.13"
  },
  "source_map": [
   14,
   26,
   38
  ]
 },
 "nbformat": 4,
 "nbformat_minor": 5
}
{
 "cells": [
  {
   "cell_type": "markdown",
   "id": "20b18ffa",
   "metadata": {},
   "source": [
    "(classification)=\n",
    "# Classification I: training & predicting"
   ]
  },
  {
   "cell_type": "code",
   "execution_count": 1,
   "id": "646be452",
   "metadata": {
    "tags": [
     "remove-cell"
    ]
   },
   "outputs": [
    {
     "ename": "ModuleNotFoundError",
     "evalue": "No module named 'altair_saver'",
     "output_type": "error",
     "traceback": [
      "\u001b[0;31m---------------------------------------------------------------------------\u001b[0m",
      "\u001b[0;31mModuleNotFoundError\u001b[0m                       Traceback (most recent call last)",
      "Input \u001b[0;32mIn [1]\u001b[0m, in \u001b[0;36m<cell line: 4>\u001b[0;34m()\u001b[0m\n\u001b[1;32m      1\u001b[0m \u001b[38;5;28;01mimport\u001b[39;00m \u001b[38;5;21;01mrandom\u001b[39;00m\n\u001b[1;32m      3\u001b[0m \u001b[38;5;28;01mimport\u001b[39;00m \u001b[38;5;21;01maltair\u001b[39;00m \u001b[38;5;28;01mas\u001b[39;00m \u001b[38;5;21;01malt\u001b[39;00m\n\u001b[0;32m----> 4\u001b[0m \u001b[38;5;28;01mfrom\u001b[39;00m \u001b[38;5;21;01maltair_saver\u001b[39;00m \u001b[38;5;28;01mimport\u001b[39;00m save\n\u001b[1;32m      5\u001b[0m \u001b[38;5;28;01mimport\u001b[39;00m \u001b[38;5;21;01mnumpy\u001b[39;00m \u001b[38;5;28;01mas\u001b[39;00m \u001b[38;5;21;01mnp\u001b[39;00m\n\u001b[1;32m      6\u001b[0m \u001b[38;5;28;01mimport\u001b[39;00m \u001b[38;5;21;01mpandas\u001b[39;00m \u001b[38;5;28;01mas\u001b[39;00m \u001b[38;5;21;01mpd\u001b[39;00m\n",
      "\u001b[0;31mModuleNotFoundError\u001b[0m: No module named 'altair_saver'"
     ]
    }
   ],
   "source": [
    "import random\n",
    "\n",
    "import altair as alt\n",
    "from altair_saver import save\n",
    "import numpy as np\n",
    "import pandas as pd\n",
    "import sklearn\n",
    "from sklearn.compose import make_column_transformer\n",
    "from sklearn.neighbors import KNeighborsClassifier\n",
    "from sklearn.pipeline import Pipeline, make_pipeline\n",
    "from sklearn.metrics.pairwise import euclidean_distances\n",
    "from sklearn.preprocessing import StandardScaler\n",
    "import plotly.express as px\n",
    "import plotly.graph_objs as go\n",
    "from plotly.offline import iplot, plot\n",
    "from IPython.display import HTML\n",
    "from myst_nb import glue\n",
    "\n",
    "alt.data_transformers.disable_max_rows()\n",
    "\n",
    "# alt.renderers.enable('altair_saver', fmts=['vega-lite', 'png'])\n",
    "\n",
    "# # Handle large data sets by not embedding them in the notebook\n",
    "# alt.data_transformers.enable('data_server')\n",
    "\n",
    "# # Save a PNG blob as a backup for when the Altair plots do not render\n",
    "# alt.renderers.enable('mimetype')"
   ]
  },
  {
   "cell_type": "markdown",
   "id": "278f0bb9",
   "metadata": {},
   "source": [
    "## Overview \n",
    "In previous chapters, we focused solely on descriptive and exploratory\n",
    "data analysis questions. \n",
    "This chapter and the next together serve as our first\n",
    "foray into answering *predictive* questions about data. In particular, we will\n",
    "focus on *classification*, i.e., using one or more \n",
    "variables to predict the value of a categorical variable of interest. This chapter\n",
    "will cover the basics of classification, how to preprocess data to make it\n",
    "suitable for use in a classifier, and how to use our observed data to make\n",
    "predictions. The next chapter will focus on how to evaluate how accurate the\n",
    "predictions from our classifier are, as well as how to improve our classifier\n",
    "(where possible) to maximize its accuracy.\n",
    "\n",
    "## Chapter learning objectives \n",
    "\n",
    "By the end of the chapter, readers will be able to do the following:\n",
    "\n",
    "- Recognize situations where a classifier would be appropriate for making predictions.\n",
    "- Describe what a training data set is and how it is used in classification.\n",
    "- Interpret the output of a classifier.\n",
    "- Compute, by hand, the straight-line (Euclidean) distance between points on a graph when there are two predictor variables.\n",
    "- Explain the $K$-nearest neighbor classification algorithm.\n",
    "- Perform $K$-nearest neighbor classification in Python using `scikit-learn`.\n",
    "- Use `StandardScaler` to preprocess data to be centered, scaled, and balanced.\n",
    "- Combine preprocessing and model training using `make_pipeline`."
   ]
  },
  {
   "cell_type": "markdown",
   "id": "cc4b250a",
   "metadata": {},
   "source": [
    "## The classification problem\n",
    "\n",
    "In many situations, we want to make `predictions`\\\\index{predictive question} based on the current situation\n",
    "as well as past experiences. For instance, a doctor may want to diagnose a\n",
    "patient as either diseased or healthy based on their symptoms and the doctor's\n",
    "past experience with patients; an email provider might want to tag a given\n",
    "email as \"spam\" or \"not spam\" based on the email's text and past email text data; \n",
    "or a credit card company may want to predict whether a purchase is fraudulent based\n",
    "on the current purchase item, amount, and location as well as past purchases.\n",
    "These tasks are all examples of \\index{classification} **classification**, i.e., predicting a\n",
    "categorical class (sometimes called a *label*) \\index{class}\\index{categorical variable} for an observation given its\n",
    "other variables (sometimes called *features*). \\index{feature|see{predictor}}\n",
    "\n",
    "Generally, a classifier assigns an observation without a known class (e.g., a new patient) \n",
    "to a class (e.g., diseased or healthy) on the basis of how similar it is to other observations\n",
    "for which we do know the class (e.g., previous patients with known diseases and\n",
    "symptoms). These observations with known classes that we use as a basis for\n",
    "prediction are called a **training set**; \\index{training set} this name comes from the fact that\n",
    "we use these data to train, or teach, our classifier. Once taught, we can use\n",
    "the classifier to make predictions on new data for which we do not know the class.\n",
    "\n",
    "There are many possible methods that we could use to predict\n",
    "a categorical class/label for an observation. In this book, we will\n",
    "focus on the widely used **$K$-nearest neighbors** \\index{K-nearest neighbors} algorithm {cite:p}`knnfix,knncover`.\n",
    "In your future studies, you might encounter decision trees, support vector machines (SVMs),\n",
    "logistic regression, neural networks, and more; see the additional resources\n",
    "section at the end of the next chapter for where to begin learning more about\n",
    "these other methods. It is also worth mentioning that there are many\n",
    "variations on the basic classification problem. For example, \n",
    "we focus on the setting of **binary classification** \\index{classification!binary} where only two\n",
    "classes are involved (e.g., a diagnosis of either healthy or diseased), but you may \n",
    "also run into multiclass classification problems with more than two\n",
    "categories (e.g., a diagnosis of healthy, bronchitis, pneumonia, or a common cold).\n",
    "\n",
    "## Exploring a data set\n",
    "\n",
    "In this chapter and the next, we will study a data set of \n",
    "[digitized breast cancer image features](https://archive.ics.uci.edu/ml/datasets/Breast+Cancer+Wisconsin+%28Diagnostic%29),\n",
    "created by Dr. William H. Wolberg, W. Nick Street, and Olvi L. Mangasarian {cite:p}`streetbreastcancer`. \\index{breast cancer} \n",
    "Each row in the data set represents an\n",
    "image of a tumor sample, including the diagnosis (benign or malignant) and\n",
    "several other measurements (nucleus texture, perimeter, area, and more).\n",
    "Diagnosis for each image was conducted by physicians. \n",
    "\n",
    "As with all data analyses, we first need to formulate a precise question that\n",
    "we want to answer. Here, the question is *predictive*: \\index{question!classification} can \n",
    "we use the tumor\n",
    "image measurements available to us to predict whether a future tumor image\n",
    "(with unknown diagnosis) shows a benign or malignant tumor? Answering this\n",
    "question is important because traditional, non-data-driven methods for tumor\n",
    "diagnosis are quite subjective and dependent upon how skilled and experienced\n",
    "the diagnosing physician is. Furthermore, benign tumors are not normally\n",
    "dangerous; the cells stay in the same place, and the tumor stops growing before\n",
    "it gets very large. By contrast, in malignant tumors, the cells invade the\n",
    "surrounding tissue and spread into nearby organs, where they can cause serious\n",
    "damage {cite:p}`streetbreastcancer`.\n",
    "Thus, it is important to quickly and accurately diagnose the tumor type to\n",
    "guide patient treatment."
   ]
  },
  {
   "cell_type": "markdown",
   "id": "e05c480b",
   "metadata": {},
   "source": [
    "### Loading the cancer data\n",
    "\n",
    "Our first step is to load, wrangle, and explore the data using visualizations\n",
    "in order to better understand the data we are working with. We start by\n",
    "loading the `pandas` package needed for our analysis."
   ]
  },
  {
   "cell_type": "code",
   "execution_count": 2,
   "id": "cf24fa8d",
   "metadata": {},
   "outputs": [],
   "source": [
    "import pandas as pd"
   ]
  },
  {
   "cell_type": "markdown",
   "id": "3a6b0b14",
   "metadata": {},
   "source": [
    "In this case, the file containing the breast cancer data set is a `.csv`\n",
    "file with headers. We'll use the `read_csv` function with no additional\n",
    "arguments, and then inspect its contents:\n",
    "\n",
    "\\index{read function!read\\_csv}"
   ]
  },
  {
   "cell_type": "code",
   "execution_count": 3,
   "id": "941546cb",
   "metadata": {},
   "outputs": [
    {
     "data": {
      "text/html": [
       "<div>\n",
       "<style scoped>\n",
       "    .dataframe tbody tr th:only-of-type {\n",
       "        vertical-align: middle;\n",
       "    }\n",
       "\n",
       "    .dataframe tbody tr th {\n",
       "        vertical-align: top;\n",
       "    }\n",
       "\n",
       "    .dataframe thead th {\n",
       "        text-align: right;\n",
       "    }\n",
       "</style>\n",
       "<table border=\"1\" class=\"dataframe\">\n",
       "  <thead>\n",
       "    <tr style=\"text-align: right;\">\n",
       "      <th></th>\n",
       "      <th>ID</th>\n",
       "      <th>Class</th>\n",
       "      <th>Radius</th>\n",
       "      <th>Texture</th>\n",
       "      <th>Perimeter</th>\n",
       "      <th>Area</th>\n",
       "      <th>Smoothness</th>\n",
       "      <th>Compactness</th>\n",
       "      <th>Concavity</th>\n",
       "      <th>Concave_Points</th>\n",
       "      <th>Symmetry</th>\n",
       "      <th>Fractal_Dimension</th>\n",
       "    </tr>\n",
       "  </thead>\n",
       "  <tbody>\n",
       "    <tr>\n",
       "      <th>0</th>\n",
       "      <td>842302</td>\n",
       "      <td>M</td>\n",
       "      <td>1.096100</td>\n",
       "      <td>-2.071512</td>\n",
       "      <td>1.268817</td>\n",
       "      <td>0.983510</td>\n",
       "      <td>1.567087</td>\n",
       "      <td>3.280628</td>\n",
       "      <td>2.650542</td>\n",
       "      <td>2.530249</td>\n",
       "      <td>2.215566</td>\n",
       "      <td>2.253764</td>\n",
       "    </tr>\n",
       "    <tr>\n",
       "      <th>1</th>\n",
       "      <td>842517</td>\n",
       "      <td>M</td>\n",
       "      <td>1.828212</td>\n",
       "      <td>-0.353322</td>\n",
       "      <td>1.684473</td>\n",
       "      <td>1.907030</td>\n",
       "      <td>-0.826235</td>\n",
       "      <td>-0.486643</td>\n",
       "      <td>-0.023825</td>\n",
       "      <td>0.547662</td>\n",
       "      <td>0.001391</td>\n",
       "      <td>-0.867889</td>\n",
       "    </tr>\n",
       "    <tr>\n",
       "      <th>2</th>\n",
       "      <td>84300903</td>\n",
       "      <td>M</td>\n",
       "      <td>1.578499</td>\n",
       "      <td>0.455786</td>\n",
       "      <td>1.565126</td>\n",
       "      <td>1.557513</td>\n",
       "      <td>0.941382</td>\n",
       "      <td>1.052000</td>\n",
       "      <td>1.362280</td>\n",
       "      <td>2.035440</td>\n",
       "      <td>0.938859</td>\n",
       "      <td>-0.397658</td>\n",
       "    </tr>\n",
       "    <tr>\n",
       "      <th>3</th>\n",
       "      <td>84348301</td>\n",
       "      <td>M</td>\n",
       "      <td>-0.768233</td>\n",
       "      <td>0.253509</td>\n",
       "      <td>-0.592166</td>\n",
       "      <td>-0.763792</td>\n",
       "      <td>3.280667</td>\n",
       "      <td>3.399917</td>\n",
       "      <td>1.914213</td>\n",
       "      <td>1.450431</td>\n",
       "      <td>2.864862</td>\n",
       "      <td>4.906602</td>\n",
       "    </tr>\n",
       "    <tr>\n",
       "      <th>4</th>\n",
       "      <td>84358402</td>\n",
       "      <td>M</td>\n",
       "      <td>1.748758</td>\n",
       "      <td>-1.150804</td>\n",
       "      <td>1.775011</td>\n",
       "      <td>1.824624</td>\n",
       "      <td>0.280125</td>\n",
       "      <td>0.538866</td>\n",
       "      <td>1.369806</td>\n",
       "      <td>1.427237</td>\n",
       "      <td>-0.009552</td>\n",
       "      <td>-0.561956</td>\n",
       "    </tr>\n",
       "    <tr>\n",
       "      <th>...</th>\n",
       "      <td>...</td>\n",
       "      <td>...</td>\n",
       "      <td>...</td>\n",
       "      <td>...</td>\n",
       "      <td>...</td>\n",
       "      <td>...</td>\n",
       "      <td>...</td>\n",
       "      <td>...</td>\n",
       "      <td>...</td>\n",
       "      <td>...</td>\n",
       "      <td>...</td>\n",
       "      <td>...</td>\n",
       "    </tr>\n",
       "    <tr>\n",
       "      <th>564</th>\n",
       "      <td>926424</td>\n",
       "      <td>M</td>\n",
       "      <td>2.109139</td>\n",
       "      <td>0.720838</td>\n",
       "      <td>2.058974</td>\n",
       "      <td>2.341795</td>\n",
       "      <td>1.040926</td>\n",
       "      <td>0.218868</td>\n",
       "      <td>1.945573</td>\n",
       "      <td>2.318924</td>\n",
       "      <td>-0.312314</td>\n",
       "      <td>-0.930209</td>\n",
       "    </tr>\n",
       "    <tr>\n",
       "      <th>565</th>\n",
       "      <td>926682</td>\n",
       "      <td>M</td>\n",
       "      <td>1.703356</td>\n",
       "      <td>2.083301</td>\n",
       "      <td>1.614511</td>\n",
       "      <td>1.722326</td>\n",
       "      <td>0.102368</td>\n",
       "      <td>-0.017817</td>\n",
       "      <td>0.692434</td>\n",
       "      <td>1.262558</td>\n",
       "      <td>-0.217473</td>\n",
       "      <td>-1.057681</td>\n",
       "    </tr>\n",
       "    <tr>\n",
       "      <th>566</th>\n",
       "      <td>926954</td>\n",
       "      <td>M</td>\n",
       "      <td>0.701667</td>\n",
       "      <td>2.043775</td>\n",
       "      <td>0.672084</td>\n",
       "      <td>0.577445</td>\n",
       "      <td>-0.839745</td>\n",
       "      <td>-0.038646</td>\n",
       "      <td>0.046547</td>\n",
       "      <td>0.105684</td>\n",
       "      <td>-0.808406</td>\n",
       "      <td>-0.894800</td>\n",
       "    </tr>\n",
       "    <tr>\n",
       "      <th>567</th>\n",
       "      <td>927241</td>\n",
       "      <td>M</td>\n",
       "      <td>1.836725</td>\n",
       "      <td>2.334403</td>\n",
       "      <td>1.980781</td>\n",
       "      <td>1.733693</td>\n",
       "      <td>1.524426</td>\n",
       "      <td>3.269267</td>\n",
       "      <td>3.294046</td>\n",
       "      <td>2.656528</td>\n",
       "      <td>2.135315</td>\n",
       "      <td>1.042778</td>\n",
       "    </tr>\n",
       "    <tr>\n",
       "      <th>568</th>\n",
       "      <td>92751</td>\n",
       "      <td>B</td>\n",
       "      <td>-1.806811</td>\n",
       "      <td>1.220718</td>\n",
       "      <td>-1.812793</td>\n",
       "      <td>-1.346604</td>\n",
       "      <td>-3.109349</td>\n",
       "      <td>-1.149741</td>\n",
       "      <td>-1.113893</td>\n",
       "      <td>-1.260710</td>\n",
       "      <td>-0.819349</td>\n",
       "      <td>-0.560539</td>\n",
       "    </tr>\n",
       "  </tbody>\n",
       "</table>\n",
       "<p>569 rows × 12 columns</p>\n",
       "</div>"
      ],
      "text/plain": [
       "           ID Class    Radius   Texture  Perimeter      Area  Smoothness  \\\n",
       "0      842302     M  1.096100 -2.071512   1.268817  0.983510    1.567087   \n",
       "1      842517     M  1.828212 -0.353322   1.684473  1.907030   -0.826235   \n",
       "2    84300903     M  1.578499  0.455786   1.565126  1.557513    0.941382   \n",
       "3    84348301     M -0.768233  0.253509  -0.592166 -0.763792    3.280667   \n",
       "4    84358402     M  1.748758 -1.150804   1.775011  1.824624    0.280125   \n",
       "..        ...   ...       ...       ...        ...       ...         ...   \n",
       "564    926424     M  2.109139  0.720838   2.058974  2.341795    1.040926   \n",
       "565    926682     M  1.703356  2.083301   1.614511  1.722326    0.102368   \n",
       "566    926954     M  0.701667  2.043775   0.672084  0.577445   -0.839745   \n",
       "567    927241     M  1.836725  2.334403   1.980781  1.733693    1.524426   \n",
       "568     92751     B -1.806811  1.220718  -1.812793 -1.346604   -3.109349   \n",
       "\n",
       "     Compactness  Concavity  Concave_Points  Symmetry  Fractal_Dimension  \n",
       "0       3.280628   2.650542        2.530249  2.215566           2.253764  \n",
       "1      -0.486643  -0.023825        0.547662  0.001391          -0.867889  \n",
       "2       1.052000   1.362280        2.035440  0.938859          -0.397658  \n",
       "3       3.399917   1.914213        1.450431  2.864862           4.906602  \n",
       "4       0.538866   1.369806        1.427237 -0.009552          -0.561956  \n",
       "..           ...        ...             ...       ...                ...  \n",
       "564     0.218868   1.945573        2.318924 -0.312314          -0.930209  \n",
       "565    -0.017817   0.692434        1.262558 -0.217473          -1.057681  \n",
       "566    -0.038646   0.046547        0.105684 -0.808406          -0.894800  \n",
       "567     3.269267   3.294046        2.656528  2.135315           1.042778  \n",
       "568    -1.149741  -1.113893       -1.260710 -0.819349          -0.560539  \n",
       "\n",
       "[569 rows x 12 columns]"
      ]
     },
     "execution_count": 3,
     "metadata": {},
     "output_type": "execute_result"
    }
   ],
   "source": [
    "cancer = pd.read_csv(\"data/wdbc.csv\")\n",
    "cancer"
   ]
  },
  {
   "cell_type": "markdown",
   "id": "7a7867ca",
   "metadata": {},
   "source": [
    "### Describing the variables in the cancer data set\n",
    "\n",
    "Breast tumors can be diagnosed by performing a *biopsy*, a process where\n",
    "tissue is removed from the body and examined for the presence of disease.\n",
    "Traditionally these procedures were quite invasive; modern methods such as fine\n",
    "needle aspiration, used to collect the present data set, extract only a small\n",
    "amount of tissue and are less invasive. Based on a digital image of each breast\n",
    "tissue sample collected for this data set, ten different variables were measured\n",
    "for each cell nucleus in the image (items 3&ndash;12 of the list of variables below), and then the mean \n",
    " for each variable across the nuclei was recorded. As part of the\n",
    "data preparation, these values have been *standardized (centered and scaled)*; we will discuss what this\n",
    "means and why we do it later in this chapter. Each image additionally was given\n",
    "a unique ID and a diagnosis by a physician.  Therefore, the\n",
    "total set of variables per image in this data set is:\n",
    "\n",
    "1. ID: identification number \n",
    "2. Class: the diagnosis (M = malignant or B = benign)\n",
    "3. Radius: the mean of distances from center to points on the perimeter\n",
    "4. Texture: the standard deviation of gray-scale values\n",
    "5. Perimeter: the length of the surrounding contour \n",
    "6. Area: the area inside the contour\n",
    "7. Smoothness: the local variation in radius lengths\n",
    "8. Compactness: the ratio of squared perimeter and area\n",
    "9. Concavity: severity of concave portions of the contour \n",
    "10. Concave Points: the number of concave portions of the contour\n",
    "11. Symmetry: how similar the nucleus is when mirrored \n",
    "12. Fractal Dimension: a measurement of how \"rough\" the perimeter is"
   ]
  },
  {
   "cell_type": "markdown",
   "id": "e1bfa4e8",
   "metadata": {},
   "source": [
    "Below we use `.info()` \\index{glimpse} to preview the data frame. This method can \n",
    "make it easier to inspect the data when we have a lot of columns, \n",
    "as it prints the data such that the columns go down \n",
    "the page (instead of across)."
   ]
  },
  {
   "cell_type": "code",
   "execution_count": 4,
   "id": "2d02d3a7",
   "metadata": {},
   "outputs": [
    {
     "name": "stdout",
     "output_type": "stream",
     "text": [
      "<class 'pandas.core.frame.DataFrame'>\n",
      "RangeIndex: 569 entries, 0 to 568\n",
      "Data columns (total 12 columns):\n",
      " #   Column             Non-Null Count  Dtype  \n",
      "---  ------             --------------  -----  \n",
      " 0   ID                 569 non-null    int64  \n",
      " 1   Class              569 non-null    object \n",
      " 2   Radius             569 non-null    float64\n",
      " 3   Texture            569 non-null    float64\n",
      " 4   Perimeter          569 non-null    float64\n",
      " 5   Area               569 non-null    float64\n",
      " 6   Smoothness         569 non-null    float64\n",
      " 7   Compactness        569 non-null    float64\n",
      " 8   Concavity          569 non-null    float64\n",
      " 9   Concave_Points     569 non-null    float64\n",
      " 10  Symmetry           569 non-null    float64\n",
      " 11  Fractal_Dimension  569 non-null    float64\n",
      "dtypes: float64(10), int64(1), object(1)\n",
      "memory usage: 53.5+ KB\n"
     ]
    }
   ],
   "source": [
    "cancer.info()"
   ]
  },
  {
   "cell_type": "markdown",
   "id": "05292b40",
   "metadata": {},
   "source": [
    "From the summary of the data above, we can see that `Class` is of type object."
   ]
  },
  {
   "cell_type": "markdown",
   "id": "47fedc8e",
   "metadata": {},
   "source": [
    "Given that we only have two different values in our `Class` column (B for benign and M \n",
    "for malignant), we only expect to get two names back."
   ]
  },
  {
   "cell_type": "code",
   "execution_count": 5,
   "id": "953780e8",
   "metadata": {},
   "outputs": [
    {
     "data": {
      "text/plain": [
       "array(['M', 'B'], dtype=object)"
      ]
     },
     "execution_count": 5,
     "metadata": {},
     "output_type": "execute_result"
    }
   ],
   "source": [
    "cancer['Class'].unique()"
   ]
  },
  {
   "cell_type": "code",
   "execution_count": 6,
   "id": "45229106",
   "metadata": {
    "tags": [
     "remove-cell"
    ]
   },
   "outputs": [],
   "source": [
    "## The above was based on the following text and code in R textbook. ##\n",
    "#######################################################################\n",
    "# Below we use `glimpse` \\index{glimpse} to preview the data frame. This function can\n",
    "# make it easier to inspect the data when we have a lot of columns,\n",
    "# as it prints the data such that the columns go down\n",
    "# the page (instead of across).\n",
    "\n",
    "# ```{r 05-glimpse}\n",
    "# glimpse(cancer)\n",
    "# ```\n",
    "\n",
    "# From the summary of the data above, we can see that `Class` is of type character\n",
    "# (denoted by `<chr>`). Since we will be working with `Class` as a\n",
    "# categorical statistical variable, we will convert it to a factor using the\n",
    "# function `as_factor`. \\index{factor!as\\_factor}\n",
    "\n",
    "# ```{r 05-class}\n",
    "# cancer <- cancer |>\n",
    "#   mutate(Class = as_factor(Class))\n",
    "# glimpse(cancer)\n",
    "# ```\n",
    "\n",
    "# Recall that factors have what are called \"levels\", which you can think of as categories. We\n",
    "# can verify the levels of the `Class` column by using the `levels` \\index{levels}\\index{factor!levels} function.\n",
    "# This function should return the name of each category in that column. Given\n",
    "# that we only have two different values in our `Class` column (B for benign and M\n",
    "# for malignant), we only expect to get two names back.  Note that the `levels` function requires a *vector* argument;\n",
    "# so we use the `pull` function to extract a single column (`Class`) and\n",
    "# pass that into the `levels` function to see the categories\n",
    "# in the `Class` column.\n",
    "\n",
    "# ```{r 05-levels}\n",
    "# cancer |>\n",
    "#   pull(Class) |>\n",
    "#   levels()\n",
    "# ```"
   ]
  },
  {
   "cell_type": "markdown",
   "id": "77e7124e",
   "metadata": {},
   "source": [
    "### Exploring the cancer data\n",
    "\n",
    "Before we start doing any modeling, let's explore our data set. Below we use\n",
    "the `.groupby()`, `.count()` \\index{group\\_by}\\index{summarize} methods to find the number and percentage \n",
    "of benign and malignant tumor observations in our data set. When paired with `.groupby()`, `.count()` counts the number of observations in each `Class` group. \n",
    "Then we calculate the percentage in each group by dividing by the total number of observations. We have 357 (63\\%) benign and 212 (37\\%) malignant tumor observations."
   ]
  },
  {
   "cell_type": "code",
   "execution_count": 7,
   "id": "934dec89",
   "metadata": {},
   "outputs": [
    {
     "data": {
      "text/html": [
       "<div>\n",
       "<style scoped>\n",
       "    .dataframe tbody tr th:only-of-type {\n",
       "        vertical-align: middle;\n",
       "    }\n",
       "\n",
       "    .dataframe tbody tr th {\n",
       "        vertical-align: top;\n",
       "    }\n",
       "\n",
       "    .dataframe thead th {\n",
       "        text-align: right;\n",
       "    }\n",
       "</style>\n",
       "<table border=\"1\" class=\"dataframe\">\n",
       "  <thead>\n",
       "    <tr style=\"text-align: right;\">\n",
       "      <th></th>\n",
       "      <th>count</th>\n",
       "      <th>percentage</th>\n",
       "    </tr>\n",
       "    <tr>\n",
       "      <th>Class</th>\n",
       "      <th></th>\n",
       "      <th></th>\n",
       "    </tr>\n",
       "  </thead>\n",
       "  <tbody>\n",
       "    <tr>\n",
       "      <th>B</th>\n",
       "      <td>357</td>\n",
       "      <td>62.741652</td>\n",
       "    </tr>\n",
       "    <tr>\n",
       "      <th>M</th>\n",
       "      <td>212</td>\n",
       "      <td>37.258348</td>\n",
       "    </tr>\n",
       "  </tbody>\n",
       "</table>\n",
       "</div>"
      ],
      "text/plain": [
       "       count  percentage\n",
       "Class                   \n",
       "B        357   62.741652\n",
       "M        212   37.258348"
      ]
     },
     "execution_count": 7,
     "metadata": {},
     "output_type": "execute_result"
    }
   ],
   "source": [
    "num_obs = len(cancer)\n",
    "explore_cancer = pd.DataFrame()\n",
    "explore_cancer['count'] = cancer.groupby('Class')['ID'].count()\n",
    "explore_cancer['percentage'] = explore_cancer['count'] / num_obs * 100\n",
    "explore_cancer"
   ]
  },
  {
   "cell_type": "markdown",
   "id": "f7b272eb",
   "metadata": {},
   "source": [
    "Next, let's draw a scatter plot \\index{visualization!scatter} to visualize the relationship between the\n",
    "perimeter and concavity variables. Rather than use `altair's` default palette,\n",
    "we select our own colorblind-friendly colors&mdash;`\"#efb13f\"` \n",
    "for light orange and `\"#86bfef\"` for light blue&mdash;and\n",
    " pass them as the `scale` argument in the `color` argument. \n",
    "We also make the category labels (\"B\" and \"M\") more readable by \n",
    "changing them to \"Benign\" and \"Malignant\" using `.apply()` method on the dataframe."
   ]
  },
  {
   "cell_type": "code",
   "execution_count": 8,
   "id": "b4bb9280",
   "metadata": {
    "tags": []
   },
   "outputs": [
    {
     "data": {
      "text/html": [
       "\n",
       "<div id=\"altair-viz-3fa156af4f55477e9157324c5b556407\"></div>\n",
       "<script type=\"text/javascript\">\n",
       "  var VEGA_DEBUG = (typeof VEGA_DEBUG == \"undefined\") ? {} : VEGA_DEBUG;\n",
       "  (function(spec, embedOpt){\n",
       "    let outputDiv = document.currentScript.previousElementSibling;\n",
       "    if (outputDiv.id !== \"altair-viz-3fa156af4f55477e9157324c5b556407\") {\n",
       "      outputDiv = document.getElementById(\"altair-viz-3fa156af4f55477e9157324c5b556407\");\n",
       "    }\n",
       "    const paths = {\n",
       "      \"vega\": \"https://cdn.jsdelivr.net/npm//vega@5?noext\",\n",
       "      \"vega-lib\": \"https://cdn.jsdelivr.net/npm//vega-lib?noext\",\n",
       "      \"vega-lite\": \"https://cdn.jsdelivr.net/npm//vega-lite@4.17.0?noext\",\n",
       "      \"vega-embed\": \"https://cdn.jsdelivr.net/npm//vega-embed@6?noext\",\n",
       "    };\n",
       "\n",
       "    function maybeLoadScript(lib, version) {\n",
       "      var key = `${lib.replace(\"-\", \"\")}_version`;\n",
       "      return (VEGA_DEBUG[key] == version) ?\n",
       "        Promise.resolve(paths[lib]) :\n",
       "        new Promise(function(resolve, reject) {\n",
       "          var s = document.createElement('script');\n",
       "          document.getElementsByTagName(\"head\")[0].appendChild(s);\n",
       "          s.async = true;\n",
       "          s.onload = () => {\n",
       "            VEGA_DEBUG[key] = version;\n",
       "            return resolve(paths[lib]);\n",
       "          };\n",
       "          s.onerror = () => reject(`Error loading script: ${paths[lib]}`);\n",
       "          s.src = paths[lib];\n",
       "        });\n",
       "    }\n",
       "\n",
       "    function showError(err) {\n",
       "      outputDiv.innerHTML = `<div class=\"error\" style=\"color:red;\">${err}</div>`;\n",
       "      throw err;\n",
       "    }\n",
       "\n",
       "    function displayChart(vegaEmbed) {\n",
       "      vegaEmbed(outputDiv, spec, embedOpt)\n",
       "        .catch(err => showError(`Javascript Error: ${err.message}<br>This usually means there's a typo in your chart specification. See the javascript console for the full traceback.`));\n",
       "    }\n",
       "\n",
       "    if(typeof define === \"function\" && define.amd) {\n",
       "      requirejs.config({paths});\n",
       "      require([\"vega-embed\"], displayChart, err => showError(`Error loading script: ${err.message}`));\n",
       "    } else {\n",
       "      maybeLoadScript(\"vega\", \"5\")\n",
       "        .then(() => maybeLoadScript(\"vega-lite\", \"4.17.0\"))\n",
       "        .then(() => maybeLoadScript(\"vega-embed\", \"6\"))\n",
       "        .catch(showError)\n",
       "        .then(() => displayChart(vegaEmbed));\n",
       "    }\n",
       "  })({\"config\": {\"view\": {\"continuousWidth\": 400, \"continuousHeight\": 300}}, \"data\": {\"name\": \"data-ffc85fbe87aa4fd27a50ff6b60d9c83b\"}, \"mark\": {\"type\": \"point\", \"filled\": true, \"opacity\": 0.6, \"size\": 40}, \"encoding\": {\"color\": {\"field\": \"Class\", \"scale\": {\"range\": [\"#86bfef\", \"#efb13f\"]}, \"title\": \"Diagnosis\", \"type\": \"nominal\"}, \"x\": {\"field\": \"Perimeter\", \"title\": \"Perimeter (standardized)\", \"type\": \"quantitative\"}, \"y\": {\"field\": \"Concavity\", \"title\": \"Concavity (standardized)\", \"type\": \"quantitative\"}}, \"$schema\": \"https://vega.github.io/schema/vega-lite/v4.17.0.json\", \"datasets\": {\"data-ffc85fbe87aa4fd27a50ff6b60d9c83b\": [{\"ID\": 842302, \"Class\": \"Malignant\", \"Radius\": 1.096099529431712, \"Texture\": -2.071512302244433, \"Perimeter\": 1.268817262703792, \"Area\": 0.983509520104142, \"Smoothness\": 1.5670874574786582, \"Compactness\": 3.2806280641246857, \"Concavity\": 2.650541786383573, \"Concave_Points\": 2.530248864134298, \"Symmetry\": 2.215565541846305, \"Fractal_Dimension\": 2.25376381072807}, {\"ID\": 842517, \"Class\": \"Malignant\", \"Radius\": 1.82821197373436, \"Texture\": -0.3533215225500966, \"Perimeter\": 1.684472552277101, \"Area\": 1.9070302686337923, \"Smoothness\": -0.826235446757039, \"Compactness\": -0.486643477616135, \"Concavity\": -0.0238248918055313, \"Concave_Points\": 0.5476622708254778, \"Symmetry\": 0.0013911392435763, \"Fractal_Dimension\": -0.8678888068037953}, {\"ID\": 84300903, \"Class\": \"Malignant\", \"Radius\": 1.5784992020342323, \"Texture\": 0.455785908212595, \"Perimeter\": 1.5651259839837746, \"Area\": 1.557513185344109, \"Smoothness\": 0.941382123037953, \"Compactness\": 1.051999895332493, \"Concavity\": 1.362279788963212, \"Concave_Points\": 2.0354397832616957, \"Symmetry\": 0.9388587199172193, \"Fractal_Dimension\": -0.3976580132372906}, {\"ID\": 84348301, \"Class\": \"Malignant\", \"Radius\": -0.7682333229203782, \"Texture\": 0.2535090505219219, \"Perimeter\": -0.5921661228907633, \"Area\": -0.7637917361139566, \"Smoothness\": 3.280666839299224, \"Compactness\": 3.3999174223523045, \"Concavity\": 1.9142128745181868, \"Concave_Points\": 1.4504311303550237, \"Symmetry\": 2.864862154141668, \"Fractal_Dimension\": 4.906601992505377}, {\"ID\": 84358402, \"Class\": \"Malignant\", \"Radius\": 1.7487579100115918, \"Texture\": -1.1508038465489565, \"Perimeter\": 1.7750113282237618, \"Area\": 1.824623801841916, \"Smoothness\": 0.2801253491403896, \"Compactness\": 0.5388663067660666, \"Concavity\": 1.3698061492207798, \"Concave_Points\": 1.4272369546891206, \"Symmetry\": -0.0095520620872441, \"Fractal_Dimension\": -0.5619555194231786}, {\"ID\": 843786, \"Class\": \"Malignant\", \"Radius\": -0.4759558742259106, \"Texture\": -0.8346009425727322, \"Perimeter\": -0.3868077174481091, \"Area\": -0.5052059265256544, \"Smoothness\": 2.2354545192675923, \"Compactness\": 1.2432415648720103, \"Concavity\": 0.8655400119637346, \"Concave_Points\": 0.8239306743126811, \"Symmetry\": 1.0045179279021434, \"Fractal_Dimension\": 1.888343495245663}, {\"ID\": 844359, \"Class\": \"Malignant\", \"Radius\": 1.1698783028885684, \"Texture\": 0.160508196411268, \"Perimeter\": 1.1371244976904666, \"Area\": 1.0943320099277, \"Smoothness\": -0.1230279743003833, \"Compactness\": 0.088217620128393, \"Concavity\": 0.2998085992698855, \"Concave_Points\": 0.646366373937044, \"Symmetry\": -0.0642680687413478, \"Fractal_Dimension\": -0.7616619709077471}, {\"ID\": 84458202, \"Class\": \"Malignant\", \"Radius\": -0.1184125874734544, \"Texture\": 0.3581350113964078, \"Perimeter\": -0.0728027808694607, \"Area\": -0.2187724143663045, \"Smoothness\": 1.6026388969355163, \"Compactness\": 1.1391000616574218, \"Concavity\": 0.0609721004297329, \"Concave_Points\": 0.2817023898564534, \"Symmetry\": 1.40212090958863, \"Fractal_Dimension\": 1.6588935297102017}, {\"ID\": 844981, \"Class\": \"Malignant\", \"Radius\": -0.3198853919133305, \"Texture\": 0.5883121253202774, \"Perimeter\": -0.1839185513494542, \"Area\": -0.3838695081803744, \"Smoothness\": 2.199903079810734, \"Compactness\": 1.6825293602499107, \"Concavity\": 1.2180245506931615, \"Concave_Points\": 1.1496799858871447, \"Symmetry\": 1.9638719112374277, \"Fractal_Dimension\": 1.5710793453694674}, {\"ID\": 84501001, \"Class\": \"Malignant\", \"Radius\": -0.4731182290929542, \"Texture\": 1.104466865634408, \"Perimeter\": -0.329192132754779, \"Area\": -0.5086158492894564, \"Smoothness\": 1.581308033261401, \"Compactness\": 2.561104951005712, \"Concavity\": 1.7373434084653423, \"Concave_Points\": 0.940932404894015, \"Symmetry\": 0.7965971026165501, \"Fractal_Dimension\": 2.780648916772467}, {\"ID\": 845636, \"Class\": \"Malignant\", \"Radius\": 0.5370834382393807, \"Texture\": 0.9184651574130994, \"Perimeter\": 0.4416220824638417, \"Area\": 0.4060959321003727, \"Smoothness\": -1.0167911622457984, \"Compactness\": -0.7129145618732863, \"Concavity\": -0.7000683609480016, \"Concave_Points\": -0.4043297837283743, \"Symmetry\": -1.0345652534074534, \"Fractal_Dimension\": -0.8253980724453759}, {\"ID\": 84610002, \"Class\": \"Malignant\", \"Radius\": 0.4689799550484367, \"Texture\": -0.3254212663169001, \"Perimeter\": 0.4786606726238392, \"Area\": 0.3583570134071479, \"Smoothness\": 0.0525961366164972, \"Compactness\": 0.4707009592074271, \"Concavity\": 0.1347304309538977, \"Concave_Points\": 0.4417422019511861, \"Symmetry\": 0.1108231525517838, \"Fractal_Dimension\": -0.2801003148456625}, {\"ID\": 846226, \"Class\": \"Malignant\", \"Radius\": 1.4309416551205203, \"Texture\": 1.2811684884446513, \"Perimeter\": 1.6638955577437688, \"Area\": 1.3301850010906568, \"Smoothness\": 0.0739270002906118, \"Compactness\": 2.678500827356702, \"Concavity\": 1.4764295862029906, \"Concave_Points\": 1.6205217519049808, \"Symmetry\": 2.1353153987536198, \"Fractal_Dimension\": 2.153202406079811}, {\"ID\": 846381, \"Class\": \"Malignant\", \"Radius\": 0.4888434709791287, \"Texture\": 1.083541673459511, \"Perimeter\": 0.482776071530506, \"Area\": 0.3631877373225338, \"Smoothness\": -0.8781405483640516, \"Compactness\": -0.0784087850149484, \"Concavity\": 0.1327234015518795, \"Concave_Points\": 0.1216625777617208, \"Symmetry\": 0.129061821436485, \"Fractal_Dimension\": -1.3338705269344606}, {\"ID\": 84667401, \"Class\": \"Malignant\", \"Radius\": -0.1127372972075425, \"Texture\": 0.7719888121888192, \"Perimeter\": 0.0671207819571971, \"Area\": -0.2176357734450373, \"Smoothness\": 1.1902421992359609, \"Compactness\": 2.3660763177129365, \"Concavity\": 1.555456368907453, \"Concave_Points\": 0.8074370382835943, \"Symmetry\": 0.9388587199172193, \"Fractal_Dimension\": 1.9860721842700289}, {\"ID\": 84799002, \"Class\": \"Malignant\", \"Radius\": 0.1171119585618929, \"Texture\": 1.9182243391026323, \"Perimeter\": 0.1959327677358565, \"Area\": 0.0111132119599991, \"Smoothness\": 1.2471245023669335, \"Compactness\": 1.0444259678259775, \"Concavity\": 0.9420580079156742, \"Concave_Points\": 0.6370887036706823, \"Symmetry\": 1.792428423721237, \"Fractal_Dimension\": 1.1291757080419076}, {\"ID\": 848406, \"Class\": \"Malignant\", \"Radius\": 0.156838990423277, \"Texture\": 0.195383516702763, \"Perimeter\": 0.1140363294931943, \"Area\": 0.0841423911514209, \"Smoothness\": 0.1642276565110323, \"Compactness\": -0.6123706742242926, \"Concavity\": -0.1862688340313705, \"Concave_Points\": 0.0946027061515003, \"Symmetry\": -0.8229966943449192, \"Fractal_Dimension\": -0.5067175647572323}, {\"ID\": 84862001, \"Class\": \"Malignant\", \"Radius\": 0.5682975347018965, \"Texture\": 0.3232596911049127, \"Perimeter\": 0.6638536234238281, \"Area\": 0.4089375344035409, \"Smoothness\": 1.4675434269994545, \"Compactness\": 1.8529427291465093, \"Concavity\": 1.0461726581453628, \"Concave_Points\": 1.3885799952459483, \"Symmetry\": 1.2853934287265427, \"Fractal_Dimension\": 1.524339537575207}, {\"ID\": 849014, \"Class\": \"Malignant\", \"Radius\": 1.6125509436297036, \"Texture\": 0.6650378299615667, \"Perimeter\": 1.5651259839837746, \"Area\": 1.719484516624694, \"Smoothness\": 0.1386306201020944, \"Compactness\": -0.0310717380992264, \"Concavity\": 0.7413550677138654, \"Concave_Points\": 1.1870483800155442, \"Symmetry\": -0.8375876294526796, \"Fractal_Dimension\": -1.253138131653464}, {\"ID\": 8510426, \"Class\": \"Benign\", \"Radius\": -0.1666525547337068, \"Texture\": -1.1461538038434238, \"Perimeter\": -0.1855647109121211, \"Area\": -0.2517350010830552, \"Smoothness\": 0.1016571230669613, \"Compactness\": -0.4364662078854697, \"Concavity\": -0.2779649898360721, \"Concave_Points\": -0.0285841379407413, \"Symmetry\": 0.2676757049602142, \"Fractal_Dimension\": -0.7276693834210122}, {\"ID\": 8510653, \"Class\": \"Benign\", \"Radius\": -0.2971842308496825, \"Texture\": -0.8322759212199655, \"Perimeter\": -0.2608765109041165, \"Area\": -0.3833011877197406, \"Smoothness\": 0.7920660773191481, \"Compactness\": 0.4290443579215916, \"Concavity\": -0.5408858415004418, \"Concave_Points\": -0.4592226661376788, \"Symmetry\": 0.5667898746693147, \"Fractal_Dimension\": 0.7524245300639244}, {\"ID\": 8510824, \"Class\": \"Benign\", \"Radius\": -1.3119261303947476, \"Texture\": -1.5925579035745638, \"Perimeter\": -1.301660894400054, \"Area\": -1.0826195145294235, \"Smoothness\": 0.4294413948591945, \"Compactness\": -0.7464291910896174, \"Concavity\": -0.7430940537537644, \"Concave_Points\": -0.7256979732326119, \"Symmetry\": 0.0123343405743969, \"Fractal_Dimension\": 0.8855621643869709}, {\"ID\": 8511133, \"Class\": \"Malignant\", \"Radius\": 0.3441235691983729, \"Texture\": -1.1694040173710871, \"Perimeter\": 0.4333912846505088, \"Area\": 0.1406902769844671, \"Smoothness\": 0.7778455015364054, \"Compactness\": 2.066906181205573, \"Concavity\": 1.4914823067181264, \"Concave_Points\": 1.2535383502578006, \"Symmetry\": 2.5876343870942096, \"Fractal_Dimension\": 1.06543960650428}, {\"ID\": 851509, \"Class\": \"Malignant\", \"Radius\": 1.995633036578764, \"Texture\": 0.8719647303577724, \"Perimeter\": 1.8614347052637563, \"Area\": 2.1286752482809086, \"Smoothness\": -0.1479139819201843, \"Compactness\": -0.0405391474823708, \"Concavity\": 0.2621767979820464, \"Concave_Points\": 0.9638688674969642, \"Symmetry\": -0.155461413164854, \"Fractal_Dimension\": -1.4188519956512995}, {\"ID\": 852552, \"Class\": \"Malignant\", \"Radius\": 0.7158550816156083, \"Texture\": 0.4860111857985574, \"Perimeter\": 0.7420462026504904, \"Area\": 0.7095790580787319, \"Smoothness\": 1.1191393203222444, \"Compactness\": 0.7831254688511922, \"Concavity\": 0.7990571630218855, \"Concave_Points\": 1.1025184953664748, \"Symmetry\": 0.6689264204236415, \"Fractal_Dimension\": 0.0711564225172682}, {\"ID\": 852631, \"Class\": \"Malignant\", \"Radius\": 0.8548996931304528, \"Texture\": -0.6718494478790875, \"Perimeter\": 0.9889701370504757, \"Area\": 0.732596036734394, \"Smoothness\": 1.581308033261401, \"Compactness\": 2.333887125810245, \"Concavity\": 1.6821500999098449, \"Concave_Points\": 2.3498497200661617, \"Symmetry\": 4.480808217326197, \"Fractal_Dimension\": 1.6050719328562033}, {\"ID\": 852763, \"Class\": \"Malignant\", \"Radius\": 0.1284625390937171, \"Texture\": 0.5208865060900533, \"Perimeter\": 0.2239174803011878, \"Area\": -0.0286692202843549, \"Smoothness\": 0.6427500316003432, \"Compactness\": 1.561346520145662, \"Concavity\": 0.6736178253957547, \"Concave_Points\": 1.0027835400030904, \"Symmetry\": 1.6063940010972844, \"Fractal_Dimension\": 0.9124729628139692}, {\"ID\": 852781, \"Class\": \"Malignant\", \"Radius\": 1.272033527674984, \"Texture\": 0.2232837729359595, \"Perimeter\": 1.2400094703571272, \"Area\": 1.2477785342987804, \"Smoothness\": -0.1393816364505377, \"Compactness\": 0.0427740550892999, \"Concavity\": 0.7551533948527397, \"Concave_Points\": 0.7316693977749769, \"Symmetry\": -0.4180982451045521, \"Fractal_Dimension\": -0.8225653568214824}, {\"ID\": 852973, \"Class\": \"Malignant\", \"Radius\": 0.3327729886665492, \"Texture\": 1.3904444920246697, \"Perimeter\": 0.4292758857438426, \"Area\": 0.2202551414731754, \"Smoothness\": 0.8418380925587501, \"Compactness\": 1.2375611192421234, \"Concavity\": 0.997251316471172, \"Concave_Points\": 0.9945367219885474, \"Symmetry\": 0.417232789814764, \"Fractal_Dimension\": 0.3685915630262035}, {\"ID\": 853201, \"Class\": \"Malignant\", \"Radius\": 0.9769184338475606, \"Texture\": -0.9857273305025448, \"Perimeter\": 0.9478161479838114, \"Area\": 0.8530799743887237, \"Smoothness\": 0.1500070807282885, \"Compactness\": 0.215080905862528, \"Concavity\": 0.1248207232814334, \"Concave_Points\": 0.7888816977508712, \"Symmetry\": -0.2648934264730615, \"Fractal_Dimension\": -0.1852043414451943}, {\"ID\": 853401, \"Class\": \"Malignant\", \"Radius\": 1.277708817940896, \"Texture\": 1.353244150380408, \"Perimeter\": 1.3511252408371206, \"Area\": 1.2307289204797716, \"Smoothness\": 0.7138529105140597, \"Compactness\": 1.597322675801611, \"Concavity\": 1.7950455037733626, \"Concave_Points\": 1.9452402112276264, \"Symmetry\": 1.3547003704884069, \"Fractal_Dimension\": -0.1172191664717223}, {\"ID\": 853612, \"Class\": \"Malignant\", \"Radius\": -0.6490522273362264, \"Texture\": -0.1370945367428256, \"Perimeter\": -0.5777622267174305, \"Area\": -0.6089244105912921, \"Smoothness\": 1.033815865625784, \"Compactness\": 0.8948408995722964, \"Concavity\": 0.4139583965096645, \"Concave_Points\": 0.0747588003040054, \"Symmetry\": 1.785132956167356, \"Fractal_Dimension\": 2.1517860482678643}, {\"ID\": 85382601, \"Class\": \"Malignant\", \"Radius\": 0.8208479515349805, \"Texture\": 1.0905167375178102, \"Perimeter\": 0.85727737203715, \"Area\": 0.6945185658719405, \"Smoothness\": 1.6595212000664892, \"Compactness\": 0.8569712620397187, \"Concavity\": 1.9179760546469704, \"Concave_Points\": 1.8395778554162896, \"Symmetry\": 1.591803065989523, \"Fractal_Dimension\": 0.1448070287385291}, {\"ID\": 854002, \"Class\": \"Malignant\", \"Radius\": 1.45931810645008, \"Texture\": 1.6694470543566322, \"Perimeter\": 1.47870260694378, \"Area\": 1.441007490914215, \"Smoothness\": -0.1671117592268872, \"Compactness\": 1.279217720527959, \"Concavity\": 0.9646370886883776, \"Concave_Points\": 0.6961049950872584, \"Symmetry\": 0.1509482240981261, \"Fractal_Dimension\": -0.0265722665070954}, {\"ID\": 854039, \"Class\": \"Malignant\", \"Radius\": 0.5682975347018965, \"Texture\": -0.3277462876696668, \"Perimeter\": 0.6185842354504978, \"Area\": 0.4328069937501537, \"Smoothness\": 0.5432060011211411, \"Compactness\": 0.9762606202673384, \"Concavity\": 0.584555895681202, \"Concave_Points\": 0.7370813720970211, \"Symmetry\": 0.6798696217544621, \"Fractal_Dimension\": 0.3331826177275208}, {\"ID\": 854253, \"Class\": \"Malignant\", \"Radius\": 0.7413938878122122, \"Texture\": 0.5348366342066512, \"Perimeter\": 0.7461616015571566, \"Area\": 0.6098388172375296, \"Smoothness\": -0.0185067422972192, \"Compactness\": 0.5540141617790976, \"Concavity\": 0.5770295354236343, \"Concave_Points\": 0.2902069209339512, \"Symmetry\": 0.3078007765065566, \"Fractal_Dimension\": -0.8834687427352165}, {\"ID\": 854268, \"Class\": \"Malignant\", \"Radius\": 0.0348202497061692, \"Texture\": 0.5650619117926136, \"Perimeter\": 0.0683554016291971, \"Area\": -0.062200127461739, \"Smoothness\": 0.1329423897889963, \"Compactness\": 0.103365475141424, \"Concavity\": 0.5406521275120563, \"Concave_Points\": 0.1819674344930692, \"Symmetry\": 0.2676757049602142, \"Fractal_Dimension\": -0.2191969289319293}, {\"ID\": 854941, \"Class\": \"Benign\", \"Radius\": -0.3113724565144627, \"Texture\": -0.202195134620283, \"Perimeter\": -0.3851615578854422, \"Area\": -0.3725030989677018, \"Smoothness\": -0.4643217930862223, \"Compactness\": -1.2625923506586505, \"Concavity\": -0.7925171527784598, \"Concave_Points\": -0.5074150089101667, \"Symmetry\": -1.257077013800808, \"Fractal_Dimension\": -0.5902826756621244}, {\"ID\": 855133, \"Class\": \"Malignant\", \"Radius\": 0.2448059895449131, \"Texture\": 1.3741693425553052, \"Perimeter\": 0.1469595207465262, \"Area\": 0.1247773040867253, \"Smoothness\": -0.1770661622748066, \"Compactness\": -1.004132074498808, \"Concavity\": -0.8130892041491452, \"Concave_Points\": -0.5136001224210743, \"Symmetry\": -0.899599103660664, \"Fractal_Dimension\": -1.0987551301512073}, {\"ID\": 855138, \"Class\": \"Malignant\", \"Radius\": -0.1836784255314425, \"Texture\": 0.3558099900436419, \"Perimeter\": -0.1468799611894562, \"Area\": -0.2719103774355488, \"Smoothness\": 0.3725590917282207, \"Compactness\": 0.4006421297721583, \"Concavity\": 0.219527423189162, \"Concave_Points\": 0.1409910574833069, \"Symmetry\": -0.3342003682349266, \"Fractal_Dimension\": 0.1972122677805788}, {\"ID\": 855167, \"Class\": \"Malignant\", \"Radius\": -0.1950290060632667, \"Texture\": 0.5325116128538844, \"Perimeter\": -0.2382418169174507, \"Area\": -0.2611122886835099, \"Smoothness\": -1.0480764289678342, \"Compactness\": -0.8337187056022088, \"Concavity\": -0.7237763957593403, \"Concave_Points\": -0.7372950610655636, \"Symmetry\": -0.1007454065107503, \"Fractal_Dimension\": -0.9811974317595802}, {\"ID\": 855563, \"Class\": \"Malignant\", \"Radius\": -0.9016026441693102, \"Texture\": 0.4790361217402589, \"Perimeter\": -0.8259207807894157, \"Area\": -0.8064157706614788, \"Smoothness\": 1.8728298368076388, \"Compactness\": 0.3305833003368899, \"Concavity\": 0.1956939490401972, \"Concave_Points\": 0.2002650619628374, \"Symmetry\": 0.3041530427296167, \"Fractal_Dimension\": 0.8359896409688147}, {\"ID\": 855625, \"Class\": \"Malignant\", \"Radius\": 1.4025652037909602, \"Texture\": 1.2834935097974172, \"Perimeter\": 1.495164202570446, \"Area\": 1.276194557330462, \"Smoothness\": -0.3946409717507796, \"Compactness\": 2.171047684420161, \"Concavity\": 1.5291141080059656, \"Concave_Points\": 1.306369528163469, \"Symmetry\": 1.8179625601598184, \"Fractal_Dimension\": 0.0895690740725839}, {\"ID\": 856106, \"Class\": \"Malignant\", \"Radius\": -0.2404313281905628, \"Texture\": 0.2302588369942589, \"Perimeter\": -0.1913262693814541, \"Area\": -0.311692809679903, \"Smoothness\": 0.5503162890125121, \"Compactness\": 0.7433623494419859, \"Concavity\": 0.1213084218279017, \"Concave_Points\": 0.3262867497475785, \"Symmetry\": 0.5923240111078957, \"Fractal_Dimension\": 0.7113501535174527}, {\"ID\": 85638502, \"Class\": \"Malignant\", \"Radius\": -0.2716454246530786, \"Texture\": 0.5859871039675106, \"Perimeter\": -0.2695188486081157, \"Area\": -0.3506227612333068, \"Smoothness\": 0.0554402517730458, \"Compactness\": 0.0067978994333512, \"Concavity\": -0.0778892463223937, \"Concave_Points\": 0.0927987147108191, \"Symmetry\": -0.2393592900344795, \"Fractal_Dimension\": -0.1455463227106683}, {\"ID\": 857010, \"Class\": \"Malignant\", \"Radius\": 1.2833841082068078, \"Texture\": -0.3928468855471242, \"Perimeter\": 1.3058558528637902, \"Area\": 1.1966296928417537, \"Smoothness\": 0.9627129867120676, \"Compactness\": 1.216732818599206, \"Concavity\": 1.362279788963212, \"Concave_Points\": 1.3396145132845971, \"Symmetry\": 0.3479258480528999, \"Fractal_Dimension\": -0.3268401226399252}, {\"ID\": 85713702, \"Class\": \"Benign\", \"Radius\": -1.683090113785392, \"Texture\": -0.5695485083573676, \"Perimeter\": -1.656819820045366, \"Area\": -1.287214880357531, \"Smoothness\": -0.7366458193257565, \"Compactness\": -0.850381346116543, \"Concavity\": -0.914695067626311, \"Concave_Points\": -1.1082214725759478, \"Symmetry\": -0.155461413164854, \"Fractal_Dimension\": 0.3161863239841518}, {\"ID\": 85715, \"Class\": \"Malignant\", \"Radius\": -0.2716454246530786, \"Texture\": -0.1463946221538908, \"Perimeter\": -0.2464726147307837, \"Area\": -0.3418137940934855, \"Smoothness\": 1.3822199723029949, \"Compactness\": 0.3551985647330652, \"Concavity\": 0.4239935435197549, \"Concave_Points\": 0.630903590159775, \"Symmetry\": 1.1540750127566932, \"Fractal_Dimension\": 0.7042683644577169}, {\"ID\": 857155, \"Class\": \"Benign\", \"Radius\": -0.5894616795441501, \"Texture\": -1.0833782273187318, \"Perimeter\": -0.5732352879200974, \"Area\": -0.5842024705537292, \"Smoothness\": 0.4792134100987955, \"Compactness\": -0.2541239031661085, \"Concavity\": -0.2869966221451533, \"Concave_Points\": -0.5522570818642465, \"Symmetry\": -0.4983483881972367, \"Fractal_Dimension\": -0.3353382695116087}, {\"ID\": 857156, \"Class\": \"Benign\", \"Radius\": -0.1808407803984865, \"Texture\": 0.6999131502530626, \"Perimeter\": -0.2081994048987863, \"Area\": -0.2667954932898462, \"Smoothness\": -0.6285694433769069, \"Compactness\": -0.5180752767681747, \"Concavity\": -0.5179304427148599, \"Concave_Points\": -0.3886092868881512, \"Symmetry\": -0.0095520620872441, \"Fractal_Dimension\": -0.7956545583944841}, {\"ID\": 857343, \"Class\": \"Benign\", \"Radius\": -0.6717533883998743, \"Texture\": 0.5371616555594179, \"Perimeter\": -0.7098665316214229, \"Area\": -0.6450127598415278, \"Smoothness\": -0.7103377541276807, \"Compactness\": -1.0353745254631843, \"Concavity\": -0.906039753330108, \"Concave_Points\": -0.973360226731868, \"Symmetry\": -1.1549404680464814, \"Fractal_Dimension\": -0.5548737303634418}, {\"ID\": 857373, \"Class\": \"Benign\", \"Radius\": -0.1382761034041465, \"Texture\": -0.6857995759956853, \"Perimeter\": -0.1958532081787871, \"Area\": -0.2361061884156303, \"Smoothness\": -1.3872371613862615, \"Compactness\": -0.828416956347648, \"Concavity\": -0.8809518858048819, \"Concave_Points\": -0.8166706844555436, \"Symmetry\": -1.6729186643719958, \"Fractal_Dimension\": -0.4628104725868671}, {\"ID\": 857374, \"Class\": \"Benign\", \"Radius\": -0.6206757760066665, \"Texture\": -0.2440455189700781, \"Perimeter\": -0.6691240824454255, \"Area\": -0.6174492175007965, \"Smoothness\": -0.9776845788432548, \"Compactness\": -1.0760843858107054, \"Concavity\": -0.8665263619778769, \"Concave_Points\": -0.9130553700005194, \"Symmetry\": 0.2056642307522298, \"Fractal_Dimension\": -0.2404422961111385}, {\"ID\": 857392, \"Class\": \"Malignant\", \"Radius\": 1.1613653674897, \"Texture\": -0.1370945367428256, \"Perimeter\": 1.1659322900371316, \"Area\": 1.074440793805523, \"Smoothness\": 1.3111170933892784, \"Compactness\": 0.8361429613968008, \"Concavity\": 1.108892326958428, \"Concave_Points\": 1.471048175391382, \"Symmetry\": 1.0227565967868448, \"Fractal_Dimension\": 0.0428292662783232}, {\"ID\": 857438, \"Class\": \"Malignant\", \"Radius\": 0.2760200860074289, \"Texture\": 0.6348125523756043, \"Perimeter\": 0.2177443819411886, \"Area\": 0.1645597363310795, \"Smoothness\": -0.4124166914792087, \"Compactness\": -0.6349031085561765, \"Concavity\": -0.4549598952265424, \"Concave_Points\": -0.4014949400358752, \"Symmetry\": -0.7135646810367118, \"Fractal_Dimension\": -0.8438107240006926}, {\"ID\": 85759902, \"Class\": \"Benign\", \"Radius\": -0.7398568715908184, \"Texture\": -0.1254694299789937, \"Perimeter\": -0.7666590365334193, \"Area\": -0.6987190433714059, \"Smoothness\": -0.0796552181630163, \"Compactness\": -0.9393749943181006, \"Concavity\": -0.7330589067436739, \"Concave_Points\": -0.6736399345158067, \"Symmetry\": 0.3953463871531229, \"Fractal_Dimension\": -0.5279629319364416}, {\"ID\": 857637, \"Class\": \"Malignant\", \"Radius\": 1.4422922356523444, \"Texture\": -0.167319814328788, \"Perimeter\": 1.3799330331837856, \"Area\": 1.4125914678825335, \"Smoothness\": 0.6356397437089722, \"Compactness\": 0.423363912291705, \"Concavity\": 0.5456697010171017, \"Concave_Points\": 1.057160996286486, \"Symmetry\": 0.3844031858223024, \"Fractal_Dimension\": -0.4514796100912871}, {\"ID\": 857793, \"Class\": \"Malignant\", \"Radius\": 0.1653519258221453, \"Texture\": 0.5348366342066512, \"Perimeter\": 0.1473710606371925, \"Area\": 0.0057141675839797, \"Smoothness\": 1.23290392658419, \"Compactness\": 0.6089251362013354, \"Concavity\": 0.5080378997292624, \"Concave_Points\": 0.8326929184531332, \"Symmetry\": 0.7856539012857287, \"Fractal_Dimension\": 0.6773575660307167}, {\"ID\": 857810, \"Class\": \"Benign\", \"Radius\": -0.3056971662485503, \"Texture\": 0.0047317657759218, \"Perimeter\": -0.3851615578854422, \"Area\": -0.3628416511369298, \"Smoothness\": -1.1206013654598246, \"Compactness\": -1.258237342342404, \"Concavity\": -1.1052123336128783, \"Concave_Points\": -1.1533212585929815, \"Symmetry\": 0.0269252756821583, \"Fractal_Dimension\": -1.1030042035870486}, {\"ID\": 858477, \"Class\": \"Benign\", \"Radius\": -1.5633414891746489, \"Texture\": -1.743684291504377, \"Perimeter\": -1.5485848288000392, \"Area\": -1.2229946683059305, \"Smoothness\": 0.0824593457602584, \"Compactness\": -0.9774339800383408, \"Concavity\": -0.8553622609291512, \"Concave_Points\": -1.0597198741279144, \"Symmetry\": -0.469166517981715, \"Fractal_Dimension\": 1.284975067356112}, {\"ID\": 858970, \"Class\": \"Benign\", \"Radius\": -1.122938964539878, \"Texture\": -1.025252693499573, \"Perimeter\": -1.128402600429398, \"Area\": -0.9746386270090338, \"Smoothness\": 1.2115730629100754, \"Compactness\": -0.4493418846465461, \"Concavity\": -0.9779164937898808, \"Concave_Points\": -0.9282604407148338, \"Symmetry\": 3.397431285574944, \"Fractal_Dimension\": 0.963461844044072}, {\"ID\": 858981, \"Class\": \"Benign\", \"Radius\": -1.5690167794405612, \"Texture\": 0.3930103316879036, \"Perimeter\": -1.535415552298707, \"Area\": -1.2306669945244846, \"Smoothness\": 1.9865944430695843, \"Compactness\": -0.2785498193746211, \"Concavity\": -0.7375747228982147, \"Concave_Points\": -1.0220937669365602, \"Symmetry\": 0.0597548796746199, \"Fractal_Dimension\": 0.67594120821877}, {\"ID\": 858986, \"Class\": \"Malignant\", \"Radius\": 0.0348202497061692, \"Texture\": 0.6650378299615667, \"Perimeter\": 0.1831750311251905, \"Area\": -0.0261117782115033, \"Smoothness\": 0.6071985921434849, \"Compactness\": 1.8264339828737053, \"Concavity\": 1.564237122541282, \"Concave_Points\": 0.969280841819008, \"Symmetry\": 0.5011306666843895, \"Fractal_Dimension\": 1.4336926376105787}, {\"ID\": 859196, \"Class\": \"Benign\", \"Radius\": -1.405852184295591, \"Texture\": -1.2624048714817415, \"Perimeter\": -1.3485764419360513, \"Area\": -1.1195603444706097, \"Smoothness\": -1.3616401249773238, \"Compactness\": -0.3186916351591533, \"Concavity\": -0.3627619820713364, \"Concave_Points\": -0.6988958146853459, \"Symmetry\": 1.9310423072449656, \"Fractal_Dimension\": 0.9677109174799144}, {\"ID\": 85922302, \"Class\": \"Malignant\", \"Radius\": -0.4106900361679225, \"Texture\": 1.057966438579081, \"Perimeter\": -0.3818692387601092, \"Area\": -0.4429748360862719, \"Smoothness\": 1.1262496082136153, \"Compactness\": 0.4138965029085606, \"Concavity\": 0.3010629926461468, \"Concave_Points\": 0.5105515897600323, \"Symmetry\": 0.3406303804990192, \"Fractal_Dimension\": 0.4394094536235689}, {\"ID\": 859283, \"Class\": \"Malignant\", \"Radius\": 0.1852154417528369, \"Texture\": 1.081216652106745, \"Perimeter\": 0.2235059404105216, \"Area\": 0.0381084338400966, \"Smoothness\": 1.481764002782198, \"Compactness\": 0.8247820701370276, \"Concavity\": 0.4754236719464685, \"Concave_Points\": 1.0661809534898927, \"Symmetry\": 0.5157216017921509, \"Fractal_Dimension\": 0.5300563535881969}, {\"ID\": 859464, \"Class\": \"Benign\", \"Radius\": -1.322992946413276, \"Texture\": 0.3999853957462029, \"Perimeter\": -1.3111263118853869, \"Area\": -1.0954067248936803, \"Smoothness\": 0.5716471526866276, \"Compactness\": -0.503874162693458, \"Concavity\": -0.8414384944526507, \"Concave_Points\": -0.873109845242575, \"Symmetry\": -0.3451435695657471, \"Fractal_Dimension\": 0.8770640175152864}, {\"ID\": 859465, \"Class\": \"Benign\", \"Radius\": -0.799447419382894, \"Texture\": -0.0580438107487696, \"Perimeter\": -0.8300361796960825, \"Area\": -0.7410589176886113, \"Smoothness\": -1.0644300911179887, \"Compactness\": -1.0855517951938498, \"Concavity\": -0.648638232521288, \"Concave_Points\": -0.6860101615376218, \"Symmetry\": -1.0783380587307356, \"Fractal_Dimension\": -0.8678888068037953}, {\"ID\": 859471, \"Class\": \"Benign\", \"Radius\": -1.4467142742101573, \"Texture\": -0.4556224620718165, \"Perimeter\": -1.3654495774533837, \"Area\": -1.1491130084235586, \"Smoothness\": 0.7280734862968034, \"Compactness\": 0.6998122662795216, \"Concavity\": 2.812358531921282, \"Concave_Points\": -0.1332156415002607, \"Symmetry\": 1.09206353854871, \"Fractal_Dimension\": 2.501626427818849}, {\"ID\": 859487, \"Class\": \"Benign\", \"Radius\": -0.3823135848383626, \"Texture\": -0.6509242557041903, \"Perimeter\": -0.4361925043281057, \"Area\": -0.4330292280251833, \"Smoothness\": 0.1386306201020944, \"Compactness\": -0.9846292111695308, \"Concavity\": -0.6556628354283514, \"Concave_Points\": -0.5226200796244811, \"Symmetry\": -0.8084057592371579, \"Fractal_Dimension\": -0.8877178161710587}, {\"ID\": 859575, \"Class\": \"Malignant\", \"Radius\": 1.3656758170625325, \"Texture\": 0.4697360363291929, \"Perimeter\": 1.3017404539571231, \"Area\": 1.350076217212834, \"Smoothness\": -0.4458350445686553, \"Compactness\": -0.0272847743459685, \"Concavity\": 0.2408521105856043, \"Concave_Points\": 0.7883662716249625, \"Symmetry\": -0.8375876294526796, \"Fractal_Dimension\": -1.1596585160649415}, {\"ID\": 859711, \"Class\": \"Benign\", \"Radius\": -1.486725070584837, \"Texture\": -1.0810532059659654, \"Perimeter\": -1.3654495774533837, \"Area\": -1.1675834233941516, \"Smoothness\": 0.1045012382235099, \"Compactness\": 0.9232431277217296, \"Concavity\": -0.0343617961661264, \"Concave_Points\": -0.5205583751208452, \"Symmetry\": 0.3296871791681987, \"Fractal_Dimension\": 3.8245046241776346}, {\"ID\": 859717, \"Class\": \"Malignant\", \"Radius\": 0.8719255639281883, \"Texture\": 1.216067890567193, \"Perimeter\": 0.9148929567304802, \"Area\": 0.780050795197302, \"Smoothness\": 0.7636249257536617, \"Compactness\": 1.4893942088337646, \"Concavity\": 1.0085408568575234, \"Concave_Points\": 0.7865622801842811, \"Symmetry\": 0.4208805235917048, \"Fractal_Dimension\": 0.2935245989929977}, {\"ID\": 859983, \"Class\": \"Malignant\", \"Radius\": -0.0928737812768505, \"Texture\": -0.813675750397835, \"Perimeter\": -0.0633373633841278, \"Area\": -0.2011544800866618, \"Smoothness\": 0.308566500705876, \"Compactness\": 0.4479791766878804, \"Concavity\": -0.136845735006675, \"Concave_Points\": 0.0456372241901489, \"Symmetry\": -0.5457689272974607, \"Fractal_Dimension\": 0.405416866136833}, {\"ID\": 8610175, \"Class\": \"Benign\", \"Radius\": -0.5156829060872943, \"Texture\": -0.643949191645891, \"Perimeter\": -0.5259082004934339, \"Area\": -0.5228238608052971, \"Smoothness\": -0.329937351939297, \"Compactness\": -0.6826188518472242, \"Concavity\": -0.6909112893012941, \"Concave_Points\": -0.6751862128935338, \"Symmetry\": -0.3342003682349266, \"Fractal_Dimension\": -0.5180484272528113}, {\"ID\": 8610404, \"Class\": \"Malignant\", \"Radius\": 0.5512716639041609, \"Texture\": 0.0837824917699779, \"Perimeter\": 0.4992376671571713, \"Area\": 0.4626438179334193, \"Smoothness\": -0.3327814670958465, \"Compactness\": -0.3806084925249178, \"Concavity\": 0.1115241534930635, \"Concave_Points\": 0.4499890199657292, \"Symmetry\": -0.0496771336335874, \"Fractal_Dimension\": -1.258803562901253}, {\"ID\": 8610629, \"Class\": \"Benign\", \"Radius\": -0.1694901998666628, \"Texture\": -1.9413111064895168, \"Perimeter\": -0.1670454158321221, \"Area\": -0.2719103774355488, \"Smoothness\": 2.3278882618554237, \"Compactness\": 0.0067978994333512, \"Concavity\": -0.2512464109217062, \"Concave_Points\": 0.4288565488034621, \"Symmetry\": 2.1572018014152614, \"Fractal_Dimension\": 0.5116437020328811}, {\"ID\": 8610637, \"Class\": \"Malignant\", \"Radius\": 1.1131254002294486, \"Texture\": -0.7299749816982464, \"Perimeter\": 1.1618168911304654, \"Area\": 0.9977175316199828, \"Smoothness\": 0.7209631984054315, \"Compactness\": 2.087734481848491, \"Concavity\": 0.998505709847433, \"Concave_Points\": 1.5225907879822786, \"Symmetry\": 1.2416206234032596, \"Fractal_Dimension\": 0.5569671520151951}, {\"ID\": 8610862, \"Class\": \"Malignant\", \"Radius\": 1.717543813549076, \"Texture\": 1.0881917161650434, \"Perimeter\": 2.1289356341970738, \"Area\": 1.676860482077172, \"Smoothness\": 2.2923368223985654, \"Compactness\": 4.564408776479066, \"Concavity\": 3.595099998708337, \"Concave_Points\": 2.873007237863757, \"Symmetry\": 3.992011891216205, \"Fractal_Dimension\": 2.637596777765791}, {\"ID\": 8610908, \"Class\": \"Benign\", \"Radius\": -0.3596124237747146, \"Texture\": -0.2998460314364703, \"Perimeter\": -0.3612922442267771, \"Area\": -0.4222311392731443, \"Smoothness\": 0.2118665853832216, \"Compactness\": -0.1681598259671572, \"Concavity\": -0.6260591517485845, \"Concave_Points\": -0.664104551186491, \"Symmetry\": -0.3414958357888062, \"Fractal_Dimension\": -0.4004907288611841}, {\"ID\": 861103, \"Class\": \"Benign\", \"Radius\": -0.7597203875215104, \"Texture\": 0.3906853103351368, \"Perimeter\": -0.7473166616720872, \"Area\": -0.720031060645167, \"Smoothness\": 0.9840438503861832, \"Compactness\": -0.2029998924971286, \"Concavity\": -0.5380007367350408, \"Concave_Points\": -0.6852370223487584, \"Symmetry\": 0.1108231525517838, \"Fractal_Dimension\": 1.0271979455817015}, {\"ID\": 8611161, \"Class\": \"Benign\", \"Radius\": -0.2234054573928266, \"Texture\": -0.7974006009284704, \"Perimeter\": -0.2254840803067853, \"Area\": -0.3833011877197406, \"Smoothness\": 0.8133969409932637, \"Compactness\": 0.9308170552282448, \"Concavity\": 0.3524931210728605, \"Concave_Points\": 0.5399308789368432, \"Symmetry\": 0.4755965302458086, \"Fractal_Dimension\": 0.8813130909511286}, {\"ID\": 8611555, \"Class\": \"Malignant\", \"Radius\": 3.1477169605588986, \"Texture\": 1.3067437233250812, \"Perimeter\": 3.27301653025034, \"Area\": 3.475594739982614, \"Smoothness\": 0.7067426226226888, \"Compactness\": 3.07045157581888, \"Concavity\": 3.0745267475598945, \"Concave_Points\": 3.4940957195840565, \"Symmetry\": 0.0634026134515608, \"Fractal_Dimension\": 0.7113501535174527}, {\"ID\": 8611792, \"Class\": \"Malignant\", \"Radius\": 1.4110781391898286, \"Texture\": 1.6275966700068378, \"Perimeter\": 1.5280873938237765, \"Area\": 1.3557594218191704, \"Smoothness\": 1.7875063821111783, \"Compactness\": 1.4155484156452385, \"Concavity\": 1.3158672340415438, \"Concave_Points\": 2.5250946028752086, \"Symmetry\": -0.6479054730517875, \"Fractal_Dimension\": 1.3373803063981615}, {\"ID\": 8612080, \"Class\": \"Benign\", \"Radius\": -0.6036499052089304, \"Texture\": -0.8462260493365638, \"Perimeter\": -0.6180931360027615, \"Area\": -0.6012520843727381, \"Smoothness\": 0.0618395108752798, \"Compactness\": -0.6189978607924937, \"Concavity\": -0.5931940452905382, \"Concave_Points\": -0.7805908556419163, \"Symmetry\": 0.9753360576866216, \"Fractal_Dimension\": -0.4415651054076568}, {\"ID\": 8612399, \"Class\": \"Malignant\", \"Radius\": 1.2294688506806446, \"Texture\": -0.1789449210926199, \"Perimeter\": 1.1988554812904628, \"Area\": 1.1937880905385856, \"Smoothness\": 0.1692048580349915, \"Compactness\": 0.0181587906931245, \"Concavity\": 0.5607224215322374, \"Concave_Points\": 1.0058760967585445, \"Symmetry\": 1.1686659478644548, \"Fractal_Dimension\": -0.3650817835625014}, {\"ID\": 86135501, \"Class\": \"Malignant\", \"Radius\": 0.1000860877641572, \"Texture\": 0.5046113566206888, \"Perimeter\": 0.0938708748505291, \"Area\": -0.019007772453583, \"Smoothness\": -0.1365375212939892, \"Compactness\": -0.0922312027143392, \"Concavity\": 0.396396889242006, \"Concave_Points\": 0.011876812943112, \"Symmetry\": 0.9607451225788604, \"Fractal_Dimension\": -0.9117958989741624}, {\"ID\": 86135502, \"Class\": \"Malignant\", \"Radius\": 1.38837697812618, \"Texture\": 1.2323430400365576, \"Perimeter\": 1.235894071450461, \"Area\": 1.1966296928417537, \"Smoothness\": -0.4316144687859126, \"Compactness\": 0.3078615178173431, \"Concavity\": 0.7275567405749912, \"Concave_Points\": 0.8708344517703965, \"Symmetry\": 0.5157216017921509, \"Fractal_Dimension\": -0.9217104036577938}, {\"ID\": 861597, \"Class\": \"Benign\", \"Radius\": -0.5014946804225145, \"Texture\": 0.5836620826147448, \"Perimeter\": -0.5016273469441019, \"Area\": -0.5364635518605041, \"Smoothness\": -0.6143488675941632, \"Compactness\": -0.1872839929211089, \"Concavity\": -0.3593751199554308, \"Concave_Points\": -0.2955748711615836, \"Symmetry\": 0.4318237249225254, \"Fractal_Dimension\": 0.1759669006013696}, {\"ID\": 861598, \"Class\": \"Benign\", \"Radius\": 0.1454884098914532, \"Texture\": -0.9415519247999844, \"Perimeter\": 0.1564249382318585, \"Area\": -0.008493843931861, \"Smoothness\": 1.1973524871273318, \"Compactness\": 0.5596946074089841, \"Concavity\": 0.1362357030054112, \"Concave_Points\": 0.559774784784338, \"Symmetry\": 1.110302207433411, \"Fractal_Dimension\": 0.0938181475084262}, {\"ID\": 861648, \"Class\": \"Benign\", \"Radius\": 0.1398131196255408, \"Texture\": 1.0998168229288754, \"Perimeter\": 0.1070401513518613, \"Area\": 0.0221954609423552, \"Smoothness\": -0.4707210521884563, \"Compactness\": -0.3461471223702722, \"Concavity\": -0.7247799104603493, \"Concave_Points\": -0.4986527647697144, \"Symmetry\": -0.4618710504278343, \"Fractal_Dimension\": -0.5860336022262813}, {\"ID\": 861799, \"Class\": \"Malignant\", \"Radius\": 0.3526365045972407, \"Texture\": 0.8068641324803151, \"Perimeter\": 0.3387371097971813, \"Area\": 0.2083204117998694, \"Smoothness\": -0.3100285458434572, \"Compactness\": -0.0140304012095665, \"Concavity\": 0.2935366323885789, \"Concave_Points\": 0.6677565581622654, \"Symmetry\": -0.3451435695657471, \"Fractal_Dimension\": -0.2588549476664533}, {\"ID\": 861853, \"Class\": \"Benign\", \"Radius\": -0.2432689733235187, \"Texture\": -1.0531529497327694, \"Perimeter\": -0.2975035611734477, \"Area\": -0.29322239470931, \"Smoothness\": -1.6218766618015257, \"Compactness\": -1.0185225367611876, \"Concavity\": -0.7048350557777945, \"Concave_Points\": -0.5782861012226489, \"Symmetry\": -1.5525434497329678, \"Fractal_Dimension\": -1.3621976831734066}, {\"ID\": 862009, \"Class\": \"Benign\", \"Radius\": -0.1921913609303108, \"Texture\": -0.2300953908534795, \"Perimeter\": -0.2209571415094522, \"Area\": -0.2835609468785383, \"Smoothness\": 0.4152208190764508, \"Compactness\": -0.4296496731296057, \"Concavity\": -0.6153968080503635, \"Concave_Points\": -0.5442679769126575, \"Symmetry\": -0.6333145379440261, \"Fractal_Dimension\": -0.8069854208900621}, {\"ID\": 862028, \"Class\": \"Malignant\", \"Radius\": 0.2646695054756051, \"Texture\": 0.1256328761197722, \"Perimeter\": 0.3428525087038475, \"Area\": 0.144100199748269, \"Smoothness\": 0.5360957132297693, \"Compactness\": 0.9648997290075646, \"Concavity\": 1.0185760038676142, \"Concave_Points\": 1.011030358017634, \"Symmetry\": 0.1582436916520068, \"Fractal_Dimension\": 0.0060039631676917}, {\"ID\": 86208, \"Class\": \"Malignant\", \"Radius\": 1.7402449746127244, \"Texture\": 0.8696397090050065, \"Perimeter\": 1.6638955577437688, \"Area\": 1.7308509258373668, \"Smoothness\": -0.3967740581181913, \"Compactness\": 0.5104640786166335, \"Concavity\": 0.723793560446207, \"Concave_Points\": 0.9770122337076422, \"Symmetry\": 1.0336997981176652, \"Fractal_Dimension\": -0.8933832474188478}, {\"ID\": 86211, \"Class\": \"Benign\", \"Radius\": -0.5525722928157224, \"Texture\": -0.337046373080732, \"Perimeter\": -0.5835237851867635, \"Area\": -0.5790875864080265, \"Smoothness\": 0.5787574405779985, \"Compactness\": -0.6394474650600855, \"Concavity\": -0.8015487850875411, \"Concave_Points\": -0.502776173776986, \"Symmetry\": 0.322391711614318, \"Fractal_Dimension\": 0.5031455551611986}, {\"ID\": 862261, \"Class\": \"Benign\", \"Radius\": -1.2316207731320925, \"Texture\": 0.1512081110002028, \"Perimeter\": -1.2288183337520586, \"Area\": -1.0240825070841597, \"Smoothness\": 0.4294413948591945, \"Compactness\": -0.9719428825961172, \"Concavity\": -1.028230212111722, \"Concave_Points\": -1.0561634338591426, \"Symmetry\": -1.6838618657028162, \"Fractal_Dimension\": 0.8643167972077616}, {\"ID\": 862485, \"Class\": \"Benign\", \"Radius\": -0.7171557105271703, \"Texture\": -1.4995570494639097, \"Perimeter\": -0.7255050474667551, \"Area\": -0.6884892750800005, \"Smoothness\": -0.4643217930862223, \"Compactness\": -0.5508325132338542, \"Concavity\": -0.5875492750973623, \"Concave_Points\": -0.3973715310286034, \"Symmetry\": -0.6989737459289503, \"Fractal_Dimension\": 0.4280785911279909}, {\"ID\": 862548, \"Class\": \"Malignant\", \"Radius\": 0.0830602169664211, \"Texture\": 0.1116827480031744, \"Perimeter\": 0.103336292335862, \"Area\": -0.0352049055816416, \"Smoothness\": 0.0824593457602584, \"Compactness\": 0.1847851958364658, \"Concavity\": 0.0637317658575076, \"Concave_Points\": 0.2440762826650991, \"Symmetry\": 0.2457893022985731, \"Fractal_Dimension\": 0.1561378912341071}, {\"ID\": 862717, \"Class\": \"Malignant\", \"Radius\": -0.1467890388030148, \"Texture\": 1.3230188727944456, \"Perimeter\": -0.161283857362789, \"Area\": -0.2051327233110971, \"Smoothness\": -0.1052522545719542, \"Compactness\": -0.3641352001982464, \"Concavity\": -0.0319784487512299, \"Concave_Points\": -0.1038363523234498, \"Symmetry\": -0.7390988174752937, \"Fractal_Dimension\": -0.5789518131665445}, {\"ID\": 862722, \"Class\": \"Benign\", \"Radius\": -2.0278639974395456, \"Texture\": -1.3623807896506948, \"Perimeter\": -1.9827594134533468, \"Area\": -1.453164454862551, \"Smoothness\": 1.4675434269994545, \"Compactness\": -0.54269054116435, \"Concavity\": -1.1138927357766064, \"Concave_Points\": -1.260710291926114, \"Symmetry\": 0.4318237249225254, \"Fractal_Dimension\": 2.178696846694862}, {\"ID\": 862965, \"Class\": \"Benign\", \"Radius\": -0.5525722928157224, \"Texture\": 0.286059349460651, \"Perimeter\": -0.6069815589547624, \"Area\": -0.5574914089039485, \"Smoothness\": -1.1540197185492722, \"Compactness\": -1.2110896436143448, \"Concavity\": -0.8149707942135371, \"Concave_Points\": -0.804558170496683, \"Symmetry\": -0.2648934264730615, \"Fractal_Dimension\": -0.8537252286843218}, {\"ID\": 862980, \"Class\": \"Benign\", \"Radius\": -1.2063657314487843, \"Texture\": 0.025656957950819, \"Perimeter\": -1.1530949938693962, \"Area\": -1.0132844183321206, \"Smoothness\": 0.2943459249231333, \"Compactness\": -0.1395682496300612, \"Concavity\": -0.3419390520253987, \"Concave_Points\": -0.4800974242369918, \"Symmetry\": 0.4865397315766291, \"Fractal_Dimension\": 0.0598255600216902}, {\"ID\": 862989, \"Class\": \"Benign\", \"Radius\": -1.032134320285286, \"Texture\": 8.172307038927801e-05, \"Perimeter\": -1.0107021916987384, \"Area\": -0.9058718512723644, \"Smoothness\": 0.2509731687857653, \"Compactness\": -0.351448871624833, \"Concavity\": -0.7382019195863452, \"Concave_Points\": -0.9511969033177826, \"Symmetry\": 1.4787233189043758, \"Fractal_Dimension\": 0.2850264521213133}, {\"ID\": 863030, \"Class\": \"Malignant\", \"Radius\": -0.2886712954508147, \"Texture\": -0.8671512415114608, \"Perimeter\": -0.1958532081787871, \"Area\": -0.3543168442274253, \"Smoothness\": 3.088689066232191, \"Compactness\": 1.3663178868528874, \"Concavity\": 1.4839559464605587, \"Concave_Points\": 1.2135928254998558, \"Symmetry\": 0.4135850560378242, \"Fractal_Dimension\": 2.000235762389502}, {\"ID\": 863031, \"Class\": \"Benign\", \"Radius\": -0.7058051299953461, \"Texture\": -0.223120326795181, \"Perimeter\": -0.6913472365414238, \"Area\": -0.6887734353103173, \"Smoothness\": 1.2684553660410482, \"Compactness\": -0.0500065568655152, \"Concavity\": -0.227036618759863, \"Concave_Points\": -0.3625802675297485, \"Symmetry\": -0.0387339323027659, \"Fractal_Dimension\": 0.3402644067872565}, {\"ID\": 863270, \"Class\": \"Benign\", \"Radius\": -0.5014946804225145, \"Texture\": -0.1742948783870873, \"Perimeter\": -0.5333159185254331, \"Area\": -0.5347585904786033, \"Smoothness\": -0.8241023603896274, \"Compactness\": -0.6852697264745046, \"Concavity\": -0.7823565664307432, \"Concave_Points\": -0.7656434979905565, \"Symmetry\": -0.7646329539138746, \"Fractal_Dimension\": -0.3027620398368195}, {\"ID\": 86355, \"Class\": \"Malignant\", \"Radius\": 2.3106116463368798, \"Texture\": 0.0884325344755113, \"Perimeter\": 2.503436934703719, \"Area\": 2.4270434901135647, \"Smoothness\": 2.5767483380534317, \"Compactness\": 3.2654802091116544, \"Concavity\": 4.234840620601603, \"Concave_Points\": 3.43739884573407, \"Symmetry\": 2.715305069287118, \"Fractal_Dimension\": 1.0753541111879092}, {\"ID\": 864018, \"Class\": \"Benign\", \"Radius\": -0.7909344839840262, \"Texture\": 0.4581109295653618, \"Perimeter\": -0.8020514671307505, \"Area\": -0.7342390721610078, \"Smoothness\": -0.6235922418529467, \"Compactness\": -0.7307132915135978, \"Concavity\": -0.4700126157416781, \"Concave_Points\": -0.771313185375555, \"Symmetry\": -1.1841223382620032, \"Fractal_Dimension\": 0.3530116270947832}, {\"ID\": 864033, \"Class\": \"Benign\", \"Radius\": -1.2344584182650484, \"Texture\": -0.5346731880658726, \"Perimeter\": -1.2127682780160594, \"Area\": -1.0363013969877828, \"Smoothness\": 0.5218751374470256, \"Compactness\": -0.3843954562781754, \"Concavity\": -0.5702386465049564, \"Concave_Points\": -0.8024964659930471, \"Symmetry\": -0.8302921618987988, \"Fractal_Dimension\": 1.1121794142985406}, {\"ID\": 86408, \"Class\": \"Benign\", \"Radius\": -0.4248782618327022, \"Texture\": 0.341859861927044, \"Perimeter\": -0.4040923928561075, \"Area\": -0.4958286389251996, \"Smoothness\": 0.2111555565940847, \"Compactness\": 0.3135419634472297, \"Concavity\": 0.2220362099416845, \"Concave_Points\": 0.2909800601228147, \"Symmetry\": -0.2794843615808229, \"Fractal_Dimension\": 1.1192612033582765}, {\"ID\": 86409, \"Class\": \"Benign\", \"Radius\": 0.0376578948391251, \"Texture\": 0.0837824917699779, \"Perimeter\": 0.2412021557091869, \"Area\": -0.0710090946015604, \"Smoothness\": -1.279160785437412, \"Compactness\": 2.2524674051152034, \"Concavity\": 2.6530505731360963, \"Concave_Points\": 0.7489361729929269, \"Symmetry\": -0.3925641086659702, \"Fractal_Dimension\": 2.109295313909444}, {\"ID\": 864292, \"Class\": \"Benign\", \"Radius\": -1.026459030019374, \"Texture\": 0.2093336448193617, \"Perimeter\": -0.9600827851467412, \"Area\": -0.911270895648384, \"Smoothness\": 1.1262496082136153, \"Compactness\": 0.4915292598503446, \"Concavity\": -0.3015475853097846, \"Concave_Points\": -0.4700466147817669, \"Symmetry\": 0.4026418547070036, \"Fractal_Dimension\": 2.12770796546476}, {\"ID\": 864496, \"Class\": \"Benign\", \"Radius\": -1.5326949217387238, \"Texture\": -0.8043756649867694, \"Perimeter\": -1.4868538452000428, \"Area\": -1.2048084135656545, \"Smoothness\": 1.325337669172022, \"Compactness\": -0.4228331383737418, \"Concavity\": -0.5955773927054349, \"Concave_Points\": -0.764870358801693, \"Symmetry\": -0.5931894663976838, \"Fractal_Dimension\": 1.91667065148461}, {\"ID\": 864685, \"Class\": \"Benign\", \"Radius\": -0.6235134211396224, \"Texture\": 0.5208865060900533, \"Perimeter\": -0.6353778114107606, \"Area\": -0.6146076151976284, \"Smoothness\": 0.0938358063864516, \"Compactness\": -0.4894837004310783, \"Concavity\": -0.6964306201568438, \"Concave_Points\": -0.7432224615135166, \"Symmetry\": -0.4509278490970137, \"Fractal_Dimension\": -0.1214682399075656}, {\"ID\": 864726, \"Class\": \"Benign\", \"Radius\": -1.4691316707605098, \"Texture\": -0.820650814456134, \"Perimeter\": -1.3675072769067167, \"Area\": -1.1641735006303495, \"Smoothness\": -0.1237390030895192, \"Compactness\": 0.3779203472526117, \"Concavity\": 0.0480518486542413, \"Concave_Points\": -0.6659085426271724, \"Symmetry\": -1.8480098856651277, \"Fractal_Dimension\": 1.250982479869376}, {\"ID\": 864729, \"Class\": \"Malignant\", \"Radius\": 0.2107542479494408, \"Texture\": -0.6090738713543952, \"Perimeter\": 0.274536886853185, \"Area\": 0.0784591865450845, \"Smoothness\": 1.4106611238684814, \"Compactness\": 1.146673989163937, \"Concavity\": 1.0060320701050007, \"Concave_Points\": 1.0388633688167177, \"Symmetry\": 1.2598592922879608, \"Fractal_Dimension\": 0.6915211441501883}, {\"ID\": 864877, \"Class\": \"Malignant\", \"Radius\": 0.4689799550484367, \"Texture\": 0.8417394527718101, \"Perimeter\": 0.5650840496638344, \"Area\": 0.362903577092217, \"Smoothness\": 1.3608891086288804, \"Compactness\": 1.341702622456712, \"Concavity\": 1.5617283357887597, \"Concave_Points\": 1.182151831819409, \"Symmetry\": 1.0373475318946062, \"Fractal_Dimension\": 1.488930592276524}, {\"ID\": 865128, \"Class\": \"Malignant\", \"Radius\": 1.0847489488998885, \"Texture\": 0.1674832604695674, \"Perimeter\": 0.9148929567304802, \"Area\": 0.929519076343947, \"Smoothness\": -0.8774295195749138, \"Compactness\": -0.7028791079271531, \"Concavity\": -0.1990636464692359, \"Concave_Points\": 0.1814520083671604, \"Symmetry\": 1.1577227465336342, \"Fractal_Dimension\": -1.777190522073967}, {\"ID\": 865137, \"Class\": \"Benign\", \"Radius\": -0.7710709680533342, \"Texture\": -1.9692113627227128, \"Perimeter\": -0.7666590365334193, \"Area\": -0.7149161764994643, \"Smoothness\": -0.187020565322728, \"Compactness\": -0.7098849908706799, \"Concavity\": -0.6733497820336357, \"Concave_Points\": -0.584728927796511, \"Symmetry\": -0.5275302584127596, \"Fractal_Dimension\": -0.2361932226752972}, {\"ID\": 86517, \"Class\": \"Malignant\", \"Radius\": 1.2862217533397642, \"Texture\": -0.5044479104799093, \"Perimeter\": 1.2112016780104626, \"Area\": 1.1994712951449218, \"Smoothness\": 0.6427500316003432, \"Compactness\": 0.1071524388946818, \"Concavity\": 0.7137584134361166, \"Concave_Points\": 0.972373398574462, \"Symmetry\": 0.5631421408923739, \"Fractal_Dimension\": -0.0945574414805663}, {\"ID\": 865423, \"Class\": \"Malignant\", \"Radius\": 2.872465382662167, \"Texture\": 0.2116586661721276, \"Perimeter\": 3.0549003881970185, \"Area\": 3.14312727051194, \"Smoothness\": 3.4370931729094005, \"Compactness\": 3.452934914897914, \"Concavity\": 4.239858194106649, \"Concave_Points\": 3.924476534718039, \"Symmetry\": 3.076430713204203, \"Fractal_Dimension\": 0.8459041456524459}, {\"ID\": 865432, \"Class\": \"Benign\", \"Radius\": 0.1057613780300691, \"Texture\": -1.9529362132533488, \"Perimeter\": 0.0951054945225291, \"Area\": -0.0403197897273441, \"Smoothness\": 0.9769335624948112, \"Compactness\": 0.1052589570180529, \"Concavity\": -0.0047581124863595, \"Concave_Points\": 0.2283557858248758, \"Symmetry\": 0.1618914254289467, \"Fractal_Dimension\": 0.1731341849774761}, {\"ID\": 865468, \"Class\": \"Benign\", \"Radius\": -0.2148925219939588, \"Texture\": -0.6741744692318534, \"Perimeter\": -0.2415341360427844, \"Area\": -0.2881075105636074, \"Smoothness\": -1.7925235711944452, \"Compactness\": -0.5887021507664318, \"Concavity\": -0.0988376157059574, \"Concave_Points\": -0.5391137156535679, \"Symmetry\": -1.4212250337631191, \"Fractal_Dimension\": -0.6469369881400164}, {\"ID\": 86561, \"Class\": \"Benign\", \"Radius\": -0.0786855556120708, \"Texture\": -0.4835227183050122, \"Perimeter\": -0.14523380162679, \"Area\": -0.1880831094920882, \"Smoothness\": -0.6051054933353807, \"Compactness\": -0.8138371458976055, \"Concavity\": -0.9357688763475008, \"Concave_Points\": -0.9666596870950512, \"Symmetry\": -0.7208601485905924, \"Fractal_Dimension\": -0.5520410147395463}, {\"ID\": 866083, \"Class\": \"Malignant\", \"Radius\": -0.1467890388030148, \"Texture\": 1.2555932535642216, \"Perimeter\": -0.1732185141921213, \"Area\": -0.2338329065730956, \"Smoothness\": -0.2687888760735019, \"Compactness\": -0.4870221739914606, \"Concavity\": -0.4509458364225061, \"Concave_Points\": -0.4656654927115408, \"Symmetry\": -0.1846432833803758, \"Fractal_Dimension\": -0.2121151398721925}, {\"ID\": 866203, \"Class\": \"Malignant\", \"Radius\": 1.3827016878602685, \"Texture\": -0.0882690883347319, \"Perimeter\": 1.293509656143791, \"Area\": 1.3728090356381792, \"Smoothness\": -1.0089698455652896, \"Compactness\": -0.4555903748394216, \"Concavity\": 0.0490553633552504, \"Concave_Points\": 0.1894411133187494, \"Symmetry\": 0.490187465353569, \"Fractal_Dimension\": -1.750279723646969}, {\"ID\": 866458, \"Class\": \"Benign\", \"Radius\": 0.2760200860074289, \"Texture\": -0.6741744692318534, \"Perimeter\": 0.3132216365758493, \"Area\": 0.0557263681197393, \"Smoothness\": 1.325337669172022, \"Compactness\": 1.4458441256713004, \"Concavity\": 0.3136069264087599, \"Concave_Points\": 0.9386129873274248, \"Symmetry\": 0.6908128230852826, \"Fractal_Dimension\": 0.2651974427540508}, {\"ID\": 866674, \"Class\": \"Malignant\", \"Radius\": 1.6068756533637918, \"Texture\": 1.3555691717331748, \"Perimeter\": 1.5815875796104404, \"Area\": 1.5262555600092598, \"Smoothness\": 0.3654488038368498, \"Compactness\": 1.0330650765662046, \"Concavity\": 2.0785384068084176, \"Concave_Points\": 1.70041280142087, \"Symmetry\": 1.424007312250272, \"Fractal_Dimension\": -0.2361932226752972}, {\"ID\": 866714, \"Class\": \"Benign\", \"Radius\": -0.5497346476827665, \"Texture\": -1.3949310885894235, \"Perimeter\": -0.5304351392907669, \"Area\": -0.5657320555831362, \"Smoothness\": 0.7280734862968034, \"Compactness\": -0.1751657089106843, \"Concavity\": -0.7557634268540036, \"Concave_Points\": -0.5179812444913005, \"Symmetry\": 0.249437036075513, \"Fractal_Dimension\": 0.2708628740018398}, {\"ID\": 8670, \"Class\": \"Malignant\", \"Radius\": 0.3781753107938452, \"Texture\": 0.0442571287729503, \"Perimeter\": 0.4004680933971776, \"Area\": 0.26714157947545, \"Smoothness\": 0.9129409714724666, \"Compactness\": 0.3400507097200343, \"Concavity\": 0.7250479538224684, \"Concave_Points\": 0.8234152481867723, \"Symmetry\": 0.4354714586994652, \"Fractal_Dimension\": -0.6851786490625927}, {\"ID\": 86730502, \"Class\": \"Malignant\", \"Radius\": 0.5768104701007648, \"Texture\": 0.5232115274428192, \"Perimeter\": 0.5856610441971665, \"Area\": 0.4401951597383906, \"Smoothness\": 0.3156767885972479, \"Compactness\": 0.4555531041943956, \"Concavity\": 0.1944395556639359, \"Concave_Points\": 0.1858331304373863, \"Symmetry\": 1.2708024936187825, \"Fractal_Dimension\": -0.5506246569275985}, {\"ID\": 867387, \"Class\": \"Benign\", \"Radius\": 0.4491164391177451, \"Texture\": -1.246129722012377, \"Perimeter\": 0.4128142901171767, \"Area\": 0.3035140889560026, \"Smoothness\": -0.1237390030895192, \"Compactness\": -0.1840650737308397, \"Concavity\": -0.2188830618141645, \"Concave_Points\": 0.2683013105828202, \"Symmetry\": 0.0159820743513377, \"Fractal_Dimension\": -0.7885727693347473}, {\"ID\": 867739, \"Class\": \"Malignant\", \"Radius\": 1.226631205547688, \"Texture\": 0.6092373174951745, \"Perimeter\": 1.1618168911304654, \"Area\": 1.1937880905385856, \"Smoothness\": -0.1464919243419096, \"Compactness\": -0.1372960713781066, \"Concavity\": 0.3324228270526795, \"Concave_Points\": 0.5038510501232158, \"Symmetry\": -0.4363369139892533, \"Fractal_Dimension\": -0.7829073380869573}, {\"ID\": 868202, \"Class\": \"Malignant\", \"Radius\": -0.3851512299713186, \"Texture\": 0.7394385132500901, \"Perimeter\": -0.4217886081547734, \"Area\": -0.4222311392731443, \"Smoothness\": -0.4131277202683456, \"Compactness\": -0.8848427162711886, \"Concavity\": -0.5229480162199052, \"Concave_Points\": -0.563854169697198, \"Symmetry\": -0.826644428121859, \"Fractal_Dimension\": -0.3041783976487672}, {\"ID\": 868223, \"Class\": \"Benign\", \"Radius\": -0.685941614064654, \"Texture\": -0.6090738713543952, \"Perimeter\": -0.7098665316214229, \"Area\": -0.6572316497451507, \"Smoothness\": 0.6214191679262286, \"Compactness\": -0.821600421591784, \"Concavity\": -0.6633146350235453, \"Concave_Points\": -0.5906563282444639, \"Symmetry\": -1.7239869372491596, \"Fractal_Dimension\": -0.4741413350824441}, {\"ID\": 868682, \"Class\": \"Benign\", \"Radius\": -0.7653956777874222, \"Texture\": -0.9066766045084887, \"Perimeter\": -0.7781821534720853, \"Area\": -0.7248617845605528, \"Smoothness\": 0.0021130925877584, \"Compactness\": -0.671257960587451, \"Concavity\": -0.6744787360722709, \"Concave_Points\": -0.5197852359319818, \"Symmetry\": -0.2831320953577627, \"Fractal_Dimension\": -0.587449960038229}, {\"ID\": 868826, \"Class\": \"Malignant\", \"Radius\": 0.2334554090130888, \"Texture\": -0.3998219496054235, \"Perimeter\": 0.2008712464238558, \"Area\": 0.0659561364111447, \"Smoothness\": 1.4462125633253395, \"Compactness\": 0.4953162236036025, \"Concavity\": 0.8166186702895438, \"Concave_Points\": 0.961807162993328, \"Symmetry\": 0.5303125368999123, \"Fractal_Dimension\": -0.0903083680447241}, {\"ID\": 868871, \"Class\": \"Benign\", \"Radius\": -0.8079603547817623, \"Texture\": -1.37168087506176, \"Perimeter\": -0.7806513928160853, \"Area\": -0.7674858191080752, \"Smoothness\": 1.424881699651225, \"Compactness\": 0.1753177864533217, \"Concavity\": -0.532481405879491, \"Concave_Points\": -0.0247184419964241, \"Symmetry\": -0.1481659456109733, \"Fractal_Dimension\": -0.294263892965136}, {\"ID\": 868999, \"Class\": \"Benign\", \"Radius\": -1.2455252342835772, \"Texture\": -1.7018339071545825, \"Perimeter\": -1.2646223042400562, \"Area\": -1.0411321209031683, \"Smoothness\": -0.274477106386599, \"Compactness\": -1.19897135960392, \"Concavity\": -1.1138927357766064, \"Concave_Points\": -1.260710291926114, \"Symmetry\": 0.3333349129451385, \"Fractal_Dimension\": 0.2014613412164211}, {\"ID\": 869104, \"Class\": \"Malignant\", \"Radius\": 0.5626222444359846, \"Texture\": -0.2882209246726384, \"Perimeter\": 0.5403916562238356, \"Area\": 0.4492882871085288, \"Smoothness\": 0.060417453297006, \"Compactness\": 0.1772112683299503, \"Concavity\": 0.0711326867774494, \"Concave_Points\": 0.2708784412123651, \"Symmetry\": 0.1801300943136479, \"Fractal_Dimension\": -0.0449849180624111}, {\"ID\": 869218, \"Class\": \"Benign\", \"Radius\": -0.7653956777874222, \"Texture\": -0.4602725047773491, \"Perimeter\": -0.753489760032087, \"Area\": -0.7299766687062555, \"Smoothness\": 0.9129409714724666, \"Compactness\": -0.1795207172269306, \"Concavity\": -0.8591254410579353, \"Concave_Points\": -0.7811062817678254, \"Symmetry\": -0.6077804015054442, \"Fractal_Dimension\": 0.3997514348890439}, {\"ID\": 869224, \"Class\": \"Benign\", \"Radius\": -0.3482618432428904, \"Texture\": -0.7834504728118722, \"Perimeter\": -0.3386575502401119, \"Area\": -0.4054656856844521, \"Smoothness\": -0.6818966025621943, \"Compactness\": -0.1751657089106843, \"Concavity\": -0.4999926174343232, \"Concave_Points\": -0.4648923535226774, \"Symmetry\": -0.1226318091723914, \"Fractal_Dimension\": -0.0633975696177249}, {\"ID\": 869254, \"Class\": \"Benign\", \"Radius\": -0.95835554682843, \"Texture\": -1.0043275013246755, \"Perimeter\": -0.9757213009920734, \"Area\": -0.8513130870515357, \"Smoothness\": -1.310446052159448, \"Compactness\": -1.0026172889975051, \"Concavity\": -0.8315287867801864, \"Concave_Points\": -1.0577612548494604, \"Symmetry\": -1.5051229106327446, \"Fractal_Dimension\": -0.8381452927529035}, {\"ID\": 869476, \"Class\": \"Benign\", \"Radius\": -0.6320263565384902, \"Texture\": -1.0787281846131993, \"Perimeter\": -0.5703545086854312, \"Area\": -0.6310889085560037, \"Smoothness\": 1.3395582449547647, \"Compactness\": 0.4782748867139423, \"Concavity\": -0.6485127931836618, \"Concave_Points\": -0.4867979638738082, \"Symmetry\": 0.6689264204236415, \"Fractal_Dimension\": 2.2084403607457563}, {\"ID\": 869691, \"Class\": \"Malignant\", \"Radius\": -0.6604028078680501, \"Texture\": -0.6299990635292931, \"Perimeter\": -0.5341389983067669, \"Area\": -0.6333621903985382, \"Smoothness\": 0.9058306835810948, \"Compactness\": 1.2432415648720103, \"Concavity\": 0.9671458754409004, \"Concave_Points\": 0.6502320698813607, \"Symmetry\": 3.1603285900738274, \"Fractal_Dimension\": 1.545584904754416}, {\"ID\": 86973701, \"Class\": \"Benign\", \"Radius\": 0.2334554090130888, \"Texture\": -0.120819387273461, \"Perimeter\": 0.2416136955998537, \"Area\": 0.0983504026672616, \"Smoothness\": -1.0651411199071266, \"Compactness\": 0.2340157246288168, \"Concavity\": 0.0213332697398755, \"Concave_Points\": -0.3427363616822535, \"Symmetry\": -0.2466547575883602, \"Fractal_Dimension\": 0.3020227458646803}, {\"ID\": 86973702, \"Class\": \"Benign\", \"Radius\": 0.088735507232333, \"Texture\": -0.9555020529165824, \"Perimeter\": 0.0823477579118631, \"Area\": -0.0420247511092451, \"Smoothness\": 0.2374636217921595, \"Compactness\": -0.0424326293589997, \"Concavity\": -0.0492890773436359, \"Concave_Points\": 0.1649583723380736, \"Symmetry\": -0.3196094331271652, \"Fractal_Dimension\": -0.2815166726576102}, {\"ID\": 869931, \"Class\": \"Benign\", \"Radius\": -0.1098996520745866, \"Texture\": -0.3207712236113675, \"Perimeter\": -0.1584030781281222, \"Area\": -0.1985970380138105, \"Smoothness\": -1.2030807049997363, \"Compactness\": -0.7683935808585125, \"Concavity\": -0.7525020040757241, \"Concave_Points\": -0.9182096312596092, \"Symmetry\": -1.235190611139167, \"Fractal_Dimension\": -0.9911119364432116}, {\"ID\": 871001501, \"Class\": \"Benign\", \"Radius\": -0.3198853919133305, \"Texture\": 0.3465099046325766, \"Perimeter\": -0.3481229677254442, \"Area\": -0.3850061491016416, \"Smoothness\": 1.2186833508014474, \"Compactness\": -0.5387142292234293, \"Concavity\": -0.7205149729810608, \"Concave_Points\": -0.5790592404115124, \"Symmetry\": 2.6569413288560746, \"Fractal_Dimension\": -0.2730185257859258}, {\"ID\": 871001502, \"Class\": \"Benign\", \"Radius\": -1.6765635299795931, \"Texture\": 0.3279097338104454, \"Perimeter\": -1.59261959710137, \"Area\": -1.2815316757511943, \"Smoothness\": -0.1642676440703387, \"Compactness\": 0.4953162236036025, \"Concavity\": 0.5431609142645789, \"Concave_Points\": -0.7019883714407996, \"Symmetry\": 1.496961987789077, \"Fractal_Dimension\": 2.8061433573875205}, {\"ID\": 8710441, \"Class\": \"Benign\", \"Radius\": -1.2475115858766463, \"Texture\": -0.9183017112723209, \"Perimeter\": -1.1600911720107292, \"Area\": -1.0078853739561011, \"Smoothness\": 0.7707352136450335, \"Compactness\": 1.051999895332493, \"Concavity\": 4.039155253904839, \"Concave_Points\": 0.7641412437072415, \"Symmetry\": 2.686123199071597, \"Fractal_Dimension\": 4.272073692752984}, {\"ID\": 87106, \"Class\": \"Benign\", \"Radius\": -0.84484974151019, \"Texture\": -1.4437565369975172, \"Perimeter\": -0.8683093895280799, \"Area\": -0.7757264657872629, \"Smoothness\": 0.0838814033385322, \"Compactness\": -1.00754034187674, \"Concavity\": -0.8652719686016156, \"Concave_Points\": -0.8004347614894113, \"Symmetry\": 0.0670503472285006, \"Fractal_Dimension\": -0.2475240851708752}, {\"ID\": 8711002, \"Class\": \"Benign\", \"Radius\": -0.2773207149189904, \"Texture\": -0.9183017112723209, \"Perimeter\": -0.2740457874054487, \"Area\": -0.3295949041898625, \"Smoothness\": -0.1791992486422193, \"Compactness\": -0.366596726637864, \"Concavity\": 0.0518150287830253, \"Concave_Points\": -0.3630956936556574, \"Symmetry\": 0.0378684770129788, \"Fractal_Dimension\": -0.1030555883522489}, {\"ID\": 8711003, \"Class\": \"Benign\", \"Radius\": -0.5327087768850304, \"Texture\": -0.3137961595530681, \"Perimeter\": -0.5637698704347651, \"Area\": -0.5529448452188794, \"Smoothness\": -0.6982502647123496, \"Compactness\": -0.7110210799966573, \"Concavity\": -0.626560909099089, \"Concave_Points\": -0.6599811421792193, \"Symmetry\": 0.5777330760001343, \"Fractal_Dimension\": -0.0733120743013571}, {\"ID\": 8711202, \"Class\": \"Malignant\", \"Radius\": 1.0081325303100763, \"Texture\": 0.3372098192215106, \"Perimeter\": 1.0465857217438057, \"Area\": 0.87751775419597, \"Smoothness\": 1.0764775929740142, \"Compactness\": 1.1769696991899996, \"Concavity\": 1.2130069771881165, \"Concave_Points\": 1.455585391614113, \"Symmetry\": 0.5813808097770752, \"Fractal_Dimension\": -0.1611262586420896}, {\"ID\": 8711216, \"Class\": \"Benign\", \"Radius\": 0.7697703391417726, \"Texture\": 0.0396070860674177, \"Perimeter\": 0.6761998201438278, \"Area\": 0.640243961881429, \"Smoothness\": -1.557884070779181, \"Compactness\": -0.6080156659080466, \"Concavity\": -0.4678801470020338, \"Concave_Points\": -0.5465873944792478, \"Symmetry\": 0.1181186201056645, \"Fractal_Dimension\": -1.4330155737707722}, {\"ID\": 871122, \"Class\": \"Benign\", \"Radius\": -0.5866240344111942, \"Texture\": -1.5228072629915732, \"Perimeter\": -0.6226200748000946, \"Area\": -0.5861915921659469, \"Smoothness\": -0.2311043502492319, \"Compactness\": -0.9833037738558904, \"Concavity\": -0.8665263619778769, \"Concave_Points\": -0.7548195493464682, \"Symmetry\": -0.8084057592371579, \"Fractal_Dimension\": -0.5279629319364416}, {\"ID\": 871149, \"Class\": \"Benign\", \"Radius\": -0.91579086983409, \"Texture\": -1.4716567932307132, \"Perimeter\": -0.958025085693408, \"Area\": -0.8186346605651019, \"Smoothness\": -1.5081120555395802, \"Compactness\": -1.2716810636664688, \"Concavity\": -1.0751319804501325, \"Concave_Points\": -1.090928926051702, \"Symmetry\": -1.3482703582243143, \"Fractal_Dimension\": -0.7602456130958014}, {\"ID\": 8711561, \"Class\": \"Benign\", \"Radius\": -0.6745910335328302, \"Texture\": 0.207008623466595, \"Perimeter\": -0.6530740267094265, \"Area\": -0.6680297384971897, \"Smoothness\": 0.891610107798351, \"Compactness\": 0.1847851958364658, \"Concavity\": -0.2555113484009947, \"Concave_Points\": -0.2973788626022648, \"Symmetry\": 0.6616309528697608, \"Fractal_Dimension\": 0.2453684333867863}, {\"ID\": 8711803, \"Class\": \"Malignant\", \"Radius\": 1.4366169453864326, \"Texture\": -0.7788004301063396, \"Perimeter\": 1.4128562244371168, \"Area\": 1.4267994793983745, \"Smoothness\": -0.6698091131468622, \"Compactness\": 0.2680983984081366, \"Concavity\": 0.3825985621031318, \"Concave_Points\": 1.2306018876548517, \"Symmetry\": -0.2575979589191808, \"Fractal_Dimension\": -1.563320492469924}, {\"ID\": 871201, \"Class\": \"Malignant\", \"Radius\": 1.550122750704672, \"Texture\": -0.2649707111449753, \"Perimeter\": 1.593933776330439, \"Area\": 1.588770810678959, \"Smoothness\": 1.1120290324308717, \"Compactness\": 1.178863181066628, \"Concavity\": 2.0321258518867498, \"Concave_Points\": 2.053479697668509, \"Symmetry\": 0.7856539012857287, \"Fractal_Dimension\": -0.2801003148456625}, {\"ID\": 8712064, \"Class\": \"Benign\", \"Radius\": -0.5071699706884264, \"Texture\": 0.6813129794309313, \"Perimeter\": -0.4987465677094357, \"Area\": -0.5410101155455732, \"Smoothness\": 0.3441179401627343, \"Compactness\": -0.0537935206187728, \"Concavity\": -0.4402834927242851, \"Concave_Points\": -0.5334440282685693, \"Symmetry\": -0.9506673765378278, \"Fractal_Dimension\": 0.681606639466559}, {\"ID\": 8712289, \"Class\": \"Malignant\", \"Radius\": 2.5943761596324797, \"Texture\": 0.6394625950811369, \"Perimeter\": 2.474629142357053, \"Area\": 2.9300070977743284, \"Smoothness\": -0.8511214543768401, \"Compactness\": 0.1923591233429815, \"Concavity\": 0.5469240943933628, \"Concave_Points\": 1.2396218448582583, \"Symmetry\": -0.0387339323027659, \"Fractal_Dimension\": -1.0293535973657897}, {\"ID\": 8712291, \"Class\": \"Benign\", \"Radius\": 0.2391306992790012, \"Texture\": 0.1093577266504085, \"Perimeter\": 0.1453133611838593, \"Area\": 0.1003395242794795, \"Smoothness\": -0.8639199725813079, \"Compactness\": -0.9622861250253096, \"Concavity\": -0.8696623454185302, \"Concave_Points\": -0.7610046628573758, \"Symmetry\": -1.0819857925076763, \"Fractal_Dimension\": -1.4358482893946656}, {\"ID\": 87127, \"Class\": \"Benign\", \"Radius\": -0.94416732116365, \"Texture\": -2.2272887328797784, \"Perimeter\": -0.954732766568075, \"Area\": -0.844777401754249, \"Smoothness\": -0.0298832029234144, \"Compactness\": -0.8895764209627608, \"Concavity\": -0.7964057722448699, \"Concave_Points\": -0.8231135110294056, \"Symmetry\": -1.570782118617669, \"Fractal_Dimension\": 0.1703014693535806}, {\"ID\": 8712729, \"Class\": \"Malignant\", \"Radius\": 0.752744468344037, \"Texture\": -0.1138443232151617, \"Perimeter\": 0.7132384103038253, \"Area\": 0.6575777359307545, \"Smoothness\": -0.5482231902044068, \"Compactness\": -0.2370825662764486, \"Concavity\": -0.0574426342893343, \"Concave_Points\": 0.4340108100625515, \"Symmetry\": 0.2968575751757361, \"Fractal_Dimension\": -1.056264395792788}, {\"ID\": 8712766, \"Class\": \"Malignant\", \"Radius\": 0.948541982518, \"Texture\": 1.2532682322114548, \"Perimeter\": 0.9930855359571418, \"Area\": 0.9369072423321844, \"Smoothness\": 0.6071985921434849, \"Compactness\": 1.0595738228390088, \"Concavity\": 1.5943425635715536, \"Concave_Points\": 1.4272369546891206, \"Symmetry\": -0.9980879156380508, \"Fractal_Dimension\": 0.1207289459354244}, {\"ID\": 8712853, \"Class\": \"Benign\", \"Radius\": 0.2391306992790012, \"Texture\": -0.5439732734769378, \"Perimeter\": 0.1749442333118575, \"Area\": 0.0881206343758562, \"Smoothness\": 0.1556953110413856, \"Compactness\": -0.4826671656752143, \"Concavity\": -0.7874995792734146, \"Concave_Points\": -0.2862972008952221, \"Symmetry\": -0.1153363416185107, \"Fractal_Dimension\": -0.8919668896069001}, {\"ID\": 87139402, \"Class\": \"Benign\", \"Radius\": -0.5128452609543384, \"Texture\": -1.6041830103383954, \"Perimeter\": -0.5399005567760999, \"Area\": -0.5421467564668404, \"Smoothness\": 0.4578825464246809, \"Compactness\": -0.6538379273224653, \"Concavity\": -0.6137660966612237, \"Concave_Points\": -0.307171958994535, \"Symmetry\": 0.537608004453792, \"Fractal_Dimension\": -0.4599777569629716}, {\"ID\": 87163, \"Class\": \"Malignant\", \"Radius\": -0.1978666511962227, \"Texture\": 0.0791324490644453, \"Perimeter\": -0.2522341732001167, \"Area\": -0.2542924431559064, \"Smoothness\": -0.4181049217923068, \"Compactness\": -0.7850562213728468, \"Concavity\": -0.3790690959627334, \"Concave_Points\": -0.3746927814886091, \"Symmetry\": -0.779223889021636, \"Fractal_Dimension\": -0.8622233755560063}, {\"ID\": 87164, \"Class\": \"Malignant\", \"Radius\": 0.3781753107938452, \"Texture\": -1.720434077976713, \"Perimeter\": 0.4333912846505088, \"Area\": 0.2330423518374321, \"Smoothness\": 2.086138473548788, \"Compactness\": 0.9686866927608224, \"Concavity\": 1.4350346047863676, \"Concave_Points\": 1.5664020086845405, \"Symmetry\": 0.5631421408923739, \"Fractal_Dimension\": 1.1178448455463297}, {\"ID\": 871641, \"Class\": \"Benign\", \"Radius\": -0.8647132574408821, \"Texture\": -1.064778056496601, \"Perimeter\": -0.8954710223120786, \"Area\": -0.80186920697641, \"Smoothness\": 0.3014562128145042, \"Compactness\": -0.8882509836491207, \"Concavity\": -0.8174795809660599, \"Concave_Points\": -0.5950374503146901, \"Symmetry\": -0.8959513698837241, \"Fractal_Dimension\": 0.5513017207674061}, {\"ID\": 871642, \"Class\": \"Benign\", \"Radius\": -0.983894353025034, \"Texture\": -0.9624771169748816, \"Perimeter\": -1.0074098725734053, \"Area\": -0.8675102201795942, \"Smoothness\": -0.6001282918114205, \"Compactness\": -1.1611017220713424, \"Concavity\": -1.1138927357766064, \"Concave_Points\": -1.260710291926114, \"Symmetry\": 0.4245282573686447, \"Fractal_Dimension\": -0.4316506007240256}, {\"ID\": 872113, \"Class\": \"Benign\", \"Radius\": -1.5483019699699825, \"Texture\": -1.1252286116685266, \"Perimeter\": -1.545292509674706, \"Area\": -1.2153223420873764, \"Smoothness\": -0.3541123307699621, \"Compactness\": -1.1660247749505774, \"Concavity\": -1.1138927357766064, \"Concave_Points\": -1.260710291926114, \"Symmetry\": -0.3269049006810459, \"Fractal_Dimension\": 0.6292014004245073}, {\"ID\": 872608, \"Class\": \"Benign\", \"Radius\": -1.1984203250765075, \"Texture\": -0.2858959033198725, \"Perimeter\": -1.1263449009760649, \"Area\": -1.0016338488891312, \"Smoothness\": 0.0447748199359875, \"Compactness\": 0.4744879229606845, \"Concavity\": 0.5255994069969209, \"Concave_Points\": -0.3030485499872633, \"Symmetry\": -0.5202347908588788, \"Fractal_Dimension\": 2.60077147465516}, {\"ID\": 87281702, \"Class\": \"Malignant\", \"Radius\": 0.661939824089445, \"Texture\": 0.1907334739972304, \"Perimeter\": 0.7132384103038253, \"Area\": 0.505836172941575, \"Smoothness\": 0.1386306201020944, \"Compactness\": 0.9705801746374512, \"Concavity\": 1.1352345878599153, \"Concave_Points\": 1.0241737242283129, \"Symmetry\": -0.0642680687413478, \"Fractal_Dimension\": 0.061241917833637}, {\"ID\": 873357, \"Class\": \"Benign\", \"Radius\": -0.3170477467803746, \"Texture\": 0.6813129794309313, \"Perimeter\": -0.4098539513254405, \"Area\": -0.3651149329794645, \"Smoothness\": -2.406852445008956, \"Compactness\": -1.6087208377064095, \"Concavity\": -1.0938851614252387, \"Concave_Points\": -1.212981832666944, \"Symmetry\": -1.519713845740505, \"Fractal_Dimension\": -1.4811717393769803}, {\"ID\": 873586, \"Class\": \"Benign\", \"Radius\": -0.3738006494394943, \"Texture\": -1.4484065797030496, \"Perimeter\": -0.4394848234534387, \"Area\": -0.4151271335152239, \"Smoothness\": -0.6378128176356904, \"Compactness\": -1.2610775651573474, \"Concavity\": -0.9985763526969044, \"Concave_Points\": -0.9179519181966546, \"Symmetry\": -1.260724747577748, \"Fractal_Dimension\": -0.2078660664363513}, {\"ID\": 873592, \"Class\": \"Malignant\", \"Radius\": 3.715245987150098, \"Texture\": 0.5999372320841093, \"Perimeter\": 3.7092488143569793, \"Area\": 4.532670796761168, \"Smoothness\": 0.9271615472552092, \"Compactness\": 1.6484466864705904, \"Concavity\": 2.487470647469604, \"Concave_Points\": 3.5791410303590343, \"Symmetry\": -0.0423816660797067, \"Fractal_Dimension\": -0.7220039521732231}, {\"ID\": 873593, \"Class\": \"Malignant\", \"Radius\": 1.975769520648072, \"Texture\": 1.6926972678842962, \"Perimeter\": 2.0877816451304096, \"Area\": 1.8644062340862704, \"Smoothness\": 1.2613450781496764, \"Compactness\": 3.386663049215903, \"Concavity\": 2.005783590985262, \"Concave_Points\": 2.5946771298729185, \"Symmetry\": 2.1280199311997388, \"Fractal_Dimension\": 1.583826565676992}, {\"ID\": 873701, \"Class\": \"Malignant\", \"Radius\": 0.4462787939847887, \"Texture\": 0.2372339010525574, \"Perimeter\": 0.3798910988638455, \"Area\": 0.3174379402415265, \"Smoothness\": -0.0277501165560027, \"Compactness\": -0.3096029221513348, \"Concavity\": -0.2868711828075274, \"Concave_Points\": 0.0765627917446866, \"Symmetry\": -0.7062692134828311, \"Fractal_Dimension\": -1.0350190286135788}, {\"ID\": 873843, \"Class\": \"Benign\", \"Radius\": -0.7710709680533342, \"Texture\": -1.0159526080885075, \"Perimeter\": -0.7588397786107532, \"Area\": -0.7186102594935829, \"Smoothness\": -0.410283605111797, \"Compactness\": -0.4315431550062347, \"Concavity\": -0.3385521899094931, \"Concave_Points\": -0.652249750290585, \"Symmetry\": -2.3513971468828814, \"Fractal_Dimension\": -0.0888920102327764}, {\"ID\": 873885, \"Class\": \"Malignant\", \"Radius\": 0.3270976984006368, \"Texture\": 0.7254883851334923, \"Perimeter\": 0.286060003791851, \"Area\": 0.1583082112641098, \"Smoothness\": -0.4117056626900718, \"Compactness\": 0.0162653088164956, \"Concavity\": -0.4396562960361544, \"Concave_Points\": -0.4197925675056432, \"Symmetry\": -0.3086662317963446, \"Fractal_Dimension\": 0.0527437709619544}, {\"ID\": 874158, \"Class\": \"Benign\", \"Radius\": -1.148477770736482, \"Texture\": -0.9717772023859472, \"Perimeter\": -1.1609142517920623, \"Area\": -0.958725654111292, \"Smoothness\": -0.2623896169712669, \"Compactness\": -1.086687884319827, \"Concavity\": -1.0938600735577133, \"Concave_Points\": -1.1987560715918568, \"Symmetry\": -0.39621184244291, \"Fractal_Dimension\": -0.3282564804518729}, {\"ID\": 874217, \"Class\": \"Malignant\", \"Radius\": 1.186904173686304, \"Texture\": -0.1649947929760221, \"Perimeter\": 1.0959705086238023, \"Area\": 1.0971736122308682, \"Smoothness\": -0.7451781647954021, \"Compactness\": -0.3722771722677508, \"Concavity\": -0.0891787867087454, \"Concave_Points\": 0.2376334560912371, \"Symmetry\": -0.6953260121520105, \"Fractal_Dimension\": -1.2106473972950444}, {\"ID\": 874373, \"Class\": \"Benign\", \"Radius\": -0.685941614064654, \"Texture\": -0.4881727610105448, \"Perimeter\": -0.7115126911840891, \"Area\": -0.6666089373456057, \"Smoothness\": 0.0981019791212749, \"Compactness\": -0.8128904049592912, \"Concavity\": -0.636094298758675, \"Concave_Points\": -0.4259776810165509, \"Symmetry\": -1.0783380587307356, \"Fractal_Dimension\": -0.2616876632903487}, {\"ID\": 874662, \"Class\": \"Benign\", \"Radius\": -0.6575651627350941, \"Texture\": -0.4416723339552179, \"Perimeter\": -0.6872318376347577, \"Area\": -0.6421711575383596, \"Smoothness\": 0.308566500705876, \"Compactness\": -0.9225230056161032, \"Concavity\": -0.8187339743423212, \"Concave_Points\": -0.8604819051578053, \"Symmetry\": -0.3414958357888062, \"Fractal_Dimension\": -0.7078403740537507}, {\"ID\": 874839, \"Class\": \"Benign\", \"Radius\": -0.5185205512202502, \"Texture\": -0.7881005155174048, \"Perimeter\": -0.540723636557433, \"Area\": -0.5432833973881078, \"Smoothness\": -1.106380789677082, \"Compactness\": -0.6023352202781597, \"Concavity\": -0.6317039219417604, \"Concave_Points\": -0.8344528857994028, \"Symmetry\": -0.5275302584127596, \"Fractal_Dimension\": -1.1412458645096268}, {\"ID\": 874858, \"Class\": \"Malignant\", \"Radius\": 0.0263073143073013, \"Texture\": 0.8905649011799037, \"Perimeter\": 0.098809353538529, \"Area\": -0.1278411406649235, \"Smoothness\": 0.7920660773191481, \"Compactness\": 2.593294142908402, \"Concavity\": 1.371060542597041, \"Concave_Points\": 0.4448347587066394, \"Symmetry\": 2.0878948596533964, \"Fractal_Dimension\": 1.7877820905974058}, {\"ID\": 875093, \"Class\": \"Benign\", \"Radius\": -0.3851512299713186, \"Texture\": 0.4929862498568568, \"Perimeter\": -0.4094424114347743, \"Area\": -0.4191053767396595, \"Smoothness\": -0.6307025297443185, \"Compactness\": -0.7257902386343626, \"Concavity\": -0.7235255170840881, \"Concave_Points\": -0.5226200796244811, \"Symmetry\": -0.4290414464353726, \"Fractal_Dimension\": 0.010253036603536}, {\"ID\": 875099, \"Class\": \"Benign\", \"Radius\": -1.2506329955228976, \"Texture\": -0.2486955616756108, \"Perimeter\": -1.2856108386640552, \"Area\": -1.0422687618244355, \"Smoothness\": -1.9098433214020771, \"Compactness\": -1.5318454735152771, \"Concavity\": -1.1138927357766064, \"Concave_Points\": -1.260710291926114, \"Symmetry\": -0.5785985312899224, \"Fractal_Dimension\": 0.2368702865151038}, {\"ID\": 875263, \"Class\": \"Malignant\", \"Radius\": -0.5071699706884264, \"Texture\": 1.7601228871145205, \"Perimeter\": -0.4452463819227718, \"Area\": -0.5043534458347041, \"Smoothness\": 0.5005442737729111, \"Compactness\": 0.5862033536817888, \"Concavity\": 0.2471240774669107, \"Concave_Points\": -0.0850232987277727, \"Symmetry\": 0.4792442640227484, \"Fractal_Dimension\": 0.9308856143692849}, {\"ID\": 87556202, \"Class\": \"Malignant\", \"Radius\": 0.2079166028164849, \"Texture\": 0.9114900933548008, \"Perimeter\": 0.3469679076105142, \"Area\": 0.046917400979918, \"Smoothness\": 0.5716471526866276, \"Compactness\": 1.773416490328097, \"Concavity\": 1.01481282373883, \"Concave_Points\": 1.0272662809837665, \"Symmetry\": -0.2721888940269422, \"Fractal_Dimension\": 0.5555507942032484}, {\"ID\": 875878, \"Class\": \"Benign\", \"Radius\": -0.3454241981099344, \"Texture\": -0.688124597348452, \"Perimeter\": -0.3884538770107753, \"Area\": -0.393530956011146, \"Smoothness\": -1.205213791367147, \"Compactness\": -0.9596352503980294, \"Concavity\": -0.6280661811506026, \"Concave_Points\": -0.6481263412833133, \"Symmetry\": 0.0634026134515608, \"Fractal_Dimension\": -0.8678888068037953}, {\"ID\": 875938, \"Class\": \"Malignant\", \"Radius\": -0.1013867166757188, \"Texture\": 0.6975881289002959, \"Perimeter\": -0.0551065655707954, \"Area\": -0.1875147890314548, \"Smoothness\": 1.6808520637406037, \"Compactness\": 0.423363912291705, \"Concavity\": 0.6234420903453027, \"Concave_Points\": 0.4211251569148274, \"Symmetry\": 0.081641282336262, \"Fractal_Dimension\": 0.8459041456524459}, {\"ID\": 877159, \"Class\": \"Malignant\", \"Radius\": 1.121638335628316, \"Texture\": 0.59296216802581, \"Perimeter\": 1.0465857217438057, \"Area\": 1.0488663730770096, \"Smoothness\": -1.6105002011753315, \"Compactness\": -0.3393305876144079, \"Concavity\": 0.2697031582396141, \"Concave_Points\": 0.2283557858248758, \"Symmetry\": -0.1518136793879142, \"Fractal_Dimension\": -1.3310378113105652}, {\"ID\": 877486, \"Class\": \"Malignant\", \"Radius\": 1.433779300253476, \"Texture\": 0.7440885559556227, \"Perimeter\": 1.462241011317114, \"Area\": 1.401225058669861, \"Smoothness\": -0.7913950360893176, \"Compactness\": 0.7282144944289549, \"Concavity\": 0.2835014853784885, \"Concave_Points\": 0.4845225704016298, \"Symmetry\": -0.1627568807187347, \"Fractal_Dimension\": -1.0633461848525247}, {\"ID\": 877500, \"Class\": \"Malignant\", \"Radius\": 0.0915731523652889, \"Texture\": 0.2163087088776602, \"Perimeter\": 0.1037478322265283, \"Area\": -0.0346365851210078, \"Smoothness\": 0.1677828004567177, \"Compactness\": 0.3078615178173431, \"Concavity\": 0.3662914482117349, \"Concave_Points\": 0.2804138245416809, \"Symmetry\": 0.5047784004613304, \"Fractal_Dimension\": 0.263781084942104}, {\"ID\": 877501, \"Class\": \"Benign\", \"Radius\": -0.5383840671509422, \"Texture\": 0.0628572995950807, \"Perimeter\": -0.5526582933867653, \"Area\": -0.5509557236066618, \"Smoothness\": -0.0355714332365114, \"Compactness\": -0.4444188317673108, \"Concavity\": -0.5886782291359977, \"Concave_Points\": -0.2022827423720616, \"Symmetry\": 0.610562679992597, \"Fractal_Dimension\": -0.3778290038700281}, {\"ID\": 877989, \"Class\": \"Malignant\", \"Radius\": 0.9684054984486924, \"Texture\": 0.0070567871286886, \"Perimeter\": 0.9519315468904777, \"Area\": 0.8431343663276352, \"Smoothness\": -0.4749872249232796, \"Compactness\": 0.2927136628043122, \"Concavity\": 0.1856588020301066, \"Concave_Points\": 0.669045123477038, \"Symmetry\": -1.114815396500138, \"Fractal_Dimension\": -1.1171677817065222}, {\"ID\": 878796, \"Class\": \"Malignant\", \"Radius\": 2.600051449898391, \"Texture\": 1.71594748141196, \"Perimeter\": 2.7544762680103703, \"Area\": 2.92716549547116, \"Smoothness\": 1.2613450781496764, \"Compactness\": 1.9703386054975005, \"Concavity\": 3.305335128791975, \"Concave_Points\": 2.9142413279364745, \"Symmetry\": 1.416711844696391, \"Fractal_Dimension\": -0.0718957164894094}, {\"ID\": 87880, \"Class\": \"Malignant\", \"Radius\": -0.0900361361438945, \"Texture\": 1.0370412464041838, \"Perimeter\": -0.0168333557387974, \"Area\": -0.1622245285332582, \"Smoothness\": 2.555417474379317, \"Compactness\": 1.3719983324827745, \"Concavity\": 0.8404521444385085, \"Concave_Points\": 1.1040647737442018, \"Symmetry\": 1.6027462673203436, \"Fractal_Dimension\": 1.6164027953517812}, {\"ID\": 87930, \"Class\": \"Benign\", \"Radius\": -0.4702805839599982, \"Texture\": -0.1603447502704887, \"Perimeter\": -0.4477156212667717, \"Area\": -0.4915662354704474, \"Smoothness\": 0.233908477846474, \"Compactness\": 0.0276262000762689, \"Concavity\": -0.1097508380794309, \"Concave_Points\": -0.2759886783770429, \"Symmetry\": 0.4135850560378242, \"Fractal_Dimension\": 0.1320598084310024}, {\"ID\": 879523, \"Class\": \"Malignant\", \"Radius\": 0.2816953762733408, \"Texture\": -0.6067488500016293, \"Perimeter\": 0.280298445322518, \"Area\": 0.1753578250831187, \"Smoothness\": -0.5404018735238981, \"Compactness\": -0.1602072020853162, \"Concavity\": -0.1668257366993203, \"Concave_Points\": -0.2094987081347869, \"Symmetry\": -0.7938148241293974, \"Fractal_Dimension\": -0.4160706647926044}, {\"ID\": 879804, \"Class\": \"Benign\", \"Radius\": -1.2063657314487843, \"Texture\": -0.4695725901884143, \"Perimeter\": -1.1954836026080604, \"Area\": -1.0215250650113084, \"Smoothness\": 0.891610107798351, \"Compactness\": -0.6063115322190802, \"Concavity\": -0.8936212589051212, \"Concave_Points\": -0.7576543930389675, \"Symmetry\": 0.4464146600302858, \"Fractal_Dimension\": 0.0074203209796405}, {\"ID\": 879830, \"Class\": \"Malignant\", \"Radius\": 0.818010306402025, \"Texture\": 0.2256087942887263, \"Perimeter\": 0.7297000059304912, \"Area\": 0.7087265773877813, \"Smoothness\": -0.6143488675941632, \"Compactness\": -0.5926784627073525, \"Concavity\": -0.2420893392749986, \"Concave_Points\": 0.1283631173985374, \"Symmetry\": 0.7820061675087888, \"Fractal_Dimension\": -1.4967516753084007}, {\"ID\": 8810158, \"Class\": \"Benign\", \"Radius\": -0.2886712954508147, \"Texture\": 0.7557136627194547, \"Perimeter\": -0.2036724661014532, \"Area\": -0.35659012606996, \"Smoothness\": 0.2730150612490177, \"Compactness\": 0.8323559976435428, \"Concavity\": -0.0219433017411394, \"Concave_Points\": 0.0541417552676467, \"Symmetry\": 0.1400050227673056, \"Fractal_Dimension\": 1.4591870782256302}, {\"ID\": 8810436, \"Class\": \"Benign\", \"Radius\": 0.3242600532676808, \"Texture\": -1.4832818999945452, \"Perimeter\": 0.2551945119918529, \"Area\": 0.2006480855813152, \"Smoothness\": -1.0338558531850903, \"Compactness\": -0.7960384162572941, \"Concavity\": -0.3748041584834448, \"Concave_Points\": -0.4471101521788182, \"Symmetry\": -1.6510322617103546, \"Fractal_Dimension\": -1.067595258288366}, {\"ID\": 881046502, \"Class\": \"Malignant\", \"Radius\": 1.8310496188673155, \"Texture\": 0.6627128086088008, \"Perimeter\": 1.7585497325970958, \"Area\": 1.804732585719739, \"Smoothness\": -0.3882417126485456, \"Compactness\": 0.5767359442986443, \"Concavity\": 0.9433124012919354, \"Concave_Points\": 1.2032843029816769, \"Symmetry\": -0.1700523482726154, \"Fractal_Dimension\": -1.778606879885915}, {\"ID\": 8810528, \"Class\": \"Benign\", \"Radius\": -0.6490522273362264, \"Texture\": -0.0812940242764326, \"Perimeter\": -0.6773548802587579, \"Area\": -0.6447285996112109, \"Smoothness\": -0.5439570174695846, \"Compactness\": -0.669175130523159, \"Concavity\": -0.7790951436524639, \"Concave_Points\": -0.9017159952305224, \"Symmetry\": -1.016326584522752, \"Fractal_Dimension\": -0.3155092601443452}, {\"ID\": 8810703, \"Class\": \"Malignant\", \"Radius\": 3.967796403983182, \"Texture\": -0.1905700278564519, \"Perimeter\": 3.972634344383631, \"Area\": 5.240229770250038, \"Smoothness\": 1.2684553660410482, \"Compactness\": 0.8948408995722964, \"Concavity\": 2.9014204616358343, \"Concave_Points\": 2.849813062197854, \"Symmetry\": -0.5968372001746236, \"Fractal_Dimension\": -1.0690116161003136}, {\"ID\": 881094802, \"Class\": \"Malignant\", \"Radius\": 0.934353756853221, \"Texture\": 1.457870111254894, \"Perimeter\": 0.9272391534504794, \"Area\": 0.8329045980362297, \"Smoothness\": 0.3014562128145042, \"Compactness\": 0.1942526052196102, \"Concavity\": 0.9959969230949104, \"Concave_Points\": 0.4394227843845956, \"Symmetry\": -1.8370666843343069, \"Fractal_Dimension\": -0.5860336022262813}, {\"ID\": 8810955, \"Class\": \"Malignant\", \"Radius\": 0.017794378908433, \"Texture\": 1.0509913745207815, \"Perimeter\": 0.0370783699385327, \"Area\": -0.1255678588223888, \"Smoothness\": -0.1230279743003833, \"Compactness\": 0.4972097054802311, \"Concavity\": 0.2847558787547499, \"Concave_Points\": 0.404631520885741, \"Symmetry\": 1.5443825268893, \"Fractal_Dimension\": 0.2170412771478413}, {\"ID\": 8810987, \"Class\": \"Malignant\", \"Radius\": -0.0758479104791148, \"Texture\": -0.5486233161824704, \"Perimeter\": -0.0415257491787963, \"Area\": -0.2159308120631363, \"Smoothness\": 0.4436619706419372, \"Compactness\": 0.8967343814489251, \"Concavity\": 0.1280821460597127, \"Concave_Points\": 0.1829982867448874, \"Symmetry\": 1.0738248696640087, \"Fractal_Dimension\": 0.901142100318391}, {\"ID\": 8811523, \"Class\": \"Benign\", \"Radius\": -0.6348640016714462, \"Texture\": -0.2184702840896475, \"Perimeter\": -0.6028661600480962, \"Area\": -0.6327938699379047, \"Smoothness\": -0.1941308532140999, \"Compactness\": 0.2094004602326414, \"Concavity\": -0.2814772912896037, \"Concave_Points\": -0.4509758481231355, \"Symmetry\": 0.5667898746693147, \"Fractal_Dimension\": 0.0484946975261122}, {\"ID\": 8811779, \"Class\": \"Benign\", \"Radius\": -1.1144260291410102, \"Texture\": -0.4207471417803207, \"Perimeter\": -1.1078256058960658, \"Area\": -0.94821172558957, \"Smoothness\": -1.1248675381946478, \"Compactness\": -0.8571978808724069, \"Concavity\": -0.3896060003233283, \"Concave_Points\": -0.9846996015018652, \"Symmetry\": 0.5558466733384932, \"Fractal_Dimension\": 0.049911055338059}, {\"ID\": 8811842, \"Class\": \"Malignant\", \"Radius\": 1.6097132984967482, \"Texture\": 0.5278615701483518, \"Perimeter\": 1.5527797872637747, \"Area\": 1.6342364475296496, \"Smoothness\": -0.1799102774313562, \"Compactness\": 0.4972097054802311, \"Concavity\": 0.481695638827775, \"Concave_Points\": 0.9790739382112784, \"Symmetry\": 1.0300520643407254, \"Fractal_Dimension\": -0.9896955786312636}, {\"ID\": 88119002, \"Class\": \"Malignant\", \"Radius\": 1.5330968799069364, \"Texture\": 3.064459866016445, \"Perimeter\": 1.482818005850446, \"Area\": 1.6143452314074724, \"Smoothness\": -0.8646310013704458, \"Compactness\": 0.1639568951935483, \"Concavity\": 0.3223876800425891, \"Concave_Points\": 0.4497313069027748, \"Symmetry\": -1.399338631101477, \"Fractal_Dimension\": -1.3692794722331434}, {\"ID\": 8812816, \"Class\": \"Benign\", \"Radius\": -0.1354384582711905, \"Texture\": -1.425156366175386, \"Perimeter\": -0.168280035504122, \"Area\": -0.2443468350948179, \"Smoothness\": 0.0070902941117186, \"Compactness\": -0.3262655626656687, \"Concavity\": -0.6261845910862107, \"Concave_Points\": -0.6001917115737798, \"Symmetry\": -1.6473845279334138, \"Fractal_Dimension\": 0.0909854318845307}, {\"ID\": 8812818, \"Class\": \"Benign\", \"Radius\": -0.1609772644677945, \"Texture\": -1.253104786070676, \"Perimeter\": -0.1390607032667901, \"Area\": -0.2659430125988959, \"Smoothness\": 0.6214191679262286, \"Compactness\": 0.2813527715445389, \"Concavity\": -0.1279395420352198, \"Concave_Points\": -0.11362944871572, \"Symmetry\": 0.5485512057846136, \"Fractal_Dimension\": 0.03291476159469}, {\"ID\": 8812844, \"Class\": \"Benign\", \"Radius\": -1.120101319406922, \"Texture\": -0.4091220350164887, \"Perimeter\": -1.104944826661399, \"Area\": -0.971228704245232, \"Smoothness\": 0.6925220468399451, \"Compactness\": -0.3658393338872125, \"Concavity\": -0.8921159868536075, \"Concave_Points\": -0.7671897763682833, \"Symmetry\": 0.3588690493837204, \"Fractal_Dimension\": 0.8898112378228111}, {\"ID\": 8812877, \"Class\": \"Malignant\", \"Radius\": 0.4604670196495689, \"Texture\": 0.2232837729359595, \"Perimeter\": 0.437506683557175, \"Area\": 0.3023774480347351, \"Smoothness\": 0.4365516827505654, \"Compactness\": 0.3040745540640853, \"Concavity\": 0.3248964667951116, \"Concave_Points\": 0.404631520885741, \"Symmetry\": 0.4500623938072267, \"Fractal_Dimension\": 0.03291476159469}, {\"ID\": 8813129, \"Class\": \"Benign\", \"Radius\": -0.2432689733235187, \"Texture\": -0.5276981240075732, \"Perimeter\": -0.3053228190961138, \"Area\": -0.3082828869161014, \"Smoothness\": -0.8468552816420167, \"Compactness\": -1.030072776208624, \"Concavity\": -0.6680813298533383, \"Concave_Points\": -0.6277670093099093, \"Symmetry\": -1.1512927342695405, \"Fractal_Dimension\": -0.857974302120165}, {\"ID\": 88143502, \"Class\": \"Benign\", \"Radius\": 0.0603590559027731, \"Texture\": -1.3530807042396291, \"Perimeter\": 0.0222629338745336, \"Area\": -0.03889898857576, \"Smoothness\": 0.1919577792873818, \"Compactness\": -0.5320870426552281, \"Concavity\": -0.3958779672046348, \"Concave_Points\": -0.0744570631466389, \"Symmetry\": 0.9607451225788604, \"Fractal_Dimension\": -1.178071167620257}, {\"ID\": 88147101, \"Class\": \"Benign\", \"Radius\": -1.046322545950066, \"Texture\": -0.8904014550391244, \"Perimeter\": -1.0432138430614026, \"Area\": -0.9243422662429572, \"Smoothness\": 0.6356397437089722, \"Compactness\": -0.513530920264265, \"Concavity\": -1.030563383791568, \"Concave_Points\": -0.9473312073734654, \"Symmetry\": -0.0861544714029899, \"Fractal_Dimension\": 0.241119359950946}, {\"ID\": 88147102, \"Class\": \"Benign\", \"Radius\": 0.247643634677869, \"Texture\": -0.8787763482752928, \"Perimeter\": 0.2255636398638547, \"Area\": 0.0841423911514209, \"Smoothness\": -0.8994714120381663, \"Compactness\": 0.0995785113881664, \"Concavity\": -0.2979098445186268, \"Concave_Points\": -0.2865549139581766, \"Symmetry\": 0.2530847698524529, \"Fractal_Dimension\": -0.5279629319364416}, {\"ID\": 88147202, \"Class\": \"Benign\", \"Radius\": -0.4277159069656587, \"Texture\": 1.0881917161650434, \"Perimeter\": -0.4370155841094393, \"Area\": -0.4503630020745091, \"Smoothness\": -1.2322328853543605, \"Compactness\": -0.5500751204832026, \"Concavity\": -0.4317536177657082, \"Concave_Points\": -0.7360064957507911, \"Symmetry\": -1.0856335262846162, \"Fractal_Dimension\": -0.3693308569983436}, {\"ID\": 881861, \"Class\": \"Malignant\", \"Radius\": -0.3681253591735824, \"Texture\": 0.7068882143113611, \"Perimeter\": -0.2761034868587819, \"Area\": -0.4310401064129657, \"Smoothness\": 0.8844998199069792, \"Compactness\": 1.4306962706582695, \"Concavity\": 1.0123040369863077, \"Concave_Points\": 0.5074590330045786, \"Symmetry\": 1.135836343871992, \"Fractal_Dimension\": 1.3798710407565802}, {\"ID\": 881972, \"Class\": \"Malignant\", \"Radius\": 0.8293608869338488, \"Texture\": -0.0487437253377043, \"Perimeter\": 0.8819697654771489, \"Area\": 0.6822996759683175, \"Smoothness\": 1.2613450781496764, \"Compactness\": 1.0008758846635135, \"Concavity\": 1.2819986128824885, \"Concave_Points\": 1.5483620942777263, \"Symmetry\": 1.1650182140875147, \"Fractal_Dimension\": 0.0640746334575324}, {\"ID\": 88199202, \"Class\": \"Benign\", \"Radius\": -0.7966097742499381, \"Texture\": 1.81127335687538, \"Perimeter\": -0.8316823392587487, \"Area\": -0.7365123540035423, \"Smoothness\": -1.957482250274268, \"Compactness\": -1.2536929858384944, \"Concavity\": -0.9090502974331351, \"Concave_Points\": -1.1801749597528386, \"Symmetry\": 0.2093119645291707, \"Fractal_Dimension\": -0.9231267614697416}, {\"ID\": 88203002, \"Class\": \"Benign\", \"Radius\": -0.824986225579498, \"Texture\": 3.376012727287138, \"Perimeter\": -0.8716017086534129, \"Area\": -0.7618026145017389, \"Smoothness\": -1.3196894264182315, \"Compactness\": -1.2989472026899247, \"Concavity\": -1.0515870167777075, \"Concave_Points\": -1.094897707221201, \"Symmetry\": 0.1217663538826043, \"Fractal_Dimension\": -0.6398551990802798}, {\"ID\": 88206102, \"Class\": \"Malignant\", \"Radius\": 1.8111861029366243, \"Texture\": 1.980999915627324, \"Perimeter\": 1.746203535877097, \"Area\": 1.8871390525116156, \"Smoothness\": -0.3391807261980815, \"Compactness\": 0.0579219101023308, \"Concavity\": 0.8354345709334634, \"Concave_Points\": 0.8886166531142556, \"Symmetry\": -1.3263839555626722, \"Fractal_Dimension\": -0.9741156426998436}, {\"ID\": 882488, \"Class\": \"Benign\", \"Radius\": -1.2940489660571246, \"Texture\": -0.7857754941646385, \"Perimeter\": -1.3070109129787204, \"Area\": -1.0664223814013651, \"Smoothness\": -0.8333457346484109, \"Compactness\": -1.201811582418863, \"Concavity\": -0.9066669500182386, \"Concave_Points\": -0.8311026159809947, \"Symmetry\": -0.9506673765378278, \"Fractal_Dimension\": 0.1745505427894209}, {\"ID\": 88249602, \"Class\": \"Benign\", \"Radius\": -0.0276079432188629, \"Texture\": 0.455785908212595, \"Perimeter\": -0.0896759163867929, \"Area\": -0.1463115556355165, \"Smoothness\": -0.4024622884312883, \"Compactness\": -0.6606544620783292, \"Concavity\": -0.9305004241672036, \"Concave_Points\": -0.7720863245644184, \"Symmetry\": -1.0746903249537958, \"Fractal_Dimension\": -0.6299406943966485}, {\"ID\": 88299702, \"Class\": \"Malignant\", \"Radius\": 2.577350288834744, \"Texture\": 1.78569812199495, \"Perimeter\": 2.5322447270503834, \"Area\": 2.884541460923638, \"Smoothness\": -0.0903206500000736, \"Compactness\": 1.20915889109269, \"Concavity\": 1.3321743479329409, \"Concave_Points\": 1.9272002968208133, \"Symmetry\": 0.3552213156067796, \"Fractal_Dimension\": 0.0414129084663745}, {\"ID\": 883263, \"Class\": \"Malignant\", \"Radius\": 1.802673167537756, \"Texture\": 0.5046113566206888, \"Perimeter\": 1.668010956650435, \"Area\": 1.8501982225704292, \"Smoothness\": -0.9108478726643614, \"Compactness\": -0.3949989547872973, \"Concavity\": 0.0203297550388665, \"Concave_Points\": 0.2912377731857692, \"Symmetry\": -1.257077013800808, \"Fractal_Dimension\": -1.5619041346579765}, {\"ID\": 883270, \"Class\": \"Benign\", \"Radius\": 0.0263073143073013, \"Texture\": 1.9903000010383896, \"Perimeter\": 0.0239090934371998, \"Area\": -0.0880587084205693, \"Smoothness\": -1.0047036728304672, \"Compactness\": -0.0083499555796797, \"Concavity\": 0.2697031582396141, \"Concave_Points\": -0.1247111104227627, \"Symmetry\": -1.713043735918338, \"Fractal_Dimension\": -0.2135314976841403}, {\"ID\": 88330202, \"Class\": \"Malignant\", \"Radius\": 0.9457043373850448, \"Texture\": 4.647799407250334, \"Perimeter\": 0.8819697654771489, \"Area\": 0.7550446949294224, \"Smoothness\": 0.1251210731084876, \"Compactness\": 0.4820618504672002, \"Concavity\": 0.6635826783856643, \"Concave_Points\": 1.0099995057658162, \"Symmetry\": -0.0095520620872441, \"Fractal_Dimension\": -0.4443978210315504}, {\"ID\": 88350402, \"Class\": \"Benign\", \"Radius\": -0.1382761034041465, \"Texture\": -0.8578511561003956, \"Perimeter\": -0.1888570300374541, \"Area\": -0.2261605803545417, \"Smoothness\": -0.1514691258658698, \"Compactness\": -0.720299141192139, \"Concavity\": -0.5237006522456619, \"Concave_Points\": -0.2991828540429462, \"Symmetry\": -0.3451435695657471, \"Fractal_Dimension\": -0.8778033114874275}, {\"ID\": 883539, \"Class\": \"Benign\", \"Radius\": -0.4844688096247784, \"Texture\": -0.9880523518553116, \"Perimeter\": -0.5497775141520991, \"Area\": -0.5069108879075553, \"Smoothness\": -1.2158792232042053, \"Compactness\": -1.3332192246569077, \"Concavity\": -0.9818051132562908, \"Concave_Points\": -0.9751642181725492, \"Symmetry\": -0.9689060454225292, \"Fractal_Dimension\": -0.7446656771643801}, {\"ID\": 883852, \"Class\": \"Benign\", \"Radius\": -0.8022850645158499, \"Texture\": -0.2556706257339093, \"Perimeter\": -0.7423781829840873, \"Area\": -0.7544144485135018, \"Smoothness\": -0.0313052605016881, \"Compactness\": 0.5331858611361802, \"Concavity\": 0.8279082106758954, \"Concave_Points\": -0.5251972102540259, \"Symmetry\": 0.8841427132631156, \"Fractal_Dimension\": 1.967659532714713}, {\"ID\": 88411702, \"Class\": \"Benign\", \"Radius\": -0.1070620069416306, \"Texture\": 1.0416912891097163, \"Perimeter\": -0.1411184027201232, \"Area\": -0.1843890264979697, \"Smoothness\": -1.1326888548751566, \"Compactness\": -0.6867845119758076, \"Concavity\": -0.524704166946671, \"Concave_Points\": -0.6566308723608111, \"Symmetry\": -0.1408704780570926, \"Fractal_Dimension\": -1.2049819660472556}, {\"ID\": 884180, \"Class\": \"Malignant\", \"Radius\": 1.4962074931785077, \"Texture\": 0.978915712585025, \"Perimeter\": 1.5280873938237765, \"Area\": 1.4211162747920378, \"Smoothness\": 0.4507722585333091, \"Compactness\": 0.9743671383907092, \"Concavity\": 1.45635929218281, \"Concave_Points\": 1.0293279854874022, \"Symmetry\": 0.6069149462156571, \"Fractal_Dimension\": -0.3962416554253429}, {\"ID\": 884437, \"Class\": \"Benign\", \"Radius\": -1.034971965418242, \"Texture\": 0.1326079401780716, \"Perimeter\": -1.0390984441547366, \"Area\": -0.9013252875872954, \"Smoothness\": 0.7565146378622898, \"Compactness\": -0.8450795968619822, \"Concavity\": -0.5078952957047694, \"Concave_Points\": -0.469531188655858, \"Symmetry\": -0.2721888940269422, \"Fractal_Dimension\": 0.2269557818314726}, {\"ID\": 884448, \"Class\": \"Benign\", \"Radius\": -0.2631324892542108, \"Texture\": -0.4323722485441526, \"Perimeter\": -0.3226074945041128, \"Area\": -0.3219225779713084, \"Smoothness\": -1.7214206922807287, \"Compactness\": -1.1190664244101811, \"Concavity\": -0.5699877678297041, \"Concave_Points\": -0.9759373573614126, \"Symmetry\": -1.1841223382620032, \"Fractal_Dimension\": -0.9132122567861104}, {\"ID\": 884626, \"Class\": \"Benign\", \"Radius\": -0.3510994883758463, \"Texture\": -1.2042793376625829, \"Perimeter\": -0.2888612234694478, \"Area\": -0.4054656856844521, \"Smoothness\": -0.6228812130638098, \"Compactness\": 0.5729489805453865, \"Concavity\": 0.6096437632064281, \"Concave_Points\": -0.2350123013672805, \"Symmetry\": -0.7865193565755167, \"Fractal_Dimension\": 0.1830486896611054}, {\"ID\": 88466802, \"Class\": \"Benign\", \"Radius\": -0.98673199815799, \"Texture\": 1.378819385260838, \"Perimeter\": -0.9860097982587396, \"Area\": -0.8748983861678314, \"Smoothness\": 0.0149116107922273, \"Compactness\": -0.6059328358437545, \"Concavity\": -0.8154725515640416, \"Concave_Points\": -0.8445036952546277, \"Symmetry\": 0.3114485102834974, \"Fractal_Dimension\": 0.0697400647053214}, {\"ID\": 884689, \"Class\": \"Benign\", \"Radius\": -0.7398568715908184, \"Texture\": -1.0136275867357414, \"Perimeter\": -0.7448474223280872, \"Area\": -0.7063913695899598, \"Smoothness\": 0.3512282280541061, \"Compactness\": -0.4972469761252568, \"Concavity\": -0.5709912825307132, \"Concave_Points\": -0.50586873053244, \"Symmetry\": 0.2603802374063336, \"Fractal_Dimension\": -0.1582935430181951}, {\"ID\": 884948, \"Class\": \"Malignant\", \"Radius\": 1.933204843653732, \"Texture\": 0.9928658407016228, \"Perimeter\": 1.9313964866770863, \"Area\": 2.0150111561541824, \"Smoothness\": 0.308566500705876, \"Compactness\": 1.0652542684688953, \"Concavity\": 2.288022100644056, \"Concave_Points\": 2.1153308327775844, \"Symmetry\": 1.4349505135810925, \"Fractal_Dimension\": -0.5407101522439683}, {\"ID\": 88518501, \"Class\": \"Benign\", \"Radius\": -0.7455321618567302, \"Texture\": -0.1952200705619845, \"Perimeter\": -0.7691282758774193, \"Area\": -0.703265607056475, \"Smoothness\": -0.2069293714185678, \"Compactness\": -0.8412926331087243, \"Concavity\": -0.7829837631188739, \"Concave_Points\": -0.7275019646732933, \"Symmetry\": 0.081641282336262, \"Fractal_Dimension\": -0.4897212710138653}, {\"ID\": 885429, \"Class\": \"Malignant\", \"Radius\": 1.589849782566056, \"Texture\": 0.1233078547670063, \"Perimeter\": 1.593933776330439, \"Area\": 1.5660379922536138, \"Smoothness\": 0.699632334731317, \"Compactness\": 1.5253703644897136, \"Concavity\": 1.9179760546469704, \"Concave_Points\": 1.2494149412505289, \"Symmetry\": -0.2867798291347025, \"Fractal_Dimension\": 0.590959739501931}, {\"ID\": 8860702, \"Class\": \"Malignant\", \"Radius\": 0.9003020152577488, \"Texture\": -0.5137479958909754, \"Perimeter\": 0.865508169850483, \"Area\": 0.7766408724335004, \"Smoothness\": 0.3156767885972479, \"Compactness\": -0.0045629918264221, \"Concavity\": 0.474169278570207, \"Concave_Points\": 0.8919669229326637, \"Symmetry\": 0.0050388730205162, \"Fractal_Dimension\": -0.9443721286489516}, {\"ID\": 886226, \"Class\": \"Malignant\", \"Radius\": 1.510395718843288, \"Texture\": 0.0093818084814545, \"Perimeter\": 1.4210870222504497, \"Area\": 1.460898707036392, \"Smoothness\": 0.5076545616642819, \"Compactness\": 0.2737788440380234, \"Concavity\": 0.6159157300877347, \"Concave_Points\": 0.9533026319158304, \"Symmetry\": -0.1299272767262721, \"Fractal_Dimension\": -0.8962159630427413}, {\"ID\": 886452, \"Class\": \"Malignant\", \"Radius\": -0.0474714591495545, \"Texture\": -0.5207230599492739, \"Perimeter\": -0.0221833743174636, \"Area\": -0.1491531579386847, \"Smoothness\": 0.941382123037953, \"Compactness\": 0.4460856948112517, \"Concavity\": 0.114032940245586, \"Concave_Points\": 0.0912524363330921, \"Symmetry\": 0.3515735818298398, \"Fractal_Dimension\": -0.2121151398721925}, {\"ID\": 88649001, \"Class\": \"Malignant\", \"Radius\": 1.5387721701728485, \"Texture\": 2.204201965492894, \"Perimeter\": 1.7132803446237654, \"Area\": 1.568879594556782, \"Smoothness\": -0.2673668184952271, \"Compactness\": 1.930575486088294, \"Concavity\": 1.1239450474735635, \"Concave_Points\": 1.687527148273146, \"Symmetry\": 0.2968575751757361, \"Fractal_Dimension\": -0.0676466430535661}, {\"ID\": 886776, \"Class\": \"Malignant\", \"Radius\": 0.338448278932461, \"Texture\": -0.4695725901884143, \"Perimeter\": 0.4621990769971739, \"Area\": 0.1659805374826636, \"Smoothness\": 2.640740929075777, \"Compactness\": 2.3490349808232764, \"Concavity\": 1.956862249311071, \"Concave_Points\": 1.9400859499685368, \"Symmetry\": 2.1389631325305603, \"Fractal_Dimension\": 1.8642654124425604}, {\"ID\": 887181, \"Class\": \"Malignant\", \"Radius\": 0.4349282134529649, \"Texture\": 0.9091650720020342, \"Perimeter\": 0.7502770004638234, \"Area\": 0.3370449961333867, \"Smoothness\": 1.033815865625784, \"Compactness\": 3.920624938425248, \"Concavity\": 2.870060627229302, \"Concave_Points\": 2.287998584957086, \"Symmetry\": 2.4927933088937637, \"Fractal_Dimension\": 2.583775180911793}, {\"ID\": 88725602, \"Class\": \"Malignant\", \"Radius\": 0.3980388267245367, \"Texture\": 3.317887193467979, \"Perimeter\": 0.482776071530506, \"Area\": 0.2557751702627774, \"Smoothness\": 0.7067426226226888, \"Compactness\": 1.1277391703976485, \"Concavity\": 1.0825500660569407, \"Concave_Points\": 0.9038217238285698, \"Symmetry\": 1.019108863009905, \"Fractal_Dimension\": 0.5243909223404079}, {\"ID\": 887549, \"Class\": \"Malignant\", \"Radius\": 1.7544332002775036, \"Texture\": 1.8066233141698471, \"Perimeter\": 1.684472552277101, \"Area\": 1.7990493811134023, \"Smoothness\": 0.258794485466275, \"Compactness\": 0.0844306563751352, \"Concavity\": 0.7915308027643176, \"Concave_Points\": 1.144525724628055, \"Symmetry\": 0.008686606797457, \"Fractal_Dimension\": -1.0024427989387894}, {\"ID\": 888264, \"Class\": \"Malignant\", \"Radius\": 0.914490240922529, \"Texture\": 0.876614773063305, \"Perimeter\": 0.7832001917171546, \"Area\": 0.7905647237190243, \"Smoothness\": -0.6925620343992516, \"Compactness\": -0.7846775249975209, \"Concavity\": -0.7512476106994628, \"Concave_Points\": -0.5295783323242521, \"Symmetry\": -0.9032468374376038, \"Fractal_Dimension\": -1.377777619104826}, {\"ID\": 888570, \"Class\": \"Malignant\", \"Radius\": 0.8974643701247923, \"Texture\": 0.6603877872560341, \"Perimeter\": 0.9231237545438132, \"Area\": 0.832336277575596, \"Smoothness\": -0.4529453324600272, \"Compactness\": 0.4347248035514781, \"Concavity\": 0.1024925211839821, \"Concave_Points\": 0.6739416716731731, \"Symmetry\": 1.0811203372178884, \"Fractal_Dimension\": -1.1554094426290993}, {\"ID\": 889403, \"Class\": \"Malignant\", \"Radius\": 0.4207399877881847, \"Texture\": 0.0210069152452864, \"Perimeter\": 0.3305063119838483, \"Area\": 0.2947051218161812, \"Smoothness\": -1.2770276990700014, \"Compactness\": -0.9122982034823074, \"Concavity\": -0.5859185637082228, \"Concave_Points\": -0.5270012016947073, \"Symmetry\": -0.9652583116455884, \"Fractal_Dimension\": -1.185152956679994}, {\"ID\": 889719, \"Class\": \"Malignant\", \"Radius\": 0.869087918795233, \"Texture\": 0.6464376591394363, \"Perimeter\": 0.8078925851571529, \"Area\": 0.776925032663817, \"Smoothness\": 0.0639725972426914, \"Compactness\": -0.2724906773694086, \"Concavity\": 0.022713102453763, \"Concave_Points\": 0.4213828699777822, \"Symmetry\": 0.20201649697529, \"Fractal_Dimension\": -0.9911119364432116}, {\"ID\": 88995002, \"Class\": \"Malignant\", \"Radius\": 1.873614295861656, \"Texture\": 2.750581983392988, \"Perimeter\": 1.79970372166376, \"Area\": 2.1712992828284308, \"Smoothness\": -0.11876180156556, \"Compactness\": 0.1885721595897237, \"Concavity\": 0.600863009572599, \"Concave_Points\": 0.967476850378327, \"Symmetry\": -0.155461413164854, \"Fractal_Dimension\": -0.857974302120165}, {\"ID\": 8910251, \"Class\": \"Benign\", \"Radius\": -1.00092022382277, \"Texture\": -0.0789690029236667, \"Perimeter\": -0.933744232144076, \"Area\": -0.8766033475497325, \"Smoothness\": 0.0369535032554788, \"Compactness\": 0.1961460870962391, \"Concavity\": -0.3127116863585101, \"Concave_Points\": -0.5798323796003758, \"Symmetry\": 0.4026418547070036, \"Fractal_Dimension\": 0.2991900302407848}, {\"ID\": 8910499, \"Class\": \"Benign\", \"Radius\": -0.1524643290689267, \"Texture\": 0.59296216802581, \"Perimeter\": -0.1979109076321202, \"Area\": -0.2667954932898462, \"Smoothness\": -1.1945483595300896, \"Compactness\": -0.4118509434892943, \"Concavity\": -0.6031037529630026, \"Concave_Points\": -0.7086889110776162, \"Symmetry\": -0.6442577392748466, \"Fractal_Dimension\": -0.5959481069099135}, {\"ID\": 8910506, \"Class\": \"Benign\", \"Radius\": -0.3567747786417587, \"Texture\": -0.7160248535816477, \"Perimeter\": -0.3946269753707752, \"Area\": -0.4054656856844521, \"Smoothness\": -0.150047068287595, \"Compactness\": -0.798121246321586, \"Concavity\": -0.6246793190346971, \"Concave_Points\": -0.8445036952546277, \"Symmetry\": 0.7236424270777453, \"Fractal_Dimension\": -0.7234203099851709}, {\"ID\": 8910720, \"Class\": \"Benign\", \"Radius\": -0.9697061273602536, \"Texture\": 0.2558340718746886, \"Perimeter\": -0.92469035454941, \"Area\": -0.8808657510044847, \"Smoothness\": 0.8418380925587501, \"Compactness\": 0.46502051357754, \"Concavity\": -0.054181211511055, \"Concave_Points\": -0.5218469404356177, \"Symmetry\": -0.5238825246358186, \"Fractal_Dimension\": 0.8246587784732367}, {\"ID\": 8910721, \"Class\": \"Benign\", \"Radius\": 0.0461708302379929, \"Texture\": -0.5741985510629002, \"Perimeter\": -0.0686873819627946, \"Area\": -0.0633367683830063, \"Smoothness\": -2.2802893205425407, \"Compactness\": -1.4691712233988612, \"Concavity\": -1.0229492159976616, \"Concave_Points\": -1.0996396275795637, \"Symmetry\": -1.1075199289462585, \"Fractal_Dimension\": -1.2800489300804625}, {\"ID\": 8910748, \"Class\": \"Benign\", \"Radius\": -0.8051227096488064, \"Texture\": -1.4530566224085828, \"Perimeter\": -0.8123399643974165, \"Area\": -0.7583926917379371, \"Smoothness\": 0.1407637064695051, \"Compactness\": -0.5351166136578345, \"Concavity\": -0.70433329842729, \"Concave_Points\": -0.5507108034865195, \"Symmetry\": -0.155461413164854, \"Fractal_Dimension\": -0.0138250461995687}, {\"ID\": 8910988, \"Class\": \"Malignant\", \"Radius\": 2.163054099423168, \"Texture\": 0.3953353530406694, \"Perimeter\": 2.2770899948370658, \"Area\": 2.375894648656538, \"Smoothness\": -0.1671117592268872, \"Compactness\": 1.737440334672148, \"Concavity\": 1.6395007251169609, \"Concave_Points\": 1.5432078330186365, \"Symmetry\": -0.3305526344579858, \"Fractal_Dimension\": -0.1214682399075656}, {\"ID\": 8910996, \"Class\": \"Benign\", \"Radius\": -1.2443901762303944, \"Texture\": -0.8415760066310312, \"Perimeter\": -1.2539222670827237, \"Area\": -1.0371538776787332, \"Smoothness\": -0.4259262384728146, \"Compactness\": -1.0878239734458046, \"Concavity\": -0.9755331463749845, \"Concave_Points\": -0.8981080123491596, \"Symmetry\": 0.9826315252405023, \"Fractal_Dimension\": 0.0456619819022187}, {\"ID\": 8911163, \"Class\": \"Malignant\", \"Radius\": 1.0790736586339764, \"Texture\": 1.206767805156128, \"Perimeter\": 0.9560469457971444, \"Area\": 0.9775421552674888, \"Smoothness\": -0.5553334780957787, \"Compactness\": -0.6451279106899723, \"Concavity\": -0.3990139506452881, \"Concave_Points\": -0.0381195212700573, \"Symmetry\": -0.9980879156380508, \"Fractal_Dimension\": -1.0902569832795228}, {\"ID\": 8911164, \"Class\": \"Benign\", \"Radius\": -0.6348640016714462, \"Texture\": -0.4486473980135172, \"Perimeter\": -0.6489586278027597, \"Area\": -0.6231324221071328, \"Smoothness\": 1.8586092610248952, \"Compactness\": -0.6104771923476638, \"Concavity\": -0.3701629029912781, \"Concave_Points\": 0.6473972261888614, \"Symmetry\": 0.7418810959624464, \"Fractal_Dimension\": -0.5732863819187565}, {\"ID\": 8911230, \"Class\": \"Benign\", \"Radius\": -0.7937721291169821, \"Texture\": -1.1926542308987509, \"Perimeter\": -0.8304477195867487, \"Area\": -0.733954911930691, \"Smoothness\": -0.1827543925879047, \"Compactness\": -1.2425214427663844, \"Concavity\": -1.0952399062716007, \"Concave_Points\": -1.1748145280433857, \"Symmetry\": 0.5193693355690907, \"Fractal_Dimension\": -0.64976970376391}, {\"ID\": 8911670, \"Class\": \"Malignant\", \"Radius\": 1.328786430334104, \"Texture\": 0.160508196411268, \"Perimeter\": 1.1906246834771306, \"Area\": 1.2705113527241256, \"Smoothness\": -0.5069835204344525, \"Compactness\": -0.8615528891886535, \"Concavity\": -0.107869248015039, \"Concave_Points\": 0.245107134916917, \"Symmetry\": -0.9543151103147676, \"Fractal_Dimension\": -1.8182648986204388}, {\"ID\": 8911800, \"Class\": \"Benign\", \"Radius\": -0.1524643290689267, \"Texture\": -0.337046373080732, \"Perimeter\": -0.2357725775734513, \"Area\": -0.2346853872640462, \"Smoothness\": -1.2002365898431877, \"Compactness\": -1.2084387689870644, \"Concavity\": -0.8633903785372237, \"Concave_Points\": -0.9416615199884668, \"Symmetry\": -0.8704172334451422, \"Fractal_Dimension\": -1.0760934051600504}, {\"ID\": 8911834, \"Class\": \"Benign\", \"Radius\": -0.0786855556120708, \"Texture\": -0.9555020529165824, \"Perimeter\": -0.1225991076401248, \"Area\": -0.191777192486207, \"Smoothness\": -0.0853434484761124, \"Compactness\": -0.5199687586448035, \"Concavity\": -0.5520499425491675, \"Concave_Points\": -0.3043371153020358, \"Symmetry\": 1.08841580477177, \"Fractal_Dimension\": -0.604446253781597}, {\"ID\": 8912049, \"Class\": \"Malignant\", \"Radius\": 1.428104009987564, \"Texture\": 1.6996723319425957, \"Perimeter\": 1.4087408255304508, \"Area\": 1.3728090356381792, \"Smoothness\": 0.4010002432937071, \"Compactness\": 0.775551541344677, \"Concavity\": 1.2957969400213627, \"Concave_Points\": 1.2298287484659882, \"Symmetry\": 0.3296871791681987, \"Fractal_Dimension\": -0.0846429367969351}, {\"ID\": 8912055, \"Class\": \"Benign\", \"Radius\": -0.6774286786657862, \"Texture\": -1.2252045298374798, \"Perimeter\": -0.7296204463734218, \"Area\": -0.6467177212234286, \"Smoothness\": -1.2962254763767052, \"Compactness\": -1.1539064909401526, \"Concavity\": -0.8322814228059433, \"Concave_Points\": -0.5486490989828836, \"Symmetry\": 1.055586200779307, \"Fractal_Dimension\": -0.2361932226752972}, {\"ID\": 89122, \"Class\": \"Malignant\", \"Radius\": 1.4962074931785077, \"Texture\": -0.257995647086676, \"Perimeter\": 1.449894814597115, \"Area\": 1.3927002517603564, \"Smoothness\": 0.5218751374470256, \"Compactness\": 0.7547232407017589, \"Concavity\": 0.9257508940242772, \"Concave_Points\": 1.178286135875092, \"Symmetry\": 0.2968575751757361, \"Fractal_Dimension\": -0.5492082991156508}, {\"ID\": 8912280, \"Class\": \"Malignant\", \"Radius\": 0.5995116311644123, \"Texture\": -0.120819387273461, \"Perimeter\": 0.6926614157704932, \"Area\": 0.4268396289135004, \"Smoothness\": 0.7280734862968034, \"Compactness\": 1.436376716288156, \"Concavity\": 1.329665561180418, \"Concave_Points\": 1.072108353937846, \"Symmetry\": 0.2348461009677516, \"Fractal_Dimension\": 0.5725470879466154}, {\"ID\": 8912284, \"Class\": \"Benign\", \"Radius\": -0.3510994883758463, \"Texture\": -0.8346009425727322, \"Perimeter\": -0.3246651939574459, \"Area\": -0.3929626355505123, \"Smoothness\": -1.292670332431019, \"Compactness\": -0.1617219875866192, \"Concavity\": 0.2847558787547499, \"Concave_Points\": -0.3870630085104242, \"Symmetry\": -1.3847476959937168, \"Fractal_Dimension\": -0.4883049132019176}, {\"ID\": 8912521, \"Class\": \"Benign\", \"Radius\": -0.4390664874974824, \"Texture\": -0.2068451773258164, \"Perimeter\": -0.4995696474907688, \"Area\": -0.4713908591179534, \"Smoothness\": -0.8838287786771497, \"Compactness\": -1.1773856662103506, \"Concavity\": -1.0905610189781465, \"Concave_Points\": -1.1853549923182238, \"Symmetry\": -0.4180982451045521, \"Fractal_Dimension\": -0.6016135381577025}, {\"ID\": 8912909, \"Class\": \"Benign\", \"Radius\": -0.6206757760066665, \"Texture\": 0.341859861927044, \"Perimeter\": -0.5802314660614304, \"Area\": -0.6077877696700249, \"Smoothness\": -0.73309067538007, \"Compactness\": -0.0613674481252885, \"Concavity\": -0.2892545302224238, \"Concave_Points\": -0.2837200702656774, \"Symmetry\": -0.8157012267910385, \"Fractal_Dimension\": 0.6886884285262947}, {\"ID\": 8913, \"Class\": \"Benign\", \"Radius\": -0.3510994883758463, \"Texture\": -1.4344564515864515, \"Perimeter\": -0.4147924300134404, \"Area\": -0.3949517571627301, \"Smoothness\": -1.906288177456392, \"Compactness\": -1.2695982336021772, \"Concavity\": -0.8303998327415514, \"Concave_Points\": -0.9589282952064172, \"Symmetry\": -1.7312824048030393, \"Fractal_Dimension\": -0.9896955786312636}, {\"ID\": 8913049, \"Class\": \"Benign\", \"Radius\": -0.8136356450476743, \"Texture\": 0.1558581537057354, \"Perimeter\": -0.7510205206880871, \"Area\": -0.7410589176886113, \"Smoothness\": -1.149042517025312, \"Compactness\": 0.2605244709016211, \"Concavity\": 0.0494316813681289, \"Concave_Points\": 0.1793903038635243, \"Symmetry\": 2.857566686587788, \"Fractal_Dimension\": -0.0662302852416204}, {\"ID\": 89143601, \"Class\": \"Benign\", \"Radius\": -0.7824215485851584, \"Texture\": -0.0929191310402646, \"Perimeter\": -0.8148092037414165, \"Area\": -0.7356598733125919, \"Smoothness\": -0.6562995661532565, \"Compactness\": -1.0274219015813433, \"Concavity\": -0.8129637648115191, \"Concave_Points\": -0.7006998061260272, \"Symmetry\": 0.7345856284085658, \"Fractal_Dimension\": -0.4599777569629716}, {\"ID\": 89143602, \"Class\": \"Benign\", \"Radius\": 0.0802225718334652, \"Texture\": 0.1023826625921092, \"Perimeter\": 0.1671249753891914, \"Area\": -0.0110512860047123, \"Smoothness\": -0.6250142994312204, \"Compactness\": 1.1977979998329171, \"Concavity\": 0.5945910426912924, \"Concave_Points\": 0.4407113496993682, \"Symmetry\": -0.3560867708965677, \"Fractal_Dimension\": 1.292056856415848}, {\"ID\": 8915, \"Class\": \"Benign\", \"Radius\": 0.2362930541460453, \"Texture\": -0.0440936826321709, \"Perimeter\": 0.2082789644558556, \"Area\": 0.0920988776002916, \"Smoothness\": -0.4579225339839874, \"Compactness\": -0.1157103779845374, \"Concavity\": -0.3687830702773906, \"Concave_Points\": -0.0187910415484712, \"Symmetry\": 0.2457893022985731, \"Fractal_Dimension\": -0.6058626115935437}, {\"ID\": 891670, \"Class\": \"Benign\", \"Radius\": -0.3340736175781107, \"Texture\": -0.7602002592842088, \"Perimeter\": -0.3633499436801102, \"Area\": -0.4012032822296998, \"Smoothness\": 0.2943459249231333, \"Compactness\": -0.4716849707907669, \"Concavity\": -0.3418136126877725, \"Concave_Points\": -0.3922172697695138, \"Symmetry\": -0.2977230304655231, \"Fractal_Dimension\": 0.269446516189891}, {\"ID\": 891703, \"Class\": \"Benign\", \"Radius\": -0.6462145822032704, \"Texture\": -0.4253971844858533, \"Perimeter\": -0.6761202605867579, \"Area\": -0.6313730687863206, \"Smoothness\": -0.8987603832490293, \"Compactness\": -0.9073751506030724, \"Concavity\": -0.7767117962375674, \"Concave_Points\": -0.6731245083898978, \"Symmetry\": 0.2311983671908118, \"Fractal_Dimension\": -0.7999036318303253}, {\"ID\": 891716, \"Class\": \"Benign\", \"Radius\": -0.3993394556360983, \"Texture\": -1.2810050423038724, \"Perimeter\": -0.4193193688107735, \"Area\": -0.4625818919781321, \"Smoothness\": 0.0220218986835992, \"Compactness\": -0.3864782863424674, \"Concavity\": -0.9523268689141502, \"Concave_Points\": -0.764870358801693, \"Symmetry\": -0.6333145379440261, \"Fractal_Dimension\": -0.254605874230612}, {\"ID\": 891923, \"Class\": \"Benign\", \"Radius\": -0.1013867166757188, \"Texture\": -1.3995811312949564, \"Perimeter\": -0.1608723174721222, \"Area\": -0.2051327233110971, \"Smoothness\": -0.311450603421732, \"Compactness\": -0.7977425499462601, \"Concavity\": -0.9805507198800296, \"Concave_Points\": -0.7666743502423744, \"Symmetry\": -0.8011102916832771, \"Fractal_Dimension\": -0.5208811428767048}, {\"ID\": 891936, \"Class\": \"Benign\", \"Radius\": -0.912953224701134, \"Texture\": -1.613483095749461, \"Perimeter\": -0.9395057906134092, \"Area\": -0.8274436277049233, \"Smoothness\": -0.7949501800350041, \"Compactness\": -1.081764831440592, \"Concavity\": -0.9588497144707092, \"Concave_Points\": -0.9079011087414298, \"Symmetry\": -1.3227362217857324, \"Fractal_Dimension\": -0.3523345632549757}, {\"ID\": 892189, \"Class\": \"Malignant\", \"Radius\": -0.6717533883998743, \"Texture\": -0.2672957324977412, \"Perimeter\": -0.6983434146827568, \"Area\": -0.6359196324713896, \"Smoothness\": 0.2360415642138847, \"Compactness\": -0.8558724435587668, \"Concavity\": -0.7770881142504458, \"Concave_Points\": -0.354848875641114, \"Symmetry\": -0.7026214797058913, \"Fractal_Dimension\": 0.010253036603536}, {\"ID\": 892214, \"Class\": \"Benign\", \"Radius\": 0.0376578948391251, \"Texture\": -0.2603206684394419, \"Perimeter\": -0.0308257120214634, \"Area\": -0.0619159672314222, \"Smoothness\": -2.1757680885393773, \"Compactness\": -0.987280085796811, \"Concavity\": -0.8034303751519333, \"Concave_Points\": -0.9066125434266574, \"Symmetry\": -0.6442577392748466, \"Fractal_Dimension\": -0.982613789571528}, {\"ID\": 892399, \"Class\": \"Benign\", \"Radius\": -1.026459030019374, \"Texture\": 0.8835898371216044, \"Perimeter\": -1.0337484255760705, \"Area\": -0.911270895648384, \"Smoothness\": 0.3654488038368498, \"Compactness\": -0.6886779938524366, \"Concavity\": -0.8009215883994106, \"Concave_Points\": -0.7774982988864626, \"Symmetry\": -0.4253937126584318, \"Fractal_Dimension\": 0.3912532880173615}, {\"ID\": 892438, \"Class\": \"Malignant\", \"Radius\": 1.5330968799069364, \"Texture\": -0.0905941096874987, \"Perimeter\": 1.5445489894504425, \"Area\": 1.5972956175884636, \"Smoothness\": 1.325337669172022, \"Compactness\": 1.1334196160275354, \"Concavity\": 1.6420095118694833, \"Concave_Points\": 1.4762024366504718, \"Symmetry\": -0.0715635362952285, \"Fractal_Dimension\": 0.3855878567695724}, {\"ID\": 892604, \"Class\": \"Benign\", \"Radius\": -0.4731182290929542, \"Texture\": 0.1395830042363709, \"Perimeter\": -0.4748772540507699, \"Area\": -0.5216872198840298, \"Smoothness\": -0.8425891089071934, \"Compactness\": -0.0556870024954017, \"Concavity\": -0.2571420597901344, \"Concave_Points\": -0.4620575098301782, \"Symmetry\": -0.1116886078415708, \"Fractal_Dimension\": -0.0435685602504634}, {\"ID\": 89263202, \"Class\": \"Malignant\", \"Radius\": 1.692005007352472, \"Texture\": 1.0626164812846135, \"Perimeter\": 1.7585497325970958, \"Area\": 1.6825436866835082, \"Smoothness\": 0.8276175167760074, \"Compactness\": 1.5045420638467957, \"Concavity\": 1.7498873422279555, \"Concave_Points\": 2.03801691389124, \"Symmetry\": 1.5954507997664629, \"Fractal_Dimension\": 1.6843879703252511}, {\"ID\": 892657, \"Class\": \"Benign\", \"Radius\": -1.032134320285286, \"Texture\": -0.1580197289177228, \"Perimeter\": -1.0333368856854035, \"Area\": -0.9109867354180672, \"Smoothness\": 0.7422940620795471, \"Compactness\": -0.7112104281843205, \"Concavity\": -0.8257585772493846, \"Concave_Points\": -0.8019810398671382, \"Symmetry\": -1.2023610071467044, \"Fractal_Dimension\": 0.4535730317430424}, {\"ID\": 89296, \"Class\": \"Benign\", \"Radius\": -0.7568827423885539, \"Texture\": -0.2626456897922086, \"Perimeter\": -0.7563705392667532, \"Area\": -0.7154844969600979, \"Smoothness\": -0.5567555356740534, \"Compactness\": -0.5188326695188261, \"Concavity\": -0.6944235907548257, \"Concave_Points\": -0.8736252713684839, \"Symmetry\": -1.4613501053094615, \"Fractal_Dimension\": -0.0520667071221479}, {\"ID\": 893061, \"Class\": \"Benign\", \"Radius\": -0.7171557105271703, \"Texture\": 1.2090928265088938, \"Perimeter\": -0.7300319862640882, \"Area\": -0.675417904485427, \"Smoothness\": -1.5372642358942037, \"Compactness\": -0.8986651339705796, \"Concavity\": -0.8662754833026245, \"Concave_Points\": -0.9223330402668808, \"Symmetry\": 0.4500623938072267, \"Fractal_Dimension\": -0.5690373084829142}, {\"ID\": 89344, \"Class\": \"Benign\", \"Radius\": -0.2631324892542108, \"Texture\": -0.8067006863395357, \"Perimeter\": -0.3250767338481128, \"Area\": -0.3341414678749316, \"Smoothness\": -0.7999273815589633, \"Compactness\": -0.9814102919792616, \"Concavity\": -1.0955660485494287, \"Concave_Points\": -1.176670062096658, \"Symmetry\": -0.6552009406056672, \"Fractal_Dimension\": -0.5463755834917573}, {\"ID\": 89346, \"Class\": \"Benign\", \"Radius\": -1.4549434450957297, \"Texture\": -1.1368537184323582, \"Perimeter\": -1.4654537708853776, \"Area\": -1.161047738096865, \"Smoothness\": -1.8707367379995337, \"Compactness\": -1.3856686726395273, \"Concavity\": -1.0677185155964275, \"Concave_Points\": -1.1712323164683185, \"Symmetry\": -0.0861544714029899, \"Fractal_Dimension\": 0.7835844019267649}, {\"ID\": 893526, \"Class\": \"Benign\", \"Radius\": -0.1780031352655306, \"Texture\": -1.529782327049872, \"Perimeter\": -0.2584072715601165, \"Area\": -0.2520191613133717, \"Smoothness\": -1.606945057229645, \"Compactness\": -1.2913732751834095, \"Concavity\": -1.0792965664593197, \"Concave_Points\": -1.146826889406529, \"Symmetry\": -1.6291458590487125, \"Fractal_Dimension\": -1.338119600370302}, {\"ID\": 893548, \"Class\": \"Benign\", \"Radius\": -0.3056971662485503, \"Texture\": -1.267054914187274, \"Perimeter\": -0.3810461589787761, \"Area\": -0.3531802033061581, \"Smoothness\": -0.912980959031772, \"Compactness\": -1.2684621444761996, \"Concavity\": -1.0567049417528531, \"Concave_Points\": -1.0331754286436028, \"Symmetry\": -1.308145286677971, \"Fractal_Dimension\": -1.0789261207839458}, {\"ID\": 893783, \"Class\": \"Benign\", \"Radius\": -0.6887792591976104, \"Texture\": -0.041768661279405, \"Perimeter\": -0.7259165873574219, \"Area\": -0.6711555010306748, \"Smoothness\": -0.584485658450403, \"Compactness\": -0.981031595603936, \"Concavity\": -0.9153222643144416, \"Concave_Points\": -0.96485569565437, \"Symmetry\": 0.4537101275841665, \"Fractal_Dimension\": -0.214947855496088}, {\"ID\": 89382601, \"Class\": \"Benign\", \"Radius\": 0.1369754744925849, \"Texture\": -0.8369259639254985, \"Perimeter\": 0.0292591120158666, \"Area\": 0.0284469860093249, \"Smoothness\": -1.434876090258452, \"Compactness\": -1.3101187457620351, \"Concavity\": -0.9323820142315956, \"Concave_Points\": -0.7769828727605537, \"Symmetry\": -0.6552009406056672, \"Fractal_Dimension\": -1.4514282253260868}, {\"ID\": 89382602, \"Class\": \"Benign\", \"Radius\": -0.3879888751042745, \"Texture\": -1.3763309177672929, \"Perimeter\": -0.3983308343867745, \"Area\": -0.4284826643401142, \"Smoothness\": -0.5987062342331457, \"Compactness\": -0.4707382298524525, \"Concavity\": -0.6056125397155252, \"Concave_Points\": -0.6040574075180969, \"Symmetry\": -0.7682806876908155, \"Fractal_Dimension\": -0.197951561752719}, {\"ID\": 893988, \"Class\": \"Benign\", \"Radius\": -0.7341815813249064, \"Texture\": -1.9924615762503768, \"Perimeter\": -0.7506089807974202, \"Area\": -0.6984348831410889, \"Smoothness\": -0.7387789056931672, \"Compactness\": -0.8454582932373079, \"Concavity\": -0.942417161241686, \"Concave_Points\": -1.031165266752558, \"Symmetry\": 0.0779935485593211, \"Fractal_Dimension\": -0.254605874230612}, {\"ID\": 894047, \"Class\": \"Benign\", \"Radius\": -1.569300543953856, \"Texture\": -0.1603447502704887, \"Perimeter\": -1.5588733260667054, \"Area\": -1.2323719559063857, \"Smoothness\": 0.7849557894277762, \"Compactness\": -0.8685587721321802, \"Concavity\": -1.1138927357766064, \"Concave_Points\": -1.260710291926114, \"Symmetry\": 1.281745694949602, \"Fractal_Dimension\": 1.528588611011049}, {\"ID\": 894089, \"Class\": \"Benign\", \"Radius\": -0.4646052936940864, \"Texture\": -0.5672234870046009, \"Perimeter\": -0.5259082004934339, \"Area\": -0.4924187161613977, \"Smoothness\": -0.7999273815589633, \"Compactness\": -1.249716673897574, \"Concavity\": -1.0577837200564382, \"Concave_Points\": -1.095181191590451, \"Symmetry\": -2.17630592558975, \"Fractal_Dimension\": -0.8593906599321128}, {\"ID\": 894090, \"Class\": \"Benign\", \"Radius\": -0.5525722928157224, \"Texture\": -1.2112544017208815, \"Perimeter\": -0.6057469392827624, \"Area\": -0.5498190826853946, \"Smoothness\": -1.3523967507185413, \"Compactness\": -1.3674912466238904, \"Concavity\": -0.9730243596224616, \"Concave_Points\": -1.1305394238278057, \"Symmetry\": -0.5056438557511175, \"Fractal_Dimension\": -0.8933832474188478}, {\"ID\": 894326, \"Class\": \"Malignant\", \"Radius\": 1.1613653674897, \"Texture\": -0.0975691737457972, \"Perimeter\": 1.1000859075304692, \"Area\": 1.057391179986514, \"Smoothness\": 0.0781931730254351, \"Compactness\": 0.1393416307973727, \"Concavity\": 0.3035717793986695, \"Concave_Points\": 0.7881085585620081, \"Symmetry\": -0.0168475296411248, \"Fractal_Dimension\": -0.8721378802396386}, {\"ID\": 894329, \"Class\": \"Benign\", \"Radius\": -1.4430253355373146, \"Texture\": -0.0905941096874987, \"Perimeter\": -1.3127724714480535, \"Area\": -1.1661626222425674, \"Smoothness\": 0.2360415642138847, \"Compactness\": 1.7582686353150654, \"Concavity\": 1.363534182339473, \"Concave_Points\": 0.0041454210544775, \"Symmetry\": 1.8909172356986237, \"Fractal_Dimension\": 3.488827822746121}, {\"ID\": 894335, \"Class\": \"Benign\", \"Radius\": -0.4816311644918224, \"Texture\": -0.5323481667131058, \"Perimeter\": -0.550189054042766, \"Area\": -0.5046376060650208, \"Smoothness\": -1.478248846395819, \"Compactness\": -1.3216689852094714, \"Concavity\": -0.9455531446823392, \"Concave_Points\": -0.822855797966451, \"Symmetry\": -1.238838344916107, \"Fractal_Dimension\": -1.0180227348702109}, {\"ID\": 894604, \"Class\": \"Benign\", \"Radius\": -1.10023780347623, \"Texture\": -0.7229999176399471, \"Perimeter\": -1.0473292419680695, \"Area\": -0.9396869186800656, \"Smoothness\": 0.6925220468399451, \"Compactness\": 0.1279807395375996, \"Concavity\": -0.2701877509032519, \"Concave_Points\": -0.2388779973115978, \"Symmetry\": -0.2503024913653001, \"Fractal_Dimension\": 1.415279986055263}, {\"ID\": 894618, \"Class\": \"Malignant\", \"Radius\": 1.711868523283164, \"Texture\": 0.0861075131227446, \"Perimeter\": 1.610395371957105, \"Area\": 1.7592669488690484, \"Smoothness\": -1.149042517025312, \"Compactness\": -0.3540997462521135, \"Concavity\": 0.3349316138052022, \"Concave_Points\": 0.7303808324602042, \"Symmetry\": 0.4245282573686447, \"Fractal_Dimension\": -1.676629117425708}, {\"ID\": 894855, \"Class\": \"Benign\", \"Radius\": -0.3596124237747146, \"Texture\": -1.3879560245311244, \"Perimeter\": -0.376519220181443, \"Area\": -0.4264935427278966, \"Smoothness\": 1.2115730629100754, \"Compactness\": -0.3029757355831336, \"Concavity\": -0.6372232527973102, \"Concave_Points\": -0.3844858778808793, \"Symmetry\": -0.9798492467533496, \"Fractal_Dimension\": 0.2779446630615755}, {\"ID\": 895100, \"Class\": \"Malignant\", \"Radius\": 1.7629461356763718, \"Texture\": 0.5162364633845207, \"Perimeter\": 1.8079345194770933, \"Area\": 1.7308509258373668, \"Smoothness\": 1.4675434269994545, \"Compactness\": 1.5746008932820643, \"Concavity\": 2.103626274333644, \"Concave_Points\": 2.615294174909277, \"Symmetry\": 2.762725608387342, \"Fractal_Dimension\": 0.5527180785793528}, {\"ID\": 89511501, \"Class\": \"Benign\", \"Radius\": -0.5468970025498106, \"Texture\": -0.9485269888582832, \"Perimeter\": -0.5744699075920974, \"Area\": -0.5597646907464832, \"Smoothness\": -0.6847407177187428, \"Compactness\": -0.7363937371434846, \"Concavity\": -0.8637666965501021, \"Concave_Points\": -0.8246597894071326, \"Symmetry\": -0.6333145379440261, \"Fractal_Dimension\": -0.2135314976841403}, {\"ID\": 89511502, \"Class\": \"Benign\", \"Radius\": -0.4135276813008784, \"Texture\": -0.462597526130115, \"Perimeter\": -0.4411309830161055, \"Area\": -0.4688334170451022, \"Smoothness\": 0.4578825464246809, \"Compactness\": -0.5245131151487127, \"Concavity\": -0.7133649307363714, \"Concave_Points\": -0.7177088682810231, \"Symmetry\": -0.3816209073351496, \"Fractal_Dimension\": -0.4189033804164999}, {\"ID\": 89524, \"Class\": \"Benign\", \"Radius\": -0.0049067821552149, \"Texture\": -1.490256964052844, \"Perimeter\": -0.0797989590107937, \"Area\": -0.1090865654640136, \"Smoothness\": -0.2325264078275067, \"Compactness\": -0.9709961416578028, \"Concavity\": -0.8924923048664859, \"Concave_Points\": -0.5563804908715181, \"Symmetry\": -1.599963988833191, \"Fractal_Dimension\": -0.8211489990095345}, {\"ID\": 895299, \"Class\": \"Benign\", \"Radius\": -0.5951369698100625, \"Texture\": -0.3161211809058349, \"Perimeter\": -0.6534855666000927, \"Area\": -0.5935797581541841, \"Smoothness\": -1.3886592189645364, \"Compactness\": -1.2387344790131265, \"Concavity\": -1.0944998141796063, \"Concave_Points\": -1.1165971471219684, \"Symmetry\": -1.567134384840729, \"Fractal_Dimension\": -0.2970966085890315}, {\"ID\": 8953902, \"Class\": \"Malignant\", \"Radius\": 0.6080245665632806, \"Texture\": 0.3302347551632121, \"Perimeter\": 0.6144688365438316, \"Area\": 0.4512774087207467, \"Smoothness\": 1.4604331391080834, \"Compactness\": 0.5218249698764065, \"Concavity\": 0.7401006743376038, \"Concave_Points\": 0.9267581864315186, \"Symmetry\": 0.4974829329074496, \"Fractal_Dimension\": -0.0039105415159374}, {\"ID\": 895633, \"Class\": \"Malignant\", \"Radius\": 0.6051869214303252, \"Texture\": 0.6022622534368752, \"Perimeter\": 0.6391612299838298, \"Area\": 0.4885023988922493, \"Smoothness\": 1.4319919875425968, \"Compactness\": 0.4536596223177669, \"Concavity\": 1.1427609481174834, \"Concave_Points\": 0.7960976635135971, \"Symmetry\": 0.2093119645291707, \"Fractal_Dimension\": 0.3572607005306255}, {\"ID\": 896839, \"Class\": \"Malignant\", \"Radius\": 0.5399210833723371, \"Texture\": -0.8787763482752928, \"Perimeter\": 0.5691994485705006, \"Area\": 0.3930245615057995, \"Smoothness\": -0.1031191682045416, \"Compactness\": 0.6202860274611085, \"Concavity\": 0.396396889242006, \"Concave_Points\": 0.5538473843363851, \"Symmetry\": -0.108040874064631, \"Fractal_Dimension\": -0.4302342429120779}, {\"ID\": 896864, \"Class\": \"Benign\", \"Radius\": -0.3255606821792424, \"Texture\": 0.0140318511869879, \"Perimeter\": -0.3065574387681137, \"Area\": -0.4003508015387496, \"Smoothness\": -0.0405486347604716, \"Compactness\": 0.1544894858104039, \"Concavity\": -0.222395363267696, \"Concave_Points\": -0.5004567562103958, \"Symmetry\": -0.1846432833803758, \"Fractal_Dimension\": 0.3685915630262035}, {\"ID\": 897132, \"Class\": \"Benign\", \"Radius\": -0.824986225579498, \"Texture\": 0.1326079401780716, \"Perimeter\": -0.8242746212267494, \"Area\": -0.7603818133501548, \"Smoothness\": 0.6427500316003432, \"Compactness\": -0.6920862612303685, \"Concavity\": -1.0510978033609657, \"Concave_Points\": -1.0652864762877312, \"Symmetry\": 0.4683010626919269, \"Fractal_Dimension\": -0.3565836366908189}, {\"ID\": 897137, \"Class\": \"Benign\", \"Radius\": -0.8164732901806302, \"Texture\": -1.048502907027237, \"Perimeter\": -0.8473208551040815, \"Area\": -0.7527094871316008, \"Smoothness\": -0.9456882833320818, \"Compactness\": -1.1315634047959318, \"Concavity\": -1.1016787074719503, \"Concave_Points\": -1.184916880111201, \"Symmetry\": -0.1408704780570926, \"Fractal_Dimension\": -0.2815166726576102}, {\"ID\": 897374, \"Class\": \"Benign\", \"Radius\": -0.5185205512202502, \"Texture\": -0.0626938534543022, \"Perimeter\": -0.5798199261707642, \"Area\": -0.5412942757758902, \"Smoothness\": -0.9407110818081226, \"Compactness\": -1.180036540837631, \"Concavity\": -1.0166019855137796, \"Concave_Points\": -1.0407521926944647, \"Symmetry\": -0.99444018186111, \"Fractal_Dimension\": -0.4741413350824441}, {\"ID\": 89742801, \"Class\": \"Malignant\", \"Radius\": 0.8321985320668043, \"Texture\": 0.3976603743934362, \"Perimeter\": 0.8161233829704858, \"Area\": 0.7493614903230861, \"Smoothness\": 1.1049187445395006, \"Compactness\": 0.0238392363230111, \"Concavity\": 0.7777324756254431, \"Concave_Points\": 1.299411275463698, \"Symmetry\": -0.3086662317963446, \"Fractal_Dimension\": -0.2956802507770837}, {\"ID\": 897604, \"Class\": \"Benign\", \"Radius\": -0.3227230370462864, \"Texture\": -1.1763790814293862, \"Perimeter\": -0.3246651939574459, \"Area\": -0.3994983208477992, \"Smoothness\": -0.1237390030895192, \"Compactness\": -0.0888229353364072, \"Concavity\": -0.6450004917301302, \"Concave_Points\": -0.7200282858476132, \"Symmetry\": -0.5822462650668623, \"Fractal_Dimension\": 1.357209315765424}, {\"ID\": 897630, \"Class\": \"Malignant\", \"Radius\": 1.31743584980228, \"Texture\": 0.4976362925623894, \"Perimeter\": 1.2729326616104588, \"Area\": 1.2420953296924442, \"Smoothness\": -0.3697549641309786, \"Compactness\": 0.6789839656366037, \"Concavity\": 0.215764243060378, \"Concave_Points\": 0.3087622614666739, \"Symmetry\": 0.5157216017921509, \"Fractal_Dimension\": -0.2786839570337167}, {\"ID\": 897880, \"Class\": \"Benign\", \"Radius\": -1.1569907061353495, \"Texture\": -0.4091220350164887, \"Perimeter\": -1.134164158898731, \"Area\": -0.9777643895425188, \"Smoothness\": 0.308566500705876, \"Compactness\": -0.5885128025787687, \"Concavity\": -0.7989145589973926, \"Concave_Points\": -0.8032696051819107, \"Symmetry\": 0.2859143738449145, \"Fractal_Dimension\": 0.0725727803292169}, {\"ID\": 89812, \"Class\": \"Malignant\", \"Radius\": 2.662479642823424, \"Texture\": 1.1579423567480345, \"Perimeter\": 2.598091109557046, \"Area\": 3.103344838267586, \"Smoothness\": 0.749404349970918, \"Compactness\": 0.4536596223177669, \"Concavity\": 1.7812471766344882, \"Concave_Points\": 2.3730438957320645, \"Symmetry\": -0.0533248674105273, \"Fractal_Dimension\": -1.095922414527312}, {\"ID\": 89813, \"Class\": \"Benign\", \"Radius\": 0.0830602169664211, \"Texture\": -0.6392991489403584, \"Perimeter\": 0.0897554759438629, \"Area\": -0.03889898857576, \"Smoothness\": 0.0817483169711205, \"Compactness\": 0.1809982320832082, \"Concavity\": -0.1094999594041785, \"Concave_Points\": -0.1723880270693416, \"Symmetry\": 0.3661645169376011, \"Fractal_Dimension\": 0.1872977630969496}, {\"ID\": 898143, \"Class\": \"Benign\", \"Radius\": -1.2829821500385965, \"Texture\": -0.5695485083573676, \"Perimeter\": -1.2481607086133906, \"Area\": -1.0638649393285138, \"Smoothness\": -0.8212582452330788, \"Compactness\": -0.2283725496439557, \"Concavity\": -0.0574426342893343, \"Concave_Points\": -0.6700319516344441, \"Symmetry\": 0.8184835052781912, \"Fractal_Dimension\": 1.1971608830153777}, {\"ID\": 89827, \"Class\": \"Benign\", \"Radius\": -0.870388547706794, \"Texture\": -1.006652522677442, \"Perimeter\": -0.8427939163067485, \"Area\": -0.7984592842126081, \"Smoothness\": 0.4934339858815392, \"Compactness\": -0.2531771622277939, \"Concavity\": -0.4368966306083794, \"Concave_Points\": -0.3996909485951937, \"Symmetry\": -0.1299272767262721, \"Fractal_Dimension\": 0.8883948800108663}, {\"ID\": 898431, \"Class\": \"Malignant\", \"Radius\": 1.575661556901276, \"Texture\": 0.5557618263815483, \"Perimeter\": 1.5610105850771083, \"Area\": 1.531938764615596, \"Smoothness\": 0.1144556412714303, \"Compactness\": 0.5596946074089841, \"Concavity\": 1.2230421241982068, \"Concave_Points\": 1.5818647924618088, \"Symmetry\": 0.9862792590174424, \"Fractal_Dimension\": -0.7999036318303253}, {\"ID\": 89864002, \"Class\": \"Benign\", \"Radius\": -0.685941614064654, \"Texture\": -0.8927264763918911, \"Perimeter\": -0.6971087950107568, \"Area\": -0.6666089373456057, \"Smoothness\": 1.325337669172022, \"Compactness\": -0.5970334710235988, \"Concavity\": -0.6113827492463272, \"Concave_Points\": -0.4231428373240515, \"Symmetry\": 0.7199946933008043, \"Fractal_Dimension\": 0.320435397419996}, {\"ID\": 898677, \"Class\": \"Benign\", \"Radius\": -1.097400158343274, \"Texture\": -1.064778056496601, \"Perimeter\": -1.0604985184694018, \"Area\": -0.9470750846683026, \"Smoothness\": 0.1748930883480895, \"Compactness\": -0.2414375745926952, \"Concavity\": -0.6646944677374327, \"Concave_Points\": -0.7357487826878367, \"Symmetry\": -0.6515532068287273, \"Fractal_Dimension\": 1.0271979455817015}, {\"ID\": 898678, \"Class\": \"Benign\", \"Radius\": -0.5866240344111942, \"Texture\": -0.0905941096874987, \"Perimeter\": -0.6300277928320944, \"Area\": -0.5955688797664018, \"Smoothness\": -0.8888059802011089, \"Compactness\": -0.8785942260783134, \"Concavity\": -1.0196877932193824, \"Concave_Points\": -1.041963444090351, \"Symmetry\": -0.9360764414300664, \"Fractal_Dimension\": -0.3282564804518729}, {\"ID\": 89869, \"Class\": \"Benign\", \"Radius\": 0.179540151486925, \"Texture\": -1.057802992438302, \"Perimeter\": 0.1193863480718611, \"Area\": 0.0392450747613641, \"Smoothness\": -0.541112902313036, \"Compactness\": -0.5025487253798178, \"Concavity\": -0.5358682679953966, \"Concave_Points\": -0.3514986058227058, \"Symmetry\": -1.0600993898460342, \"Fractal_Dimension\": -0.5208811428767048}, {\"ID\": 898690, \"Class\": \"Benign\", \"Radius\": -0.754045097255598, \"Texture\": -0.7578752379314421, \"Perimeter\": -0.7798283130347522, \"Area\": -0.7166211378813653, \"Smoothness\": -0.398196115696465, \"Compactness\": -0.8611741928133276, \"Concavity\": -0.7893811693378066, \"Concave_Points\": -0.6623005597458097, \"Symmetry\": -0.6479054730517875, \"Fractal_Dimension\": 0.1306434506190557}, {\"ID\": 899147, \"Class\": \"Benign\", \"Radius\": -0.6178381308737105, \"Texture\": -1.006652522677442, \"Perimeter\": -0.6065700190640955, \"Area\": -0.6484226826053295, \"Smoothness\": 1.3822199723029949, \"Compactness\": 0.3078615178173431, \"Concavity\": -0.9670032714164076, \"Concave_Points\": -0.8001770484264569, \"Symmetry\": 2.3614748929239147, \"Fractal_Dimension\": 0.4266622333160442}, {\"ID\": 899187, \"Class\": \"Benign\", \"Radius\": -0.7001298397294342, \"Texture\": -0.5160730172437413, \"Perimeter\": -0.7518436004694202, \"Area\": -0.664619815733388, \"Smoothness\": -1.4754047312392704, \"Compactness\": -1.288343704180803, \"Concavity\": -1.0097028219443422, \"Concave_Points\": -0.9612477127730074, \"Symmetry\": -0.5129393233049981, \"Fractal_Dimension\": -0.7772419068391684}, {\"ID\": 899667, \"Class\": \"Malignant\", \"Radius\": 0.4604670196495689, \"Texture\": -0.0161934263989752, \"Perimeter\": 0.6226996343571639, \"Area\": 0.2947051218161812, \"Smoothness\": 1.9865944430695843, \"Compactness\": 2.500513530953586, \"Concavity\": 2.54140956264884, \"Concave_Points\": 1.9400859499685368, \"Symmetry\": 2.0550652556609337, \"Fractal_Dimension\": 1.8741799171261917}, {\"ID\": 899987, \"Class\": \"Malignant\", \"Radius\": 3.2924368623396547, \"Texture\": -0.4253971844858533, \"Perimeter\": 3.384132300730332, \"Area\": 3.8506862440008103, \"Smoothness\": 1.3182273812806502, \"Compactness\": 2.498620049076958, \"Concavity\": 3.1109041554714727, \"Concave_Points\": 3.669340602393103, \"Symmetry\": 0.5266648031229715, \"Fractal_Dimension\": -0.2248623601797183}, {\"ID\": 9010018, \"Class\": \"Malignant\", \"Radius\": 0.270344795741517, \"Texture\": 1.499720495604688, \"Perimeter\": 0.2481983338505199, \"Area\": 0.1753578250831187, \"Smoothness\": 0.4294413948591945, \"Compactness\": -0.1259351801183333, \"Concavity\": 0.4352830839061066, \"Concave_Points\": 0.4280834096145982, \"Symmetry\": -0.6004849339515634, \"Fractal_Dimension\": 0.2609483693182086}, {\"ID\": 901011, \"Class\": \"Benign\", \"Radius\": -0.847687386643146, \"Texture\": -1.213579423073648, \"Perimeter\": -0.8530824135734145, \"Area\": -0.7680541395687088, \"Smoothness\": -1.6794699937216364, \"Compactness\": -0.8274702154093335, \"Concavity\": -0.548788519770888, \"Concave_Points\": -0.8816143763200728, \"Symmetry\": -0.443632381543134, \"Fractal_Dimension\": -0.2786839570337167}, {\"ID\": 9010258, \"Class\": \"Benign\", \"Radius\": -0.4447417777633943, \"Texture\": -0.0510687466904702, \"Perimeter\": -0.4135578103414404, \"Area\": -0.4804839864880915, \"Smoothness\": -0.6228812130638098, \"Compactness\": -0.0102434374563086, \"Concavity\": 0.1781324417725389, \"Concave_Points\": -0.1290922324929888, \"Symmetry\": -1.016326584522752, \"Fractal_Dimension\": -0.1356318180270381}, {\"ID\": 9010259, \"Class\": \"Benign\", \"Radius\": -0.3056971662485503, \"Texture\": -0.1626697716232554, \"Perimeter\": -0.2830996650001148, \"Area\": -0.4060340061450859, \"Smoothness\": 0.8418380925587501, \"Compactness\": 0.4934227417269732, \"Concavity\": 0.0907012234471257, \"Concave_Points\": 0.1832559998078416, \"Symmetry\": 0.8148357715012504, \"Fractal_Dimension\": 0.3133536083602583}, {\"ID\": 901028, \"Class\": \"Benign\", \"Radius\": -0.0730102653461589, \"Texture\": -0.7160248535816477, \"Perimeter\": -0.1419414825014569, \"Area\": -0.1738750979762474, \"Smoothness\": -0.6349687024791418, \"Compactness\": -0.9357773787525054, \"Concavity\": -0.9254828506621582, \"Concave_Points\": -0.722605416477158, \"Symmetry\": -1.4139295662092386, \"Fractal_Dimension\": -0.5619555194231786}, {\"ID\": 9010333, \"Class\": \"Benign\", \"Radius\": -1.4895627157177929, \"Texture\": -0.8834263909808254, \"Perimeter\": -1.4498152550400452, \"Area\": -1.176108230303656, \"Smoothness\": -0.9549316575908664, \"Compactness\": -0.5180752767681747, \"Concavity\": -0.5216936228436438, \"Concave_Points\": -0.6470954890314954, \"Symmetry\": 0.4318237249225254, \"Fractal_Dimension\": 0.4833165457939361}, {\"ID\": 901034301, \"Class\": \"Benign\", \"Radius\": -1.331222117298848, \"Texture\": -0.2254453481479469, \"Perimeter\": -1.3230609687147197, \"Area\": -1.0692639837045332, \"Smoothness\": 0.3227870764886197, \"Compactness\": -0.8479198196769254, \"Concavity\": -0.7739521308097925, \"Concave_Points\": -0.898365725412114, \"Symmetry\": -1.114815396500138, \"Fractal_Dimension\": 0.9620454862321252}, {\"ID\": 901034302, \"Class\": \"Benign\", \"Radius\": -0.4504170680293067, \"Texture\": -0.2835708819671058, \"Perimeter\": -0.516442783008101, \"Area\": -0.4631502124387658, \"Smoothness\": -1.564283329881416, \"Compactness\": -1.4739049280904335, \"Concavity\": -1.0989152788640464, \"Concave_Points\": -1.1202824439222174, \"Symmetry\": -1.0345652534074534, \"Fractal_Dimension\": -1.5505732721623982}, {\"ID\": 901041, \"Class\": \"Benign\", \"Radius\": -0.2347560379246503, \"Texture\": 0.5301865915011185, \"Perimeter\": -0.2769265666401156, \"Area\": -0.3091353676070517, \"Smoothness\": -0.7494443375302244, \"Compactness\": -0.7689616254215013, \"Concavity\": -0.6944235907548257, \"Concave_Points\": -0.6360138273244526, \"Symmetry\": 0.0123343405743969, \"Fractal_Dimension\": -0.8268144302573236}, {\"ID\": 9010598, \"Class\": \"Benign\", \"Radius\": -0.3879888751042745, \"Texture\": -0.1045442378040965, \"Perimeter\": -0.4156155097947736, \"Area\": -0.4497946816138754, \"Smoothness\": 0.0284211577858331, \"Compactness\": -0.4699808371018008, \"Concavity\": -0.7767117962375674, \"Concave_Points\": -0.8017233268041838, \"Symmetry\": -0.1919387509342565, \"Fractal_Dimension\": -0.1370481758389858}, {\"ID\": 9010872, \"Class\": \"Benign\", \"Radius\": 0.6732904046212687, \"Texture\": -0.2324204122062462, \"Perimeter\": 0.6021226398238319, \"Area\": 0.5206125049180496, \"Smoothness\": 0.035531445677205, \"Compactness\": -0.3722771722677508, \"Concavity\": -0.3785673386122287, \"Concave_Points\": -0.0146676325411995, \"Symmetry\": -1.1549404680464814, \"Fractal_Dimension\": -0.9726992848878976}, {\"ID\": 9010877, \"Class\": \"Benign\", \"Radius\": -0.2063795865950905, \"Texture\": -0.5439732734769378, \"Perimeter\": -0.2670496092641158, \"Area\": -0.2912332730970924, \"Smoothness\": -1.2080579065236954, \"Compactness\": -0.8971503484692763, \"Concavity\": -0.8403095404140156, \"Concave_Points\": -0.8810989501941638, \"Symmetry\": -0.5895417326207429, \"Fractal_Dimension\": -0.8197326411975868}, {\"ID\": 901088, \"Class\": \"Malignant\", \"Radius\": 1.7913225870059322, \"Texture\": 0.5790120399092121, \"Perimeter\": 1.721511142437099, \"Area\": 1.8132573926292432, \"Smoothness\": -0.3455799853003155, \"Compactness\": 0.1658503770701773, \"Concavity\": 0.1152873336218473, \"Concave_Points\": 0.7455859031745189, \"Symmetry\": -0.7062692134828311, \"Fractal_Dimension\": -1.0236881661179995}, {\"ID\": 9011494, \"Class\": \"Malignant\", \"Radius\": 1.7232191038149878, \"Texture\": 1.753147823056221, \"Perimeter\": 1.7173957435304317, \"Area\": 1.6456028567423222, \"Smoothness\": 0.1912467504982439, \"Compactness\": 1.1845436266965148, \"Concavity\": 0.9445667946681968, \"Concave_Points\": 1.999359954448068, \"Symmetry\": 0.2311983671908118, \"Fractal_Dimension\": -0.3679144991863969}, {\"ID\": 9011495, \"Class\": \"Benign\", \"Radius\": -0.5440593574168541, \"Texture\": -0.2951959887309377, \"Perimeter\": -0.5621237108720982, \"Area\": -0.5583438895948991, \"Smoothness\": -0.2879866533802048, \"Compactness\": -0.617104378915865, \"Concavity\": -0.5629631649226408, \"Concave_Points\": -0.7383259133173815, \"Symmetry\": -0.4253937126584318, \"Fractal_Dimension\": -0.5152157116289158}, {\"ID\": 9011971, \"Class\": \"Malignant\", \"Radius\": 2.151703518891344, \"Texture\": -0.4742226328939469, \"Perimeter\": 2.0137044648104148, \"Area\": 2.5321827753307864, \"Smoothness\": -0.1791992486422193, \"Compactness\": -0.3544784426274391, \"Concavity\": 0.3512387276965991, \"Concave_Points\": 0.9208307859835658, \"Symmetry\": -0.3451435695657471, \"Fractal_Dimension\": -1.7361161455274965}, {\"ID\": 9012000, \"Class\": \"Malignant\", \"Radius\": 2.236832872880024, \"Texture\": 0.6069122961424078, \"Perimeter\": 2.2729745959303984, \"Area\": 2.350320227928025, \"Smoothness\": 0.7067426226226888, \"Compactness\": 1.7241859615357458, \"Concavity\": 1.956862249311071, \"Concave_Points\": 2.6075627830206427, \"Symmetry\": 0.0451639445668595, \"Fractal_Dimension\": -0.197951561752719}, {\"ID\": 9012315, \"Class\": \"Malignant\", \"Radius\": 0.6307257276269291, \"Texture\": 0.9300902641769312, \"Perimeter\": 0.7008922135838261, \"Area\": 0.5271481902153362, \"Smoothness\": 0.0753490578688866, \"Compactness\": 0.8588647439163475, \"Concavity\": 1.1578136686326193, \"Concave_Points\": 1.0002064093735454, \"Symmetry\": 1.325518500272885, \"Fractal_Dimension\": -0.0874756524208306}, {\"ID\": 9012568, \"Class\": \"Benign\", \"Radius\": 0.3015588922040328, \"Texture\": -1.4135312594115543, \"Perimeter\": 0.2337944376771876, \"Area\": 0.1617181340279114, \"Smoothness\": -1.1895711580061303, \"Compactness\": -0.662737292142621, \"Concavity\": -0.6882770632111452, \"Concave_Points\": -0.5759666836560586, \"Symmetry\": -0.3305526344579858, \"Fractal_Dimension\": -1.0421008176733153}, {\"ID\": 9012795, \"Class\": \"Malignant\", \"Radius\": 2.05522358437084, \"Texture\": -0.9741022237387136, \"Perimeter\": 2.0301660604370806, \"Area\": 2.077526406823882, \"Smoothness\": 0.2659047733576459, \"Compactness\": 0.8929474176956672, \"Concavity\": 1.309595267160237, \"Concave_Points\": 1.97358864815262, \"Symmetry\": 0.5886762773309558, \"Fractal_Dimension\": -0.1370481758389858}, {\"ID\": 901288, \"Class\": \"Malignant\", \"Radius\": 1.848075489665052, \"Texture\": -0.4509724193662831, \"Perimeter\": 1.7626651315037631, \"Area\": 1.932604689362306, \"Smoothness\": -0.1351154637157144, \"Compactness\": 0.0617088738555887, \"Concavity\": 0.8015659497744081, \"Concave_Points\": 1.043502203949899, \"Symmetry\": -0.8777127009990229, \"Fractal_Dimension\": -1.1355804332618378}, {\"ID\": 9013005, \"Class\": \"Benign\", \"Radius\": -0.1240878777393668, \"Texture\": -0.7485751525203768, \"Perimeter\": -0.1699261950667883, \"Area\": -0.2153624916025026, \"Smoothness\": -0.9485323984886304, \"Compactness\": -0.7687722772338385, \"Concavity\": -0.7932697888042166, \"Concave_Points\": -0.7372950610655636, \"Symmetry\": 0.2202551658599912, \"Fractal_Dimension\": -0.8650560911799018}, {\"ID\": 901303, \"Class\": \"Benign\", \"Radius\": 0.5796481152337213, \"Texture\": -0.7485751525203768, \"Perimeter\": 0.5897764431038327, \"Area\": 0.379669030680909, \"Smoothness\": 0.1734710307698148, \"Compactness\": 0.7471493131952437, \"Concavity\": -0.2795957012252117, \"Concave_Points\": 0.1301671088392188, \"Symmetry\": 0.6506877515389393, \"Fractal_Dimension\": 0.4139150130085174}, {\"ID\": 901315, \"Class\": \"Benign\", \"Radius\": -1.009433159221638, \"Texture\": 0.2163087088776602, \"Perimeter\": -0.897940261656078, \"Area\": -0.8996203262053944, \"Smoothness\": -0.4003292020638777, \"Compactness\": 1.1675022898068552, \"Concavity\": 1.7461241620991717, \"Concave_Points\": 0.2703630150864564, \"Symmetry\": 1.3729390393731082, \"Fractal_Dimension\": 3.073834983845562}, {\"ID\": 9013579, \"Class\": \"Benign\", \"Radius\": -0.1893537157973543, \"Texture\": 2.0740007697379785, \"Perimeter\": -0.2501764737467836, \"Area\": -0.2636697307563612, \"Smoothness\": -1.506689997961305, \"Compactness\": -1.0808180905022775, \"Concavity\": -0.9544593376537944, \"Concave_Points\": -0.972844800605959, \"Symmetry\": -1.424872767540059, \"Fractal_Dimension\": -0.7319184568568554}, {\"ID\": 9013594, \"Class\": \"Benign\", \"Radius\": -0.1326008131382346, \"Texture\": -0.9624771169748816, \"Perimeter\": -0.152229979768123, \"Area\": -0.2111000881477503, \"Smoothness\": -0.9727073773192954, \"Compactness\": -0.5464775049176078, \"Concavity\": -0.5809009902031775, \"Concave_Points\": -0.6239013133655921, \"Symmetry\": -0.0715635362952285, \"Fractal_Dimension\": -0.5421265100559151}, {\"ID\": 9013838, \"Class\": \"Malignant\", \"Radius\": -0.8647132574408821, \"Texture\": -0.1068692591568632, \"Perimeter\": -0.7683051960960862, \"Area\": -0.8334109925415764, \"Smoothness\": 1.7946166700025503, \"Compactness\": 2.102882336861522, \"Concavity\": 1.0047776767287395, \"Concave_Points\": 0.3801487799050652, \"Symmetry\": 1.40212090958863, \"Fractal_Dimension\": 2.365656077871908}, {\"ID\": 901549, \"Class\": \"Benign\", \"Radius\": -0.8107979999147182, \"Texture\": -1.4716567932307132, \"Perimeter\": -0.7740667545654192, \"Area\": -0.763223415653323, \"Smoothness\": 1.9439327157213555, \"Compactness\": 0.1279807395375996, \"Concavity\": -0.1229219685301745, \"Concave_Points\": 0.1695972074712542, \"Symmetry\": 0.752824297293267, \"Fractal_Dimension\": 0.8983093846944956}, {\"ID\": 901836, \"Class\": \"Benign\", \"Radius\": -0.8760638379727064, \"Texture\": -1.0136275867357414, \"Perimeter\": -0.8765401873414128, \"Area\": -0.80186920697641, \"Smoothness\": -1.1725064670668373, \"Compactness\": -0.6352818049315023, \"Concavity\": -0.6690848445543472, \"Concave_Points\": -0.7262133993585208, \"Symmetry\": 0.6981082906391634, \"Fractal_Dimension\": -0.0478176336863046}, {\"ID\": 90250, \"Class\": \"Benign\", \"Radius\": -0.5894616795441501, \"Texture\": 0.797564047069249, \"Perimeter\": -0.5440159556827661, \"Area\": -0.5884648740084814, \"Smoothness\": -1.920508753239136, \"Compactness\": 0.0560284282257022, \"Concavity\": -0.1175280770122509, \"Concave_Points\": -0.4932407904476703, \"Symmetry\": -2.2200787309130323, \"Fractal_Dimension\": 0.5371381426479326}, {\"ID\": 90251, \"Class\": \"Benign\", \"Radius\": -0.4929817450236462, \"Texture\": -0.4207471417803207, \"Perimeter\": -0.4662349163467707, \"Area\": -0.5455566792306423, \"Smoothness\": 0.5574265769038839, \"Compactness\": 0.4801683685905715, \"Concavity\": -0.3748041584834448, \"Concave_Points\": -0.5184966706172094, \"Symmetry\": -0.1189840753954515, \"Fractal_Dimension\": 0.4365767379996734}, {\"ID\": 902727, \"Class\": \"Benign\", \"Radius\": -0.2404313281905628, \"Texture\": -1.2949551704204705, \"Perimeter\": -0.2542918726534498, \"Area\": -0.321354257510675, \"Smoothness\": -0.9051596423512644, \"Compactness\": -0.3520169161878215, \"Concavity\": -0.4770372186487414, \"Concave_Points\": -0.5226200796244811, \"Symmetry\": -0.709916947259771, \"Fractal_Dimension\": -0.97128292707595}, {\"ID\": 90291, \"Class\": \"Malignant\", \"Radius\": 0.134137829359629, \"Texture\": 0.9300902641769312, \"Perimeter\": 0.0823477579118631, \"Area\": 0.0278786655486915, \"Smoothness\": -0.6783414586165079, \"Compactness\": -0.7191630520661616, \"Concavity\": -0.0614566930933705, \"Concave_Points\": 0.0976952629069541, \"Symmetry\": -0.6734396094903684, \"Fractal_Dimension\": -1.2233946176025703}, {\"ID\": 902975, \"Class\": \"Benign\", \"Radius\": -0.5440593574168541, \"Texture\": -1.2089293803681151, \"Perimeter\": -0.5427813360107661, \"Area\": -0.5481141213034937, \"Smoothness\": -1.086471983581241, \"Compactness\": -0.4944067533103136, \"Concavity\": -0.2560131057514992, \"Concave_Points\": -0.6076653903994597, \"Symmetry\": -0.6041326677285044, \"Fractal_Dimension\": -0.1781225523854575}, {\"ID\": 902976, \"Class\": \"Benign\", \"Radius\": -0.0701726202132025, \"Texture\": -0.7276499603454797, \"Perimeter\": -0.1481145808614562, \"Area\": -0.1656344512970599, \"Smoothness\": -1.855805133427653, \"Compactness\": -1.0609365307976744, \"Concavity\": -0.8573692903311694, \"Concave_Points\": -1.0414737892707373, \"Symmetry\": -0.7463942850291734, \"Fractal_Dimension\": -1.1412458645096268}, {\"ID\": 903011, \"Class\": \"Benign\", \"Radius\": -0.8107979999147182, \"Texture\": -0.8811013696280591, \"Perimeter\": -0.765012876970753, \"Area\": -0.7470262825252645, \"Smoothness\": -0.9037375847729896, \"Compactness\": 0.1336611851674861, \"Concavity\": 0.1492813941185288, \"Concave_Points\": -0.5501953773606106, \"Symmetry\": -0.0059043283103032, \"Fractal_Dimension\": 1.3770383251326868}, {\"ID\": 90312, \"Class\": \"Malignant\", \"Radius\": 1.5387721701728485, \"Texture\": 0.9114900933548008, \"Perimeter\": 1.5198565960104442, \"Area\": 1.4751067185522329, \"Smoothness\": 0.3298973643799906, \"Compactness\": 0.5199314879997778, \"Concavity\": 1.2142613705643777, \"Concave_Points\": 1.3705400808391346, \"Symmetry\": 0.6470400177619995, \"Fractal_Dimension\": -0.5605391616112307}, {\"ID\": 90317302, \"Class\": \"Benign\", \"Radius\": -1.097400158343274, \"Texture\": -1.6437083733354234, \"Perimeter\": -1.0790178135494009, \"Area\": -0.9470750846683026, \"Smoothness\": 0.2559503703097265, \"Compactness\": -0.547613594043585, \"Concavity\": -0.8726728895215573, \"Concave_Points\": -0.7535309840316958, \"Symmetry\": -0.0423816660797067, \"Fractal_Dimension\": 0.4096659395726752}, {\"ID\": 903483, \"Class\": \"Benign\", \"Radius\": -1.5304248056323593, \"Texture\": -0.5695485083573676, \"Perimeter\": -1.5103116189680414, \"Area\": -1.1951469657348823, \"Smoothness\": 0.5360957132297693, \"Compactness\": -0.5691992874371543, \"Concavity\": -1.1138927357766064, \"Concave_Points\": -1.260710291926114, \"Symmetry\": 0.632449082654239, \"Fractal_Dimension\": 1.1589192220928013}, {\"ID\": 903507, \"Class\": \"Malignant\", \"Radius\": 0.3866882461927129, \"Texture\": 0.1581831750585013, \"Perimeter\": 0.4292758857438426, \"Area\": 0.255206849802144, \"Smoothness\": 1.3964405480857376, \"Compactness\": 0.9819410658972249, \"Concavity\": 1.258165138733523, \"Concave_Points\": 1.087828850778069, \"Symmetry\": 0.4281759911455846, \"Fractal_Dimension\": 0.6575285566634542}, {\"ID\": 903516, \"Class\": \"Malignant\", \"Radius\": 2.1233270675617835, \"Texture\": 0.69526310754753, \"Perimeter\": 2.1577434265437394, \"Area\": 2.137200055190413, \"Smoothness\": 1.4462125633253395, \"Compactness\": 1.976019051127387, \"Concavity\": 2.410952651517664, \"Concave_Points\": 2.764767751422876, \"Symmetry\": 1.2780979611726622, \"Fractal_Dimension\": 0.4620711786147269}, {\"ID\": 903554, \"Class\": \"Benign\", \"Radius\": -0.5752734538793705, \"Texture\": -0.3649466293139285, \"Perimeter\": -0.572000668248098, \"Area\": -0.5930114376935505, \"Smoothness\": 0.4649928343160528, \"Compactness\": -0.1280180101826251, \"Concavity\": -0.5139163839108237, \"Concave_Points\": -0.4035566445395108, \"Symmetry\": 0.4573578613611073, \"Fractal_Dimension\": -0.1682080477018253}, {\"ID\": 903811, \"Class\": \"Benign\", \"Radius\": -0.0190950078199946, \"Texture\": -0.4904977823633115, \"Perimeter\": -0.0913220759494598, \"Area\": -0.1301144225074579, \"Smoothness\": -1.1312667972968828, \"Compactness\": -0.9605819913363438, \"Concavity\": -0.7775898716009503, \"Concave_Points\": -0.4228851242610969, \"Symmetry\": -0.6223713366132055, \"Fractal_Dimension\": -0.7305020990449076}, {\"ID\": 90401601, \"Class\": \"Benign\", \"Radius\": -0.1751654901325747, \"Texture\": -0.0929191310402646, \"Perimeter\": -0.159226157909456, \"Area\": -0.2750361399690338, \"Smoothness\": 0.6783014710572014, \"Compactness\": 0.1961460870962391, \"Concavity\": -0.0376232189444057, \"Concave_Points\": 0.1260436998319471, \"Symmetry\": -0.0204952634180646, \"Fractal_Dimension\": -0.2843493882815057}, {\"ID\": 90401602, \"Class\": \"Benign\", \"Radius\": -0.3766382945724503, \"Texture\": -0.4253971844858533, \"Perimeter\": -0.3670538026961101, \"Area\": -0.416547934666808, \"Smoothness\": -1.1319778260860198, \"Compactness\": -0.2914254961356974, \"Concavity\": -0.1868960307195012, \"Concave_Points\": -0.208467855882969, \"Symmetry\": -0.8667694996682014, \"Fractal_Dimension\": -0.7503311084121691}, {\"ID\": 904302, \"Class\": \"Benign\", \"Radius\": -0.870388547706794, \"Texture\": -1.036877800263405, \"Perimeter\": -0.8913556234054119, \"Area\": -0.7862403943089851, \"Smoothness\": -1.34741954919458, \"Compactness\": -1.0728654666204365, \"Concavity\": -0.7737012521345402, \"Concave_Points\": -1.0739714065092971, \"Symmetry\": -1.0090311169688717, \"Fractal_Dimension\": -0.0931410836686186}, {\"ID\": 904357, \"Class\": \"Benign\", \"Radius\": -0.6604028078680501, \"Texture\": -0.4718976115411802, \"Perimeter\": -0.6876433775254239, \"Area\": -0.6336463506288552, \"Smoothness\": -0.3903747990159563, \"Compactness\": -0.7956597198819683, \"Concavity\": -0.7560143055292559, \"Concave_Points\": -0.8385762948066744, \"Symmetry\": 0.129061821436485, \"Fractal_Dimension\": -0.3693308569983436}, {\"ID\": 90439701, \"Class\": \"Malignant\", \"Radius\": 1.0733983683680643, \"Texture\": 0.4023104170989688, \"Perimeter\": 1.3346636452104552, \"Area\": 0.9636183039819648, \"Smoothness\": 1.8941607004817544, \"Compactness\": 2.9019316887989093, \"Concavity\": 2.886367741120699, \"Concave_Points\": 1.8266922022685657, \"Symmetry\": 1.0993590061025895, \"Fractal_Dimension\": 1.1829973048959062}, {\"ID\": 904647, \"Class\": \"Benign\", \"Radius\": -0.6235134211396224, \"Texture\": -1.948286170547816, \"Perimeter\": -0.6514278671467596, \"Area\": -0.602957045754639, \"Smoothness\": -0.5432459886804466, \"Compactness\": -0.9831144256682276, \"Concavity\": -0.7869978219229101, \"Concave_Points\": -0.7978576308598665, \"Symmetry\": -0.7682806876908155, \"Fractal_Dimension\": -1.0463498911091569}, {\"ID\": 904689, \"Class\": \"Benign\", \"Radius\": -0.3312359724451543, \"Texture\": -0.2324204122062462, \"Perimeter\": -0.3205497950507792, \"Area\": -0.3685248557432661, \"Smoothness\": -1.6247207769580745, \"Compactness\": -0.4800162910479339, \"Concavity\": -0.6049853430273945, \"Concave_Points\": -0.7754365943828267, \"Symmetry\": 0.2275506334138719, \"Fractal_Dimension\": -0.5392937944320205}, {\"ID\": 9047, \"Class\": \"Benign\", \"Radius\": -0.3369112627110666, \"Texture\": -0.7253249389927129, \"Perimeter\": -0.3617037841174433, \"Area\": -0.4185370562790257, \"Smoothness\": 0.1727600019806779, \"Compactness\": -0.3025970392078077, \"Concavity\": -0.7004446789608799, \"Concave_Points\": -0.6447760714649049, \"Symmetry\": -0.2794843615808229, \"Fractal_Dimension\": -0.1129700930358811}, {\"ID\": 904969, \"Class\": \"Benign\", \"Radius\": -0.5071699706884264, \"Texture\": -1.008977544030209, \"Perimeter\": -0.5629467906534313, \"Area\": -0.5279387449509997, \"Smoothness\": -0.6783414586165079, \"Compactness\": -1.1101670595900257, \"Concavity\": -0.8493411727230971, \"Concave_Points\": -0.7313676606176105, \"Symmetry\": -0.8777127009990229, \"Fractal_Dimension\": -0.8098181365139566}, {\"ID\": 904971, \"Class\": \"Benign\", \"Radius\": -0.9044402893022664, \"Texture\": -0.1626697716232554, \"Perimeter\": -0.8880633042800788, \"Area\": -0.8095415331949639, \"Smoothness\": 0.2872356370317614, \"Compactness\": -0.5631401454319418, \"Concavity\": -0.4937206505530167, \"Concave_Points\": -0.5050955913435764, \"Symmetry\": -1.187770072038943, \"Fractal_Dimension\": 0.4748183989222516}, {\"ID\": 905189, \"Class\": \"Benign\", \"Radius\": 0.571135179834853, \"Texture\": -1.029902736205106, \"Perimeter\": 0.5074684649705042, \"Area\": 0.4123474571673428, \"Smoothness\": -0.100275053047993, \"Compactness\": -0.3660286820748753, \"Concavity\": -0.4239763788328881, \"Concave_Points\": -0.093785542868225, \"Symmetry\": -0.2794843615808229, \"Fractal_Dimension\": -0.5732863819187565}, {\"ID\": 905190, \"Class\": \"Benign\", \"Radius\": -0.3624500689076706, \"Texture\": 0.4836861644457916, \"Perimeter\": -0.3843384781041091, \"Area\": -0.3989300003871655, \"Smoothness\": -1.482515019130641, \"Compactness\": -0.4010580967925097, \"Concavity\": -0.3454513534789303, \"Concave_Points\": -0.7795600033900985, \"Symmetry\": -0.8448830970065603, \"Fractal_Dimension\": -0.2347768648633495}, {\"ID\": 90524101, \"Class\": \"Malignant\", \"Radius\": 1.096099529431712, \"Texture\": 0.3186096483993801, \"Perimeter\": 1.063047317370471, \"Area\": 0.9570826186846784, \"Smoothness\": 0.5147648495556538, \"Compactness\": 0.4934227417269732, \"Concavity\": 0.3926337091132222, \"Concave_Points\": 1.0133497755842242, \"Symmetry\": 0.65798321909282, \"Fractal_Dimension\": -0.2985129664009782}, {\"ID\": 905501, \"Class\": \"Benign\", \"Radius\": -0.5270334866191185, \"Texture\": -0.3184462022586007, \"Perimeter\": -0.5580083119654321, \"Area\": -0.5364635518605041, \"Smoothness\": -0.6762083722490972, \"Compactness\": -0.7399913527090793, \"Concavity\": -0.7111070226591011, \"Concave_Points\": -0.5769975359078765, \"Symmetry\": 0.5631421408923739, \"Fractal_Dimension\": -0.9670338536401069}, {\"ID\": 905502, \"Class\": \"Benign\", \"Radius\": -0.7852591937181144, \"Texture\": -0.3998219496054235, \"Perimeter\": -0.8016399272400843, \"Area\": -0.7248617845605528, \"Smoothness\": -0.553200391728368, \"Compactness\": -0.9696707043441626, \"Concavity\": -0.764795059163085, \"Concave_Points\": -0.7195128597217043, \"Symmetry\": -0.7682806876908155, \"Fractal_Dimension\": -0.519464785064759}, {\"ID\": 905520, \"Class\": \"Benign\", \"Radius\": -0.8760638379727064, \"Texture\": -0.5718735297101343, \"Perimeter\": -0.8662516900747468, \"Area\": -0.8004484058248258, \"Smoothness\": 0.8062866531018917, \"Compactness\": -0.4980043688759084, \"Concavity\": -0.7318045133674126, \"Concave_Points\": -0.6215818957990017, \"Symmetry\": -0.3560867708965677, \"Fractal_Dimension\": 0.0853200006367417}, {\"ID\": 905539, \"Class\": \"Benign\", \"Radius\": -1.3422889333173764, \"Texture\": 0.5557618263815483, \"Perimeter\": -1.325941747949386, \"Area\": -1.0971116862755812, \"Smoothness\": -1.1853049852713071, \"Compactness\": -0.8295530454736254, \"Concavity\": -0.6453768097430086, \"Concave_Points\": -1.1285550332430565, \"Symmetry\": -1.9610896327502747, \"Fractal_Dimension\": 0.6292014004245073}, {\"ID\": 905557, \"Class\": \"Benign\", \"Radius\": 0.2448059895449131, \"Texture\": 0.6557377445505015, \"Perimeter\": 0.2288559589891877, \"Area\": 0.110285132340568, \"Smoothness\": -0.7970832664024148, \"Compactness\": -0.0348587018524842, \"Concavity\": -0.2535043189989766, \"Concave_Points\": -0.2618144599145465, \"Symmetry\": 0.4828919977996883, \"Fractal_Dimension\": -0.519464785064759}, {\"ID\": 905680, \"Class\": \"Malignant\", \"Radius\": 0.2845330214062972, \"Texture\": 2.446004186180595, \"Perimeter\": 0.1951096879545228, \"Area\": 0.1835984717623063, \"Smoothness\": -0.9357338802841624, \"Compactness\": -1.1037292212094871, \"Concavity\": -0.5260839996605584, \"Concave_Points\": -0.5548342124937913, \"Symmetry\": 0.1473004903211863, \"Fractal_Dimension\": -1.3961902706601417}, {\"ID\": 905686, \"Class\": \"Benign\", \"Radius\": -0.6348640016714462, \"Texture\": 0.4371857373904646, \"Perimeter\": -0.6411393698800936, \"Area\": -0.6282473062528355, \"Smoothness\": 0.097390950332138, \"Compactness\": -0.4381703415744358, \"Concavity\": -0.7933952281418427, \"Concave_Points\": -0.6991535277483004, \"Symmetry\": 0.7564720310702069, \"Fractal_Dimension\": 0.0145021100393762}, {\"ID\": 905978, \"Class\": \"Benign\", \"Radius\": -1.340018817211012, \"Texture\": 0.5604118690870808, \"Perimeter\": -1.3321148463093857, \"Area\": -1.0902918407479776, \"Smoothness\": 0.5716471526866276, \"Compactness\": -0.8094821375813592, \"Concavity\": -0.8571184116559171, \"Concave_Points\": -0.9367649717923318, \"Symmetry\": 0.778358433731849, \"Fractal_Dimension\": 0.4549893895549892}, {\"ID\": 90602302, \"Class\": \"Malignant\", \"Radius\": 0.3895258913256689, \"Texture\": 0.4162605452155666, \"Perimeter\": 0.4498528802771747, \"Area\": 0.4211564243071641, \"Smoothness\": 1.1120290324308717, \"Compactness\": 0.9989824027868844, \"Concavity\": 0.7952939828931016, \"Concave_Points\": 0.9249541949908372, \"Symmetry\": 0.9972224603482628, \"Fractal_Dimension\": 0.8274914940971302}, {\"ID\": 906024, \"Class\": \"Benign\", \"Radius\": -0.4050147459020107, \"Texture\": -1.6553334800992554, \"Perimeter\": -0.4563579589707715, \"Area\": -0.4543412452989445, \"Smoothness\": -0.6051054933353807, \"Compactness\": -0.8785942260783134, \"Concavity\": -0.8178558989789383, \"Concave_Points\": -0.6416835147094512, \"Symmetry\": -0.8339398956757398, \"Fractal_Dimension\": -0.0067432571398329}, {\"ID\": 906290, \"Class\": \"Benign\", \"Radius\": -0.8420120963772341, \"Texture\": 0.4929862498568568, \"Perimeter\": -0.8650170704027468, \"Area\": -0.7802730294723319, \"Smoothness\": 0.3867796675109644, \"Compactness\": -0.8437541595483421, \"Concavity\": -1.0015618089324063, \"Concave_Points\": -0.9834110361870928, \"Symmetry\": -0.7172124148136516, \"Fractal_Dimension\": -0.192286130504931}, {\"ID\": 906539, \"Class\": \"Benign\", \"Radius\": -0.7256686459260382, \"Texture\": -0.0580438107487696, \"Perimeter\": -0.731266605936088, \"Area\": -0.6967299217591881, \"Smoothness\": -0.7750413739391623, \"Compactness\": -0.513530920264265, \"Concavity\": -0.42585796889728, \"Concave_Points\": -0.8926960380271154, \"Symmetry\": 0.8002448363934901, \"Fractal_Dimension\": -0.0180741196354109}, {\"ID\": 906564, \"Class\": \"Benign\", \"Radius\": 0.1596766355562329, \"Texture\": -1.234504615248545, \"Perimeter\": 0.257252211445186, \"Area\": 0.0034408857414453, \"Smoothness\": 0.4792134100987955, \"Compactness\": 1.5007551000935382, \"Concavity\": 0.7049776598022873, \"Concave_Points\": 0.3628820046871148, \"Symmetry\": 1.0008701941252036, \"Fractal_Dimension\": 1.595157428172572}, {\"ID\": 906616, \"Class\": \"Benign\", \"Radius\": -0.7143180653942144, \"Texture\": -0.7602002592842088, \"Perimeter\": -0.6794125797120916, \"Area\": -0.7009923252139404, \"Smoothness\": 0.8844998199069792, \"Compactness\": 0.2359092065054457, \"Concavity\": -0.2236497566439574, \"Concave_Points\": -0.101774647819814, \"Symmetry\": 0.2713234387371541, \"Fractal_Dimension\": 0.0569928443977967}, {\"ID\": 906878, \"Class\": \"Benign\", \"Radius\": -0.1326008131382346, \"Texture\": -0.0371186185738724, \"Perimeter\": -0.1032567327787926, \"Area\": -0.2261605803545417, \"Smoothness\": -0.4117056626900718, \"Compactness\": 0.1961460870962391, \"Concavity\": 0.0974749476789369, \"Concave_Points\": -0.0205950329891526, \"Symmetry\": 0.1327095552134249, \"Fractal_Dimension\": -0.1398808914628793}, {\"ID\": 907145, \"Class\": \"Benign\", \"Radius\": -1.2443901762303944, \"Texture\": -0.0394436399266383, \"Perimeter\": -1.236226051784058, \"Area\": -1.0377221981393667, \"Smoothness\": 0.7920660773191481, \"Compactness\": -0.3978391776022405, \"Concavity\": -1.0018252315414211, \"Concave_Points\": -0.7537886970946504, \"Symmetry\": 2.649645861302195, \"Fractal_Dimension\": 1.0611905330684357}, {\"ID\": 907367, \"Class\": \"Benign\", \"Radius\": -1.162665996401262, \"Texture\": 0.4627609722708944, \"Perimeter\": -1.1843720255600612, \"Area\": -0.9877099976036072, \"Smoothness\": -1.080072724479006, \"Compactness\": -1.2349475152598686, \"Concavity\": -1.082909219382952, \"Concave_Points\": -1.1277561227478974, \"Symmetry\": -0.6624964081595479, \"Fractal_Dimension\": 0.2255394240195258}, {\"ID\": 907409, \"Class\": \"Benign\", \"Radius\": -1.034971965418242, \"Texture\": -1.0020024799719094, \"Perimeter\": -1.0074098725734053, \"Area\": -0.9129758570302848, \"Smoothness\": 0.1279651882650361, \"Compactness\": -0.0575804843720307, \"Concavity\": -0.3192345319150689, \"Concave_Points\": -0.6891027182930756, \"Symmetry\": 0.4135850560378242, \"Fractal_Dimension\": 0.8997257425064443}, {\"ID\": 90745, \"Class\": \"Benign\", \"Radius\": -0.94416732116365, \"Texture\": 0.6255124669645391, \"Perimeter\": -0.9539096867867414, \"Area\": -0.8382417164569623, \"Smoothness\": -0.5937290327091855, \"Compactness\": -0.8882509836491207, \"Concavity\": -0.6605549695957704, \"Concave_Points\": -0.8988811515380231, \"Symmetry\": 0.7455288297393863, \"Fractal_Dimension\": -0.4288178851001301}, {\"ID\": 90769601, \"Class\": \"Benign\", \"Radius\": -0.850525031776102, \"Texture\": -0.6206989781182272, \"Perimeter\": -0.8847709851547457, \"Area\": -0.7779997476297973, \"Smoothness\": -1.055897745648343, \"Compactness\": -1.249716673897574, \"Concavity\": -0.9421662825664336, \"Concave_Points\": -0.9076433956784752, \"Symmetry\": -1.0965767276154368, \"Fractal_Dimension\": -0.186620699257142}, {\"ID\": 90769602, \"Class\": \"Benign\", \"Radius\": -0.3993394556360983, \"Texture\": -0.3765717360777597, \"Perimeter\": -0.4522425600641047, \"Area\": -0.4364391507889851, \"Smoothness\": -1.2372100868783198, \"Compactness\": -1.119445120785507, \"Concavity\": -0.9380267844247712, \"Concave_Points\": -0.7878068214046418, \"Symmetry\": -1.2862588840163298, \"Fractal_Dimension\": -1.0421008176733153}, {\"ID\": 907914, \"Class\": \"Malignant\", \"Radius\": 0.2192671833483091, \"Texture\": 0.7533886413666888, \"Perimeter\": 0.4169296890238429, \"Area\": 0.0855631923030049, \"Smoothness\": 0.2211099596420051, \"Compactness\": 2.2373195501021725, \"Concavity\": 2.314364361545543, \"Concave_Points\": 1.2419412624248487, \"Symmetry\": 0.8367221741628925, \"Fractal_Dimension\": 0.8756476597033396}, {\"ID\": 907915, \"Class\": \"Benign\", \"Radius\": -0.4901440998906903, \"Texture\": -0.3742467147249937, \"Perimeter\": -0.4320771054214395, \"Area\": -0.5316328279451183, \"Smoothness\": 0.6427500316003432, \"Compactness\": 0.51614452424652, \"Concavity\": -0.1428668232127292, \"Concave_Points\": -0.5393714287165224, \"Symmetry\": -0.0022565945333634, \"Fractal_Dimension\": 1.1645846533405904}, {\"ID\": 908194, \"Class\": \"Malignant\", \"Radius\": 1.717543813549076, \"Texture\": 0.0582072568895481, \"Perimeter\": 1.721511142437099, \"Area\": 1.6910684935930127, \"Smoothness\": 1.2044627750187036, \"Compactness\": 0.8437168889033165, \"Concavity\": 1.5617283357887597, \"Concave_Points\": 1.983897170670799, \"Symmetry\": -0.3196094331271652, \"Fractal_Dimension\": -0.3211746913921362}, {\"ID\": 908445, \"Class\": \"Malignant\", \"Radius\": 1.3316240754670603, \"Texture\": 0.6231874456117724, \"Perimeter\": 1.3058558528637902, \"Area\": 1.2932441711494709, \"Smoothness\": 0.3867796675109644, \"Compactness\": 0.6543687012404282, \"Concavity\": 0.8856103059839154, \"Concave_Points\": 0.992732730547866, \"Symmetry\": 0.4792442640227484, \"Fractal_Dimension\": -0.209282424248297}, {\"ID\": 908469, \"Class\": \"Benign\", \"Radius\": 0.2079166028164849, \"Texture\": -0.5462982948297037, \"Perimeter\": 0.1202094278531942, \"Area\": 0.0534530862772049, \"Smoothness\": -0.5062724916453146, \"Compactness\": -0.6362285458698167, \"Concavity\": -0.6941727120795734, \"Concave_Points\": -0.5192698098060728, \"Symmetry\": -0.8704172334451422, \"Fractal_Dimension\": -0.8168999255736933}, {\"ID\": 908489, \"Class\": \"Malignant\", \"Radius\": -0.0417961688836426, \"Texture\": 0.0768074277116794, \"Perimeter\": -0.0349411109281296, \"Area\": -0.1573938046178723, \"Smoothness\": 0.6854117589485733, \"Compactness\": 0.1696373408234349, \"Concavity\": 0.2985542058936243, \"Concave_Points\": 0.404889233948695, \"Symmetry\": -0.5202347908588788, \"Fractal_Dimension\": 0.3742569942739925}, {\"ID\": 908916, \"Class\": \"Benign\", \"Radius\": -0.3567747786417587, \"Texture\": 0.0582072568895481, \"Perimeter\": -0.3826923185414423, \"Area\": -0.4139904925939567, \"Smoothness\": -0.3555343883482359, \"Compactness\": -0.4830458620505402, \"Concavity\": -0.8884782460624497, \"Concave_Points\": -0.7220899903512492, \"Symmetry\": 0.1801300943136479, \"Fractal_Dimension\": 0.0952345053203729}, {\"ID\": 909220, \"Class\": \"Benign\", \"Radius\": -0.024770298085907, \"Texture\": -0.769500344695274, \"Perimeter\": -0.0900874562774598, \"Area\": -0.1241470576708047, \"Smoothness\": -0.8376119073832342, \"Compactness\": -0.8594700591243616, \"Concavity\": -0.6705901166058609, \"Concave_Points\": -0.5020030345881227, \"Symmetry\": -0.3560867708965677, \"Fractal_Dimension\": -0.5407101522439683}, {\"ID\": 909231, \"Class\": \"Benign\", \"Radius\": -0.0786855556120708, \"Texture\": 0.0721573850061468, \"Perimeter\": -0.1353568442507902, \"Area\": -0.1770008605097325, \"Smoothness\": -0.6769194010382341, \"Compactness\": -0.7771035974910054, \"Concavity\": -0.9455531446823392, \"Concave_Points\": -0.6697742385714895, \"Symmetry\": -0.9360764414300664, \"Fractal_Dimension\": -0.8593906599321128}, {\"ID\": 909410, \"Class\": \"Benign\", \"Radius\": -0.0304455883518188, \"Texture\": -0.8439010279837974, \"Perimeter\": -0.0979067142001259, \"Area\": -0.1375025884956952, \"Smoothness\": -1.1874380716387178, \"Compactness\": -0.9189253900505084, \"Concavity\": -0.8521008381508719, \"Concave_Points\": -0.577255248970831, \"Symmetry\": -0.8120534930140977, \"Fractal_Dimension\": -0.982613789571528}, {\"ID\": 909411, \"Class\": \"Benign\", \"Radius\": -0.895927353903398, \"Texture\": -0.4858477396577789, \"Perimeter\": -0.8329169589307487, \"Area\": -0.8052791297402117, \"Smoothness\": -0.5126717507475496, \"Compactness\": 0.1317677032908572, \"Concavity\": 0.0723870801537107, \"Concave_Points\": -0.3295929954715749, \"Symmetry\": -1.1768268707081224, \"Fractal_Dimension\": 0.5102273442209344}, {\"ID\": 909445, \"Class\": \"Malignant\", \"Radius\": 0.8917890798588805, \"Texture\": 1.4253198123161657, \"Perimeter\": 0.8408157764104848, \"Area\": 0.7783458338154011, \"Smoothness\": -0.9279125636036526, \"Compactness\": 0.1241937757843417, \"Concavity\": 0.396396889242006, \"Concave_Points\": 0.2175318371807877, \"Symmetry\": -1.257077013800808, \"Fractal_Dimension\": -1.236141837910095}, {\"ID\": 90944601, \"Class\": \"Benign\", \"Radius\": -0.0985490715427628, \"Texture\": -0.813675750397835, \"Perimeter\": -0.1481145808614562, \"Area\": -0.1960395959409592, \"Smoothness\": -0.5823525720829913, \"Compactness\": -0.7036365006778049, \"Concavity\": -0.9815542345810386, \"Concave_Points\": -1.0046208212682464, \"Symmetry\": -1.4832365079711027, \"Fractal_Dimension\": -0.6115280428413338}, {\"ID\": 909777, \"Class\": \"Benign\", \"Radius\": -1.009433159221638, \"Texture\": -0.2254453481479469, \"Perimeter\": -1.0349830452480704, \"Area\": -0.8922321602171573, \"Smoothness\": -1.0622970047505769, \"Compactness\": -1.1308060120452803, \"Concavity\": -0.8638921358877281, \"Concave_Points\": -0.9743910789836858, \"Symmetry\": 2.044122054330113, \"Fractal_Dimension\": -0.7248366677971186}, {\"ID\": 9110127, \"Class\": \"Malignant\", \"Radius\": 1.1074501099635368, \"Texture\": -0.5672234870046009, \"Perimeter\": 1.050701120650472, \"Area\": 0.9522518947692924, \"Smoothness\": -0.4899188294951592, \"Compactness\": 0.3570920466096942, \"Concavity\": 0.2533960443482173, \"Concave_Points\": 0.3510272037912086, \"Symmetry\": -0.3342003682349266, \"Fractal_Dimension\": -0.7078403740537507}, {\"ID\": 9110720, \"Class\": \"Benign\", \"Radius\": -0.6064875503418863, \"Texture\": 1.3020936806195484, \"Perimeter\": -0.5909315032187633, \"Area\": -0.6069352889790744, \"Smoothness\": 0.4721031222074247, \"Compactness\": -0.2302660315205846, \"Concavity\": -0.4313772997528298, \"Concave_Points\": -0.1592446608586632, \"Symmetry\": 0.0305730094590981, \"Fractal_Dimension\": 0.8076624847298697}, {\"ID\": 9110732, \"Class\": \"Malignant\", \"Radius\": 1.0279960462407685, \"Texture\": 2.032150385388184, \"Perimeter\": 1.042470322837139, \"Area\": 0.9283824354226798, \"Smoothness\": 0.2566613990988634, \"Compactness\": 0.5123575604932621, \"Concavity\": 1.0160672171150915, \"Concave_Points\": 0.8765041391553947, \"Symmetry\": -0.3597345046735075, \"Fractal_Dimension\": -0.5152157116289158}, {\"ID\": 9110944, \"Class\": \"Benign\", \"Radius\": 0.1908907320187493, \"Texture\": -0.3788967574305263, \"Perimeter\": 0.1609518770291916, \"Area\": 0.0565788488106896, \"Smoothness\": -0.3249601504153378, \"Compactness\": -0.2923722370740118, \"Concavity\": -0.6034800709758811, \"Concave_Points\": -0.6782787696489875, \"Symmetry\": 0.2968575751757361, \"Fractal_Dimension\": -0.5577064459873353}, {\"ID\": 911150, \"Class\": \"Benign\", \"Radius\": 0.1142743134289369, \"Texture\": 0.0117068298342212, \"Perimeter\": 0.0938708748505291, \"Area\": 0.0136706540328507, \"Smoothness\": -0.8873839226228352, \"Compactness\": -0.4987617616265599, \"Concavity\": -0.0078940959270128, \"Concave_Points\": -0.5068995827842577, \"Symmetry\": -1.235190611139167, \"Fractal_Dimension\": -0.7559965396599582}, {\"ID\": 911157302, \"Class\": \"Malignant\", \"Radius\": 1.978607165781028, \"Texture\": 0.286059349460651, \"Perimeter\": 1.8984732954237544, \"Area\": 2.0718432022175453, \"Smoothness\": 0.0341093880989302, \"Compactness\": 0.2491635796418478, \"Concavity\": 0.858013651706167, \"Concave_Points\": 1.715875585198139, \"Symmetry\": -0.9397241752070064, \"Fractal_Dimension\": -0.8763869536754798}, {\"ID\": 9111596, \"Class\": \"Benign\", \"Radius\": -0.6405392919373585, \"Texture\": 0.5232115274428192, \"Perimeter\": -0.6230316146907614, \"Area\": -0.6333621903985382, \"Smoothness\": -2.1494600233413026, \"Compactness\": 0.038987091336042, \"Concavity\": -0.012911669432058, \"Concave_Points\": -0.6458069237167229, \"Symmetry\": -1.687509599479757, \"Fractal_Dimension\": 0.4705693254864094}, {\"ID\": 9111805, \"Class\": \"Malignant\", \"Radius\": 1.550122750704672, \"Texture\": 1.3276689154999783, \"Perimeter\": 1.470471809130447, \"Area\": 1.5234139577060914, \"Smoothness\": 0.4863236979901674, \"Compactness\": -0.1066216649767186, \"Concavity\": 0.9621283019358552, \"Concave_Points\": 1.0749431976303452, \"Symmetry\": -0.5421211935205199, \"Fractal_Dimension\": -1.258803562901253}, {\"ID\": 9111843, \"Class\": \"Benign\", \"Radius\": -0.6036499052089304, \"Texture\": 2.0786508124435112, \"Perimeter\": -0.6255008540347614, \"Area\": -0.6035253662152726, \"Smoothness\": -0.8525435119551138, \"Compactness\": -0.7543818149714587, \"Concavity\": -0.6052362217026468, \"Concave_Points\": -0.759458384479649, \"Symmetry\": -0.7172124148136516, \"Fractal_Dimension\": -0.248940442982823}, {\"ID\": 911201, \"Class\": \"Benign\", \"Radius\": 0.1142743134289369, \"Texture\": -1.234504615248545, \"Perimeter\": 0.07782081911453, \"Area\": -0.0303741816662556, \"Smoothness\": 0.9627129867120676, \"Compactness\": -0.2257216750166752, \"Concavity\": -0.2489885028444359, \"Concave_Points\": 0.4131360519632384, \"Symmetry\": -0.5895417326207429, \"Fractal_Dimension\": -0.2248623601797183}, {\"ID\": 911202, \"Class\": \"Benign\", \"Radius\": -0.4277159069656587, \"Texture\": -0.4974728464216109, \"Perimeter\": -0.4670579961281038, \"Area\": -0.4603086101355977, \"Smoothness\": -0.7487333087410885, \"Compactness\": -0.9475169663876044, \"Concavity\": -0.741839660377503, \"Concave_Points\": -0.6751862128935338, \"Symmetry\": -0.0460293998566466, \"Fractal_Dimension\": -0.6426879147041742}, {\"ID\": 9112085, \"Class\": \"Benign\", \"Radius\": -0.2120548768610023, \"Texture\": 2.6575811292823333, \"Perimeter\": -0.2316571786667846, \"Area\": -0.2775935820418851, \"Smoothness\": -0.2780322503322844, \"Compactness\": -0.5695779838124799, \"Concavity\": -0.7602792430085443, \"Concave_Points\": -0.4195348544426889, \"Symmetry\": -1.59266852127931, \"Fractal_Dimension\": -0.3735799304341849}, {\"ID\": 9112366, \"Class\": \"Benign\", \"Radius\": -0.708642775128302, \"Texture\": 2.3251030758367444, \"Perimeter\": -0.703693433261423, \"Area\": -0.6813852693220801, \"Smoothness\": -0.1983970259489222, \"Compactness\": -0.3522062643754846, \"Concavity\": -0.2157470783735113, \"Concave_Points\": -0.7409030439469263, \"Symmetry\": -0.0460293998566466, \"Fractal_Dimension\": -0.1611262586420896}, {\"ID\": 9112367, \"Class\": \"Benign\", \"Radius\": -0.2602948441212543, \"Texture\": 1.3857944493191372, \"Perimeter\": -0.3238421141761128, \"Area\": -0.3324365064930307, \"Smoothness\": -0.6008393206005573, \"Compactness\": -0.9901203086117544, \"Concavity\": -0.7661748918769725, \"Concave_Points\": -0.7277596777362477, \"Symmetry\": -0.7026214797058913, \"Fractal_Dimension\": -0.9854465051954224}, {\"ID\": 9112594, \"Class\": \"Benign\", \"Radius\": -0.3198853919133305, \"Texture\": 1.3578941930859407, \"Perimeter\": -0.3851615578854422, \"Area\": -0.3827328672591069, \"Smoothness\": -0.900893469616441, \"Compactness\": -1.0151142693832556, \"Concavity\": -0.962612894599493, \"Concave_Points\": -0.806619875000319, \"Symmetry\": -0.5275302584127596, \"Fractal_Dimension\": -1.1766548098083096}, {\"ID\": 9112712, \"Class\": \"Benign\", \"Radius\": -1.2407012375575517, \"Texture\": 2.071675748385212, \"Perimeter\": -1.246514549050724, \"Area\": -1.0343122753755651, \"Smoothness\": -1.1746395534342498, \"Compactness\": -1.0997529092685665, \"Concavity\": -0.9205907164947392, \"Concave_Points\": -0.9919155672645904, \"Symmetry\": -0.6953260121520105, \"Fractal_Dimension\": -0.4642268303988128}, {\"ID\": 911296201, \"Class\": \"Malignant\", \"Radius\": 0.8378738223327161, \"Texture\": 1.8275485063447443, \"Perimeter\": 0.7914309895304875, \"Area\": 0.7843131986520543, \"Smoothness\": 0.1862695489742837, \"Compactness\": 0.1260872576609707, \"Concavity\": 0.1492813941185288, \"Concave_Points\": 0.3966424159341519, \"Symmetry\": -0.0679158025182887, \"Fractal_Dimension\": 0.0017548897318515}, {\"ID\": 911296202, \"Class\": \"Malignant\", \"Radius\": 3.7719988898092183, \"Texture\": 1.6229466273013051, \"Perimeter\": 3.906787961876968, \"Area\": 5.245912974856375, \"Smoothness\": 0.8560586683414928, \"Compactness\": 1.788564345341128, \"Concavity\": 3.4458271869332413, \"Concave_Points\": 3.092063341375066, \"Symmetry\": 0.9096768497016976, \"Fractal_Dimension\": -0.9302085505294784}, {\"ID\": 9113156, \"Class\": \"Benign\", \"Radius\": 0.0773849267005092, \"Texture\": 1.7903481647004826, \"Perimeter\": 0.0115628967172007, \"Area\": -0.0249751372902361, \"Smoothness\": -1.8778470258909052, \"Compactness\": -0.9867120412338224, \"Concavity\": -0.6778655981881765, \"Concave_Points\": -0.813062701574181, \"Symmetry\": -0.3816209073351496, \"Fractal_Dimension\": -1.1993165347994663}, {\"ID\": 911320501, \"Class\": \"Benign\", \"Radius\": -0.7171557105271703, \"Texture\": -0.2161452627368816, \"Perimeter\": -0.744435882437421, \"Area\": -0.6882051148496837, \"Smoothness\": -0.8020604679263759, \"Compactness\": -0.8670439866308772, \"Concavity\": -0.6915384859894247, \"Concave_Points\": -0.8027541790560018, \"Symmetry\": -1.0783380587307356, \"Fractal_Dimension\": -0.5959481069099135}, {\"ID\": 911320502, \"Class\": \"Benign\", \"Radius\": -0.2716454246530786, \"Texture\": -0.2486955616756108, \"Perimeter\": -0.3164343961441129, \"Area\": -0.3341414678749316, \"Smoothness\": -1.5429524662073004, \"Compactness\": -0.8407245885457357, \"Concavity\": -0.5043829942512379, \"Concave_Points\": -0.5210738012467542, \"Symmetry\": -1.3044975529010312, \"Fractal_Dimension\": -1.0350190286135788}, {\"ID\": 9113239, \"Class\": \"Benign\", \"Radius\": -0.2517819087223865, \"Texture\": 0.195383516702763, \"Perimeter\": -0.2098455644614525, \"Area\": -0.3182284949771899, \"Smoothness\": -0.9613309166931002, \"Compactness\": 0.3400507097200343, \"Concavity\": 0.1530445742473126, \"Concave_Points\": -0.53060918457607, \"Symmetry\": -0.7682806876908155, \"Fractal_Dimension\": 0.2156249193358946}, {\"ID\": 9113455, \"Class\": \"Benign\", \"Radius\": -0.2801583600519464, \"Texture\": 0.3372098192215106, \"Perimeter\": -0.2464726147307837, \"Area\": -0.3352781087961988, \"Smoothness\": -0.683318660140469, \"Compactness\": 0.0863241382517641, \"Concavity\": 0.2471240774669107, \"Concave_Points\": -0.3561374409558865, \"Symmetry\": -0.9105423049914846, \"Fractal_Dimension\": -0.3679144991863969}, {\"ID\": 9113514, \"Class\": \"Benign\", \"Radius\": -1.265388750214269, \"Texture\": -0.2765958179088064, \"Perimeter\": -1.2720300222720555, \"Area\": -1.0473836459701384, \"Smoothness\": -0.9421331393863964, \"Compactness\": -0.9478956627629304, \"Concavity\": -0.9283679554275592, \"Concave_Points\": -1.1120356259076742, \"Symmetry\": -0.4801097193125355, \"Fractal_Dimension\": 0.1872977630969496}, {\"ID\": 9113538, \"Class\": \"Malignant\", \"Radius\": 0.9854313692464288, \"Texture\": 0.9393903495879966, \"Perimeter\": 1.1124321042504683, \"Area\": 0.9252566728891948, \"Smoothness\": -0.2467469836102494, \"Compactness\": 1.8188600553671896, \"Concavity\": 1.5654915159175438, \"Concave_Points\": 1.3215745988777832, \"Symmetry\": -0.4217459788814919, \"Fractal_Dimension\": 1.5427521891305205}, {\"ID\": 911366, \"Class\": \"Benign\", \"Radius\": -0.7114804202612585, \"Texture\": -0.257995647086676, \"Perimeter\": -0.6415509097707605, \"Area\": -0.6992873638320395, \"Smoothness\": 1.5030948664563124, \"Compactness\": 0.8323559976435428, \"Concavity\": 0.1655885080099257, \"Concave_Points\": 0.1732051903526168, \"Symmetry\": 0.5303125368999123, \"Fractal_Dimension\": 1.381287398568529}, {\"ID\": 9113778, \"Class\": \"Benign\", \"Radius\": -1.2656725147275647, \"Texture\": -0.1859199851509193, \"Perimeter\": -1.2543338069733905, \"Area\": -1.0394271595212676, \"Smoothness\": -0.4906298582842971, \"Compactness\": -0.7907366670027334, \"Concavity\": -0.7440975684547734, \"Concave_Points\": -0.8705327146130301, \"Symmetry\": 1.5553257282201205, \"Fractal_Dimension\": 0.1887141209088944}, {\"ID\": 9113816, \"Class\": \"Benign\", \"Radius\": -0.5922993246771066, \"Texture\": 2.057725620268614, \"Perimeter\": -0.6222085349094283, \"Area\": -0.5824975091718284, \"Smoothness\": -0.6285694433769069, \"Compactness\": -0.8395884994197584, \"Concavity\": -0.8169778236155554, \"Concave_Points\": -0.6481263412833133, \"Symmetry\": 0.154595957875067, \"Fractal_Dimension\": -0.8239817146334301}, {\"ID\": 911384, \"Class\": \"Benign\", \"Radius\": 0.224942473614221, \"Texture\": -1.0136275867357414, \"Perimeter\": 0.1844096507971905, \"Area\": 0.0909622366790244, \"Smoothness\": -1.0935822714726129, \"Compactness\": -0.3569399690670568, \"Concavity\": -0.419084244665469, \"Concave_Points\": -0.4306165161497314, \"Symmetry\": -0.4545755828739546, \"Fractal_Dimension\": -0.8650560911799018}, {\"ID\": 9113846, \"Class\": \"Benign\", \"Radius\": -0.5270334866191185, \"Texture\": 2.4832045278248565, \"Perimeter\": -0.5987507611414294, \"Area\": -0.538452673472722, \"Smoothness\": -1.3772827583383411, \"Compactness\": -1.332272483718593, \"Concavity\": -1.1138927357766064, \"Concave_Points\": -1.260710291926114, \"Symmetry\": -0.4035073099967907, \"Fractal_Dimension\": -0.4528959679032349}, {\"ID\": 911391, \"Class\": \"Benign\", \"Radius\": -0.9214661601000018, \"Texture\": -0.853201113394863, \"Perimeter\": -0.8872402244987457, \"Area\": -0.8410833187601305, \"Smoothness\": 0.308566500705876, \"Compactness\": 0.0484545007191864, \"Concavity\": -0.4722705238189483, \"Concave_Points\": -0.8558430700246247, \"Symmetry\": 0.1801300943136479, \"Fractal_Dimension\": 0.7892498331745539}, {\"ID\": 911408, \"Class\": \"Benign\", \"Radius\": -0.3681253591735824, \"Texture\": -0.8276258785144328, \"Perimeter\": -0.3736384409467762, \"Area\": -0.4205261778912435, \"Smoothness\": -0.4237931521054039, \"Compactness\": -0.4099574616126654, \"Concavity\": -0.3819542007281343, \"Concave_Points\": -0.4674694841522221, \"Symmetry\": -0.3889163748890293, \"Fractal_Dimension\": -0.519464785064759}, {\"ID\": 911654, \"Class\": \"Benign\", \"Radius\": 0.020632024041389, \"Texture\": 0.2883843708134178, \"Perimeter\": 0.0181475349678668, \"Area\": -0.1036875210879942, \"Smoothness\": -0.5012952901213544, \"Compactness\": 0.1223002939077128, \"Concavity\": -0.4787933693755071, \"Concave_Points\": -0.4726237454113118, \"Symmetry\": -1.114815396500138, \"Fractal_Dimension\": -0.3834944351178171}, {\"ID\": 911673, \"Class\": \"Benign\", \"Radius\": -0.0644973299472906, \"Texture\": -0.6206989781182272, \"Perimeter\": -0.1234221874214579, \"Area\": -0.1576779648481891, \"Smoothness\": -1.9965888336768125, \"Compactness\": -0.9685346152181852, \"Concavity\": -0.834915648896092, \"Concave_Points\": -0.9156325006300644, \"Symmetry\": 0.0050388730205162, \"Fractal_Dimension\": -1.0534316801688934}, {\"ID\": 911685, \"Class\": \"Benign\", \"Radius\": -0.7483698069896861, \"Texture\": -1.0926783127297974, \"Perimeter\": -0.739908943640088, \"Area\": -0.7103696128143954, \"Smoothness\": 0.5858677284693703, \"Compactness\": -0.4177207373068439, \"Concavity\": -0.4480607316571052, \"Concave_Points\": -0.7532732709687414, \"Symmetry\": -0.1189840753954515, \"Fractal_Dimension\": 0.416747728632411}, {\"ID\": 911916, \"Class\": \"Malignant\", \"Radius\": 0.6023492762973688, \"Texture\": 0.0512321928312496, \"Perimeter\": 0.7338154048371575, \"Area\": 0.4572447735573995, \"Smoothness\": 0.4436619706419372, \"Compactness\": 1.6086835670613842, \"Concavity\": 1.690930853543674, \"Concave_Points\": 1.108703608877382, \"Symmetry\": 1.2379728896263198, \"Fractal_Dimension\": 0.4224131598801999}, {\"ID\": 912193, \"Class\": \"Benign\", \"Radius\": -0.5582475830816344, \"Texture\": -0.292870967378171, \"Perimeter\": -0.5629467906534313, \"Area\": -0.5671528567347203, \"Smoothness\": -0.3903747990159563, \"Compactness\": -0.4915665304953703, \"Concavity\": -0.7481116272588095, \"Concave_Points\": -0.8671824447946219, \"Symmetry\": -1.2680202151316289, \"Fractal_Dimension\": 0.0060039631676917}, {\"ID\": 91227, \"Class\": \"Benign\", \"Radius\": -0.0644973299472906, \"Texture\": -0.0115433836934426, \"Perimeter\": -0.1332991447974571, \"Area\": -0.1477323567871006, \"Smoothness\": -1.1696623519102889, \"Compactness\": -0.9672091779045447, \"Concavity\": -0.7382019195863452, \"Concave_Points\": -0.7272442516103388, \"Symmetry\": -0.8485308307835001, \"Fractal_Dimension\": -0.97128292707595}, {\"ID\": 912519, \"Class\": \"Benign\", \"Radius\": -0.1865160706643984, \"Texture\": -1.2159044444264142, \"Perimeter\": -0.1913262693814541, \"Area\": -0.3085670471464183, \"Smoothness\": 0.7636249257536617, \"Compactness\": 0.2112939421092704, \"Concavity\": -0.3881007282718147, \"Concave_Points\": 0.0964066975921818, \"Symmetry\": -0.1189840753954515, \"Fractal_Dimension\": 0.5088109864089876}, {\"ID\": 912558, \"Class\": \"Benign\", \"Radius\": -0.1212502326064109, \"Texture\": -0.383546800136059, \"Perimeter\": -0.1732185141921213, \"Area\": -0.2380953100278478, \"Smoothness\": 0.2232430460094167, \"Compactness\": -0.4690340961634864, \"Concavity\": -0.5433946282529645, \"Concave_Points\": -0.4463370129899547, \"Symmetry\": -0.2904275629116434, \"Fractal_Dimension\": -0.27160216797398}, {\"ID\": 912600, \"Class\": \"Benign\", \"Radius\": 0.454791729383657, \"Texture\": -1.8622603804954607, \"Perimeter\": 0.445737481370508, \"Area\": 0.2623108555600643, \"Smoothness\": 0.5645368647952558, \"Compactness\": 0.4839553323438288, \"Concavity\": 0.3800897753506091, \"Concave_Points\": 0.3399455420841662, \"Symmetry\": -0.1007454065107503, \"Fractal_Dimension\": -0.0294049821309909}, {\"ID\": 913063, \"Class\": \"Benign\", \"Radius\": -0.4759558742259106, \"Texture\": -0.6695244265263208, \"Perimeter\": -0.375284600509443, \"Area\": -0.5063425674469217, \"Smoothness\": -0.0867655060543872, \"Compactness\": 0.885373490189152, \"Concavity\": 0.8228906371708504, \"Concave_Points\": -0.0118327888487001, \"Symmetry\": 0.9862792590174424, \"Fractal_Dimension\": 1.4804324454048394}, {\"ID\": 913102, \"Class\": \"Benign\", \"Radius\": 0.1454884098914532, \"Texture\": -0.5672234870046009, \"Perimeter\": 0.0922247152878623, \"Area\": 0.03157274854281, \"Smoothness\": -0.7074936389711322, \"Compactness\": -0.7074234644310625, \"Concavity\": -0.4626116948217362, \"Concave_Points\": -0.5414331332201582, \"Symmetry\": -1.4686455728633423, \"Fractal_Dimension\": -1.309792444131356}, {\"ID\": 913505, \"Class\": \"Malignant\", \"Radius\": 1.5075580737103325, \"Texture\": -0.1091942805096291, \"Perimeter\": 1.4869334047571123, \"Area\": 1.4552155024300557, \"Smoothness\": 0.891610107798351, \"Compactness\": 0.7660841319615326, \"Concavity\": 1.7160187210689002, \"Concave_Points\": 1.8163836797503865, \"Symmetry\": 0.0415162107899187, \"Fractal_Dimension\": -0.2333605070514018}, {\"ID\": 913512, \"Class\": \"Benign\", \"Radius\": -0.6944545494635224, \"Texture\": -0.7253249389927129, \"Perimeter\": -0.6781779600400916, \"Area\": -0.6660406168849721, \"Smoothness\": 1.1689113355618452, \"Compactness\": -0.2217453630757548, \"Concavity\": -0.5771378100743937, \"Concave_Points\": -0.4535529787526802, \"Symmetry\": 0.1509482240981261, \"Fractal_Dimension\": 0.1717178271655274}, {\"ID\": 913535, \"Class\": \"Malignant\", \"Radius\": 0.727205662147433, \"Texture\": 0.2116586661721276, \"Perimeter\": 0.6226996343571639, \"Area\": 0.5760237498298286, \"Smoothness\": -1.520910573744048, \"Compactness\": -0.6290333147386268, \"Concavity\": -0.656164592778856, \"Concave_Points\": -0.6661662556901269, \"Symmetry\": 0.1254140876595442, \"Fractal_Dimension\": -1.3522831784897753}, {\"ID\": 91376701, \"Class\": \"Benign\", \"Radius\": -0.5327087768850304, \"Texture\": 0.7324634491917916, \"Perimeter\": -0.5674737294507644, \"Area\": -0.5353269109392369, \"Smoothness\": -1.0267455652937187, \"Compactness\": -0.9910670495500687, \"Concavity\": -0.8988897110854186, \"Concave_Points\": -0.935734119540514, \"Symmetry\": -0.9762015129764088, \"Fractal_Dimension\": -0.4302342429120779}, {\"ID\": 91376702, \"Class\": \"Benign\", \"Radius\": 1.0563724975703288, \"Texture\": -1.4088812167060216, \"Perimeter\": 0.9313545523571456, \"Area\": 0.9582192596059456, \"Smoothness\": -1.2784497566482762, \"Compactness\": -0.7984999426969116, \"Concavity\": -0.5563148800284559, \"Concave_Points\": -0.1839851149022934, \"Symmetry\": -2.1580672567050483, \"Fractal_Dimension\": -1.4684245190694547}, {\"ID\": 914062, \"Class\": \"Malignant\", \"Radius\": 1.101774819697625, \"Texture\": 0.2953594348717163, \"Perimeter\": 1.08773971081047, \"Area\": 1.000559133923151, \"Smoothness\": 0.2659047733576459, \"Compactness\": 0.46502051357754, \"Concavity\": 0.3537475144491216, \"Concave_Points\": 0.739658502726566, \"Symmetry\": 1.110302207433411, \"Fractal_Dimension\": -0.2871821039053993}, {\"ID\": 914101, \"Class\": \"Benign\", \"Radius\": -0.4731182290929542, \"Texture\": -1.501882070816676, \"Perimeter\": -0.540723636557433, \"Area\": -0.5046376060650208, \"Smoothness\": -1.6097891723861937, \"Compactness\": -1.2101429026760302, \"Concavity\": -1.023915098897383, \"Concave_Points\": -0.9645979825914156, \"Symmetry\": -0.7245078823675323, \"Fractal_Dimension\": -0.3778290038700281}, {\"ID\": 914102, \"Class\": \"Benign\", \"Radius\": -0.2744830697860345, \"Texture\": 0.2907093921661837, \"Perimeter\": -0.325488273738779, \"Area\": -0.330163224650496, \"Smoothness\": -1.6360972375842695, \"Compactness\": -0.9768659354753524, \"Concavity\": -0.8881019280495713, \"Concave_Points\": -0.9370226848552862, \"Symmetry\": -0.3597345046735075, \"Fractal_Dimension\": -0.5548737303634418}, {\"ID\": 914333, \"Class\": \"Benign\", \"Radius\": 0.2107542479494408, \"Texture\": 0.2139836875248943, \"Perimeter\": 0.1708288344051914, \"Area\": 0.0739126228600154, \"Smoothness\": -0.0348604044473736, \"Compactness\": -0.395566999350286, \"Concavity\": -0.2578946958158912, \"Concave_Points\": 0.0152270827615204, \"Symmetry\": -1.1841223382620032, \"Fractal_Dimension\": -0.7531638240360646}, {\"ID\": 914366, \"Class\": \"Benign\", \"Radius\": -0.4192029715667903, \"Texture\": -0.2603206684394419, \"Perimeter\": -0.3818692387601092, \"Area\": -0.4810523069487251, \"Smoothness\": 0.7991763652105199, \"Compactness\": 0.5502271980258397, \"Concavity\": -0.1082455660279172, \"Concave_Points\": 0.0469257895049214, \"Symmetry\": -0.6223713366132055, \"Fractal_Dimension\": 0.8133279159776586}, {\"ID\": 914580, \"Class\": \"Benign\", \"Radius\": -0.4702805839599982, \"Texture\": -0.4602725047773491, \"Perimeter\": -0.4740541742694368, \"Area\": -0.4966811196161499, \"Smoothness\": -0.503428376488766, \"Compactness\": -0.5309509535292507, \"Concavity\": -0.6611821662839011, \"Concave_Points\": -0.6501880457869491, \"Symmetry\": -1.041860720961333, \"Fractal_Dimension\": -0.3310891960757665}, {\"ID\": 914769, \"Class\": \"Malignant\", \"Radius\": 1.237981786079512, \"Texture\": -0.4114470563692555, \"Perimeter\": 1.2070862791037955, \"Area\": 1.1738968744164084, \"Smoothness\": 0.3441179401627343, \"Compactness\": 0.5180380061231492, \"Concavity\": 0.7564077882290011, \"Concave_Points\": 1.1058687651848829, \"Symmetry\": 0.0743458147823813, \"Fractal_Dimension\": 0.590959739501931}, {\"ID\": 91485, \"Class\": \"Malignant\", \"Radius\": 1.833887264000272, \"Texture\": 0.4534608868598284, \"Perimeter\": 1.886127098703756, \"Area\": 1.8899806548147835, \"Smoothness\": 0.8631689562328646, \"Compactness\": 1.1372065797807926, \"Concavity\": 1.6307199714831313, \"Concave_Points\": 1.6282531437936156, \"Symmetry\": 0.1327095552134249, \"Fractal_Dimension\": -0.0818102211730396}, {\"ID\": 914862, \"Class\": \"Benign\", \"Radius\": 0.2589942152096928, \"Texture\": -0.5927987218850315, \"Perimeter\": 0.2782407458691849, \"Area\": 0.0980662424369448, \"Smoothness\": 0.1756041171372264, \"Compactness\": 0.6070316543247062, \"Concavity\": -0.1453756099652519, \"Concave_Points\": 0.3221633407403069, \"Symmetry\": -0.5238825246358186, \"Fractal_Dimension\": 0.8345732831568679}, {\"ID\": 91504, \"Class\": \"Malignant\", \"Radius\": -0.0871984910109386, \"Texture\": 1.2090928265088938, \"Perimeter\": 0.0148552158425337, \"Area\": -0.1676235729092777, \"Smoothness\": 1.4106611238684814, \"Compactness\": 1.2072654092160615, \"Concavity\": 0.5883190758099859, \"Concave_Points\": 0.4811723005832214, \"Symmetry\": 1.6902918779669098, \"Fractal_Dimension\": 1.3557929579534775}, {\"ID\": 91505, \"Class\": \"Benign\", \"Radius\": -0.4504170680293067, \"Texture\": -0.6904496187012179, \"Perimeter\": -0.4411309830161055, \"Area\": -0.5074792083681889, \"Smoothness\": 1.3822199723029949, \"Compactness\": 0.0787502107452486, \"Concavity\": -0.3702883423289043, \"Concave_Points\": -0.4156691584983715, \"Symmetry\": 0.4792442640227484, \"Fractal_Dimension\": 0.4705693254864094}, {\"ID\": 915143, \"Class\": \"Malignant\", \"Radius\": 2.5432985472392717, \"Texture\": 0.1256328761197722, \"Perimeter\": 2.474629142357053, \"Area\": 2.918640688561656, \"Smoothness\": -0.2090624577859795, \"Compactness\": 0.438511767304736, \"Concavity\": 0.9884705628373428, \"Concave_Points\": 1.3241517295073282, \"Symmetry\": -1.1184631302770789, \"Fractal_Dimension\": -1.1270822863901533}, {\"ID\": 915186, \"Class\": \"Benign\", \"Radius\": -1.3788945555325092, \"Texture\": -1.4925819854056108, \"Perimeter\": -1.2543338069733905, \"Area\": -1.154227892569261, \"Smoothness\": 4.766717008595898, \"Compactness\": 2.2638282963749767, \"Concavity\": 0.1066320193256444, \"Concave_Points\": 0.0927987147108191, \"Symmetry\": 2.066008456991755, \"Fractal_Dimension\": 4.56384340201413}, {\"ID\": 915276, \"Class\": \"Benign\", \"Radius\": -1.263118634107904, \"Texture\": -1.4298064088809188, \"Perimeter\": -1.1460988157280632, \"Area\": -1.086597757753859, \"Smoothness\": 2.0719178977660446, \"Compactness\": 2.1975564306929662, \"Concavity\": 0.3763265952218253, \"Concave_Points\": 0.5530742451475216, \"Symmetry\": 0.895085914593936, \"Fractal_Dimension\": 4.667237522286283}, {\"ID\": 91544001, \"Class\": \"Benign\", \"Radius\": -0.5412217122838981, \"Texture\": 0.1744583245278659, \"Perimeter\": -0.5143850835547679, \"Area\": -0.5734043818016902, \"Smoothness\": 0.941382123037953, \"Compactness\": 0.2056134964793836, \"Concavity\": -0.0884261506829886, \"Concave_Points\": -0.7025037975667087, \"Symmetry\": 1.1394840776489328, \"Fractal_Dimension\": 0.8699822284555506}, {\"ID\": 91544002, \"Class\": \"Benign\", \"Radius\": -0.870388547706794, \"Texture\": -0.5044479104799093, \"Perimeter\": -0.8526708736827476, \"Area\": -0.8194871412560525, \"Smoothness\": 1.6381903363923749, \"Compactness\": 0.0522414644724443, \"Concavity\": -0.6042327070016378, \"Concave_Points\": -0.16079093923639, \"Symmetry\": 0.5193693355690907, \"Fractal_Dimension\": 2.402481380982537}, {\"ID\": 915452, \"Class\": \"Benign\", \"Radius\": 0.616537501962149, \"Texture\": -0.8346009425727322, \"Perimeter\": 0.5239300605971702, \"Area\": 0.4686111827700722, \"Smoothness\": -0.1486250107093202, \"Compactness\": -0.7047725898037821, \"Concavity\": -0.4207149560546086, \"Concave_Points\": -0.0847655856648181, \"Symmetry\": -0.3670299722273882, \"Fractal_Dimension\": -0.8820523849232688}, {\"ID\": 915460, \"Class\": \"Malignant\", \"Radius\": 0.3781753107938452, \"Texture\": 1.083541673459511, \"Perimeter\": 0.4868914704371722, \"Area\": 0.2171293789396904, \"Smoothness\": 1.5599771695872864, \"Compactness\": 1.56513348389892, \"Concavity\": 1.4325258180338452, \"Concave_Points\": 0.935005004446062, \"Symmetry\": -0.0168475296411248, \"Fractal_Dimension\": 1.13767385491359}, {\"ID\": 91550, \"Class\": \"Benign\", \"Radius\": -0.6774286786657862, \"Texture\": -1.069428099202134, \"Perimeter\": -0.6444316890054267, \"Area\": -0.6504118042175472, \"Smoothness\": -1.092871242683476, \"Compactness\": -0.1463847843859252, \"Concavity\": -0.2701877509032519, \"Concave_Points\": -0.5806055187892394, \"Symmetry\": -1.14034953293872, \"Fractal_Dimension\": 0.6773575660307167}, {\"ID\": 915664, \"Class\": \"Benign\", \"Radius\": 0.1937283771517052, \"Texture\": -1.0671030778493678, \"Perimeter\": 0.1107440103678613, \"Area\": 0.073344302399382, \"Smoothness\": -0.8276575043353128, \"Compactness\": -1.02590711608004, \"Concavity\": -0.6853919584457443, \"Concave_Points\": -0.6058613989587784, \"Symmetry\": -0.5567121286282813, \"Fractal_Dimension\": -1.3197069488149882}, {\"ID\": 915691, \"Class\": \"Malignant\", \"Radius\": -0.2063795865950905, \"Texture\": 0.286059349460651, \"Perimeter\": -0.137003003813457, \"Area\": -0.2790143831934692, \"Smoothness\": 1.0124850019516696, \"Compactness\": 0.8058472513707389, \"Concavity\": 0.6987056929209808, \"Concave_Points\": 0.8453208585379028, \"Symmetry\": 1.110302207433411, \"Fractal_Dimension\": 1.4804324454048394}, {\"ID\": 915940, \"Class\": \"Benign\", \"Radius\": 0.1284625390937171, \"Texture\": -1.3089052985370684, \"Perimeter\": 0.0955170344131959, \"Area\": 0.0111132119599991, \"Smoothness\": 0.1393416488912313, \"Compactness\": -0.2870704878194511, \"Concavity\": -0.0825305018145605, \"Concave_Points\": -0.1399161811370771, \"Symmetry\": -0.2648934264730615, \"Fractal_Dimension\": -0.9061304677263736}, {\"ID\": 91594602, \"Class\": \"Malignant\", \"Radius\": 0.2618318603426492, \"Texture\": -0.0510687466904702, \"Perimeter\": 0.2177443819411886, \"Area\": 0.1335862712265467, \"Smoothness\": -0.2993631140064, \"Compactness\": -0.347851256059238, \"Concavity\": -0.1748538543073927, \"Concave_Points\": -0.1435241640184398, \"Symmetry\": -0.9141900387684254, \"Fractal_Dimension\": -0.5166320694408636}, {\"ID\": 916221, \"Class\": \"Benign\", \"Radius\": -0.7909344839840262, \"Texture\": -0.1580197289177228, \"Perimeter\": -0.7905283501920845, \"Area\": -0.7492995643677991, \"Smoothness\": 0.6071985921434849, \"Compactness\": -0.3664073784502012, \"Concavity\": -0.5742527053089926, \"Concave_Points\": -0.5922026066221909, \"Symmetry\": 0.4208805235917048, \"Fractal_Dimension\": -0.0973901571044599}, {\"ID\": 916799, \"Class\": \"Malignant\", \"Radius\": 1.186904173686304, \"Texture\": 0.3000094775772489, \"Perimeter\": 1.1865092845704637, \"Area\": 1.128431237565718, \"Smoothness\": 0.7422940620795471, \"Compactness\": 0.3873877566357561, \"Concavity\": 0.8542504715773831, \"Concave_Points\": 1.1749358660566838, \"Symmetry\": 0.1764823605367091, \"Fractal_Dimension\": -0.4798067663302331}, {\"ID\": 916838, \"Class\": \"Malignant\", \"Radius\": 1.635252104693352, \"Texture\": 0.2256087942887263, \"Perimeter\": 1.5857029785171066, \"Area\": 1.588770810678959, \"Smoothness\": 0.5218751374470256, \"Compactness\": 0.5047836329867469, \"Concavity\": 0.6560563181280966, \"Concave_Points\": 1.1697816047975942, \"Symmetry\": -0.035086198525826, \"Fractal_Dimension\": -0.1299663867792491}, {\"ID\": 917062, \"Class\": \"Benign\", \"Radius\": -0.3539371335088023, \"Texture\": -0.2486955616756108, \"Perimeter\": -0.30943821800278, \"Area\": -0.4597402896749639, \"Smoothness\": 1.808837245785294, \"Compactness\": 1.1693957716834835, \"Concavity\": -0.5086479317305262, \"Concave_Points\": 0.1059420809214973, \"Symmetry\": -0.3743254397812689, \"Fractal_Dimension\": 1.3784546829446334}, {\"ID\": 917080, \"Class\": \"Benign\", \"Radius\": -0.3908265202372304, \"Texture\": -0.6020988072960967, \"Perimeter\": -0.3892769567921084, \"Area\": -0.4577511680627462, \"Smoothness\": 1.1475804718877307, \"Compactness\": 0.1393416307973727, \"Concavity\": -0.6271881057872196, \"Concave_Points\": -0.4888596683774441, \"Symmetry\": 1.1248931425411717, \"Fractal_Dimension\": 0.4861492614178296}, {\"ID\": 917092, \"Class\": \"Benign\", \"Radius\": -1.3712329136735275, \"Texture\": -1.253104786070676, \"Perimeter\": -1.3172994102453863, \"Area\": -1.128369311610431, \"Smoothness\": 2.896711293165156, \"Compactness\": 0.3438376734732919, \"Concavity\": -0.6959288628063394, \"Concave_Points\": -0.6367869665133161, \"Symmetry\": 1.4057686433655707, \"Fractal_Dimension\": 2.0059011936372912}, {\"ID\": 91762702, \"Class\": \"Malignant\", \"Radius\": 2.9802958977144947, \"Texture\": 0.5371616555594179, \"Perimeter\": 3.0260925958503537, \"Area\": 3.370455454765392, \"Smoothness\": 0.4721031222074247, \"Compactness\": 2.011995206783336, \"Concavity\": 1.783755963387011, \"Concave_Points\": 2.530248864134298, \"Symmetry\": 0.6543354853158801, \"Fractal_Dimension\": 0.6504467676037166}, {\"ID\": 91789, \"Class\": \"Benign\", \"Radius\": -0.8136356450476743, \"Texture\": 0.1256328761197722, \"Perimeter\": -0.8506131742294145, \"Area\": -0.7581085315076203, \"Smoothness\": -0.7999273815589633, \"Compactness\": -1.1400840732407618, \"Concavity\": -1.050332623401446, \"Concave_Points\": -1.114741613068696, \"Symmetry\": -0.636962271720966, \"Fractal_Dimension\": 0.0895690740725839}, {\"ID\": 917896, \"Class\": \"Benign\", \"Radius\": -0.1184125874734544, \"Texture\": -0.1417445794483582, \"Perimeter\": -0.1332991447974571, \"Area\": -0.2383794702581647, \"Smoothness\": 0.1990680671787527, \"Compactness\": 0.0503479825958154, \"Concavity\": -0.4384019026598931, \"Concave_Points\": -0.2857817747693132, \"Symmetry\": -0.3560867708965677, \"Fractal_Dimension\": 0.7977479800462365}, {\"ID\": 917897, \"Class\": \"Benign\", \"Radius\": -1.2145949023343563, \"Texture\": -0.8392509852782648, \"Perimeter\": -1.1921912834827273, \"Area\": -1.0277765900782785, \"Smoothness\": -0.1024081394154047, \"Compactness\": -0.3815552334632321, \"Concavity\": -0.8216190791077221, \"Concave_Points\": -0.6380755318280884, \"Symmetry\": -1.548895715956028, \"Fractal_Dimension\": 0.8657331550197084}, {\"ID\": 91805, \"Class\": \"Benign\", \"Radius\": -1.576678421299542, \"Texture\": -1.4391064942919845, \"Perimeter\": -1.540765570877373, \"Area\": -1.2320877956760683, \"Smoothness\": 0.5147648495556538, \"Compactness\": -0.5305722571539251, \"Concavity\": -0.7921408347655814, \"Concave_Points\": -0.871563566864848, \"Symmetry\": -0.4874051868664162, \"Fractal_Dimension\": 1.1985772408273263}, {\"ID\": 91813701, \"Class\": \"Benign\", \"Radius\": -0.1893537157973543, \"Texture\": -0.1254694299789937, \"Perimeter\": -0.1863877906934542, \"Area\": -0.2949273560912109, \"Smoothness\": 0.7920660773191481, \"Compactness\": 0.1791047502065793, \"Concavity\": -0.5869220784092317, \"Concave_Points\": -0.4483987174935906, \"Symmetry\": -0.323257166904105, \"Fractal_Dimension\": 0.0527437709619544}, {\"ID\": 91813702, \"Class\": \"Benign\", \"Radius\": -0.5071699706884264, \"Texture\": -1.632083266571592, \"Perimeter\": -0.5361966977600999, \"Area\": -0.5296437063329006, \"Smoothness\": -0.4501012173034787, \"Compactness\": -0.7814586058072518, \"Concavity\": -0.742843175078512, \"Concave_Points\": -0.5785438142856034, \"Symmetry\": -0.4472801153200739, \"Fractal_Dimension\": -0.6681823553192267}, {\"ID\": 918192, \"Class\": \"Benign\", \"Radius\": -0.0531467494154668, \"Texture\": -1.42283134482262, \"Perimeter\": -0.0682758420721277, \"Area\": -0.1724542968246634, \"Smoothness\": 2.0221458825264427, \"Compactness\": -0.1285860547456138, \"Concavity\": 0.1530445742473126, \"Concave_Points\": 0.4440616195177763, \"Symmetry\": 0.5996194786617765, \"Fractal_Dimension\": 0.2510338646345773}, {\"ID\": 918465, \"Class\": \"Benign\", \"Radius\": -0.5837863892782382, \"Texture\": -1.3600557682979284, \"Perimeter\": -0.5818776256240972, \"Area\": -0.5958530399967187, \"Smoothness\": 0.9698232746034394, \"Compactness\": -0.2698398027421281, \"Concavity\": -0.6396066002122066, \"Concave_Points\": -0.5396291417794767, \"Symmetry\": -0.564007596182162, \"Fractal_Dimension\": 0.4649038942386204}, {\"ID\": 91858, \"Class\": \"Benign\", \"Radius\": -0.6745910335328302, \"Texture\": -0.4021469709581902, \"Perimeter\": -0.6617163644134257, \"Area\": -0.6592207713573686, \"Smoothness\": 0.7778455015364054, \"Compactness\": -0.1365386786274551, \"Concavity\": -0.4513221544353845, \"Concave_Points\": -0.1164642924082193, \"Symmetry\": -0.779223889021636, \"Fractal_Dimension\": 0.562632583262986}, {\"ID\": 91903901, \"Class\": \"Benign\", \"Radius\": -0.6972921945964783, \"Texture\": 0.1698082818223333, \"Perimeter\": -0.6897010769787576, \"Area\": -0.6782595067885951, \"Smoothness\": 0.3725590917282207, \"Compactness\": -0.1857692074198061, \"Concavity\": -0.5870475177468578, \"Concave_Points\": -0.704823215133299, \"Symmetry\": 0.1728346267597682, \"Fractal_Dimension\": 0.2566992958823663}, {\"ID\": 91903902, \"Class\": \"Benign\", \"Radius\": -0.1269255228723227, \"Texture\": -0.688124597348452, \"Perimeter\": -0.1732185141921213, \"Area\": -0.225592259893908, \"Smoothness\": -0.2552793290798951, \"Compactness\": -0.6019565239028338, \"Concavity\": -0.8941230162556257, \"Concave_Points\": -0.7762097335716901, \"Symmetry\": -0.6588486743826081, \"Fractal_Dimension\": -0.1767061945735098}, {\"ID\": 91930402, \"Class\": \"Malignant\", \"Radius\": 1.7998355224047995, \"Texture\": 0.3209346697521469, \"Perimeter\": 1.7585497325970958, \"Area\": 1.8303070064482525, \"Smoothness\": -0.3413138125654922, \"Compactness\": 0.5104640786166335, \"Concavity\": 0.7965483762693627, \"Concave_Points\": 1.355077297061866, \"Symmetry\": 1.2926888962804224, \"Fractal_Dimension\": -1.219145544166729}, {\"ID\": 919537, \"Class\": \"Benign\", \"Radius\": -0.8987649990363539, \"Texture\": -0.3881968428415916, \"Perimeter\": -0.8716017086534129, \"Area\": -0.8220445833289037, \"Smoothness\": 0.0362424744663419, \"Compactness\": -0.1291540993086022, \"Concavity\": -0.4537055018502811, \"Concave_Points\": -0.5422062724090215, \"Symmetry\": -0.7026214797058913, \"Fractal_Dimension\": 0.1816323318491586}, {\"ID\": 919555, \"Class\": \"Malignant\", \"Radius\": 1.822536683468448, \"Texture\": 0.3651100754547071, \"Perimeter\": 1.886127098703756, \"Area\": 1.8558814271767656, \"Smoothness\": 0.5858677284693703, \"Compactness\": 1.3170873580605365, \"Concavity\": 1.5015174537282168, \"Concave_Points\": 2.1462564003321223, \"Symmetry\": 1.1504272789797534, \"Fractal_Dimension\": -0.0407358446265689}, {\"ID\": 91979701, \"Class\": \"Malignant\", \"Radius\": 0.040495539972081, \"Texture\": 0.7580386840722214, \"Perimeter\": 0.0741169600985301, \"Area\": -0.0712932548318773, \"Smoothness\": 0.5289854253383975, \"Compactness\": 0.2094004602326414, \"Concavity\": 0.7212847736936846, \"Concave_Points\": 0.3213902015514434, \"Symmetry\": 0.417232789814764, \"Fractal_Dimension\": -0.4217360960403934}, {\"ID\": 919812, \"Class\": \"Benign\", \"Radius\": -0.6916169043305664, \"Texture\": 1.1974677197450627, \"Perimeter\": -0.6419624496614267, \"Area\": -0.7061072093596431, \"Smoothness\": 1.9368224278299837, \"Compactness\": 0.963006247130936, \"Concavity\": -0.5475341263946267, \"Concave_Points\": -0.0930124036793615, \"Symmetry\": 1.1650182140875147, \"Fractal_Dimension\": 1.5937410703606252}, {\"ID\": 921092, \"Class\": \"Benign\", \"Radius\": -1.815608141494437, \"Texture\": 1.4415949617855293, \"Perimeter\": -1.810324199264024, \"Area\": -1.3528558935607151, \"Smoothness\": -1.0935822714726129, \"Compactness\": -1.0520371659775187, \"Concavity\": -1.1138927357766064, \"Concave_Points\": -1.260710291926114, \"Symmetry\": 0.2129596983061105, \"Fractal_Dimension\": 1.4237781329269474}, {\"ID\": 921362, \"Class\": \"Benign\", \"Radius\": -1.82639119299967, \"Texture\": 1.4299698550216982, \"Perimeter\": -1.7955087632000244, \"Area\": -1.3767253529073278, \"Smoothness\": -0.6882958616644292, \"Compactness\": 0.2946071446809412, \"Concavity\": 0.046672015940354, \"Concave_Points\": -0.9091896740562022, \"Symmetry\": 0.8221312390551311, \"Fractal_Dimension\": 2.0838008732943925}, {\"ID\": 921385, \"Class\": \"Benign\", \"Radius\": -0.7341815813249064, \"Texture\": -1.127553633021293, \"Perimeter\": -0.7127473108560891, \"Area\": -0.7160528174207317, \"Smoothness\": 0.2474180248400798, \"Compactness\": 0.1450220764272592, \"Concavity\": -0.2688079181893645, \"Concave_Points\": -0.5922026066221909, \"Symmetry\": 0.0232775419052174, \"Fractal_Dimension\": 0.7113501535174527}, {\"ID\": 921386, \"Class\": \"Benign\", \"Radius\": 0.0972484426312013, \"Texture\": 1.3253438941472115, \"Perimeter\": 0.1580710977945253, \"Area\": 0.0042933664323956, \"Smoothness\": -0.5681319963002477, \"Compactness\": 0.3533050828564366, \"Concavity\": 0.1517901808710515, \"Concave_Points\": -0.2582064770331839, \"Symmetry\": 0.2202551658599912, \"Fractal_Dimension\": 0.0867363584486904}, {\"ID\": 921644, \"Class\": \"Benign\", \"Radius\": 0.1738648612210131, \"Texture\": 1.4253198123161657, \"Perimeter\": 0.1123901699305281, \"Area\": 0.0389609145310472, \"Smoothness\": -0.9677301757953344, \"Compactness\": -0.6097197995970124, \"Concavity\": -0.5989642548213403, \"Concave_Points\": -0.4806128503629007, \"Symmetry\": 0.1035276849979031, \"Fractal_Dimension\": -0.8494761552484805}, {\"ID\": 922296, \"Class\": \"Benign\", \"Radius\": -0.2602948441212543, \"Texture\": 2.0391254494464826, \"Perimeter\": -0.2917420027041146, \"Area\": -0.3310157053414466, \"Smoothness\": -0.6861627752970176, \"Compactness\": -0.6735301388394056, \"Concavity\": -0.7392054342873544, \"Concave_Points\": -0.4167000107501895, \"Symmetry\": -0.6697918757134286, \"Fractal_Dimension\": -0.706424016241803}, {\"ID\": 922297, \"Class\": \"Benign\", \"Radius\": -0.0730102653461589, \"Texture\": 0.3279097338104454, \"Perimeter\": -0.0904989961681266, \"Area\": -0.1991653584744443, \"Smoothness\": -0.0412596635496095, \"Compactness\": -0.0481130749888863, \"Concavity\": -0.6512724586114367, \"Concave_Points\": -0.6501880457869491, \"Symmetry\": -0.6989737459289503, \"Fractal_Dimension\": 0.5782125191944043}, {\"ID\": 922576, \"Class\": \"Benign\", \"Radius\": -0.1439513936700588, \"Texture\": 0.9161401360603336, \"Perimeter\": -0.1966762879601202, \"Area\": -0.2321279451911946, \"Smoothness\": -0.2773212215431475, \"Compactness\": -0.6981454032355809, \"Concavity\": -0.740836145676494, \"Concave_Points\": -0.6311172791283175, \"Symmetry\": -0.5384734597435801, \"Fractal_Dimension\": -0.678096860002857}, {\"ID\": 922577, \"Class\": \"Benign\", \"Radius\": -1.0803742875455378, \"Texture\": -0.6834745546429186, \"Perimeter\": -1.097125568738733, \"Area\": -0.9376977970678476, \"Smoothness\": -0.143647809185361, \"Compactness\": -1.030072776208624, \"Concavity\": -0.9869481260989622, \"Concave_Points\": -1.119096963832627, \"Symmetry\": 0.2676757049602142, \"Fractal_Dimension\": -0.1115537352239333}, {\"ID\": 922840, \"Class\": \"Benign\", \"Radius\": -1.097400158343274, \"Texture\": -0.6299990635292931, \"Perimeter\": -1.0749024146427346, \"Area\": -0.9493483665108372, \"Smoothness\": -0.5396908447347613, \"Compactness\": -0.4483951437082317, \"Concavity\": -0.5672281024019292, \"Concave_Points\": -0.6324058444430898, \"Symmetry\": -0.5202347908588788, \"Fractal_Dimension\": 0.6150378223050338}, {\"ID\": 923169, \"Class\": \"Benign\", \"Radius\": -1.261132282514835, \"Texture\": 0.0117068298342212, \"Perimeter\": -1.2724415621627228, \"Area\": -1.0490886073520391, \"Smoothness\": -0.814147957341707, \"Compactness\": -1.02325624145276, \"Concavity\": -0.8207410037443392, \"Concave_Points\": -1.0129191818953809, \"Symmetry\": -0.8448830970065603, \"Fractal_Dimension\": -0.0633975696177249}, {\"ID\": 923465, \"Class\": \"Benign\", \"Radius\": -0.938492030897738, \"Texture\": 1.1439922286314363, \"Perimeter\": -0.9497942878800752, \"Area\": -0.8334109925415764, \"Smoothness\": -1.0267455652937187, \"Compactness\": -0.7256008904466996, \"Concavity\": -0.9197126411313564, \"Concave_Points\": -1.0504164325552576, \"Symmetry\": 0.5996194786617765, \"Fractal_Dimension\": 0.0683237068933727}, {\"ID\": 923748, \"Class\": \"Benign\", \"Radius\": -0.9271414503659142, \"Texture\": 0.5092613993262214, \"Perimeter\": -0.9654328037254074, \"Area\": -0.8365367550750614, \"Smoothness\": -1.5678384738271014, \"Compactness\": -1.175302836146059, \"Concavity\": -1.1138927357766064, \"Concave_Points\": -1.260710291926114, \"Symmetry\": -0.5494166610744006, \"Fractal_Dimension\": -0.4698922616466028}, {\"ID\": 923780, \"Class\": \"Benign\", \"Radius\": -0.850525031776102, \"Texture\": 0.7324634491917916, \"Perimeter\": -0.8427939163067485, \"Area\": -0.7856720738483515, \"Smoothness\": -0.0497920090192542, \"Compactness\": -0.424158575687382, \"Concavity\": -0.5087733710681523, \"Concave_Points\": -0.6790519088378509, \"Symmetry\": 0.7965971026165501, \"Fractal_Dimension\": 0.3855878567695724}, {\"ID\": 924084, \"Class\": \"Benign\", \"Radius\": -0.3851512299713186, \"Texture\": 2.3576533747754733, \"Perimeter\": -0.4370155841094393, \"Area\": -0.4176845755880753, \"Smoothness\": -0.9670191470061972, \"Compactness\": -1.1739773988324187, \"Concavity\": -0.8633903785372237, \"Concave_Points\": -0.8743984105573472, \"Symmetry\": -0.99444018186111, \"Fractal_Dimension\": -0.9103795411622148}, {\"ID\": 924342, \"Class\": \"Benign\", \"Radius\": -1.3604498621682948, \"Texture\": 0.6162123815534739, \"Perimeter\": -1.3563956998587177, \"Area\": -1.1107513773307884, \"Smoothness\": -0.2815873942779708, \"Compactness\": -0.9143810335465992, \"Concavity\": -0.6126371426225885, \"Concave_Points\": -0.9303221452184696, \"Symmetry\": -0.4363369139892533, \"Fractal_Dimension\": 0.4195804442563065}, {\"ID\": 924632, \"Class\": \"Benign\", \"Radius\": -0.3539371335088023, \"Texture\": 2.23907728578439, \"Perimeter\": -0.3896884966827753, \"Area\": -0.3994983208477992, \"Smoothness\": -1.0758065517441835, \"Compactness\": -0.8729137804484267, \"Concavity\": -0.3367960391827273, \"Concave_Points\": -0.6568885854237656, \"Symmetry\": -0.8959513698837241, \"Fractal_Dimension\": -0.8098181365139566}, {\"ID\": 924934, \"Class\": \"Benign\", \"Radius\": -1.0888872229444062, \"Texture\": 1.9344994885719968, \"Perimeter\": -1.0823101326747335, \"Area\": -0.9476434051289364, \"Smoothness\": -0.4309034399967748, \"Compactness\": -0.5256492042746901, \"Concavity\": -0.3613821493574489, \"Concave_Points\": -0.5550919255567456, \"Symmetry\": -0.7974625579063372, \"Fractal_Dimension\": -0.2163642133080338}, {\"ID\": 924964, \"Class\": \"Benign\", \"Radius\": -1.125776609672834, \"Texture\": 0.0698323636533801, \"Perimeter\": -1.120994882397398, \"Area\": -0.9752069474696674, \"Smoothness\": 0.2801253491403896, \"Compactness\": -0.5548088251747748, \"Concavity\": -1.050859468619476, \"Concave_Points\": -0.9731025136689134, \"Symmetry\": -0.0752112700721684, \"Fractal_Dimension\": 0.0725727803292169}, {\"ID\": 925236, \"Class\": \"Benign\", \"Radius\": -1.334911055971691, \"Texture\": 1.9972750650966884, \"Perimeter\": -1.3461072025920515, \"Area\": -1.0900076805176608, \"Smoothness\": -1.0758065517441835, \"Compactness\": -1.0344277845248702, \"Concavity\": -1.1138927357766064, \"Concave_Points\": -1.260710291926114, \"Symmetry\": -0.2539502251422409, \"Fractal_Dimension\": -0.3126765445204517}, {\"ID\": 925277, \"Class\": \"Benign\", \"Radius\": 0.131300184226673, \"Texture\": 0.7882639616581838, \"Perimeter\": 0.1819404114531905, \"Area\": 0.0062824880446135, \"Smoothness\": -0.826946475546176, \"Compactness\": 0.5426532705193245, \"Concavity\": 0.1768780483962776, \"Concave_Points\": -0.2978942887281737, \"Symmetry\": -1.3044975529010312, \"Fractal_Dimension\": -0.1880370570690878}, {\"ID\": 925291, \"Class\": \"Benign\", \"Radius\": -0.7426945167237743, \"Texture\": 1.0788916307539782, \"Perimeter\": -0.7180973294347558, \"Area\": -0.7143478560388307, \"Smoothness\": -0.2666557897060902, \"Compactness\": -0.0424326293589997, \"Concavity\": 0.2809926986259659, \"Concave_Points\": -0.2027981684979703, \"Symmetry\": -1.545247982179087, \"Fractal_Dimension\": 0.411082297384622}, {\"ID\": 925292, \"Class\": \"Benign\", \"Radius\": -0.0219326529529505, \"Texture\": 1.8275485063447443, \"Perimeter\": -0.0242410737707973, \"Area\": -0.154836362545021, \"Smoothness\": 0.2083114414375362, \"Compactness\": 0.1563829676870329, \"Concavity\": -0.5541824112888116, \"Concave_Points\": -0.1515132689700289, \"Symmetry\": -1.0017356494149907, \"Fractal_Dimension\": -0.1540444695823528}, {\"ID\": 925311, \"Class\": \"Benign\", \"Radius\": -0.8306615158454104, \"Texture\": 2.343703246658876, \"Perimeter\": -0.8765401873414128, \"Area\": -0.7640758963442734, \"Smoothness\": -1.5550399556226324, \"Compactness\": -1.301976773692531, \"Concavity\": -1.1138927357766064, \"Concave_Points\": -1.260710291926114, \"Symmetry\": -2.741704661015488, \"Fractal_Dimension\": -1.101587845775101}, {\"ID\": 925622, \"Class\": \"Malignant\", \"Radius\": 0.3100718276029011, \"Texture\": 2.63433091575467, \"Perimeter\": 0.4704298748105068, \"Area\": 0.176210305774069, \"Smoothness\": 0.600088304252114, \"Compactness\": 1.976019051127387, \"Concavity\": 2.0848103736897245, \"Concave_Points\": 1.1692661786716851, \"Symmetry\": 1.1540750127566932, \"Fractal_Dimension\": 1.235402543937956}, {\"ID\": 926125, \"Class\": \"Malignant\", \"Radius\": 1.9275295533878205, \"Texture\": 1.3485941076748755, \"Perimeter\": 2.100127841850409, \"Area\": 1.966703917000324, \"Smoothness\": 0.9627129867120676, \"Compactness\": 2.25814785074509, \"Concavity\": 2.8675518404767795, \"Concave_Points\": 2.5379802560229328, \"Symmetry\": 1.230677422072439, \"Fractal_Dimension\": 0.8487368612763414}, {\"ID\": 926424, \"Class\": \"Malignant\", \"Radius\": 2.1091388418970034, \"Texture\": 0.7208383424279597, \"Perimeter\": 2.058973852783745, \"Area\": 2.3417954210185203, \"Smoothness\": 1.040926153517156, \"Compactness\": 0.2188678696157859, \"Concavity\": 1.9455727089247197, \"Concave_Points\": 2.318924152511624, \"Symmetry\": -0.3123139655732845, \"Fractal_Dimension\": -0.9302085505294784}, {\"ID\": 926682, \"Class\": \"Malignant\", \"Radius\": 1.7033555878842956, \"Texture\": 2.0833008551490435, \"Perimeter\": 1.6145107708637711, \"Area\": 1.7223261189278625, \"Smoothness\": 0.1023681518560982, \"Compactness\": -0.0178173649628241, \"Concavity\": 0.6924337260396747, \"Concave_Points\": 1.2625583074612072, \"Symmetry\": -0.2174728873728384, \"Fractal_Dimension\": -1.0576807536047357}, {\"ID\": 926954, \"Class\": \"Malignant\", \"Radius\": 0.7016668559508291, \"Texture\": 2.0437754921520157, \"Perimeter\": 0.6720844212371612, \"Area\": 0.5774445509814127, \"Smoothness\": -0.8397449937506448, \"Compactness\": -0.0386456656057418, \"Concavity\": 0.0465465766027279, \"Concave_Points\": 0.1056843678585431, \"Symmetry\": -0.8084057592371579, \"Fractal_Dimension\": -0.8947996052307955}, {\"ID\": 927241, \"Class\": \"Malignant\", \"Radius\": 1.8367249091332285, \"Texture\": 2.3344031612478098, \"Perimeter\": 1.9807812735570829, \"Area\": 1.733692528140535, \"Smoothness\": 1.524425730130428, \"Compactness\": 3.2692671728649114, \"Concavity\": 3.2940455884056234, \"Concave_Points\": 2.656528264981993, \"Symmetry\": 2.1353153987536198, \"Fractal_Dimension\": 1.042777881513122}, {\"ID\": 92751, \"Class\": \"Benign\", \"Radius\": -1.8068114415822731, \"Texture\": 1.2207179332727258, \"Perimeter\": -1.812793438608024, \"Area\": -1.3466043684937452, \"Smoothness\": -3.109348888676475, \"Compactness\": -1.149740830811569, \"Concavity\": -1.1138927357766064, \"Concave_Points\": -1.260710291926114, \"Symmetry\": -0.8193489605679783, \"Fractal_Dimension\": -0.5605391616112307}]}}, {\"mode\": \"vega-lite\"});\n",
       "</script>"
      ],
      "text/plain": [
       "alt.Chart(...)"
      ]
     },
     "execution_count": 8,
     "metadata": {},
     "output_type": "execute_result"
    }
   ],
   "source": [
    "colors = [\"#86bfef\", \"#efb13f\"]\n",
    "cancer[\"Class\"] = cancer[\"Class\"].apply(\n",
    "    lambda x: \"Malignant\" if (x == \"M\") else \"Benign\"\n",
    ")\n",
    "perim_concav = (\n",
    "    alt.Chart(cancer)\n",
    "    .mark_point(opacity=0.6, filled=True, size=40)\n",
    "    .encode(\n",
    "        x=alt.X(\"Perimeter\", title=\"Perimeter (standardized)\"),\n",
    "        y=alt.Y(\"Concavity\", title=\"Concavity (standardized)\"),\n",
    "        color=alt.Color(\"Class\", scale=alt.Scale(range=colors), title=\"Diagnosis\"),\n",
    "    )\n",
    ")\n",
    "perim_concav"
   ]
  },
  {
   "cell_type": "markdown",
   "id": "d0c1f5ce",
   "metadata": {},
   "source": [
    "```{figure} data:image/gif;base64,R0lGODlhAQABAIAAAAAAAP///yH5BAEAAAAALAAAAAABAAEAAAIBRAA7\n",
    ":name: fig:05-scatter\n",
    ":figclass: caption-hack\n",
    "\n",
    "Scatter plot of concavity versus perimeter colored by diagnosis label.\n",
    "```"
   ]
  },
  {
   "cell_type": "markdown",
   "id": "83c17b5f",
   "metadata": {},
   "source": [
    "In {numref}`fig:05-scatter`, we can see that malignant observations typically fall in\n",
    "the upper right-hand corner of the plot area. By contrast, benign\n",
    "observations typically fall in the lower left-hand corner of the plot. In other words,\n",
    "benign observations tend to have lower concavity and perimeter values, and malignant\n",
    "ones tend to have larger values. Suppose we\n",
    "obtain a new observation not in the current data set that has all the variables\n",
    "measured *except* the label (i.e., an image without the physician's diagnosis\n",
    "for the tumor class). We could compute the standardized perimeter and concavity values,\n",
    "resulting in values of, say, 1 and 1. Could we use this information to classify\n",
    "that observation as benign or malignant? Based on the scatter plot, how might \n",
    "you classify that new observation? If the standardized concavity and perimeter\n",
    "values are 1 and 1 respectively, the point would lie in the middle of the\n",
    "orange cloud of malignant points and thus we could probably classify it as\n",
    "malignant. Based on our visualization, it seems like \n",
    "the *prediction of an unobserved label* might be possible."
   ]
  },
  {
   "cell_type": "markdown",
   "id": "b31bac50",
   "metadata": {},
   "source": [
    "## Classification with $K$-nearest neighbors"
   ]
  },
  {
   "cell_type": "code",
   "execution_count": 9,
   "id": "b01804b2",
   "metadata": {
    "tags": [
     "remove-cell"
    ]
   },
   "outputs": [
    {
     "ename": "NameError",
     "evalue": "name 'euclidean_distances' is not defined",
     "output_type": "error",
     "traceback": [
      "\u001b[0;31m---------------------------------------------------------------------------\u001b[0m",
      "\u001b[0;31mNameError\u001b[0m                                 Traceback (most recent call last)",
      "Input \u001b[0;32mIn [9]\u001b[0m, in \u001b[0;36m<cell line: 9>\u001b[0;34m()\u001b[0m\n\u001b[1;32m      6\u001b[0m perim_concav_with_new_point_df \u001b[38;5;241m=\u001b[39m pd\u001b[38;5;241m.\u001b[39mconcat((cancer, points_df), ignore_index\u001b[38;5;241m=\u001b[39m\u001b[38;5;28;01mTrue\u001b[39;00m)\n\u001b[1;32m      7\u001b[0m \u001b[38;5;66;03m# Find the euclidean distances from the new point to each of the points\u001b[39;00m\n\u001b[1;32m      8\u001b[0m \u001b[38;5;66;03m# in the orginal dataset\u001b[39;00m\n\u001b[0;32m----> 9\u001b[0m my_distances \u001b[38;5;241m=\u001b[39m \u001b[43meuclidean_distances\u001b[49m(perim_concav_with_new_point_df\u001b[38;5;241m.\u001b[39mloc[:, attrs])[\n\u001b[1;32m     10\u001b[0m     \u001b[38;5;28mlen\u001b[39m(cancer)\n\u001b[1;32m     11\u001b[0m ][:\u001b[38;5;241m-\u001b[39m\u001b[38;5;241m1\u001b[39m]\n\u001b[1;32m     12\u001b[0m glue(\u001b[38;5;124m\"\u001b[39m\u001b[38;5;124m1-new_point_0\u001b[39m\u001b[38;5;124m\"\u001b[39m, new_point[\u001b[38;5;241m0\u001b[39m])\n\u001b[1;32m     13\u001b[0m glue(\u001b[38;5;124m\"\u001b[39m\u001b[38;5;124m1-new_point_1\u001b[39m\u001b[38;5;124m\"\u001b[39m, new_point[\u001b[38;5;241m1\u001b[39m])\n",
      "\u001b[0;31mNameError\u001b[0m: name 'euclidean_distances' is not defined"
     ]
    }
   ],
   "source": [
    "new_point = [2, 4]\n",
    "attrs = [\"Perimeter\", \"Concavity\"]\n",
    "points_df = pd.DataFrame(\n",
    "    {\"Perimeter\": new_point[0], \"Concavity\": new_point[1], \"Class\": [\"Unknown\"]}\n",
    ")\n",
    "perim_concav_with_new_point_df = pd.concat((cancer, points_df), ignore_index=True)\n",
    "# Find the euclidean distances from the new point to each of the points\n",
    "# in the orginal dataset\n",
    "my_distances = euclidean_distances(perim_concav_with_new_point_df.loc[:, attrs])[\n",
    "    len(cancer)\n",
    "][:-1]\n",
    "glue(\"1-new_point_0\", new_point[0])\n",
    "glue(\"1-new_point_1\", new_point[1])"
   ]
  },
  {
   "cell_type": "markdown",
   "id": "da3effa8",
   "metadata": {},
   "source": [
    "In order to actually make predictions for new observations in practice, we\n",
    "will need a classification algorithm. \n",
    "In this book, we will use the $K$-nearest neighbors \\index{K-nearest neighbors!classification} classification algorithm.\n",
    "To predict the label of a new observation (here, classify it as either benign\n",
    "or malignant), the $K$-nearest neighbors classifier generally finds the $K$\n",
    "\"nearest\" or \"most similar\" observations in our training set, and then uses\n",
    "their diagnoses to make a prediction for the new observation's diagnosis. $K$ \n",
    "is a number that we must choose in advance; for now, we will assume that someone has chosen\n",
    "$K$ for us. We will cover how to choose $K$ ourselves in the next chapter. \n",
    "\n",
    "To illustrate the concept of $K$-nearest neighbors classification, we \n",
    "will walk through an example.  Suppose we have a\n",
    "new observation, with standardized perimeter of {glue:}`1-new_point_0` and standardized concavity of {glue:}`1-new_point_1`, whose \n",
    "diagnosis \"Class\" is unknown. This new observation is depicted by the red, diamond point in {numref}`fig:05-knn-2`."
   ]
  },
  {
   "cell_type": "code",
   "execution_count": 10,
   "id": "c2acace6",
   "metadata": {
    "tags": [
     "remove-cell"
    ]
   },
   "outputs": [
    {
     "ename": "NameError",
     "evalue": "name 'glue' is not defined",
     "output_type": "error",
     "traceback": [
      "\u001b[0;31m---------------------------------------------------------------------------\u001b[0m",
      "\u001b[0;31mNameError\u001b[0m                                 Traceback (most recent call last)",
      "Input \u001b[0;32mIn [10]\u001b[0m, in \u001b[0;36m<cell line: 21>\u001b[0;34m()\u001b[0m\n\u001b[1;32m      1\u001b[0m perim_concav_with_new_point \u001b[38;5;241m=\u001b[39m (\n\u001b[1;32m      2\u001b[0m     alt\u001b[38;5;241m.\u001b[39mChart(\n\u001b[1;32m      3\u001b[0m         perim_concav_with_new_point_df,\n\u001b[0;32m   (...)\u001b[0m\n\u001b[1;32m     19\u001b[0m     )\n\u001b[1;32m     20\u001b[0m )\n\u001b[0;32m---> 21\u001b[0m \u001b[43mglue\u001b[49m(\u001b[38;5;124m'\u001b[39m\u001b[38;5;124mfig:05-knn-2\u001b[39m\u001b[38;5;124m'\u001b[39m, perim_concav_with_new_point, display\u001b[38;5;241m=\u001b[39m\u001b[38;5;28;01mTrue\u001b[39;00m)\n",
      "\u001b[0;31mNameError\u001b[0m: name 'glue' is not defined"
     ]
    }
   ],
   "source": [
    "perim_concav_with_new_point = (\n",
    "    alt.Chart(\n",
    "        perim_concav_with_new_point_df,\n",
    "        # title=\"Scatter plot of concavity versus perimeter with new observation represented as a red diamond.\",\n",
    "    )\n",
    "    .mark_point(opacity=0.6, filled=True, size=40)\n",
    "    .encode(\n",
    "        x=alt.X(\"Perimeter\", title=\"Perimeter (standardized)\"),\n",
    "        y=alt.Y(\"Concavity\", title=\"Concavity (standardized)\"),\n",
    "        color=alt.Color(\n",
    "            \"Class\",\n",
    "            scale=alt.Scale(range=[\"#86bfef\", \"#efb13f\", \"red\"]),\n",
    "            title=\"Diagnosis\",\n",
    "        ),\n",
    "        shape=alt.Shape(\n",
    "            \"Class\", scale=alt.Scale(range=[\"circle\", \"circle\", \"diamond\"])\n",
    "        ),\n",
    "        size=alt.condition(\"datum.Class == 'Unknown'\", alt.value(80), alt.value(30))\n",
    "    )\n",
    ")\n",
    "glue('fig:05-knn-2', perim_concav_with_new_point, display=True)"
   ]
  },
  {
   "cell_type": "markdown",
   "id": "b7480217",
   "metadata": {},
   "source": [
    ":::{glue:figure} fig:05-knn-2\n",
    ":name: fig:05-knn-2\n",
    "\n",
    "Scatter plot of concavity versus perimeter with new observation represented as a red diamond.\n",
    ":::"
   ]
  },
  {
   "cell_type": "code",
   "execution_count": 11,
   "id": "1f45a740",
   "metadata": {
    "tags": [
     "remove-cell"
    ]
   },
   "outputs": [
    {
     "ename": "NameError",
     "evalue": "name 'np' is not defined",
     "output_type": "error",
     "traceback": [
      "\u001b[0;31m---------------------------------------------------------------------------\u001b[0m",
      "\u001b[0;31mNameError\u001b[0m                                 Traceback (most recent call last)",
      "Input \u001b[0;32mIn [11]\u001b[0m, in \u001b[0;36m<cell line: 1>\u001b[0;34m()\u001b[0m\n\u001b[1;32m      1\u001b[0m near_neighbor_df \u001b[38;5;241m=\u001b[39m pd\u001b[38;5;241m.\u001b[39mconcat(\n\u001b[1;32m      2\u001b[0m     (\n\u001b[0;32m----> 3\u001b[0m         cancer\u001b[38;5;241m.\u001b[39mloc[\u001b[43mnp\u001b[49m\u001b[38;5;241m.\u001b[39margmin(my_distances), attrs],\n\u001b[1;32m      4\u001b[0m         perim_concav_with_new_point_df\u001b[38;5;241m.\u001b[39mloc[\u001b[38;5;28mlen\u001b[39m(cancer), attrs],\n\u001b[1;32m      5\u001b[0m     ),\n\u001b[1;32m      6\u001b[0m     axis\u001b[38;5;241m=\u001b[39m\u001b[38;5;241m1\u001b[39m,\n\u001b[1;32m      7\u001b[0m )\u001b[38;5;241m.\u001b[39mT\n\u001b[1;32m      8\u001b[0m glue(\u001b[38;5;124m\"\u001b[39m\u001b[38;5;124m1-neighbor_per\u001b[39m\u001b[38;5;124m\"\u001b[39m, \u001b[38;5;28mround\u001b[39m(near_neighbor_df\u001b[38;5;241m.\u001b[39miloc[\u001b[38;5;241m0\u001b[39m, :][\u001b[38;5;124m'\u001b[39m\u001b[38;5;124mPerimeter\u001b[39m\u001b[38;5;124m'\u001b[39m], \u001b[38;5;241m1\u001b[39m))\n\u001b[1;32m      9\u001b[0m glue(\u001b[38;5;124m\"\u001b[39m\u001b[38;5;124m1-neighbor_con\u001b[39m\u001b[38;5;124m\"\u001b[39m, \u001b[38;5;28mround\u001b[39m(near_neighbor_df\u001b[38;5;241m.\u001b[39miloc[\u001b[38;5;241m0\u001b[39m, :][\u001b[38;5;124m'\u001b[39m\u001b[38;5;124mConcavity\u001b[39m\u001b[38;5;124m'\u001b[39m], \u001b[38;5;241m1\u001b[39m))\n",
      "\u001b[0;31mNameError\u001b[0m: name 'np' is not defined"
     ]
    }
   ],
   "source": [
    "near_neighbor_df = pd.concat(\n",
    "    (\n",
    "        cancer.loc[np.argmin(my_distances), attrs],\n",
    "        perim_concav_with_new_point_df.loc[len(cancer), attrs],\n",
    "    ),\n",
    "    axis=1,\n",
    ").T\n",
    "glue(\"1-neighbor_per\", round(near_neighbor_df.iloc[0, :]['Perimeter'], 1))\n",
    "glue(\"1-neighbor_con\", round(near_neighbor_df.iloc[0, :]['Concavity'], 1))"
   ]
  },
  {
   "cell_type": "markdown",
   "id": "aaaf06b6",
   "metadata": {},
   "source": [
    "{numref}`fig:05-knn-3` shows that the nearest point to this new observation is **malignant** and\n",
    "located at the coordinates ({glue:}`1-neighbor_per`, {glue:}`1-neighbor_con`). The idea here is that if a point is close to another in the scatter plot,\n",
    "then the perimeter and concavity values are similar, and so we may expect that\n",
    "they would have the same diagnosis."
   ]
  },
  {
   "cell_type": "code",
   "execution_count": 12,
   "id": "33713b2f",
   "metadata": {
    "tags": [
     "remove-cell"
    ]
   },
   "outputs": [
    {
     "ename": "NameError",
     "evalue": "name 'near_neighbor_df' is not defined",
     "output_type": "error",
     "traceback": [
      "\u001b[0;31m---------------------------------------------------------------------------\u001b[0m",
      "\u001b[0;31mNameError\u001b[0m                                 Traceback (most recent call last)",
      "Input \u001b[0;32mIn [12]\u001b[0m, in \u001b[0;36m<cell line: 2>\u001b[0;34m()\u001b[0m\n\u001b[1;32m      1\u001b[0m line \u001b[38;5;241m=\u001b[39m (\n\u001b[0;32m----> 2\u001b[0m     alt\u001b[38;5;241m.\u001b[39mChart(\u001b[43mnear_neighbor_df\u001b[49m)\n\u001b[1;32m      3\u001b[0m     \u001b[38;5;241m.\u001b[39mmark_line()\n\u001b[1;32m      4\u001b[0m     \u001b[38;5;241m.\u001b[39mencode(x\u001b[38;5;241m=\u001b[39m\u001b[38;5;124m\"\u001b[39m\u001b[38;5;124mPerimeter\u001b[39m\u001b[38;5;124m\"\u001b[39m, y\u001b[38;5;241m=\u001b[39m\u001b[38;5;124m\"\u001b[39m\u001b[38;5;124mConcavity\u001b[39m\u001b[38;5;124m\"\u001b[39m, color\u001b[38;5;241m=\u001b[39malt\u001b[38;5;241m.\u001b[39mvalue(\u001b[38;5;124m\"\u001b[39m\u001b[38;5;124mblack\u001b[39m\u001b[38;5;124m\"\u001b[39m))\n\u001b[1;32m      5\u001b[0m )\n\u001b[1;32m      7\u001b[0m glue(\u001b[38;5;124m'\u001b[39m\u001b[38;5;124mfig:05-knn-3\u001b[39m\u001b[38;5;124m'\u001b[39m, (perim_concav_with_new_point \u001b[38;5;241m+\u001b[39m line), display\u001b[38;5;241m=\u001b[39m\u001b[38;5;28;01mTrue\u001b[39;00m)\n",
      "\u001b[0;31mNameError\u001b[0m: name 'near_neighbor_df' is not defined"
     ]
    }
   ],
   "source": [
    "line = (\n",
    "    alt.Chart(near_neighbor_df)\n",
    "    .mark_line()\n",
    "    .encode(x=\"Perimeter\", y=\"Concavity\", color=alt.value(\"black\"))\n",
    ")\n",
    "\n",
    "glue('fig:05-knn-3', (perim_concav_with_new_point + line), display=True)"
   ]
  },
  {
   "cell_type": "markdown",
   "id": "1b72d2c9",
   "metadata": {},
   "source": [
    ":::{glue:figure} fig:05-knn-3\n",
    ":name: fig:05-knn-3\n",
    "\n",
    "Scatter plot of concavity versus perimeter. The new observation is represented as a red diamond with a line to the one nearest neighbor, which has a malignant label.\n",
    ":::"
   ]
  },
  {
   "cell_type": "code",
   "execution_count": 13,
   "id": "85c7f02c",
   "metadata": {
    "tags": [
     "remove-cell"
    ]
   },
   "outputs": [
    {
     "ename": "NameError",
     "evalue": "name 'euclidean_distances' is not defined",
     "output_type": "error",
     "traceback": [
      "\u001b[0;31m---------------------------------------------------------------------------\u001b[0m",
      "\u001b[0;31mNameError\u001b[0m                                 Traceback (most recent call last)",
      "Input \u001b[0;32mIn [13]\u001b[0m, in \u001b[0;36m<cell line: 9>\u001b[0;34m()\u001b[0m\n\u001b[1;32m      6\u001b[0m perim_concav_with_new_point_df2 \u001b[38;5;241m=\u001b[39m pd\u001b[38;5;241m.\u001b[39mconcat((cancer, points_df2), ignore_index\u001b[38;5;241m=\u001b[39m\u001b[38;5;28;01mTrue\u001b[39;00m)\n\u001b[1;32m      7\u001b[0m \u001b[38;5;66;03m# Find the euclidean distances from the new point to each of the points\u001b[39;00m\n\u001b[1;32m      8\u001b[0m \u001b[38;5;66;03m# in the orginal dataset\u001b[39;00m\n\u001b[0;32m----> 9\u001b[0m my_distances2 \u001b[38;5;241m=\u001b[39m \u001b[43meuclidean_distances\u001b[49m(perim_concav_with_new_point_df2\u001b[38;5;241m.\u001b[39mloc[:, attrs])[\n\u001b[1;32m     10\u001b[0m     \u001b[38;5;28mlen\u001b[39m(cancer)\n\u001b[1;32m     11\u001b[0m ][:\u001b[38;5;241m-\u001b[39m\u001b[38;5;241m1\u001b[39m]\n\u001b[1;32m     12\u001b[0m glue(\u001b[38;5;124m\"\u001b[39m\u001b[38;5;124m2-new_point_0\u001b[39m\u001b[38;5;124m\"\u001b[39m, new_point[\u001b[38;5;241m0\u001b[39m])\n\u001b[1;32m     13\u001b[0m glue(\u001b[38;5;124m\"\u001b[39m\u001b[38;5;124m2-new_point_1\u001b[39m\u001b[38;5;124m\"\u001b[39m, new_point[\u001b[38;5;241m1\u001b[39m])\n",
      "\u001b[0;31mNameError\u001b[0m: name 'euclidean_distances' is not defined"
     ]
    }
   ],
   "source": [
    "new_point = [0.2, 3.3]\n",
    "attrs = [\"Perimeter\", \"Concavity\"]\n",
    "points_df2 = pd.DataFrame(\n",
    "    {\"Perimeter\": new_point[0], \"Concavity\": new_point[1], \"Class\": [\"Unknown\"]}\n",
    ")\n",
    "perim_concav_with_new_point_df2 = pd.concat((cancer, points_df2), ignore_index=True)\n",
    "# Find the euclidean distances from the new point to each of the points\n",
    "# in the orginal dataset\n",
    "my_distances2 = euclidean_distances(perim_concav_with_new_point_df2.loc[:, attrs])[\n",
    "    len(cancer)\n",
    "][:-1]\n",
    "glue(\"2-new_point_0\", new_point[0])\n",
    "glue(\"2-new_point_1\", new_point[1])"
   ]
  },
  {
   "cell_type": "code",
   "execution_count": 14,
   "id": "7c13c178",
   "metadata": {
    "tags": [
     "remove-cell"
    ]
   },
   "outputs": [
    {
     "ename": "NameError",
     "evalue": "name 'np' is not defined",
     "output_type": "error",
     "traceback": [
      "\u001b[0;31m---------------------------------------------------------------------------\u001b[0m",
      "\u001b[0;31mNameError\u001b[0m                                 Traceback (most recent call last)",
      "Input \u001b[0;32mIn [14]\u001b[0m, in \u001b[0;36m<cell line: 22>\u001b[0;34m()\u001b[0m\n\u001b[1;32m      1\u001b[0m perim_concav_with_new_point2 \u001b[38;5;241m=\u001b[39m (\n\u001b[1;32m      2\u001b[0m     alt\u001b[38;5;241m.\u001b[39mChart(\n\u001b[1;32m      3\u001b[0m         perim_concav_with_new_point_df2,\n\u001b[0;32m   (...)\u001b[0m\n\u001b[1;32m     19\u001b[0m     )\n\u001b[1;32m     20\u001b[0m )\n\u001b[1;32m     22\u001b[0m near_neighbor_df2 \u001b[38;5;241m=\u001b[39m pd\u001b[38;5;241m.\u001b[39mconcat(\n\u001b[1;32m     23\u001b[0m     (\n\u001b[0;32m---> 24\u001b[0m         cancer\u001b[38;5;241m.\u001b[39mloc[\u001b[43mnp\u001b[49m\u001b[38;5;241m.\u001b[39margmin(my_distances2), attrs],\n\u001b[1;32m     25\u001b[0m         perim_concav_with_new_point_df2\u001b[38;5;241m.\u001b[39mloc[\u001b[38;5;28mlen\u001b[39m(cancer), attrs],\n\u001b[1;32m     26\u001b[0m     ),\n\u001b[1;32m     27\u001b[0m     axis\u001b[38;5;241m=\u001b[39m\u001b[38;5;241m1\u001b[39m,\n\u001b[1;32m     28\u001b[0m )\u001b[38;5;241m.\u001b[39mT\n\u001b[1;32m     29\u001b[0m line2 \u001b[38;5;241m=\u001b[39m alt\u001b[38;5;241m.\u001b[39mChart(near_neighbor_df2)\u001b[38;5;241m.\u001b[39mmark_line()\u001b[38;5;241m.\u001b[39mencode(\n\u001b[1;32m     30\u001b[0m     x\u001b[38;5;241m=\u001b[39m\u001b[38;5;124m'\u001b[39m\u001b[38;5;124mPerimeter\u001b[39m\u001b[38;5;124m'\u001b[39m,\n\u001b[1;32m     31\u001b[0m     y\u001b[38;5;241m=\u001b[39m\u001b[38;5;124m'\u001b[39m\u001b[38;5;124mConcavity\u001b[39m\u001b[38;5;124m'\u001b[39m,\n\u001b[1;32m     32\u001b[0m     color\u001b[38;5;241m=\u001b[39malt\u001b[38;5;241m.\u001b[39mvalue(\u001b[38;5;124m'\u001b[39m\u001b[38;5;124mblack\u001b[39m\u001b[38;5;124m'\u001b[39m)\n\u001b[1;32m     33\u001b[0m )\n\u001b[1;32m     35\u001b[0m glue(\u001b[38;5;124m\"\u001b[39m\u001b[38;5;124m2-neighbor_per\u001b[39m\u001b[38;5;124m\"\u001b[39m, \u001b[38;5;28mround\u001b[39m(near_neighbor_df2\u001b[38;5;241m.\u001b[39miloc[\u001b[38;5;241m0\u001b[39m, :][\u001b[38;5;124m'\u001b[39m\u001b[38;5;124mPerimeter\u001b[39m\u001b[38;5;124m'\u001b[39m], \u001b[38;5;241m1\u001b[39m))\n",
      "\u001b[0;31mNameError\u001b[0m: name 'np' is not defined"
     ]
    }
   ],
   "source": [
    "perim_concav_with_new_point2 = (\n",
    "    alt.Chart(\n",
    "        perim_concav_with_new_point_df2,\n",
    "        # title=\"Scatter plot of concavity versus perimeter with new observation represented as a red diamond.\",\n",
    "    )\n",
    "    .mark_point(opacity=0.6, filled=True, size=40)\n",
    "    .encode(\n",
    "        x=alt.X(\"Perimeter\", title=\"Perimeter (standardized)\"),\n",
    "        y=alt.Y(\"Concavity\", title=\"Concavity (standardized)\"),\n",
    "        color=alt.Color(\n",
    "            \"Class\",\n",
    "            scale=alt.Scale(range=[\"#86bfef\", \"#efb13f\", \"red\"]),\n",
    "            title=\"Diagnosis\",\n",
    "        ),\n",
    "        shape=alt.Shape(\n",
    "            \"Class\", scale=alt.Scale(range=[\"circle\", \"circle\", \"diamond\"])\n",
    "        ),\n",
    "        size=alt.condition(\"datum.Class == 'Unknown'\", alt.value(80), alt.value(30))\n",
    "    )\n",
    ")\n",
    "\n",
    "near_neighbor_df2 = pd.concat(\n",
    "    (\n",
    "        cancer.loc[np.argmin(my_distances2), attrs],\n",
    "        perim_concav_with_new_point_df2.loc[len(cancer), attrs],\n",
    "    ),\n",
    "    axis=1,\n",
    ").T\n",
    "line2 = alt.Chart(near_neighbor_df2).mark_line().encode(\n",
    "    x='Perimeter',\n",
    "    y='Concavity',\n",
    "    color=alt.value('black')\n",
    ")\n",
    "\n",
    "glue(\"2-neighbor_per\", round(near_neighbor_df2.iloc[0, :]['Perimeter'], 1))\n",
    "glue(\"2-neighbor_con\", round(near_neighbor_df2.iloc[0, :]['Concavity'], 1))\n",
    "glue('fig:05-knn-4', (perim_concav_with_new_point2 + line2), display=True)"
   ]
  },
  {
   "cell_type": "markdown",
   "id": "f59ce0b3",
   "metadata": {},
   "source": [
    "Suppose we have another new observation with standardized perimeter {glue:}`2-new_point_0` and\n",
    "concavity of {glue:}`2-new_point_1`. Looking at the scatter plot in {numref}`fig:05-knn-4`, how would you\n",
    "classify this red, diamond observation? The nearest neighbor to this new point is a\n",
    "**benign** observation at ({glue:}`2-neighbor_per`, {glue:}`2-neighbor_con`).\n",
    "Does this seem like the right prediction to make for this observation? Probably \n",
    "not, if you consider the other nearby points."
   ]
  },
  {
   "cell_type": "markdown",
   "id": "2ad95161",
   "metadata": {},
   "source": [
    ":::{glue:figure} fig:05-knn-4\n",
    ":name: fig:05-knn-4\n",
    "\n",
    "Scatter plot of concavity versus perimeter. The new observation is represented as a red diamond with a line to the one nearest neighbor, which has a benign label.\n",
    ":::"
   ]
  },
  {
   "cell_type": "code",
   "execution_count": 15,
   "id": "1c7fffae",
   "metadata": {
    "tags": [
     "remove-cell"
    ]
   },
   "outputs": [
    {
     "ename": "NameError",
     "evalue": "name 'np' is not defined",
     "output_type": "error",
     "traceback": [
      "\u001b[0;31m---------------------------------------------------------------------------\u001b[0m",
      "\u001b[0;31mNameError\u001b[0m                                 Traceback (most recent call last)",
      "Input \u001b[0;32mIn [15]\u001b[0m, in \u001b[0;36m<cell line: 2>\u001b[0;34m()\u001b[0m\n\u001b[1;32m      1\u001b[0m \u001b[38;5;66;03m# The index of 3 rows that has smallest distance to the new point\u001b[39;00m\n\u001b[0;32m----> 2\u001b[0m min_3_idx \u001b[38;5;241m=\u001b[39m \u001b[43mnp\u001b[49m\u001b[38;5;241m.\u001b[39margpartition(my_distances2, \u001b[38;5;241m3\u001b[39m)[:\u001b[38;5;241m3\u001b[39m]\n\u001b[1;32m      3\u001b[0m near_neighbor_df3 \u001b[38;5;241m=\u001b[39m pd\u001b[38;5;241m.\u001b[39mconcat(\n\u001b[1;32m      4\u001b[0m     (\n\u001b[1;32m      5\u001b[0m         cancer\u001b[38;5;241m.\u001b[39mloc[min_3_idx[\u001b[38;5;241m1\u001b[39m], attrs],\n\u001b[0;32m   (...)\u001b[0m\n\u001b[1;32m      8\u001b[0m     axis\u001b[38;5;241m=\u001b[39m\u001b[38;5;241m1\u001b[39m,\n\u001b[1;32m      9\u001b[0m )\u001b[38;5;241m.\u001b[39mT\n\u001b[1;32m     10\u001b[0m near_neighbor_df4 \u001b[38;5;241m=\u001b[39m pd\u001b[38;5;241m.\u001b[39mconcat(\n\u001b[1;32m     11\u001b[0m     (\n\u001b[1;32m     12\u001b[0m         cancer\u001b[38;5;241m.\u001b[39mloc[min_3_idx[\u001b[38;5;241m2\u001b[39m], attrs],\n\u001b[0;32m   (...)\u001b[0m\n\u001b[1;32m     15\u001b[0m     axis\u001b[38;5;241m=\u001b[39m\u001b[38;5;241m1\u001b[39m,\n\u001b[1;32m     16\u001b[0m )\u001b[38;5;241m.\u001b[39mT\n",
      "\u001b[0;31mNameError\u001b[0m: name 'np' is not defined"
     ]
    }
   ],
   "source": [
    "# The index of 3 rows that has smallest distance to the new point\n",
    "min_3_idx = np.argpartition(my_distances2, 3)[:3]\n",
    "near_neighbor_df3 = pd.concat(\n",
    "    (\n",
    "        cancer.loc[min_3_idx[1], attrs],\n",
    "        perim_concav_with_new_point_df2.loc[len(cancer), attrs],\n",
    "    ),\n",
    "    axis=1,\n",
    ").T\n",
    "near_neighbor_df4 = pd.concat(\n",
    "    (\n",
    "        cancer.loc[min_3_idx[2], attrs],\n",
    "        perim_concav_with_new_point_df2.loc[len(cancer), attrs],\n",
    "    ),\n",
    "    axis=1,\n",
    ").T"
   ]
  },
  {
   "cell_type": "code",
   "execution_count": 16,
   "id": "35f82598",
   "metadata": {
    "tags": [
     "remove-cell"
    ]
   },
   "outputs": [
    {
     "ename": "NameError",
     "evalue": "name 'near_neighbor_df3' is not defined",
     "output_type": "error",
     "traceback": [
      "\u001b[0;31m---------------------------------------------------------------------------\u001b[0m",
      "\u001b[0;31mNameError\u001b[0m                                 Traceback (most recent call last)",
      "Input \u001b[0;32mIn [16]\u001b[0m, in \u001b[0;36m<cell line: 1>\u001b[0;34m()\u001b[0m\n\u001b[0;32m----> 1\u001b[0m line3 \u001b[38;5;241m=\u001b[39m alt\u001b[38;5;241m.\u001b[39mChart(\u001b[43mnear_neighbor_df3\u001b[49m)\u001b[38;5;241m.\u001b[39mmark_line()\u001b[38;5;241m.\u001b[39mencode(\n\u001b[1;32m      2\u001b[0m     x\u001b[38;5;241m=\u001b[39m\u001b[38;5;124m'\u001b[39m\u001b[38;5;124mPerimeter\u001b[39m\u001b[38;5;124m'\u001b[39m,\n\u001b[1;32m      3\u001b[0m     y\u001b[38;5;241m=\u001b[39m\u001b[38;5;124m'\u001b[39m\u001b[38;5;124mConcavity\u001b[39m\u001b[38;5;124m'\u001b[39m,\n\u001b[1;32m      4\u001b[0m     color\u001b[38;5;241m=\u001b[39malt\u001b[38;5;241m.\u001b[39mvalue(\u001b[38;5;124m'\u001b[39m\u001b[38;5;124mblack\u001b[39m\u001b[38;5;124m'\u001b[39m)\n\u001b[1;32m      5\u001b[0m )\n\u001b[1;32m      6\u001b[0m line4 \u001b[38;5;241m=\u001b[39m alt\u001b[38;5;241m.\u001b[39mChart(near_neighbor_df4)\u001b[38;5;241m.\u001b[39mmark_line()\u001b[38;5;241m.\u001b[39mencode(\n\u001b[1;32m      7\u001b[0m     x\u001b[38;5;241m=\u001b[39m\u001b[38;5;124m'\u001b[39m\u001b[38;5;124mPerimeter\u001b[39m\u001b[38;5;124m'\u001b[39m,\n\u001b[1;32m      8\u001b[0m     y\u001b[38;5;241m=\u001b[39m\u001b[38;5;124m'\u001b[39m\u001b[38;5;124mConcavity\u001b[39m\u001b[38;5;124m'\u001b[39m,\n\u001b[1;32m      9\u001b[0m     color\u001b[38;5;241m=\u001b[39malt\u001b[38;5;241m.\u001b[39mvalue(\u001b[38;5;124m'\u001b[39m\u001b[38;5;124mblack\u001b[39m\u001b[38;5;124m'\u001b[39m)\n\u001b[1;32m     10\u001b[0m )\n\u001b[1;32m     11\u001b[0m glue(\u001b[38;5;124m'\u001b[39m\u001b[38;5;124mfig:05-knn-5\u001b[39m\u001b[38;5;124m'\u001b[39m, (perim_concav_with_new_point2 \u001b[38;5;241m+\u001b[39m line2 \u001b[38;5;241m+\u001b[39m line3 \u001b[38;5;241m+\u001b[39m line4), display\u001b[38;5;241m=\u001b[39m\u001b[38;5;28;01mTrue\u001b[39;00m)\n",
      "\u001b[0;31mNameError\u001b[0m: name 'near_neighbor_df3' is not defined"
     ]
    }
   ],
   "source": [
    "line3 = alt.Chart(near_neighbor_df3).mark_line().encode(\n",
    "    x='Perimeter',\n",
    "    y='Concavity',\n",
    "    color=alt.value('black')\n",
    ")\n",
    "line4 = alt.Chart(near_neighbor_df4).mark_line().encode(\n",
    "    x='Perimeter',\n",
    "    y='Concavity',\n",
    "    color=alt.value('black')\n",
    ")\n",
    "glue('fig:05-knn-5', (perim_concav_with_new_point2 + line2 + line3 + line4), display=True)"
   ]
  },
  {
   "cell_type": "markdown",
   "id": "a9c094a0",
   "metadata": {},
   "source": [
    "To improve the prediction we can consider several\n",
    "neighboring points, say $K = 3$, that are closest to the new observation\n",
    "to predict its diagnosis class. Among those 3 closest points, we use the\n",
    "*majority class* as our prediction for the new observation. As shown in {numref}`fig:05-knn-5`, we\n",
    "see that the diagnoses of 2 of the 3 nearest neighbors to our new observation\n",
    "are malignant. Therefore we take majority vote and classify our new red, diamond\n",
    "observation as malignant."
   ]
  },
  {
   "cell_type": "markdown",
   "id": "d4b509c2",
   "metadata": {},
   "source": [
    ":::{glue:figure} fig:05-knn-5\n",
    ":name: fig:05-knn-5\n",
    "\n",
    "Scatter plot of concavity versus perimeter with three nearest neighbors.\n",
    ":::"
   ]
  },
  {
   "cell_type": "markdown",
   "id": "f4da9dd5",
   "metadata": {},
   "source": [
    "Here we chose the $K=3$ nearest observations, but there is nothing special\n",
    "about $K=3$. We could have used $K=4, 5$ or more (though we may want to choose\n",
    "an odd number to avoid ties). We will discuss more about choosing $K$ in the\n",
    "next chapter."
   ]
  },
  {
   "cell_type": "markdown",
   "id": "dc891c9e",
   "metadata": {},
   "source": [
    "### Distance between points\n",
    "\n",
    "We decide which points are the $K$ \"nearest\" to our new observation\n",
    "using the *straight-line distance* (we will often just refer to this as *distance*). \\index{distance!K-nearest neighbors}\\index{straight line!distance}\n",
    "Suppose we have two observations $a$ and $b$, each having two predictor variables, $x$ and $y$.\n",
    "Denote $a_x$ and $a_y$ to be the values of variables $x$ and $y$ for observation $a$;\n",
    "$b_x$ and $b_y$ have similar definitions for observation $b$.\n",
    "Then the straight-line distance between observation $a$ and $b$ on the x-y plane can \n",
    "be computed using the following formula: \n",
    "\n",
    "$$\\mathrm{Distance} = \\sqrt{(a_x -b_x)^2 + (a_y - b_y)^2}$$"
   ]
  },
  {
   "cell_type": "markdown",
   "id": "f607a073",
   "metadata": {},
   "source": [
    "To find the $K$ nearest neighbors to our new observation, we compute the distance\n",
    "from that new observation to each observation in our training data, and select the $K$ observations corresponding to the\n",
    "$K$ *smallest* distance values. For example, suppose we want to use $K=5$ neighbors to classify a new \n",
    "observation with perimeter of {glue:}`3-new_point_0` and \n",
    "concavity of {glue:}`3-new_point_1`, shown as a red diamond in {numref}`fig:05-multiknn-1`. Let's calculate the distances\n",
    "between our new point and each of the observations in the training set to find\n",
    "the $K=5$ neighbors that are nearest to our new point. \n",
    "You will see in the code below \\index{mutate}, we compute the straight-line\n",
    "distance using the formula above: we square the differences between the two observations' perimeter \n",
    "and concavity coordinates, add the squared differences, and then take the square root."
   ]
  },
  {
   "cell_type": "code",
   "execution_count": 17,
   "id": "cabf5e48",
   "metadata": {
    "tags": [
     "remove-cell"
    ]
   },
   "outputs": [
    {
     "ename": "NameError",
     "evalue": "name 'glue' is not defined",
     "output_type": "error",
     "traceback": [
      "\u001b[0;31m---------------------------------------------------------------------------\u001b[0m",
      "\u001b[0;31mNameError\u001b[0m                                 Traceback (most recent call last)",
      "Input \u001b[0;32mIn [17]\u001b[0m, in \u001b[0;36m<cell line: 27>\u001b[0;34m()\u001b[0m\n\u001b[1;32m      6\u001b[0m perim_concav_with_new_point_df3 \u001b[38;5;241m=\u001b[39m pd\u001b[38;5;241m.\u001b[39mconcat((cancer, points_df3), ignore_index\u001b[38;5;241m=\u001b[39m\u001b[38;5;28;01mTrue\u001b[39;00m)\n\u001b[1;32m      7\u001b[0m perim_concav_with_new_point3 \u001b[38;5;241m=\u001b[39m (\n\u001b[1;32m      8\u001b[0m     alt\u001b[38;5;241m.\u001b[39mChart(\n\u001b[1;32m      9\u001b[0m         perim_concav_with_new_point_df3,\n\u001b[0;32m   (...)\u001b[0m\n\u001b[1;32m     24\u001b[0m     )\n\u001b[1;32m     25\u001b[0m )\n\u001b[0;32m---> 27\u001b[0m \u001b[43mglue\u001b[49m(\u001b[38;5;124m\"\u001b[39m\u001b[38;5;124m3-new_point_0\u001b[39m\u001b[38;5;124m\"\u001b[39m, new_point[\u001b[38;5;241m0\u001b[39m])\n\u001b[1;32m     28\u001b[0m glue(\u001b[38;5;124m\"\u001b[39m\u001b[38;5;124m3-new_point_1\u001b[39m\u001b[38;5;124m\"\u001b[39m, new_point[\u001b[38;5;241m1\u001b[39m])\n\u001b[1;32m     29\u001b[0m glue(\u001b[38;5;124m\"\u001b[39m\u001b[38;5;124mfig:05-multiknn-1\u001b[39m\u001b[38;5;124m\"\u001b[39m, perim_concav_with_new_point3)\n",
      "\u001b[0;31mNameError\u001b[0m: name 'glue' is not defined"
     ]
    }
   ],
   "source": [
    "new_point = [0, 3.5]\n",
    "attrs = [\"Perimeter\", \"Concavity\"]\n",
    "points_df3 = pd.DataFrame(\n",
    "    {\"Perimeter\": new_point[0], \"Concavity\": new_point[1], \"Class\": [\"Unknown\"]}\n",
    ")\n",
    "perim_concav_with_new_point_df3 = pd.concat((cancer, points_df3), ignore_index=True)\n",
    "perim_concav_with_new_point3 = (\n",
    "    alt.Chart(\n",
    "        perim_concav_with_new_point_df3,\n",
    "    )\n",
    "    .mark_point(opacity=0.6, filled=True, size=40)\n",
    "    .encode(\n",
    "        x=alt.X(\"Perimeter\", title=\"Perimeter (standardized)\"),\n",
    "        y=alt.Y(\"Concavity\", title=\"Concavity (standardized)\"),\n",
    "        color=alt.Color(\n",
    "            \"Class\",\n",
    "            scale=alt.Scale(range=[\"#86bfef\", \"#efb13f\", \"red\"]),\n",
    "            title=\"Diagnosis\",\n",
    "        ),\n",
    "        shape=alt.Shape(\n",
    "            \"Class\", scale=alt.Scale(range=[\"circle\", \"circle\", \"diamond\"])\n",
    "        ),\n",
    "        size=alt.condition(\"datum.Class == 'Unknown'\", alt.value(80), alt.value(30))\n",
    "    )\n",
    ")\n",
    "\n",
    "glue(\"3-new_point_0\", new_point[0])\n",
    "glue(\"3-new_point_1\", new_point[1])\n",
    "glue(\"fig:05-multiknn-1\", perim_concav_with_new_point3)"
   ]
  },
  {
   "cell_type": "markdown",
   "id": "bf024d83",
   "metadata": {},
   "source": [
    ":::{glue:figure} fig:05-multiknn-1\n",
    ":name: fig:05-multiknn-1\n",
    "\n",
    "Scatter plot of concavity versus perimeter with new observation represented as a red diamond.\n",
    ":::"
   ]
  },
  {
   "cell_type": "code",
   "execution_count": 18,
   "id": "cfb924a7",
   "metadata": {},
   "outputs": [
    {
     "ename": "NameError",
     "evalue": "name 'np' is not defined",
     "output_type": "error",
     "traceback": [
      "\u001b[0;31m---------------------------------------------------------------------------\u001b[0m",
      "\u001b[0;31mNameError\u001b[0m                                 Traceback (most recent call last)",
      "Input \u001b[0;32mIn [18]\u001b[0m, in \u001b[0;36m<cell line: 4>\u001b[0;34m()\u001b[0m\n\u001b[1;32m      2\u001b[0m new_obs_Concavity \u001b[38;5;241m=\u001b[39m \u001b[38;5;241m3.5\u001b[39m\n\u001b[1;32m      3\u001b[0m cancer_dist \u001b[38;5;241m=\u001b[39m cancer\u001b[38;5;241m.\u001b[39mloc[:, [\u001b[38;5;124m\"\u001b[39m\u001b[38;5;124mID\u001b[39m\u001b[38;5;124m\"\u001b[39m, \u001b[38;5;124m\"\u001b[39m\u001b[38;5;124mPerimeter\u001b[39m\u001b[38;5;124m\"\u001b[39m, \u001b[38;5;124m\"\u001b[39m\u001b[38;5;124mConcavity\u001b[39m\u001b[38;5;124m\"\u001b[39m, \u001b[38;5;124m\"\u001b[39m\u001b[38;5;124mClass\u001b[39m\u001b[38;5;124m\"\u001b[39m]]\n\u001b[0;32m----> 4\u001b[0m cancer_dist[\u001b[38;5;124m\"\u001b[39m\u001b[38;5;124mdist_from_new\u001b[39m\u001b[38;5;124m\"\u001b[39m] \u001b[38;5;241m=\u001b[39m \u001b[43mnp\u001b[49m\u001b[38;5;241m.\u001b[39msqrt(\n\u001b[1;32m      5\u001b[0m     (cancer_dist[\u001b[38;5;124m\"\u001b[39m\u001b[38;5;124mPerimeter\u001b[39m\u001b[38;5;124m\"\u001b[39m] \u001b[38;5;241m-\u001b[39m new_obs_Perimeter) \u001b[38;5;241m*\u001b[39m\u001b[38;5;241m*\u001b[39m \u001b[38;5;241m2\u001b[39m\n\u001b[1;32m      6\u001b[0m     \u001b[38;5;241m+\u001b[39m (cancer_dist[\u001b[38;5;124m\"\u001b[39m\u001b[38;5;124mConcavity\u001b[39m\u001b[38;5;124m\"\u001b[39m] \u001b[38;5;241m-\u001b[39m new_obs_Concavity) \u001b[38;5;241m*\u001b[39m\u001b[38;5;241m*\u001b[39m \u001b[38;5;241m2\u001b[39m\n\u001b[1;32m      7\u001b[0m )\n\u001b[1;32m      8\u001b[0m \u001b[38;5;66;03m# sort the rows in ascending order and take the first 5 rows\u001b[39;00m\n\u001b[1;32m      9\u001b[0m cancer_dist \u001b[38;5;241m=\u001b[39m cancer_dist\u001b[38;5;241m.\u001b[39msort_values(by\u001b[38;5;241m=\u001b[39m\u001b[38;5;124m\"\u001b[39m\u001b[38;5;124mdist_from_new\u001b[39m\u001b[38;5;124m\"\u001b[39m)\u001b[38;5;241m.\u001b[39mhead(\u001b[38;5;241m5\u001b[39m)\n",
      "\u001b[0;31mNameError\u001b[0m: name 'np' is not defined"
     ]
    }
   ],
   "source": [
    "new_obs_Perimeter = 0\n",
    "new_obs_Concavity = 3.5\n",
    "cancer_dist = cancer.loc[:, [\"ID\", \"Perimeter\", \"Concavity\", \"Class\"]]\n",
    "cancer_dist[\"dist_from_new\"] = np.sqrt(\n",
    "    (cancer_dist[\"Perimeter\"] - new_obs_Perimeter) ** 2\n",
    "    + (cancer_dist[\"Concavity\"] - new_obs_Concavity) ** 2\n",
    ")\n",
    "# sort the rows in ascending order and take the first 5 rows\n",
    "cancer_dist = cancer_dist.sort_values(by=\"dist_from_new\").head(5)\n",
    "cancer_dist"
   ]
  },
  {
   "cell_type": "markdown",
   "id": "a793bda4",
   "metadata": {},
   "source": [
    "In {numref}`tab:05-multiknn-mathtable` we show in mathematical detail how\n",
    "we computed the `dist_from_new` variable (the\n",
    "distance to the new observation) for each of the 5 nearest neighbors in the\n",
    "training data."
   ]
  },
  {
   "cell_type": "code",
   "execution_count": 19,
   "id": "5f05f47c",
   "metadata": {
    "tags": [
     "remove-cell"
    ]
   },
   "outputs": [],
   "source": [
    "## Couldn't find ways to have nice Latex equations in pandas dataframe\n",
    "\n",
    "# cancer_dist_eq = cancer_dist.copy()\n",
    "# cancer_dist_eq['Perimeter'] = round(cancer_dist_eq['Perimeter'], 2)\n",
    "# cancer_dist_eq['Concavity'] = round(cancer_dist_eq['Concavity'], 2)\n",
    "# for i in list(cancer_dist_eq.index):\n",
    "#     cancer_dist_eq.loc[\n",
    "#         i, \"Distance\"\n",
    "#     ] = f\"[({new_obs_Perimeter} - {round(cancer_dist_eq.loc[i, 'Perimeter'], 2)})² + ({new_obs_Concavity} - {round(cancer_dist_eq.loc[i, 'Concavity'], 2)})²]¹/² = {round(cancer_dist_eq.loc[i, 'dist_from_new'], 2)}\"\n",
    "# cancer_dist_eq[[\"Perimeter\", \"Concavity\", \"Distance\", \"Class\"]]"
   ]
  },
  {
   "cell_type": "markdown",
   "id": "2a88d9f7",
   "metadata": {},
   "source": [
    "```{table} Evaluating the distances from the new observation to each of its 5 nearest neighbors\n",
    ":name: tab:05-multiknn-mathtable\n",
    "| Perimeter | Concavity | Distance            | Class |\n",
    "|-----------|-----------|----------------------------------------|-------|\n",
    "| 0.24      | 2.65      | $\\sqrt{(0-0.24)^2+(3.5-2.65)^2}=0.88$| B     |\n",
    "| 0.75      | 2.87      | $\\sqrt{(0-0.75)^2+(3.5-2.87)^2}=0.98$| M     |\n",
    "| 0.62      | 2.54      | $\\sqrt{(0-0.62)^2+(3.5-2.54)^2}=1.14$| M     |\n",
    "| 0.42      | 2.31      | $\\sqrt{(0-0.42)^2+(3.5-2.31)^2}=1.26$| M     |\n",
    "| -1.16     | 4.04      | $\\sqrt{(0-(-1.16))^2+(3.5-4.04)^2}=1.28$| B     |\n",
    "```"
   ]
  },
  {
   "cell_type": "markdown",
   "id": "aeda4ca4",
   "metadata": {},
   "source": [
    "The result of this computation shows that 3 of the 5 nearest neighbors to our new observation are\n",
    "malignant (`M`); since this is the majority, we classify our new observation as malignant. \n",
    "These 5 neighbors are circled in {numref}`fig:05-multiknn-3`."
   ]
  },
  {
   "cell_type": "code",
   "execution_count": 20,
   "id": "5068565d",
   "metadata": {
    "tags": [
     "remove-cell"
    ]
   },
   "outputs": [
    {
     "ename": "NameError",
     "evalue": "name 'np' is not defined",
     "output_type": "error",
     "traceback": [
      "\u001b[0;31m---------------------------------------------------------------------------\u001b[0m",
      "\u001b[0;31mNameError\u001b[0m                                 Traceback (most recent call last)",
      "Input \u001b[0;32mIn [20]\u001b[0m, in \u001b[0;36m<cell line: 1>\u001b[0;34m()\u001b[0m\n\u001b[1;32m      1\u001b[0m circle_path_df \u001b[38;5;241m=\u001b[39m pd\u001b[38;5;241m.\u001b[39mDataFrame(\n\u001b[1;32m      2\u001b[0m     {\n\u001b[0;32m----> 3\u001b[0m         \u001b[38;5;124m\"\u001b[39m\u001b[38;5;124mPerimeter\u001b[39m\u001b[38;5;124m\"\u001b[39m: new_point[\u001b[38;5;241m0\u001b[39m] \u001b[38;5;241m+\u001b[39m \u001b[38;5;241m1.4\u001b[39m \u001b[38;5;241m*\u001b[39m \u001b[43mnp\u001b[49m\u001b[38;5;241m.\u001b[39mcos(np\u001b[38;5;241m.\u001b[39mlinspace(\u001b[38;5;241m0\u001b[39m, \u001b[38;5;241m2\u001b[39m \u001b[38;5;241m*\u001b[39m np\u001b[38;5;241m.\u001b[39mpi, \u001b[38;5;241m100\u001b[39m)),\n\u001b[1;32m      4\u001b[0m         \u001b[38;5;124m\"\u001b[39m\u001b[38;5;124mConcavity\u001b[39m\u001b[38;5;124m\"\u001b[39m: new_point[\u001b[38;5;241m1\u001b[39m] \u001b[38;5;241m+\u001b[39m \u001b[38;5;241m1.4\u001b[39m \u001b[38;5;241m*\u001b[39m np\u001b[38;5;241m.\u001b[39msin(np\u001b[38;5;241m.\u001b[39mlinspace(\u001b[38;5;241m0\u001b[39m, \u001b[38;5;241m2\u001b[39m \u001b[38;5;241m*\u001b[39m np\u001b[38;5;241m.\u001b[39mpi, \u001b[38;5;241m100\u001b[39m)),\n\u001b[1;32m      5\u001b[0m     }\n\u001b[1;32m      6\u001b[0m )\n\u001b[1;32m      7\u001b[0m circle \u001b[38;5;241m=\u001b[39m alt\u001b[38;5;241m.\u001b[39mChart(circle_path_df\u001b[38;5;241m.\u001b[39mreset_index())\u001b[38;5;241m.\u001b[39mmark_line(color\u001b[38;5;241m=\u001b[39m\u001b[38;5;124m'\u001b[39m\u001b[38;5;124mblack\u001b[39m\u001b[38;5;124m'\u001b[39m)\u001b[38;5;241m.\u001b[39mencode(\n\u001b[1;32m      8\u001b[0m     x\u001b[38;5;241m=\u001b[39m\u001b[38;5;124m'\u001b[39m\u001b[38;5;124mPerimeter\u001b[39m\u001b[38;5;124m'\u001b[39m,\n\u001b[1;32m      9\u001b[0m     y\u001b[38;5;241m=\u001b[39m\u001b[38;5;124m'\u001b[39m\u001b[38;5;124mConcavity\u001b[39m\u001b[38;5;124m'\u001b[39m,\n\u001b[1;32m     10\u001b[0m     order\u001b[38;5;241m=\u001b[39m\u001b[38;5;124m'\u001b[39m\u001b[38;5;124mindex\u001b[39m\u001b[38;5;124m'\u001b[39m\n\u001b[1;32m     11\u001b[0m )\n\u001b[1;32m     13\u001b[0m glue(\u001b[38;5;124m\"\u001b[39m\u001b[38;5;124mfig:05-multiknn-3\u001b[39m\u001b[38;5;124m\"\u001b[39m, (perim_concav_with_new_point3 \u001b[38;5;241m+\u001b[39m circle))\n",
      "\u001b[0;31mNameError\u001b[0m: name 'np' is not defined"
     ]
    }
   ],
   "source": [
    "circle_path_df = pd.DataFrame(\n",
    "    {\n",
    "        \"Perimeter\": new_point[0] + 1.4 * np.cos(np.linspace(0, 2 * np.pi, 100)),\n",
    "        \"Concavity\": new_point[1] + 1.4 * np.sin(np.linspace(0, 2 * np.pi, 100)),\n",
    "    }\n",
    ")\n",
    "circle = alt.Chart(circle_path_df.reset_index()).mark_line(color='black').encode(\n",
    "    x='Perimeter',\n",
    "    y='Concavity',\n",
    "    order='index'\n",
    ")\n",
    "\n",
    "glue(\"fig:05-multiknn-3\", (perim_concav_with_new_point3 + circle))"
   ]
  },
  {
   "cell_type": "markdown",
   "id": "8ca9ad64",
   "metadata": {},
   "source": [
    ":::{glue:figure} fig:05-multiknn-3\n",
    ":name: fig:05-multiknn-3\n",
    "\n",
    "Scatter plot of concavity versus perimeter with 5 nearest neighbors circled.\n",
    ":::"
   ]
  },
  {
   "cell_type": "markdown",
   "id": "cf642505",
   "metadata": {},
   "source": [
    "### More than two explanatory variables \n",
    "\n",
    "Although the above description is directed toward two predictor variables, \n",
    "exactly the same $K$-nearest neighbors algorithm applies when you\n",
    "have a higher number of predictor variables.  Each predictor variable may give us new\n",
    "information to help create our classifier.  The only difference is the formula\n",
    "for the distance between points. Suppose we have $m$ predictor\n",
    "variables for two observations $a$ and $b$, i.e., \n",
    "$a = (a_{1}, a_{2}, \\dots, a_{m})$ and\n",
    "$b = (b_{1}, b_{2}, \\dots, b_{m})$.\n",
    "\n",
    "The distance formula becomes \\index{distance!more than two variables}\n",
    "\n",
    "$$\\mathrm{Distance} = \\sqrt{(a_{1} -b_{1})^2 + (a_{2} - b_{2})^2 + \\dots + (a_{m} - b_{m})^2}.$$\n",
    "\n",
    "This formula still corresponds to a straight-line distance, just in a space\n",
    "with more dimensions. Suppose we want to calculate the distance between a new\n",
    "observation with a perimeter of 0, concavity of 3.5, and symmetry of 1, and\n",
    "another observation with a perimeter, concavity, and symmetry of 0.417, 2.31, and\n",
    "0.837 respectively. We have two observations with three predictor variables:\n",
    "perimeter, concavity, and symmetry. Previously, when we had two variables, we\n",
    "added up the squared difference between each of our (two) variables, and then\n",
    "took the square root. Now we will do the same, except for our three variables.\n",
    "We calculate the distance as follows\n",
    "\n",
    "$$\\mathrm{Distance} =\\sqrt{(0 - 0.417)^2 + (3.5 - 2.31)^2 + (1 - 0.837)^2} = 1.27.$$\n",
    "\n",
    "Let's calculate the distances between our new observation and each of the\n",
    "observations in the training set to find the $K=5$ neighbors when we have these\n",
    "three predictors."
   ]
  },
  {
   "cell_type": "code",
   "execution_count": 21,
   "id": "2c8f9878",
   "metadata": {},
   "outputs": [
    {
     "ename": "NameError",
     "evalue": "name 'np' is not defined",
     "output_type": "error",
     "traceback": [
      "\u001b[0;31m---------------------------------------------------------------------------\u001b[0m",
      "\u001b[0;31mNameError\u001b[0m                                 Traceback (most recent call last)",
      "Input \u001b[0;32mIn [21]\u001b[0m, in \u001b[0;36m<cell line: 5>\u001b[0;34m()\u001b[0m\n\u001b[1;32m      3\u001b[0m new_obs_Symmetry \u001b[38;5;241m=\u001b[39m \u001b[38;5;241m1\u001b[39m\n\u001b[1;32m      4\u001b[0m cancer_dist2 \u001b[38;5;241m=\u001b[39m cancer\u001b[38;5;241m.\u001b[39mloc[:, [\u001b[38;5;124m\"\u001b[39m\u001b[38;5;124mID\u001b[39m\u001b[38;5;124m\"\u001b[39m, \u001b[38;5;124m\"\u001b[39m\u001b[38;5;124mPerimeter\u001b[39m\u001b[38;5;124m\"\u001b[39m, \u001b[38;5;124m\"\u001b[39m\u001b[38;5;124mConcavity\u001b[39m\u001b[38;5;124m\"\u001b[39m, \u001b[38;5;124m\"\u001b[39m\u001b[38;5;124mSymmetry\u001b[39m\u001b[38;5;124m\"\u001b[39m, \u001b[38;5;124m\"\u001b[39m\u001b[38;5;124mClass\u001b[39m\u001b[38;5;124m\"\u001b[39m]]\n\u001b[0;32m----> 5\u001b[0m cancer_dist2[\u001b[38;5;124m\"\u001b[39m\u001b[38;5;124mdist_from_new\u001b[39m\u001b[38;5;124m\"\u001b[39m] \u001b[38;5;241m=\u001b[39m \u001b[43mnp\u001b[49m\u001b[38;5;241m.\u001b[39msqrt(\n\u001b[1;32m      6\u001b[0m     (cancer_dist2[\u001b[38;5;124m\"\u001b[39m\u001b[38;5;124mPerimeter\u001b[39m\u001b[38;5;124m\"\u001b[39m] \u001b[38;5;241m-\u001b[39m new_obs_Perimeter) \u001b[38;5;241m*\u001b[39m\u001b[38;5;241m*\u001b[39m \u001b[38;5;241m2\u001b[39m\n\u001b[1;32m      7\u001b[0m     \u001b[38;5;241m+\u001b[39m (cancer_dist2[\u001b[38;5;124m\"\u001b[39m\u001b[38;5;124mConcavity\u001b[39m\u001b[38;5;124m\"\u001b[39m] \u001b[38;5;241m-\u001b[39m new_obs_Concavity) \u001b[38;5;241m*\u001b[39m\u001b[38;5;241m*\u001b[39m \u001b[38;5;241m2\u001b[39m\n\u001b[1;32m      8\u001b[0m     \u001b[38;5;241m+\u001b[39m (cancer_dist2[\u001b[38;5;124m\"\u001b[39m\u001b[38;5;124mSymmetry\u001b[39m\u001b[38;5;124m\"\u001b[39m] \u001b[38;5;241m-\u001b[39m new_obs_Symmetry) \u001b[38;5;241m*\u001b[39m\u001b[38;5;241m*\u001b[39m \u001b[38;5;241m2\u001b[39m\n\u001b[1;32m      9\u001b[0m )\n\u001b[1;32m     10\u001b[0m \u001b[38;5;66;03m# sort the rows in ascending order and take the first 5 rows\u001b[39;00m\n\u001b[1;32m     11\u001b[0m cancer_dist2 \u001b[38;5;241m=\u001b[39m cancer_dist2\u001b[38;5;241m.\u001b[39msort_values(by\u001b[38;5;241m=\u001b[39m\u001b[38;5;124m\"\u001b[39m\u001b[38;5;124mdist_from_new\u001b[39m\u001b[38;5;124m\"\u001b[39m)\u001b[38;5;241m.\u001b[39mhead(\u001b[38;5;241m5\u001b[39m)\n",
      "\u001b[0;31mNameError\u001b[0m: name 'np' is not defined"
     ]
    }
   ],
   "source": [
    "new_obs_Perimeter = 0\n",
    "new_obs_Concavity = 3.5\n",
    "new_obs_Symmetry = 1\n",
    "cancer_dist2 = cancer.loc[:, [\"ID\", \"Perimeter\", \"Concavity\", \"Symmetry\", \"Class\"]]\n",
    "cancer_dist2[\"dist_from_new\"] = np.sqrt(\n",
    "    (cancer_dist2[\"Perimeter\"] - new_obs_Perimeter) ** 2\n",
    "    + (cancer_dist2[\"Concavity\"] - new_obs_Concavity) ** 2\n",
    "    + (cancer_dist2[\"Symmetry\"] - new_obs_Symmetry) ** 2\n",
    ")\n",
    "# sort the rows in ascending order and take the first 5 rows\n",
    "cancer_dist2 = cancer_dist2.sort_values(by=\"dist_from_new\").head(5)\n",
    "cancer_dist2"
   ]
  },
  {
   "cell_type": "markdown",
   "id": "a26f1899",
   "metadata": {},
   "source": [
    "Based on $K=5$ nearest neighbors with these three predictors we would classify the new observation as malignant since 4 out of 5 of the nearest neighbors are malignant class. \n",
    "{numref}`fig:05-more` shows what the data look like when we visualize them \n",
    "as a 3-dimensional scatter with lines from the new observation to its five nearest neighbors."
   ]
  },
  {
   "cell_type": "code",
   "execution_count": 22,
   "id": "46599748",
   "metadata": {
    "tags": [
     "remove-cell"
    ]
   },
   "outputs": [
    {
     "ename": "NameError",
     "evalue": "name 'euclidean_distances' is not defined",
     "output_type": "error",
     "traceback": [
      "\u001b[0;31m---------------------------------------------------------------------------\u001b[0m",
      "\u001b[0;31mNameError\u001b[0m                                 Traceback (most recent call last)",
      "Input \u001b[0;32mIn [22]\u001b[0m, in \u001b[0;36m<cell line: 14>\u001b[0;34m()\u001b[0m\n\u001b[1;32m     11\u001b[0m perim_concav_with_new_point_df4 \u001b[38;5;241m=\u001b[39m pd\u001b[38;5;241m.\u001b[39mconcat((cancer, points_df4), ignore_index\u001b[38;5;241m=\u001b[39m\u001b[38;5;28;01mTrue\u001b[39;00m)\n\u001b[1;32m     12\u001b[0m \u001b[38;5;66;03m# Find the euclidean distances from the new point to each of the points\u001b[39;00m\n\u001b[1;32m     13\u001b[0m \u001b[38;5;66;03m# in the orginal dataset\u001b[39;00m\n\u001b[0;32m---> 14\u001b[0m my_distances4 \u001b[38;5;241m=\u001b[39m \u001b[43meuclidean_distances\u001b[49m(perim_concav_with_new_point_df4\u001b[38;5;241m.\u001b[39mloc[:, attrs])[\n\u001b[1;32m     15\u001b[0m     \u001b[38;5;28mlen\u001b[39m(cancer)\n\u001b[1;32m     16\u001b[0m ][:\u001b[38;5;241m-\u001b[39m\u001b[38;5;241m1\u001b[39m]\n",
      "\u001b[0;31mNameError\u001b[0m: name 'euclidean_distances' is not defined"
     ]
    }
   ],
   "source": [
    "new_point = [0, 3.5, 1]\n",
    "attrs = [\"Perimeter\", \"Concavity\", \"Symmetry\"]\n",
    "points_df4 = pd.DataFrame(\n",
    "    {\n",
    "        \"Perimeter\": new_point[0],\n",
    "        \"Concavity\": new_point[1],\n",
    "        \"Symmetry\": new_point[2],\n",
    "        \"Class\": [\"Unknown\"],\n",
    "    }\n",
    ")\n",
    "perim_concav_with_new_point_df4 = pd.concat((cancer, points_df4), ignore_index=True)\n",
    "# Find the euclidean distances from the new point to each of the points\n",
    "# in the orginal dataset\n",
    "my_distances4 = euclidean_distances(perim_concav_with_new_point_df4.loc[:, attrs])[\n",
    "    len(cancer)\n",
    "][:-1]"
   ]
  },
  {
   "cell_type": "code",
   "execution_count": 23,
   "id": "937686f7",
   "metadata": {
    "tags": [
     "remove-cell"
    ]
   },
   "outputs": [
    {
     "ename": "NameError",
     "evalue": "name 'np' is not defined",
     "output_type": "error",
     "traceback": [
      "\u001b[0;31m---------------------------------------------------------------------------\u001b[0m",
      "\u001b[0;31mNameError\u001b[0m                                 Traceback (most recent call last)",
      "Input \u001b[0;32mIn [23]\u001b[0m, in \u001b[0;36m<cell line: 2>\u001b[0;34m()\u001b[0m\n\u001b[1;32m      1\u001b[0m \u001b[38;5;66;03m# The index of 5 rows that has smallest distance to the new point\u001b[39;00m\n\u001b[0;32m----> 2\u001b[0m min_5_idx \u001b[38;5;241m=\u001b[39m \u001b[43mnp\u001b[49m\u001b[38;5;241m.\u001b[39margpartition(my_distances4, \u001b[38;5;241m5\u001b[39m)[:\u001b[38;5;241m5\u001b[39m]\n\u001b[1;32m      4\u001b[0m neighbor_df_list \u001b[38;5;241m=\u001b[39m []\n\u001b[1;32m      5\u001b[0m \u001b[38;5;28;01mfor\u001b[39;00m idx \u001b[38;5;129;01min\u001b[39;00m min_5_idx:\n",
      "\u001b[0;31mNameError\u001b[0m: name 'np' is not defined"
     ]
    }
   ],
   "source": [
    "# The index of 5 rows that has smallest distance to the new point\n",
    "min_5_idx = np.argpartition(my_distances4, 5)[:5]\n",
    "\n",
    "neighbor_df_list = []\n",
    "for idx in min_5_idx:\n",
    "    neighbor_df = pd.concat(\n",
    "        (\n",
    "            cancer.loc[idx, attrs + ['Class']],\n",
    "            perim_concav_with_new_point_df4.loc[len(cancer), attrs + ['Class']],\n",
    "        ),\n",
    "        axis=1,\n",
    "    ).T\n",
    "    neighbor_df_list.append(neighbor_df)"
   ]
  },
  {
   "cell_type": "code",
   "execution_count": 24,
   "id": "ff42fea8",
   "metadata": {
    "tags": [
     "remove-cell"
    ]
   },
   "outputs": [
    {
     "ename": "NameError",
     "evalue": "name 'px' is not defined",
     "output_type": "error",
     "traceback": [
      "\u001b[0;31m---------------------------------------------------------------------------\u001b[0m",
      "\u001b[0;31mNameError\u001b[0m                                 Traceback (most recent call last)",
      "Input \u001b[0;32mIn [24]\u001b[0m, in \u001b[0;36m<cell line: 1>\u001b[0;34m()\u001b[0m\n\u001b[0;32m----> 1\u001b[0m fig \u001b[38;5;241m=\u001b[39m \u001b[43mpx\u001b[49m\u001b[38;5;241m.\u001b[39mscatter_3d(\n\u001b[1;32m      2\u001b[0m     perim_concav_with_new_point_df4,\n\u001b[1;32m      3\u001b[0m     x\u001b[38;5;241m=\u001b[39m\u001b[38;5;124m\"\u001b[39m\u001b[38;5;124mPerimeter\u001b[39m\u001b[38;5;124m\"\u001b[39m,\n\u001b[1;32m      4\u001b[0m     y\u001b[38;5;241m=\u001b[39m\u001b[38;5;124m\"\u001b[39m\u001b[38;5;124mConcavity\u001b[39m\u001b[38;5;124m\"\u001b[39m,\n\u001b[1;32m      5\u001b[0m     z\u001b[38;5;241m=\u001b[39m\u001b[38;5;124m\"\u001b[39m\u001b[38;5;124mSymmetry\u001b[39m\u001b[38;5;124m\"\u001b[39m,\n\u001b[1;32m      6\u001b[0m     color\u001b[38;5;241m=\u001b[39m\u001b[38;5;124m\"\u001b[39m\u001b[38;5;124mClass\u001b[39m\u001b[38;5;124m\"\u001b[39m,\n\u001b[1;32m      7\u001b[0m     symbol\u001b[38;5;241m=\u001b[39m\u001b[38;5;124m\"\u001b[39m\u001b[38;5;124mClass\u001b[39m\u001b[38;5;124m\"\u001b[39m,\n\u001b[1;32m      8\u001b[0m     opacity\u001b[38;5;241m=\u001b[39m\u001b[38;5;241m0.5\u001b[39m,\n\u001b[1;32m      9\u001b[0m )\n\u001b[1;32m     10\u001b[0m \u001b[38;5;66;03m# specify trace names and symbols in a dict\u001b[39;00m\n\u001b[1;32m     11\u001b[0m symbols \u001b[38;5;241m=\u001b[39m {\u001b[38;5;124m\"\u001b[39m\u001b[38;5;124mMalignant\u001b[39m\u001b[38;5;124m\"\u001b[39m: \u001b[38;5;124m\"\u001b[39m\u001b[38;5;124mcircle\u001b[39m\u001b[38;5;124m\"\u001b[39m, \u001b[38;5;124m\"\u001b[39m\u001b[38;5;124mBenign\u001b[39m\u001b[38;5;124m\"\u001b[39m: \u001b[38;5;124m\"\u001b[39m\u001b[38;5;124mcircle\u001b[39m\u001b[38;5;124m\"\u001b[39m, \u001b[38;5;124m\"\u001b[39m\u001b[38;5;124mUnknown\u001b[39m\u001b[38;5;124m\"\u001b[39m: \u001b[38;5;124m\"\u001b[39m\u001b[38;5;124mdiamond\u001b[39m\u001b[38;5;124m\"\u001b[39m}\n",
      "\u001b[0;31mNameError\u001b[0m: name 'px' is not defined"
     ]
    }
   ],
   "source": [
    "fig = px.scatter_3d(\n",
    "    perim_concav_with_new_point_df4,\n",
    "    x=\"Perimeter\",\n",
    "    y=\"Concavity\",\n",
    "    z=\"Symmetry\",\n",
    "    color=\"Class\",\n",
    "    symbol=\"Class\",\n",
    "    opacity=0.5,\n",
    ")\n",
    "# specify trace names and symbols in a dict\n",
    "symbols = {\"Malignant\": \"circle\", \"Benign\": \"circle\", \"Unknown\": \"diamond\"}\n",
    "\n",
    "# set all symbols in fig\n",
    "for i, d in enumerate(fig.data):\n",
    "    fig.data[i].marker.symbol = symbols[fig.data[i].name]\n",
    "\n",
    "# specify trace names and colors in a dict\n",
    "colors = {\"Malignant\": \"#86bfef\", \"Benign\": \"#efb13f\", \"Unknown\": \"red\"}\n",
    "\n",
    "# set all colors in fig\n",
    "for i, d in enumerate(fig.data):\n",
    "    fig.data[i].marker.color = colors[fig.data[i].name]\n",
    "\n",
    "# set a fixed custom marker size\n",
    "fig.update_traces(marker={\"size\": 5})\n",
    "\n",
    "# add lines\n",
    "for neighbor_df in neighbor_df_list:\n",
    "    fig.add_trace(\n",
    "        go.Scatter3d(\n",
    "            x=neighbor_df[\"Perimeter\"],\n",
    "            y=neighbor_df[\"Concavity\"],\n",
    "            z=neighbor_df[\"Symmetry\"],\n",
    "            line_color=colors[neighbor_df.iloc[0][\"Class\"]],\n",
    "            name=neighbor_df.iloc[0][\"Class\"],\n",
    "            mode=\"lines\",\n",
    "            line=dict(width=2),\n",
    "            showlegend=False,\n",
    "        )\n",
    "    )\n",
    "\n",
    "\n",
    "# tight layout\n",
    "fig.update_layout(margin=dict(l=0, r=0, b=0, t=1), template=\"plotly_white\")\n",
    "\n",
    "plot(fig, filename=\"img/classification1/fig05-more.html\", auto_open=False)\n",
    "# display(HTML(\"img/classification1/fig05-more.html\"))"
   ]
  },
  {
   "cell_type": "code",
   "execution_count": 25,
   "id": "f320e8c0",
   "metadata": {
    "tags": [
     "remove-input"
    ]
   },
   "outputs": [
    {
     "ename": "NameError",
     "evalue": "name 'HTML' is not defined",
     "output_type": "error",
     "traceback": [
      "\u001b[0;31m---------------------------------------------------------------------------\u001b[0m",
      "\u001b[0;31mNameError\u001b[0m                                 Traceback (most recent call last)",
      "Input \u001b[0;32mIn [25]\u001b[0m, in \u001b[0;36m<cell line: 1>\u001b[0;34m()\u001b[0m\n\u001b[0;32m----> 1\u001b[0m display(\u001b[43mHTML\u001b[49m(\u001b[38;5;124m\"\u001b[39m\u001b[38;5;124mimg/classification1/fig05-more.html\u001b[39m\u001b[38;5;124m\"\u001b[39m))\n",
      "\u001b[0;31mNameError\u001b[0m: name 'HTML' is not defined"
     ]
    }
   ],
   "source": [
    "display(HTML(\"img/classification1/fig05-more.html\"))"
   ]
  },
  {
   "cell_type": "markdown",
   "id": "1050c2a8",
   "metadata": {},
   "source": [
    "```{figure} data:image/gif;base64,R0lGODlhAQABAIAAAAAAAP///yH5BAEAAAAALAAAAAABAAEAAAIBRAA7\n",
    ":name: fig:05-more\n",
    ":figclass: caption-hack\n",
    "\n",
    "3D scatter plot of the standardized symmetry, concavity, and perimeter variables. Note that in general we recommend against using 3D visualizations; here we show the data in 3D only to illustrate what higher dimensions and nearest neighbors look like, for learning purposes.\n",
    "```"
   ]
  },
  {
   "cell_type": "markdown",
   "id": "ac6e250a",
   "metadata": {},
   "source": [
    "### Summary of $K$-nearest neighbors algorithm\n",
    "\n",
    "In order to classify a new observation using a $K$-nearest neighbor classifier, we have to do the following:\n",
    "\n",
    "1. Compute the distance between the new observation and each observation in the training set.\n",
    "2. Sort the data table in ascending order according to the distances.\n",
    "3. Choose the top $K$ rows of the sorted table.\n",
    "4. Classify the new observation based on a majority vote of the neighbor classes."
   ]
  },
  {
   "cell_type": "markdown",
   "id": "7ce4eb59",
   "metadata": {},
   "source": [
    "## $K$-nearest neighbors with `scikit-learn`\n",
    "\n",
    "Coding the $K$-nearest neighbors algorithm in Python ourselves can get complicated,\n",
    "especially if we want to handle multiple classes, more than two variables,\n",
    "or predict the class for multiple new observations. Thankfully, in Python,\n",
    "the $K$-nearest neighbors algorithm is \n",
    "implemented in [the `scikit-learn` package](https://scikit-learn.org/stable/index.html) along with \n",
    "many [other models](https://scikit-learn.org/stable/user_guide.html) that you will encounter in this and future chapters of the book. Using the functions \n",
    "in the `scikit-learn` package will help keep our code simple, readable and accurate; the \n",
    "less we have to code ourselves, the fewer mistakes we will likely make. We \n",
    "start by importing `KNeighborsClassifier` from the `sklearn.neighbors` module."
   ]
  },
  {
   "cell_type": "code",
   "execution_count": 26,
   "id": "68eef83e",
   "metadata": {
    "tags": [
     "remove-cell"
    ]
   },
   "outputs": [],
   "source": [
    "## The above was based on:\n",
    "\n",
    "# Coding the $K$-nearest neighbors algorithm in R ourselves can get complicated,\n",
    "# especially if we want to handle multiple classes, more than two variables,\n",
    "# or predict the class for multiple new observations. Thankfully, in R,\n",
    "# the $K$-nearest neighbors algorithm is\n",
    "# implemented in [the `parsnip` R package](https://parsnip.tidymodels.org/) [@parsnip]\n",
    "# included in `tidymodels`, along with\n",
    "# many [other models](https://www.tidymodels.org/find/parsnip/) \\index{tidymodels}\\index{parsnip}\n",
    "#  that you will encounter in this and future chapters of the book. The `tidymodels` collection\n",
    "# provides tools to help make and use models, such as classifiers.  Using the packages\n",
    "# in this collection will help keep our code simple, readable and accurate; the\n",
    "# less we have to code ourselves, the fewer mistakes we will likely make. We\n",
    "# start by loading `tidymodels`."
   ]
  },
  {
   "cell_type": "code",
   "execution_count": 27,
   "id": "b0ee01b6",
   "metadata": {},
   "outputs": [],
   "source": [
    "from sklearn.neighbors import KNeighborsClassifier"
   ]
  },
  {
   "cell_type": "markdown",
   "id": "e1efb58d",
   "metadata": {},
   "source": [
    "Let's walk through how to use `KNeighborsClassifier` to perform $K$-nearest neighbors classification. \n",
    "We will use the `cancer` data set from above, with\n",
    "perimeter and concavity as predictors and $K = 5$ neighbors to build our classifier. Then\n",
    "we will use the classifier to predict the diagnosis label for a new observation with\n",
    "perimeter 0, concavity 3.5, and an unknown diagnosis label. Let's pick out our two desired\n",
    "predictor variables and class label and store them as a new data set named `cancer_train`:"
   ]
  },
  {
   "cell_type": "code",
   "execution_count": 28,
   "id": "86cc2784",
   "metadata": {},
   "outputs": [
    {
     "data": {
      "text/html": [
       "<div>\n",
       "<style scoped>\n",
       "    .dataframe tbody tr th:only-of-type {\n",
       "        vertical-align: middle;\n",
       "    }\n",
       "\n",
       "    .dataframe tbody tr th {\n",
       "        vertical-align: top;\n",
       "    }\n",
       "\n",
       "    .dataframe thead th {\n",
       "        text-align: right;\n",
       "    }\n",
       "</style>\n",
       "<table border=\"1\" class=\"dataframe\">\n",
       "  <thead>\n",
       "    <tr style=\"text-align: right;\">\n",
       "      <th></th>\n",
       "      <th>Class</th>\n",
       "      <th>Perimeter</th>\n",
       "      <th>Concavity</th>\n",
       "    </tr>\n",
       "  </thead>\n",
       "  <tbody>\n",
       "    <tr>\n",
       "      <th>0</th>\n",
       "      <td>Malignant</td>\n",
       "      <td>1.268817</td>\n",
       "      <td>2.650542</td>\n",
       "    </tr>\n",
       "    <tr>\n",
       "      <th>1</th>\n",
       "      <td>Malignant</td>\n",
       "      <td>1.684473</td>\n",
       "      <td>-0.023825</td>\n",
       "    </tr>\n",
       "    <tr>\n",
       "      <th>2</th>\n",
       "      <td>Malignant</td>\n",
       "      <td>1.565126</td>\n",
       "      <td>1.362280</td>\n",
       "    </tr>\n",
       "    <tr>\n",
       "      <th>3</th>\n",
       "      <td>Malignant</td>\n",
       "      <td>-0.592166</td>\n",
       "      <td>1.914213</td>\n",
       "    </tr>\n",
       "    <tr>\n",
       "      <th>4</th>\n",
       "      <td>Malignant</td>\n",
       "      <td>1.775011</td>\n",
       "      <td>1.369806</td>\n",
       "    </tr>\n",
       "    <tr>\n",
       "      <th>...</th>\n",
       "      <td>...</td>\n",
       "      <td>...</td>\n",
       "      <td>...</td>\n",
       "    </tr>\n",
       "    <tr>\n",
       "      <th>564</th>\n",
       "      <td>Malignant</td>\n",
       "      <td>2.058974</td>\n",
       "      <td>1.945573</td>\n",
       "    </tr>\n",
       "    <tr>\n",
       "      <th>565</th>\n",
       "      <td>Malignant</td>\n",
       "      <td>1.614511</td>\n",
       "      <td>0.692434</td>\n",
       "    </tr>\n",
       "    <tr>\n",
       "      <th>566</th>\n",
       "      <td>Malignant</td>\n",
       "      <td>0.672084</td>\n",
       "      <td>0.046547</td>\n",
       "    </tr>\n",
       "    <tr>\n",
       "      <th>567</th>\n",
       "      <td>Malignant</td>\n",
       "      <td>1.980781</td>\n",
       "      <td>3.294046</td>\n",
       "    </tr>\n",
       "    <tr>\n",
       "      <th>568</th>\n",
       "      <td>Benign</td>\n",
       "      <td>-1.812793</td>\n",
       "      <td>-1.113893</td>\n",
       "    </tr>\n",
       "  </tbody>\n",
       "</table>\n",
       "<p>569 rows × 3 columns</p>\n",
       "</div>"
      ],
      "text/plain": [
       "         Class  Perimeter  Concavity\n",
       "0    Malignant   1.268817   2.650542\n",
       "1    Malignant   1.684473  -0.023825\n",
       "2    Malignant   1.565126   1.362280\n",
       "3    Malignant  -0.592166   1.914213\n",
       "4    Malignant   1.775011   1.369806\n",
       "..         ...        ...        ...\n",
       "564  Malignant   2.058974   1.945573\n",
       "565  Malignant   1.614511   0.692434\n",
       "566  Malignant   0.672084   0.046547\n",
       "567  Malignant   1.980781   3.294046\n",
       "568     Benign  -1.812793  -1.113893\n",
       "\n",
       "[569 rows x 3 columns]"
      ]
     },
     "execution_count": 28,
     "metadata": {},
     "output_type": "execute_result"
    }
   ],
   "source": [
    "cancer_train = cancer.loc[:, ['Class', 'Perimeter', 'Concavity']]\n",
    "cancer_train"
   ]
  },
  {
   "cell_type": "markdown",
   "id": "32e9698a",
   "metadata": {},
   "source": [
    "Next, we create a *model specification* for $K$-nearest neighbors classification\n",
    "by creating a `KNeighborsClassifier` object, specifying that we want to use $K = 5$ neighbors\n",
    "(we will discuss how to choose $K$ in the next chapter) and the straight-line \n",
    "distance (`weights=\"uniform\"`). The `weights` argument controls\n",
    "how neighbors vote when classifying a new observation; by setting it to `\"uniform\"`,\n",
    "each of the $K$ nearest neighbors gets exactly 1 vote as described above. Other choices, \n",
    "which weigh each neighbor's vote differently, can be found on \n",
    "[the `scikit-learn` website](https://scikit-learn.org/stable/modules/generated/sklearn.neighbors.KNeighborsClassifier.html?highlight=kneighborsclassifier#sklearn.neighbors.KNeighborsClassifier)."
   ]
  },
  {
   "cell_type": "code",
   "execution_count": 29,
   "id": "d6fe5e2e",
   "metadata": {
    "tags": [
     "remove-cell"
    ]
   },
   "outputs": [],
   "source": [
    "## The above was based on:\n",
    "\n",
    "# Next, we create a *model specification* for \\index{tidymodels!model specification} $K$-nearest neighbors classification\n",
    "# by calling the `nearest_neighbor` function, specifying that we want to use $K = 5$ neighbors\n",
    "# (we will discuss how to choose $K$ in the next chapter) and the straight-line \n",
    "# distance (`weight_func = \"rectangular\"`). The `weight_func` argument controls\n",
    "# how neighbors vote when classifying a new observation; by setting it to `\"rectangular\"`,\n",
    "# each of the $K$ nearest neighbors gets exactly 1 vote as described above. Other choices, \n",
    "# which weigh each neighbor's vote differently, can be found on \n",
    "# [the `parsnip` website](https://parsnip.tidymodels.org/reference/nearest_neighbor.html).\n",
    "# In the `set_engine` \\index{tidymodels!engine} argument, we specify which package or system will be used for training\n",
    "# the model. Here `kknn` is the R package we will use for performing $K$-nearest neighbors classification.\n",
    "# Finally, we specify that this is a classification problem with the `set_mode` function."
   ]
  },
  {
   "cell_type": "code",
   "execution_count": 30,
   "id": "e1c07679",
   "metadata": {},
   "outputs": [
    {
     "data": {
      "text/html": [
       "<style>#sk-container-id-1 {color: black;background-color: white;}#sk-container-id-1 pre{padding: 0;}#sk-container-id-1 div.sk-toggleable {background-color: white;}#sk-container-id-1 label.sk-toggleable__label {cursor: pointer;display: block;width: 100%;margin-bottom: 0;padding: 0.3em;box-sizing: border-box;text-align: center;}#sk-container-id-1 label.sk-toggleable__label-arrow:before {content: \"▸\";float: left;margin-right: 0.25em;color: #696969;}#sk-container-id-1 label.sk-toggleable__label-arrow:hover:before {color: black;}#sk-container-id-1 div.sk-estimator:hover label.sk-toggleable__label-arrow:before {color: black;}#sk-container-id-1 div.sk-toggleable__content {max-height: 0;max-width: 0;overflow: hidden;text-align: left;background-color: #f0f8ff;}#sk-container-id-1 div.sk-toggleable__content pre {margin: 0.2em;color: black;border-radius: 0.25em;background-color: #f0f8ff;}#sk-container-id-1 input.sk-toggleable__control:checked~div.sk-toggleable__content {max-height: 200px;max-width: 100%;overflow: auto;}#sk-container-id-1 input.sk-toggleable__control:checked~label.sk-toggleable__label-arrow:before {content: \"▾\";}#sk-container-id-1 div.sk-estimator input.sk-toggleable__control:checked~label.sk-toggleable__label {background-color: #d4ebff;}#sk-container-id-1 div.sk-label input.sk-toggleable__control:checked~label.sk-toggleable__label {background-color: #d4ebff;}#sk-container-id-1 input.sk-hidden--visually {border: 0;clip: rect(1px 1px 1px 1px);clip: rect(1px, 1px, 1px, 1px);height: 1px;margin: -1px;overflow: hidden;padding: 0;position: absolute;width: 1px;}#sk-container-id-1 div.sk-estimator {font-family: monospace;background-color: #f0f8ff;border: 1px dotted black;border-radius: 0.25em;box-sizing: border-box;margin-bottom: 0.5em;}#sk-container-id-1 div.sk-estimator:hover {background-color: #d4ebff;}#sk-container-id-1 div.sk-parallel-item::after {content: \"\";width: 100%;border-bottom: 1px solid gray;flex-grow: 1;}#sk-container-id-1 div.sk-label:hover label.sk-toggleable__label {background-color: #d4ebff;}#sk-container-id-1 div.sk-serial::before {content: \"\";position: absolute;border-left: 1px solid gray;box-sizing: border-box;top: 0;bottom: 0;left: 50%;z-index: 0;}#sk-container-id-1 div.sk-serial {display: flex;flex-direction: column;align-items: center;background-color: white;padding-right: 0.2em;padding-left: 0.2em;position: relative;}#sk-container-id-1 div.sk-item {position: relative;z-index: 1;}#sk-container-id-1 div.sk-parallel {display: flex;align-items: stretch;justify-content: center;background-color: white;position: relative;}#sk-container-id-1 div.sk-item::before, #sk-container-id-1 div.sk-parallel-item::before {content: \"\";position: absolute;border-left: 1px solid gray;box-sizing: border-box;top: 0;bottom: 0;left: 50%;z-index: -1;}#sk-container-id-1 div.sk-parallel-item {display: flex;flex-direction: column;z-index: 1;position: relative;background-color: white;}#sk-container-id-1 div.sk-parallel-item:first-child::after {align-self: flex-end;width: 50%;}#sk-container-id-1 div.sk-parallel-item:last-child::after {align-self: flex-start;width: 50%;}#sk-container-id-1 div.sk-parallel-item:only-child::after {width: 0;}#sk-container-id-1 div.sk-dashed-wrapped {border: 1px dashed gray;margin: 0 0.4em 0.5em 0.4em;box-sizing: border-box;padding-bottom: 0.4em;background-color: white;}#sk-container-id-1 div.sk-label label {font-family: monospace;font-weight: bold;display: inline-block;line-height: 1.2em;}#sk-container-id-1 div.sk-label-container {text-align: center;}#sk-container-id-1 div.sk-container {/* jupyter's `normalize.less` sets `[hidden] { display: none; }` but bootstrap.min.css set `[hidden] { display: none !important; }` so we also need the `!important` here to be able to override the default hidden behavior on the sphinx rendered scikit-learn.org. See: https://github.com/scikit-learn/scikit-learn/issues/21755 */display: inline-block !important;position: relative;}#sk-container-id-1 div.sk-text-repr-fallback {display: none;}</style><div id=\"sk-container-id-1\" class=\"sk-top-container\"><div class=\"sk-text-repr-fallback\"><pre>KNeighborsClassifier()</pre><b>In a Jupyter environment, please rerun this cell to show the HTML representation or trust the notebook. <br />On GitHub, the HTML representation is unable to render, please try loading this page with nbviewer.org.</b></div><div class=\"sk-container\" hidden><div class=\"sk-item\"><div class=\"sk-estimator sk-toggleable\"><input class=\"sk-toggleable__control sk-hidden--visually\" id=\"sk-estimator-id-1\" type=\"checkbox\" checked><label for=\"sk-estimator-id-1\" class=\"sk-toggleable__label sk-toggleable__label-arrow\">KNeighborsClassifier</label><div class=\"sk-toggleable__content\"><pre>KNeighborsClassifier()</pre></div></div></div></div></div>"
      ],
      "text/plain": [
       "KNeighborsClassifier()"
      ]
     },
     "execution_count": 30,
     "metadata": {},
     "output_type": "execute_result"
    }
   ],
   "source": [
    "knn_spec = KNeighborsClassifier(n_neighbors=5)\n",
    "knn_spec"
   ]
  },
  {
   "cell_type": "markdown",
   "id": "bbbe4ab5",
   "metadata": {},
   "source": [
    "In order to fit the model on the breast cancer data, we need to call `fit` on the classifier object and pass the data in the argument. We also need to specify what variables to use as predictors and what variable to use as the target. Below, the `X=cancer_train[[\"Perimeter\", \"Concavity\"]]` and the `y=cancer_train['Class']` argument specifies \n",
    "that `Class` is the target variable (the one we want to predict),\n",
    "and both `Perimeter` and `Concavity` are to be used as the predictors."
   ]
  },
  {
   "cell_type": "code",
   "execution_count": 31,
   "id": "70dcfbc3",
   "metadata": {
    "tags": [
     "remove-cell"
    ]
   },
   "outputs": [],
   "source": [
    "## The above was based on:\n",
    "\n",
    "# In order to fit the model on the breast cancer data, we need to pass the model specification\n",
    "# and the data set to the `fit` function. We also need to specify what variables to use as predictors\n",
    "# and what variable to use as the target. Below, the `Class ~ Perimeter + Concavity` argument specifies \n",
    "# that `Class` is the target variable (the one we want to predict),\n",
    "# and both `Perimeter` and `Concavity` are to be used as the predictors.\n",
    "\n",
    "\n",
    "# We can also use a convenient shorthand syntax using a period, `Class ~ .`, to indicate\n",
    "# that we want to use every variable *except* `Class` \\index{tidymodels!model formula} as a predictor in the model.\n",
    "# In this particular setup, since `Concavity` and `Perimeter` are the only two predictors in the `cancer_train`\n",
    "# data frame, `Class ~ Perimeter + Concavity` and `Class ~ .` are equivalent.\n",
    "# In general, you can choose individual predictors using the `+` symbol, or you can specify to\n",
    "# use *all* predictors using the `.` symbol."
   ]
  },
  {
   "cell_type": "code",
   "execution_count": 32,
   "id": "03021f42",
   "metadata": {},
   "outputs": [],
   "source": [
    "knn_spec.fit(X=cancer_train[[\"Perimeter\", \"Concavity\"]], y=cancer_train[\"Class\"]);"
   ]
  },
  {
   "cell_type": "code",
   "execution_count": 33,
   "id": "770e55e0",
   "metadata": {
    "tags": [
     "remove-cell"
    ]
   },
   "outputs": [],
   "source": [
    "# Here you can see the final trained model summary. It confirms that the computational engine used\n",
    "# to train the model  was `kknn::train.kknn`. It also shows the fraction of errors made by\n",
    "# the nearest neighbor model, but we will ignore this for now and discuss it in more detail\n",
    "# in the next chapter.\n",
    "# Finally, it shows (somewhat confusingly) that the \"best\" weight function \n",
    "# was \"rectangular\" and \"best\" setting of $K$ was 5; but since we specified these earlier,\n",
    "# R is just repeating those settings to us here. In the next chapter, we will actually\n",
    "# let R find the value of $K$ for us. "
   ]
  },
  {
   "cell_type": "markdown",
   "id": "ea7bb73e",
   "metadata": {},
   "source": [
    "Finally, we make the prediction on the new observation by calling `predict` \\index{tidymodels!predict} on the classifier object,\n",
    "passing the new observation itself. As above, \n",
    "when we ran the $K$-nearest neighbors\n",
    "classification algorithm manually, the `knn_fit` object classifies the new observation as \"Malignant\". Note that the `predict` function outputs a `numpy` array with the model's prediction."
   ]
  },
  {
   "cell_type": "code",
   "execution_count": 34,
   "id": "5dd64578",
   "metadata": {},
   "outputs": [
    {
     "data": {
      "text/plain": [
       "array(['Malignant'], dtype=object)"
      ]
     },
     "execution_count": 34,
     "metadata": {},
     "output_type": "execute_result"
    }
   ],
   "source": [
    "new_obs = pd.DataFrame({'Perimeter': [0], 'Concavity': [3.5]})\n",
    "knn_spec.predict(new_obs)"
   ]
  },
  {
   "cell_type": "markdown",
   "id": "276d0630",
   "metadata": {},
   "source": [
    "Is this predicted malignant label the true class for this observation? \n",
    "Well, we don't know because we do not have this\n",
    "observation's diagnosis&mdash; that is what we were trying to predict! The \n",
    "classifier's prediction is not necessarily correct, but in the next chapter, we will \n",
    "learn ways to quantify how accurate we think our predictions are."
   ]
  },
  {
   "cell_type": "markdown",
   "id": "c405e3b3",
   "metadata": {},
   "source": [
    "## Data preprocessing with `scikit-learn`\n",
    "\n",
    "### Centering and scaling\n",
    "\n",
    "When using $K$-nearest neighbor classification, the *scale* \\index{scaling} of each variable\n",
    "(i.e., its size and range of values) matters. Since the classifier predicts\n",
    "classes by identifying observations nearest to it, any variables with \n",
    "a large scale will have a much larger effect than variables with a small\n",
    "scale. But just because a variable has a large scale *doesn't mean* that it is\n",
    "more important for making accurate predictions. For example, suppose you have a\n",
    "data set with two features, salary (in dollars) and years of education, and\n",
    "you want to predict the corresponding type of job. When we compute the\n",
    "neighbor distances, a difference of \\$1000 is huge compared to a difference of\n",
    "10 years of education. But for our conceptual understanding and answering of\n",
    "the problem, it's the opposite; 10 years of education is huge compared to a\n",
    "difference of \\$1000 in yearly salary!"
   ]
  },
  {
   "cell_type": "markdown",
   "id": "f6ef1144",
   "metadata": {},
   "source": [
    "In many other predictive models, the *center* of each variable (e.g., its mean)\n",
    "matters as well. For example, if we had a data set with a temperature variable\n",
    "measured in degrees Kelvin, and the same data set with temperature measured in\n",
    "degrees Celsius, the two variables would differ by a constant shift of 273\n",
    "(even though they contain exactly the same information). Likewise, in our\n",
    "hypothetical job classification example, we would likely see that the center of\n",
    "the salary variable is in the tens of thousands, while the center of the years\n",
    "of education variable is in the single digits. Although this doesn't affect the\n",
    "$K$-nearest neighbor classification algorithm, this large shift can change the\n",
    "outcome of using many other predictive models.  \\index{centering}\n",
    "\n",
    "To scale and center our data, we need to find\n",
    "our variables' *mean* (the average, which quantifies the \"central\" value of a \n",
    "set of numbers) and *standard deviation* (a number quantifying how spread out values are). \n",
    "For each observed value of the variable, we subtract the mean (i.e., center the variable) \n",
    "and divide by the standard deviation (i.e., scale the variable). When we do this, the data \n",
    "is said to be *standardized*, \\index{standardization!K-nearest neighbors} and all variables in a data set will have a mean of 0 \n",
    "and a standard deviation of 1. To illustrate the effect that standardization can have on the $K$-nearest\n",
    "neighbor algorithm, we will read in the original, unstandardized Wisconsin breast\n",
    "cancer data set; we have been using a standardized version of the data set up\n",
    "until now. To keep things simple, we will just use the `Area`, `Smoothness`, and `Class`\n",
    "variables:"
   ]
  },
  {
   "cell_type": "code",
   "execution_count": 35,
   "id": "76f976af",
   "metadata": {},
   "outputs": [
    {
     "data": {
      "text/html": [
       "<div>\n",
       "<style scoped>\n",
       "    .dataframe tbody tr th:only-of-type {\n",
       "        vertical-align: middle;\n",
       "    }\n",
       "\n",
       "    .dataframe tbody tr th {\n",
       "        vertical-align: top;\n",
       "    }\n",
       "\n",
       "    .dataframe thead th {\n",
       "        text-align: right;\n",
       "    }\n",
       "</style>\n",
       "<table border=\"1\" class=\"dataframe\">\n",
       "  <thead>\n",
       "    <tr style=\"text-align: right;\">\n",
       "      <th></th>\n",
       "      <th>Class</th>\n",
       "      <th>Area</th>\n",
       "      <th>Smoothness</th>\n",
       "    </tr>\n",
       "  </thead>\n",
       "  <tbody>\n",
       "    <tr>\n",
       "      <th>0</th>\n",
       "      <td>M</td>\n",
       "      <td>1001.0</td>\n",
       "      <td>0.11840</td>\n",
       "    </tr>\n",
       "    <tr>\n",
       "      <th>1</th>\n",
       "      <td>M</td>\n",
       "      <td>1326.0</td>\n",
       "      <td>0.08474</td>\n",
       "    </tr>\n",
       "    <tr>\n",
       "      <th>2</th>\n",
       "      <td>M</td>\n",
       "      <td>1203.0</td>\n",
       "      <td>0.10960</td>\n",
       "    </tr>\n",
       "    <tr>\n",
       "      <th>3</th>\n",
       "      <td>M</td>\n",
       "      <td>386.1</td>\n",
       "      <td>0.14250</td>\n",
       "    </tr>\n",
       "    <tr>\n",
       "      <th>4</th>\n",
       "      <td>M</td>\n",
       "      <td>1297.0</td>\n",
       "      <td>0.10030</td>\n",
       "    </tr>\n",
       "    <tr>\n",
       "      <th>...</th>\n",
       "      <td>...</td>\n",
       "      <td>...</td>\n",
       "      <td>...</td>\n",
       "    </tr>\n",
       "    <tr>\n",
       "      <th>564</th>\n",
       "      <td>M</td>\n",
       "      <td>1479.0</td>\n",
       "      <td>0.11100</td>\n",
       "    </tr>\n",
       "    <tr>\n",
       "      <th>565</th>\n",
       "      <td>M</td>\n",
       "      <td>1261.0</td>\n",
       "      <td>0.09780</td>\n",
       "    </tr>\n",
       "    <tr>\n",
       "      <th>566</th>\n",
       "      <td>M</td>\n",
       "      <td>858.1</td>\n",
       "      <td>0.08455</td>\n",
       "    </tr>\n",
       "    <tr>\n",
       "      <th>567</th>\n",
       "      <td>M</td>\n",
       "      <td>1265.0</td>\n",
       "      <td>0.11780</td>\n",
       "    </tr>\n",
       "    <tr>\n",
       "      <th>568</th>\n",
       "      <td>B</td>\n",
       "      <td>181.0</td>\n",
       "      <td>0.05263</td>\n",
       "    </tr>\n",
       "  </tbody>\n",
       "</table>\n",
       "<p>569 rows × 3 columns</p>\n",
       "</div>"
      ],
      "text/plain": [
       "    Class    Area  Smoothness\n",
       "0       M  1001.0     0.11840\n",
       "1       M  1326.0     0.08474\n",
       "2       M  1203.0     0.10960\n",
       "3       M   386.1     0.14250\n",
       "4       M  1297.0     0.10030\n",
       "..    ...     ...         ...\n",
       "564     M  1479.0     0.11100\n",
       "565     M  1261.0     0.09780\n",
       "566     M   858.1     0.08455\n",
       "567     M  1265.0     0.11780\n",
       "568     B   181.0     0.05263\n",
       "\n",
       "[569 rows x 3 columns]"
      ]
     },
     "execution_count": 35,
     "metadata": {},
     "output_type": "execute_result"
    }
   ],
   "source": [
    "unscaled_cancer = pd.read_csv(\"data/unscaled_wdbc.csv\")\n",
    "unscaled_cancer = unscaled_cancer[['Class', 'Area', 'Smoothness']]\n",
    "unscaled_cancer"
   ]
  },
  {
   "cell_type": "markdown",
   "id": "bb1ed010",
   "metadata": {},
   "source": [
    "Looking at the unscaled and uncentered data above, you can see that the differences\n",
    "between the values for area measurements are much larger than those for\n",
    "smoothness. Will this affect\n",
    "predictions? In order to find out, we will create a scatter plot of these two\n",
    "predictors (colored by diagnosis) for both the unstandardized data we just\n",
    "loaded, and the standardized version of that same data. But first, we need to\n",
    "standardize the `unscaled_cancer` data set with `scikit-learn`.\n",
    "\n",
    "In the `scikit-learn` framework, all data preprocessing and modeling can be built using a [`Pipeline`](https://scikit-learn.org/stable/modules/generated/sklearn.pipeline.Pipeline.html?highlight=pipeline#sklearn.pipeline.Pipeline), or a more convenient function [`make_pipeline`](https://scikit-learn.org/stable/modules/generated/sklearn.pipeline.make_pipeline.html#sklearn.pipeline.make_pipeline) for simple pipeline construction.\n",
    "Here we will initialize a preprocessor using `make_column_transformer` for \n",
    "the `unscaled_cancer` data above, specifying\n",
    "that we want to standardize the predictors `Area` and `Smoothness`:"
   ]
  },
  {
   "cell_type": "code",
   "execution_count": 36,
   "id": "408bac11",
   "metadata": {
    "tags": [
     "remove-cell"
    ]
   },
   "outputs": [],
   "source": [
    "## The above was based on:\n",
    "\n",
    "# In the `tidymodels` framework, all data preprocessing happens \n",
    "# using a `recipe` from [the `recipes` R package](https://recipes.tidymodels.org/) [@recipes]\n",
    "# Here we will initialize a recipe \\index{recipe} \\index{tidymodels!recipe|see{recipe}} for \n",
    "# the `unscaled_cancer` data above, specifying\n",
    "# that the `Class` variable is the target, and all other variables are predictors:"
   ]
  },
  {
   "cell_type": "code",
   "execution_count": 37,
   "id": "45a8119e",
   "metadata": {},
   "outputs": [
    {
     "ename": "NameError",
     "evalue": "name 'make_column_transformer' is not defined",
     "output_type": "error",
     "traceback": [
      "\u001b[0;31m---------------------------------------------------------------------------\u001b[0m",
      "\u001b[0;31mNameError\u001b[0m                                 Traceback (most recent call last)",
      "Input \u001b[0;32mIn [37]\u001b[0m, in \u001b[0;36m<cell line: 1>\u001b[0;34m()\u001b[0m\n\u001b[0;32m----> 1\u001b[0m preprocessor \u001b[38;5;241m=\u001b[39m \u001b[43mmake_column_transformer\u001b[49m(\n\u001b[1;32m      2\u001b[0m     (StandardScaler(), [\u001b[38;5;124m\"\u001b[39m\u001b[38;5;124mArea\u001b[39m\u001b[38;5;124m\"\u001b[39m, \u001b[38;5;124m\"\u001b[39m\u001b[38;5;124mSmoothness\u001b[39m\u001b[38;5;124m\"\u001b[39m]),\n\u001b[1;32m      3\u001b[0m )\n\u001b[1;32m      4\u001b[0m preprocessor\n",
      "\u001b[0;31mNameError\u001b[0m: name 'make_column_transformer' is not defined"
     ]
    }
   ],
   "source": [
    "preprocessor = make_column_transformer(\n",
    "    (StandardScaler(), [\"Area\", \"Smoothness\"]),\n",
    ")\n",
    "preprocessor"
   ]
  },
  {
   "cell_type": "markdown",
   "id": "76c2cf3b",
   "metadata": {},
   "source": [
    "So far, we have built a preprocessor so that each of the predictors have a mean of 0 and standard deviation of 1.\n",
    "\n",
    "You can now see that the recipe includes a scaling and centering step for all predictor variables.\n",
    "Note that when you add a step to a `ColumnTransformer`, you must specify what columns to apply the step to.\n",
    "Here we specified that `StandardScaler` should be applied to \n",
    "all predictor variables.\n",
    "\n",
    "At this point, the data are not yet scaled and centered. To actually scale and center \n",
    "the data, we need to call `fit` and `transform` on the unscaled data ( can be combined into `fit_transform`)."
   ]
  },
  {
   "cell_type": "code",
   "execution_count": 38,
   "id": "52831adc",
   "metadata": {
    "tags": [
     "remove-cell"
    ]
   },
   "outputs": [],
   "source": [
    "# So far, there is not much in the recipe; just a statement about the number of targets\n",
    "# and predictors. Let's add \n",
    "# scaling (`step_scale`) \\index{recipe!step\\_scale} and \n",
    "# centering (`step_center`) \\index{recipe!step\\_center} steps for \n",
    "# all of the predictors so that they each have a mean of 0 and standard deviation of 1.\n",
    "# Note that `tidyverse` actually provides `step_normalize`, which does both centering and scaling in\n",
    "# a single recipe step; in this book we will keep `step_scale` and `step_center` separate\n",
    "# to emphasize conceptually that there are two steps happening. \n",
    "# The `prep` function finalizes the recipe by using the data (here, `unscaled_cancer`)  \\index{tidymodels!prep}\\index{prep|see{tidymodels}}\n",
    "# to compute anything necessary to run the recipe (in this case, the column means and standard\n",
    "# deviations):"
   ]
  },
  {
   "cell_type": "code",
   "execution_count": 39,
   "id": "05aafb6e",
   "metadata": {
    "tags": [
     "remove-cell"
    ]
   },
   "outputs": [],
   "source": [
    "# You can now see that the recipe includes a scaling and centering step for all predictor variables.\n",
    "# Note that when you add a step to a recipe, you must specify what columns to apply the step to.\n",
    "# Here we used the `all_predictors()` \\index{recipe!all\\_predictors} function to specify that each step should be applied to \n",
    "# all predictor variables. However, there are a number of different arguments one could use here,\n",
    "# as well as naming particular columns with the same syntax as the `select` function. \n",
    "# For example:\n",
    "\n",
    "# - `all_nominal()` and `all_numeric()`: specify all categorical or all numeric variables\n",
    "# - `all_predictors()` and `all_outcomes()`: specify all predictor or all target variables\n",
    "# - `Area, Smoothness`: specify both the `Area` and `Smoothness` variable\n",
    "# - `-Class`: specify everything except the `Class` variable\n",
    "\n",
    "# You can find a full set of all the steps and variable selection functions\n",
    "# on the [`recipes` reference page](https://recipes.tidymodels.org/reference/index.html).\n",
    "\n",
    "# At this point, we have calculated the required statistics based on the data input into the \n",
    "# recipe, but the data are not yet scaled and centered. To actually scale and center \n",
    "# the data, we need to apply the `bake` \\index{tidymodels!bake} \\index{bake|see{tidymodels}} function to the unscaled data."
   ]
  },
  {
   "cell_type": "code",
   "execution_count": 40,
   "id": "5d554ce4",
   "metadata": {},
   "outputs": [
    {
     "ename": "NameError",
     "evalue": "name 'preprocessor' is not defined",
     "output_type": "error",
     "traceback": [
      "\u001b[0;31m---------------------------------------------------------------------------\u001b[0m",
      "\u001b[0;31mNameError\u001b[0m                                 Traceback (most recent call last)",
      "Input \u001b[0;32mIn [40]\u001b[0m, in \u001b[0;36m<cell line: 1>\u001b[0;34m()\u001b[0m\n\u001b[0;32m----> 1\u001b[0m \u001b[43mpreprocessor\u001b[49m\u001b[38;5;241m.\u001b[39mfit(unscaled_cancer)\n\u001b[1;32m      2\u001b[0m scaled_cancer \u001b[38;5;241m=\u001b[39m preprocessor\u001b[38;5;241m.\u001b[39mtransform(unscaled_cancer)\n\u001b[1;32m      3\u001b[0m \u001b[38;5;66;03m# scaled_cancer = preprocessor.fit_transform(unscaled_cancer)\u001b[39;00m\n",
      "\u001b[0;31mNameError\u001b[0m: name 'preprocessor' is not defined"
     ]
    }
   ],
   "source": [
    "preprocessor.fit(unscaled_cancer)\n",
    "scaled_cancer = preprocessor.transform(unscaled_cancer)\n",
    "# scaled_cancer = preprocessor.fit_transform(unscaled_cancer)\n",
    "scaled_cancer = pd.DataFrame(scaled_cancer, columns=['Area', 'Smoothness'])\n",
    "scaled_cancer['Class'] = unscaled_cancer['Class']\n",
    "scaled_cancer"
   ]
  },
  {
   "cell_type": "markdown",
   "id": "fe7043e2",
   "metadata": {},
   "source": [
    "It may seem redundant that we had to both `fit` *and* `transform` to scale and center the data.\n",
    " However, we do this in two steps so we can specify a different data set in the `transform` step if we want. \n",
    " For example, we may want to specify new data that were not part of the training set. \n",
    "\n",
    "You may wonder why we are doing so much work just to center and\n",
    "scale our variables. Can't we just manually scale and center the `Area` and\n",
    "`Smoothness` variables ourselves before building our $K$-nearest neighbor model? Well,\n",
    "technically *yes*; but doing so is error-prone.  In particular, we might\n",
    "accidentally forget to apply the same centering / scaling when making\n",
    "predictions, or accidentally apply a *different* centering / scaling than what\n",
    "we used while training. Proper use of a `ColumnTransformer` helps keep our code simple,\n",
    "readable, and error-free. Furthermore, note that using `fit` and `transform` on the preprocessor is required only when you want to inspect the result of the preprocessing steps\n",
    "yourself. You will see further on in\n",
    "Section {ref}`08:puttingittogetherworkflow` that `scikit-learn` provides tools to\n",
    "automatically streamline the preprocesser and the model so that you can call`fit` \n",
    "and `transform` on the `Pipeline` as necessary without additional coding effort."
   ]
  },
  {
   "cell_type": "code",
   "execution_count": 41,
   "id": "57486caf",
   "metadata": {
    "tags": [
     "remove-cell"
    ]
   },
   "outputs": [],
   "source": [
    "# It may seem redundant that we had to both `bake` *and* `prep` to scale and center the data.\n",
    "#  However, we do this in two steps so we can specify a different data set in the `bake` step if we want. \n",
    "#  For example, we may want to specify new data that were not part of the training set. \n",
    "\n",
    "# You may wonder why we are doing so much work just to center and\n",
    "# scale our variables. Can't we just manually scale and center the `Area` and\n",
    "# `Smoothness` variables ourselves before building our $K$-nearest neighbor model? Well,\n",
    "# technically *yes*; but doing so is error-prone.  In particular, we might\n",
    "# accidentally forget to apply the same centering / scaling when making\n",
    "# predictions, or accidentally apply a *different* centering / scaling than what\n",
    "# we used while training. Proper use of a `recipe` helps keep our code simple,\n",
    "# readable, and error-free. Furthermore, note that using `prep` and `bake` is\n",
    "# required only when you want to inspect the result of the preprocessing steps\n",
    "# yourself. You will see further on in Section\n",
    "# \\@ref(puttingittogetherworkflow) that `tidymodels` provides tools to\n",
    "# automatically apply `prep` and `bake` as necessary without additional coding effort."
   ]
  },
  {
   "cell_type": "markdown",
   "id": "b2f8036c",
   "metadata": {},
   "source": [
    "{numref}`fig:05-scaling-plt` shows the two scatter plots side-by-side&mdash;one for `unscaled_cancer` and one for\n",
    "`scaled_cancer`. Each has the same new observation annotated with its $K=3$ nearest neighbors.\n",
    "In the original unstandardized data plot, you can see some odd choices\n",
    "for the three nearest neighbors. In particular, the \"neighbors\" are visually\n",
    "well within the cloud of benign observations, and the neighbors are all nearly\n",
    "vertically aligned with the new observation (which is why it looks like there\n",
    "is only one black line on this plot). {numref}`fig:05-scaling-plt-zoomed`\n",
    "shows a close-up of that region on the unstandardized plot. Here the computation of nearest\n",
    "neighbors is dominated by the much larger-scale area variable. The plot for standardized data \n",
    "on the right in {numref}`fig:05-scaling-plt` shows a much more intuitively reasonable\n",
    "selection of nearest neighbors. Thus, standardizing the data can change things\n",
    "in an important way when we are using predictive algorithms. \n",
    "Standardizing your data should be a part of the preprocessing you do\n",
    "before predictive modeling and you should always think carefully about your problem domain and\n",
    "whether you need to standardize your data."
   ]
  },
  {
   "cell_type": "code",
   "execution_count": 42,
   "id": "0826d438",
   "metadata": {
    "tags": [
     "remove-cell"
    ]
   },
   "outputs": [
    {
     "ename": "NameError",
     "evalue": "name 'euclidean_distances' is not defined",
     "output_type": "error",
     "traceback": [
      "\u001b[0;31m---------------------------------------------------------------------------\u001b[0m",
      "\u001b[0;31mNameError\u001b[0m                                 Traceback (most recent call last)",
      "Input \u001b[0;32mIn [42]\u001b[0m, in \u001b[0;36m<cell line: 14>\u001b[0;34m()\u001b[0m\n\u001b[1;32m     12\u001b[0m unscaled_cancer[\u001b[38;5;124m\"\u001b[39m\u001b[38;5;124mClass\u001b[39m\u001b[38;5;124m\"\u001b[39m] \u001b[38;5;241m=\u001b[39m unscaled_cancer[\u001b[38;5;124m\"\u001b[39m\u001b[38;5;124mClass\u001b[39m\u001b[38;5;124m\"\u001b[39m]\u001b[38;5;241m.\u001b[39mapply(class_dscp)\n\u001b[1;32m     13\u001b[0m area_smoothness_new_df \u001b[38;5;241m=\u001b[39m pd\u001b[38;5;241m.\u001b[39mconcat((unscaled_cancer, new_obs), ignore_index\u001b[38;5;241m=\u001b[39m\u001b[38;5;28;01mTrue\u001b[39;00m)\n\u001b[0;32m---> 14\u001b[0m my_distances \u001b[38;5;241m=\u001b[39m \u001b[43meuclidean_distances\u001b[49m(area_smoothness_new_df\u001b[38;5;241m.\u001b[39mloc[:, attrs])[\n\u001b[1;32m     15\u001b[0m     \u001b[38;5;28mlen\u001b[39m(unscaled_cancer)\n\u001b[1;32m     16\u001b[0m ][:\u001b[38;5;241m-\u001b[39m\u001b[38;5;241m1\u001b[39m]\n\u001b[1;32m     17\u001b[0m area_smoothness_new_point \u001b[38;5;241m=\u001b[39m (\n\u001b[1;32m     18\u001b[0m     alt\u001b[38;5;241m.\u001b[39mChart(\n\u001b[1;32m     19\u001b[0m         area_smoothness_new_df,\n\u001b[0;32m   (...)\u001b[0m\n\u001b[1;32m     35\u001b[0m     )\n\u001b[1;32m     36\u001b[0m )\n\u001b[1;32m     38\u001b[0m \u001b[38;5;66;03m# The index of 3 rows that has smallest distance to the new point\u001b[39;00m\n",
      "\u001b[0;31mNameError\u001b[0m: name 'euclidean_distances' is not defined"
     ]
    }
   ],
   "source": [
    "def class_dscp(x):\n",
    "    if x == \"M\":\n",
    "        return \"Malignant\"\n",
    "    elif x == \"B\":\n",
    "        return \"Benign\"\n",
    "    else:\n",
    "        return x\n",
    "\n",
    "\n",
    "attrs = [\"Area\", \"Smoothness\"]\n",
    "new_obs = pd.DataFrame({\"Class\": [\"Unknwon\"], \"Area\": 400, \"Smoothness\": 0.135})\n",
    "unscaled_cancer[\"Class\"] = unscaled_cancer[\"Class\"].apply(class_dscp)\n",
    "area_smoothness_new_df = pd.concat((unscaled_cancer, new_obs), ignore_index=True)\n",
    "my_distances = euclidean_distances(area_smoothness_new_df.loc[:, attrs])[\n",
    "    len(unscaled_cancer)\n",
    "][:-1]\n",
    "area_smoothness_new_point = (\n",
    "    alt.Chart(\n",
    "        area_smoothness_new_df,\n",
    "        title=alt.TitleParams(text=\"Unstandardized data\", anchor=\"start\"),\n",
    "    )\n",
    "    .mark_point(opacity=0.6, filled=True, size=40)\n",
    "    .encode(\n",
    "        x=alt.X(\"Area\"),\n",
    "        y=alt.Y(\"Smoothness\"),\n",
    "        color=alt.Color(\n",
    "            \"Class\",\n",
    "            scale=alt.Scale(range=[\"#86bfef\", \"#efb13f\", \"red\"]),\n",
    "            title=\"Diagnosis\",\n",
    "        ),\n",
    "        shape=alt.Shape(\n",
    "            \"Class\", scale=alt.Scale(range=[\"circle\", \"circle\", \"diamond\"])\n",
    "        ),\n",
    "        size=alt.condition(\"datum.Class == 'Unknown'\", alt.value(80), alt.value(30))\n",
    "    )\n",
    ")\n",
    "\n",
    "# The index of 3 rows that has smallest distance to the new point\n",
    "min_3_idx = np.argpartition(my_distances, 3)[:3]\n",
    "neighbor1 = pd.concat(\n",
    "    (\n",
    "        unscaled_cancer.loc[min_3_idx[0], attrs],\n",
    "        new_obs[attrs].T,\n",
    "    ),\n",
    "    axis=1,\n",
    ").T\n",
    "neighbor2 = pd.concat(\n",
    "    (\n",
    "        unscaled_cancer.loc[min_3_idx[1], attrs],\n",
    "        new_obs[attrs].T,\n",
    "    ),\n",
    "    axis=1,\n",
    ").T\n",
    "neighbor3 = pd.concat(\n",
    "    (\n",
    "        unscaled_cancer.loc[min_3_idx[2], attrs],\n",
    "        new_obs[attrs].T,\n",
    "    ),\n",
    "    axis=1,\n",
    ").T\n",
    "\n",
    "line1 = (\n",
    "    alt.Chart(neighbor1)\n",
    "    .mark_line()\n",
    "    .encode(x=\"Area\", y=\"Smoothness\", color=alt.value(\"black\"))\n",
    ")\n",
    "line2 = (\n",
    "    alt.Chart(neighbor2)\n",
    "    .mark_line()\n",
    "    .encode(x=\"Area\", y=\"Smoothness\", color=alt.value(\"black\"))\n",
    ")\n",
    "line3 = (\n",
    "    alt.Chart(neighbor3)\n",
    "    .mark_line()\n",
    "    .encode(x=\"Area\", y=\"Smoothness\", color=alt.value(\"black\"))\n",
    ")\n",
    "\n",
    "area_smoothness_new_point = area_smoothness_new_point + line1 + line2 + line3"
   ]
  },
  {
   "cell_type": "code",
   "execution_count": 43,
   "id": "e3bffcf0",
   "metadata": {
    "tags": [
     "remove-cell"
    ]
   },
   "outputs": [
    {
     "ename": "NameError",
     "evalue": "name 'scaled_cancer' is not defined",
     "output_type": "error",
     "traceback": [
      "\u001b[0;31m---------------------------------------------------------------------------\u001b[0m",
      "\u001b[0;31mNameError\u001b[0m                                 Traceback (most recent call last)",
      "Input \u001b[0;32mIn [43]\u001b[0m, in \u001b[0;36m<cell line: 3>\u001b[0;34m()\u001b[0m\n\u001b[1;32m      1\u001b[0m attrs \u001b[38;5;241m=\u001b[39m [\u001b[38;5;124m\"\u001b[39m\u001b[38;5;124mArea\u001b[39m\u001b[38;5;124m\"\u001b[39m, \u001b[38;5;124m\"\u001b[39m\u001b[38;5;124mSmoothness\u001b[39m\u001b[38;5;124m\"\u001b[39m]\n\u001b[1;32m      2\u001b[0m new_obs_scaled \u001b[38;5;241m=\u001b[39m pd\u001b[38;5;241m.\u001b[39mDataFrame({\u001b[38;5;124m\"\u001b[39m\u001b[38;5;124mClass\u001b[39m\u001b[38;5;124m\"\u001b[39m: [\u001b[38;5;124m\"\u001b[39m\u001b[38;5;124mUnknwon\u001b[39m\u001b[38;5;124m\"\u001b[39m], \u001b[38;5;124m\"\u001b[39m\u001b[38;5;124mArea\u001b[39m\u001b[38;5;124m\"\u001b[39m: \u001b[38;5;241m-\u001b[39m\u001b[38;5;241m0.72\u001b[39m, \u001b[38;5;124m\"\u001b[39m\u001b[38;5;124mSmoothness\u001b[39m\u001b[38;5;124m\"\u001b[39m: \u001b[38;5;241m2.8\u001b[39m})\n\u001b[0;32m----> 3\u001b[0m scaled_cancer[\u001b[38;5;124m\"\u001b[39m\u001b[38;5;124mClass\u001b[39m\u001b[38;5;124m\"\u001b[39m] \u001b[38;5;241m=\u001b[39m \u001b[43mscaled_cancer\u001b[49m[\u001b[38;5;124m\"\u001b[39m\u001b[38;5;124mClass\u001b[39m\u001b[38;5;124m\"\u001b[39m]\u001b[38;5;241m.\u001b[39mapply(class_dscp)\n\u001b[1;32m      4\u001b[0m area_smoothness_new_df_scaled \u001b[38;5;241m=\u001b[39m pd\u001b[38;5;241m.\u001b[39mconcat(\n\u001b[1;32m      5\u001b[0m     (scaled_cancer, new_obs_scaled), ignore_index\u001b[38;5;241m=\u001b[39m\u001b[38;5;28;01mTrue\u001b[39;00m\n\u001b[1;32m      6\u001b[0m )\n\u001b[1;32m      7\u001b[0m my_distances_scaled \u001b[38;5;241m=\u001b[39m euclidean_distances(area_smoothness_new_df_scaled\u001b[38;5;241m.\u001b[39mloc[:, attrs])[\n\u001b[1;32m      8\u001b[0m     \u001b[38;5;28mlen\u001b[39m(scaled_cancer)\n\u001b[1;32m      9\u001b[0m ][:\u001b[38;5;241m-\u001b[39m\u001b[38;5;241m1\u001b[39m]\n",
      "\u001b[0;31mNameError\u001b[0m: name 'scaled_cancer' is not defined"
     ]
    }
   ],
   "source": [
    "attrs = [\"Area\", \"Smoothness\"]\n",
    "new_obs_scaled = pd.DataFrame({\"Class\": [\"Unknwon\"], \"Area\": -0.72, \"Smoothness\": 2.8})\n",
    "scaled_cancer[\"Class\"] = scaled_cancer[\"Class\"].apply(class_dscp)\n",
    "area_smoothness_new_df_scaled = pd.concat(\n",
    "    (scaled_cancer, new_obs_scaled), ignore_index=True\n",
    ")\n",
    "my_distances_scaled = euclidean_distances(area_smoothness_new_df_scaled.loc[:, attrs])[\n",
    "    len(scaled_cancer)\n",
    "][:-1]\n",
    "area_smoothness_new_point_scaled = (\n",
    "    alt.Chart(\n",
    "        area_smoothness_new_df_scaled,\n",
    "        title=alt.TitleParams(text=\"Standardized data\", anchor=\"start\"),\n",
    "    )\n",
    "    .mark_point(opacity=0.6, filled=True, size=40)\n",
    "    .encode(\n",
    "        x=alt.X(\"Area\", title=\"Area (standardized)\"),\n",
    "        y=alt.Y(\"Smoothness\", title=\"Smoothness (standardized)\"),\n",
    "        color=alt.Color(\n",
    "            \"Class\",\n",
    "            scale=alt.Scale(range=[\"#86bfef\", \"#efb13f\", \"red\"]),\n",
    "            title=\"Diagnosis\",\n",
    "        ),\n",
    "        shape=alt.Shape(\n",
    "            \"Class\", scale=alt.Scale(range=[\"circle\", \"circle\", \"diamond\"])\n",
    "        ),\n",
    "        size=alt.condition(\"datum.Class == 'Unknown'\", alt.value(80), alt.value(30))\n",
    "    )\n",
    ")\n",
    "min_3_idx_scaled = np.argpartition(my_distances_scaled, 3)[:3]\n",
    "neighbor1_scaled = pd.concat(\n",
    "    (\n",
    "        scaled_cancer.loc[min_3_idx_scaled[0], attrs],\n",
    "        new_obs_scaled[attrs].T,\n",
    "    ),\n",
    "    axis=1,\n",
    ").T\n",
    "neighbor2_scaled = pd.concat(\n",
    "    (\n",
    "        scaled_cancer.loc[min_3_idx_scaled[1], attrs],\n",
    "        new_obs_scaled[attrs].T,\n",
    "    ),\n",
    "    axis=1,\n",
    ").T\n",
    "neighbor3_scaled = pd.concat(\n",
    "    (\n",
    "        scaled_cancer.loc[min_3_idx_scaled[2], attrs],\n",
    "        new_obs_scaled[attrs].T,\n",
    "    ),\n",
    "    axis=1,\n",
    ").T\n",
    "\n",
    "line1_scaled = (\n",
    "    alt.Chart(neighbor1_scaled)\n",
    "    .mark_line()\n",
    "    .encode(x=\"Area\", y=\"Smoothness\", color=alt.value(\"black\"))\n",
    ")\n",
    "line2_scaled = (\n",
    "    alt.Chart(neighbor2_scaled)\n",
    "    .mark_line()\n",
    "    .encode(x=\"Area\", y=\"Smoothness\", color=alt.value(\"black\"))\n",
    ")\n",
    "line3_scaled = (\n",
    "    alt.Chart(neighbor3_scaled)\n",
    "    .mark_line()\n",
    "    .encode(x=\"Area\", y=\"Smoothness\", color=alt.value(\"black\"))\n",
    ")\n",
    "\n",
    "area_smoothness_new_point_scaled = (\n",
    "    area_smoothness_new_point_scaled + line1_scaled + line2_scaled + line3_scaled\n",
    ")"
   ]
  },
  {
   "cell_type": "code",
   "execution_count": 44,
   "id": "f335e4c0",
   "metadata": {
    "tags": [
     "remove-cell"
    ]
   },
   "outputs": [
    {
     "ename": "NameError",
     "evalue": "name 'glue' is not defined",
     "output_type": "error",
     "traceback": [
      "\u001b[0;31m---------------------------------------------------------------------------\u001b[0m",
      "\u001b[0;31mNameError\u001b[0m                                 Traceback (most recent call last)",
      "Input \u001b[0;32mIn [44]\u001b[0m, in \u001b[0;36m<cell line: 1>\u001b[0;34m()\u001b[0m\n\u001b[0;32m----> 1\u001b[0m \u001b[43mglue\u001b[49m(\n\u001b[1;32m      2\u001b[0m     \u001b[38;5;124m\"\u001b[39m\u001b[38;5;124mfig:05-scaling-plt\u001b[39m\u001b[38;5;124m\"\u001b[39m,\n\u001b[1;32m      3\u001b[0m     (area_smoothness_new_point \u001b[38;5;241m|\u001b[39m area_smoothness_new_point_scaled)\u001b[38;5;241m.\u001b[39mconfigure_legend(\n\u001b[1;32m      4\u001b[0m         orient\u001b[38;5;241m=\u001b[39m\u001b[38;5;124m\"\u001b[39m\u001b[38;5;124mbottom\u001b[39m\u001b[38;5;124m\"\u001b[39m, titleAnchor\u001b[38;5;241m=\u001b[39m\u001b[38;5;124m\"\u001b[39m\u001b[38;5;124mmiddle\u001b[39m\u001b[38;5;124m\"\u001b[39m\n\u001b[1;32m      5\u001b[0m     ),\n\u001b[1;32m      6\u001b[0m )\n",
      "\u001b[0;31mNameError\u001b[0m: name 'glue' is not defined"
     ]
    }
   ],
   "source": [
    "glue(\n",
    "    \"fig:05-scaling-plt\",\n",
    "    (area_smoothness_new_point | area_smoothness_new_point_scaled).configure_legend(\n",
    "        orient=\"bottom\", titleAnchor=\"middle\"\n",
    "    ),\n",
    ")"
   ]
  },
  {
   "cell_type": "markdown",
   "id": "060f8e19",
   "metadata": {},
   "source": [
    ":::{glue:figure} fig:05-scaling-plt\n",
    ":name: fig:05-scaling-plt\n",
    "\n",
    "Comparison of K = 3 nearest neighbors with standardized and unstandardized data.\n",
    ":::"
   ]
  },
  {
   "cell_type": "code",
   "execution_count": 45,
   "id": "c1b4db65",
   "metadata": {
    "tags": [
     "remove-cell"
    ]
   },
   "outputs": [
    {
     "ename": "NameError",
     "evalue": "name 'glue' is not defined",
     "output_type": "error",
     "traceback": [
      "\u001b[0;31m---------------------------------------------------------------------------\u001b[0m",
      "\u001b[0;31mNameError\u001b[0m                                 Traceback (most recent call last)",
      "Input \u001b[0;32mIn [45]\u001b[0m, in \u001b[0;36m<cell line: 4>\u001b[0;34m()\u001b[0m\n\u001b[1;32m      1\u001b[0m \u001b[38;5;66;03m# Could not find something mimicing `facet_zoom` in R, here are 2 plots trying to\u001b[39;00m\n\u001b[1;32m      2\u001b[0m \u001b[38;5;66;03m# illustrate similar points\u001b[39;00m\n\u001b[1;32m      3\u001b[0m \u001b[38;5;66;03m# 1. interactive plot which allows zooming in/out\u001b[39;00m\n\u001b[0;32m----> 4\u001b[0m \u001b[43mglue\u001b[49m(\u001b[38;5;124m'\u001b[39m\u001b[38;5;124mfig:05-scaling-plt-interactive\u001b[39m\u001b[38;5;124m'\u001b[39m, area_smoothness_new_point\u001b[38;5;241m.\u001b[39minteractive())\n",
      "\u001b[0;31mNameError\u001b[0m: name 'glue' is not defined"
     ]
    }
   ],
   "source": [
    "# Could not find something mimicing `facet_zoom` in R, here are 2 plots trying to\n",
    "# illustrate similar points\n",
    "# 1. interactive plot which allows zooming in/out\n",
    "glue('fig:05-scaling-plt-interactive', area_smoothness_new_point.interactive())"
   ]
  },
  {
   "cell_type": "markdown",
   "id": "25f6778f",
   "metadata": {
    "tags": [
     "remove-cell"
    ]
   },
   "source": [
    ":::{glue:figure} fig:05-scaling-plt-interactive\n",
    ":name: fig:05-scaling-plt-interactive\n",
    "\n",
    "Close-up of three nearest neighbors for unstandardized data.\n",
    ":::"
   ]
  },
  {
   "cell_type": "code",
   "execution_count": 46,
   "id": "582f52da",
   "metadata": {
    "tags": [
     "remove-cell"
    ]
   },
   "outputs": [
    {
     "ename": "NameError",
     "evalue": "name 'line1' is not defined",
     "output_type": "error",
     "traceback": [
      "\u001b[0;31m---------------------------------------------------------------------------\u001b[0m",
      "\u001b[0;31mNameError\u001b[0m                                 Traceback (most recent call last)",
      "Input \u001b[0;32mIn [46]\u001b[0m, in \u001b[0;36m<cell line: 22>\u001b[0;34m()\u001b[0m\n\u001b[1;32m      1\u001b[0m \u001b[38;5;66;03m# 2. Static plot, Zoom-in\u001b[39;00m\n\u001b[1;32m      2\u001b[0m zoom_area_smoothness_new_point \u001b[38;5;241m=\u001b[39m (\n\u001b[1;32m      3\u001b[0m     alt\u001b[38;5;241m.\u001b[39mChart(\n\u001b[1;32m      4\u001b[0m         area_smoothness_new_df,\n\u001b[0;32m   (...)\u001b[0m\n\u001b[1;32m     20\u001b[0m     )\n\u001b[1;32m     21\u001b[0m )\n\u001b[0;32m---> 22\u001b[0m zoom_area_smoothness_new_point \u001b[38;5;241m+\u001b[39m \u001b[43mline1\u001b[49m \u001b[38;5;241m+\u001b[39m line2 \u001b[38;5;241m+\u001b[39m line3\n\u001b[1;32m     23\u001b[0m glue(\u001b[38;5;124m\"\u001b[39m\u001b[38;5;124mfig:05-scaling-plt-zoomed\u001b[39m\u001b[38;5;124m\"\u001b[39m, (zoom_area_smoothness_new_point \u001b[38;5;241m+\u001b[39m line1 \u001b[38;5;241m+\u001b[39m line2 \u001b[38;5;241m+\u001b[39m line3))\n",
      "\u001b[0;31mNameError\u001b[0m: name 'line1' is not defined"
     ]
    }
   ],
   "source": [
    "# 2. Static plot, Zoom-in\n",
    "zoom_area_smoothness_new_point = (\n",
    "    alt.Chart(\n",
    "        area_smoothness_new_df,\n",
    "        title=alt.TitleParams(text=\"Unstandardized data\", anchor=\"start\"),\n",
    "    )\n",
    "    .mark_point(clip=True, opacity=0.6, filled=True, size=40)\n",
    "    .encode(\n",
    "        x=alt.X(\"Area\", scale=alt.Scale(domain=(380, 420))),\n",
    "        y=alt.Y(\"Smoothness\", scale=alt.Scale(domain=(0.08, 0.14))),\n",
    "        color=alt.Color(\n",
    "            \"Class\",\n",
    "            scale=alt.Scale(range=[\"#86bfef\", \"#efb13f\", \"red\"]),\n",
    "            title=\"Diagnosis\",\n",
    "        ),\n",
    "        shape=alt.Shape(\n",
    "            \"Class\", scale=alt.Scale(range=[\"circle\", \"circle\", \"diamond\"])\n",
    "        ),\n",
    "        size=alt.condition(\"datum.Class == 'Unknown'\", alt.value(80), alt.value(30))\n",
    "    )\n",
    ")\n",
    "zoom_area_smoothness_new_point + line1 + line2 + line3\n",
    "glue(\"fig:05-scaling-plt-zoomed\", (zoom_area_smoothness_new_point + line1 + line2 + line3))"
   ]
  },
  {
   "cell_type": "markdown",
   "id": "7ce67dde",
   "metadata": {},
   "source": [
    ":::{glue:figure} fig:05-scaling-plt-zoomed\n",
    ":name: fig:05-scaling-plt-zoomed\n",
    "\n",
    "Close-up of three nearest neighbors for unstandardized data.\n",
    ":::"
   ]
  },
  {
   "cell_type": "markdown",
   "id": "241b9c93",
   "metadata": {},
   "source": [
    "### Balancing\n",
    "\n",
    "Another potential issue in a data set for a classifier is *class imbalance*, \\index{balance}\\index{imbalance}\n",
    "i.e., when one label is much more common than another. Since classifiers like\n",
    "the $K$-nearest neighbor algorithm use the labels of nearby points to predict\n",
    "the label of a new point, if there are many more data points with one label\n",
    "overall, the algorithm is more likely to pick that label in general (even if\n",
    "the \"pattern\" of data suggests otherwise). Class imbalance is actually quite a\n",
    "common and important problem: from rare disease diagnosis to malicious email\n",
    "detection, there are many cases in which the \"important\" class to identify\n",
    "(presence of disease, malicious email) is much rarer than the \"unimportant\"\n",
    "class (no disease, normal email).\n",
    "\n",
    "To better illustrate the problem, let's revisit the scaled breast cancer data, \n",
    "`cancer`; except now we will remove many of the observations of malignant tumors, simulating\n",
    "what the data would look like if the cancer was rare. We will do this by\n",
    "picking only 3 observations from the malignant group, and keeping all\n",
    "of the benign observations. We choose these 3 observations using the `.head()`\n",
    "method, which takes the number of rows to select from the top (`n`).\n",
    "The new imbalanced data is shown in {numref}`fig:05-unbalanced`."
   ]
  },
  {
   "cell_type": "code",
   "execution_count": 47,
   "id": "ae2447d7",
   "metadata": {
    "tags": [
     "remove-cell"
    ]
   },
   "outputs": [],
   "source": [
    "# To better illustrate the problem, let's revisit the scaled breast cancer data, \n",
    "# `cancer`; except now we will remove many of the observations of malignant tumors, simulating\n",
    "# what the data would look like if the cancer was rare. We will do this by\n",
    "# picking only 3 observations from the malignant group, and keeping all\n",
    "# of the benign observations. We choose these 3 observations using the `slice_head`\n",
    "# function, which takes two arguments: a data frame-like object,\n",
    "# and the number of rows to select from the top (`n`).\n",
    "# The new imbalanced data is shown in Figure \\@ref(fig:05-unbalanced)."
   ]
  },
  {
   "cell_type": "code",
   "execution_count": 48,
   "id": "3326fc01",
   "metadata": {},
   "outputs": [
    {
     "data": {
      "text/html": [
       "\n",
       "<div id=\"altair-viz-3014953abcb54b56a815c88c2d26f4d1\"></div>\n",
       "<script type=\"text/javascript\">\n",
       "  var VEGA_DEBUG = (typeof VEGA_DEBUG == \"undefined\") ? {} : VEGA_DEBUG;\n",
       "  (function(spec, embedOpt){\n",
       "    let outputDiv = document.currentScript.previousElementSibling;\n",
       "    if (outputDiv.id !== \"altair-viz-3014953abcb54b56a815c88c2d26f4d1\") {\n",
       "      outputDiv = document.getElementById(\"altair-viz-3014953abcb54b56a815c88c2d26f4d1\");\n",
       "    }\n",
       "    const paths = {\n",
       "      \"vega\": \"https://cdn.jsdelivr.net/npm//vega@5?noext\",\n",
       "      \"vega-lib\": \"https://cdn.jsdelivr.net/npm//vega-lib?noext\",\n",
       "      \"vega-lite\": \"https://cdn.jsdelivr.net/npm//vega-lite@4.17.0?noext\",\n",
       "      \"vega-embed\": \"https://cdn.jsdelivr.net/npm//vega-embed@6?noext\",\n",
       "    };\n",
       "\n",
       "    function maybeLoadScript(lib, version) {\n",
       "      var key = `${lib.replace(\"-\", \"\")}_version`;\n",
       "      return (VEGA_DEBUG[key] == version) ?\n",
       "        Promise.resolve(paths[lib]) :\n",
       "        new Promise(function(resolve, reject) {\n",
       "          var s = document.createElement('script');\n",
       "          document.getElementsByTagName(\"head\")[0].appendChild(s);\n",
       "          s.async = true;\n",
       "          s.onload = () => {\n",
       "            VEGA_DEBUG[key] = version;\n",
       "            return resolve(paths[lib]);\n",
       "          };\n",
       "          s.onerror = () => reject(`Error loading script: ${paths[lib]}`);\n",
       "          s.src = paths[lib];\n",
       "        });\n",
       "    }\n",
       "\n",
       "    function showError(err) {\n",
       "      outputDiv.innerHTML = `<div class=\"error\" style=\"color:red;\">${err}</div>`;\n",
       "      throw err;\n",
       "    }\n",
       "\n",
       "    function displayChart(vegaEmbed) {\n",
       "      vegaEmbed(outputDiv, spec, embedOpt)\n",
       "        .catch(err => showError(`Javascript Error: ${err.message}<br>This usually means there's a typo in your chart specification. See the javascript console for the full traceback.`));\n",
       "    }\n",
       "\n",
       "    if(typeof define === \"function\" && define.amd) {\n",
       "      requirejs.config({paths});\n",
       "      require([\"vega-embed\"], displayChart, err => showError(`Error loading script: ${err.message}`));\n",
       "    } else {\n",
       "      maybeLoadScript(\"vega\", \"5\")\n",
       "        .then(() => maybeLoadScript(\"vega-lite\", \"4.17.0\"))\n",
       "        .then(() => maybeLoadScript(\"vega-embed\", \"6\"))\n",
       "        .catch(showError)\n",
       "        .then(() => displayChart(vegaEmbed));\n",
       "    }\n",
       "  })({\"config\": {\"view\": {\"continuousWidth\": 400, \"continuousHeight\": 300}}, \"data\": {\"name\": \"data-296102e026f8b5cc3f895b37fa83344a\"}, \"mark\": {\"type\": \"point\", \"filled\": true, \"opacity\": 0.6, \"size\": 40}, \"encoding\": {\"color\": {\"field\": \"Class\", \"scale\": {\"range\": [\"#86bfef\", \"#efb13f\"]}, \"title\": \"Diagnosis\", \"type\": \"nominal\"}, \"x\": {\"field\": \"Perimeter\", \"title\": \"Perimeter (standardized)\", \"type\": \"quantitative\"}, \"y\": {\"field\": \"Concavity\", \"title\": \"Concavity (standardized)\", \"type\": \"quantitative\"}}, \"$schema\": \"https://vega.github.io/schema/vega-lite/v4.17.0.json\", \"datasets\": {\"data-296102e026f8b5cc3f895b37fa83344a\": [{\"ID\": 8510426, \"Class\": \"Benign\", \"Radius\": -0.1666525547337068, \"Texture\": -1.1461538038434238, \"Perimeter\": -0.1855647109121211, \"Area\": -0.2517350010830552, \"Smoothness\": 0.1016571230669613, \"Compactness\": -0.4364662078854697, \"Concavity\": -0.2779649898360721, \"Concave_Points\": -0.0285841379407413, \"Symmetry\": 0.2676757049602142, \"Fractal_Dimension\": -0.7276693834210122}, {\"ID\": 8510653, \"Class\": \"Benign\", \"Radius\": -0.2971842308496825, \"Texture\": -0.8322759212199655, \"Perimeter\": -0.2608765109041165, \"Area\": -0.3833011877197406, \"Smoothness\": 0.7920660773191481, \"Compactness\": 0.4290443579215916, \"Concavity\": -0.5408858415004418, \"Concave_Points\": -0.4592226661376788, \"Symmetry\": 0.5667898746693147, \"Fractal_Dimension\": 0.7524245300639244}, {\"ID\": 8510824, \"Class\": \"Benign\", \"Radius\": -1.3119261303947476, \"Texture\": -1.5925579035745638, \"Perimeter\": -1.301660894400054, \"Area\": -1.0826195145294235, \"Smoothness\": 0.4294413948591945, \"Compactness\": -0.7464291910896174, \"Concavity\": -0.7430940537537644, \"Concave_Points\": -0.7256979732326119, \"Symmetry\": 0.0123343405743969, \"Fractal_Dimension\": 0.8855621643869709}, {\"ID\": 854941, \"Class\": \"Benign\", \"Radius\": -0.3113724565144627, \"Texture\": -0.202195134620283, \"Perimeter\": -0.3851615578854422, \"Area\": -0.3725030989677018, \"Smoothness\": -0.4643217930862223, \"Compactness\": -1.2625923506586505, \"Concavity\": -0.7925171527784598, \"Concave_Points\": -0.5074150089101667, \"Symmetry\": -1.257077013800808, \"Fractal_Dimension\": -0.5902826756621244}, {\"ID\": 85713702, \"Class\": \"Benign\", \"Radius\": -1.683090113785392, \"Texture\": -0.5695485083573676, \"Perimeter\": -1.656819820045366, \"Area\": -1.287214880357531, \"Smoothness\": -0.7366458193257565, \"Compactness\": -0.850381346116543, \"Concavity\": -0.914695067626311, \"Concave_Points\": -1.1082214725759478, \"Symmetry\": -0.155461413164854, \"Fractal_Dimension\": 0.3161863239841518}, {\"ID\": 857155, \"Class\": \"Benign\", \"Radius\": -0.5894616795441501, \"Texture\": -1.0833782273187318, \"Perimeter\": -0.5732352879200974, \"Area\": -0.5842024705537292, \"Smoothness\": 0.4792134100987955, \"Compactness\": -0.2541239031661085, \"Concavity\": -0.2869966221451533, \"Concave_Points\": -0.5522570818642465, \"Symmetry\": -0.4983483881972367, \"Fractal_Dimension\": -0.3353382695116087}, {\"ID\": 857156, \"Class\": \"Benign\", \"Radius\": -0.1808407803984865, \"Texture\": 0.6999131502530626, \"Perimeter\": -0.2081994048987863, \"Area\": -0.2667954932898462, \"Smoothness\": -0.6285694433769069, \"Compactness\": -0.5180752767681747, \"Concavity\": -0.5179304427148599, \"Concave_Points\": -0.3886092868881512, \"Symmetry\": -0.0095520620872441, \"Fractal_Dimension\": -0.7956545583944841}, {\"ID\": 857343, \"Class\": \"Benign\", \"Radius\": -0.6717533883998743, \"Texture\": 0.5371616555594179, \"Perimeter\": -0.7098665316214229, \"Area\": -0.6450127598415278, \"Smoothness\": -0.7103377541276807, \"Compactness\": -1.0353745254631843, \"Concavity\": -0.906039753330108, \"Concave_Points\": -0.973360226731868, \"Symmetry\": -1.1549404680464814, \"Fractal_Dimension\": -0.5548737303634418}, {\"ID\": 857373, \"Class\": \"Benign\", \"Radius\": -0.1382761034041465, \"Texture\": -0.6857995759956853, \"Perimeter\": -0.1958532081787871, \"Area\": -0.2361061884156303, \"Smoothness\": -1.3872371613862615, \"Compactness\": -0.828416956347648, \"Concavity\": -0.8809518858048819, \"Concave_Points\": -0.8166706844555436, \"Symmetry\": -1.6729186643719958, \"Fractal_Dimension\": -0.4628104725868671}, {\"ID\": 857374, \"Class\": \"Benign\", \"Radius\": -0.6206757760066665, \"Texture\": -0.2440455189700781, \"Perimeter\": -0.6691240824454255, \"Area\": -0.6174492175007965, \"Smoothness\": -0.9776845788432548, \"Compactness\": -1.0760843858107054, \"Concavity\": -0.8665263619778769, \"Concave_Points\": -0.9130553700005194, \"Symmetry\": 0.2056642307522298, \"Fractal_Dimension\": -0.2404422961111385}, {\"ID\": 85759902, \"Class\": \"Benign\", \"Radius\": -0.7398568715908184, \"Texture\": -0.1254694299789937, \"Perimeter\": -0.7666590365334193, \"Area\": -0.6987190433714059, \"Smoothness\": -0.0796552181630163, \"Compactness\": -0.9393749943181006, \"Concavity\": -0.7330589067436739, \"Concave_Points\": -0.6736399345158067, \"Symmetry\": 0.3953463871531229, \"Fractal_Dimension\": -0.5279629319364416}, {\"ID\": 857810, \"Class\": \"Benign\", \"Radius\": -0.3056971662485503, \"Texture\": 0.0047317657759218, \"Perimeter\": -0.3851615578854422, \"Area\": -0.3628416511369298, \"Smoothness\": -1.1206013654598246, \"Compactness\": -1.258237342342404, \"Concavity\": -1.1052123336128783, \"Concave_Points\": -1.1533212585929815, \"Symmetry\": 0.0269252756821583, \"Fractal_Dimension\": -1.1030042035870486}, {\"ID\": 858477, \"Class\": \"Benign\", \"Radius\": -1.5633414891746489, \"Texture\": -1.743684291504377, \"Perimeter\": -1.5485848288000392, \"Area\": -1.2229946683059305, \"Smoothness\": 0.0824593457602584, \"Compactness\": -0.9774339800383408, \"Concavity\": -0.8553622609291512, \"Concave_Points\": -1.0597198741279144, \"Symmetry\": -0.469166517981715, \"Fractal_Dimension\": 1.284975067356112}, {\"ID\": 858970, \"Class\": \"Benign\", \"Radius\": -1.122938964539878, \"Texture\": -1.025252693499573, \"Perimeter\": -1.128402600429398, \"Area\": -0.9746386270090338, \"Smoothness\": 1.2115730629100754, \"Compactness\": -0.4493418846465461, \"Concavity\": -0.9779164937898808, \"Concave_Points\": -0.9282604407148338, \"Symmetry\": 3.397431285574944, \"Fractal_Dimension\": 0.963461844044072}, {\"ID\": 858981, \"Class\": \"Benign\", \"Radius\": -1.5690167794405612, \"Texture\": 0.3930103316879036, \"Perimeter\": -1.535415552298707, \"Area\": -1.2306669945244846, \"Smoothness\": 1.9865944430695843, \"Compactness\": -0.2785498193746211, \"Concavity\": -0.7375747228982147, \"Concave_Points\": -1.0220937669365602, \"Symmetry\": 0.0597548796746199, \"Fractal_Dimension\": 0.67594120821877}, {\"ID\": 859196, \"Class\": \"Benign\", \"Radius\": -1.405852184295591, \"Texture\": -1.2624048714817415, \"Perimeter\": -1.3485764419360513, \"Area\": -1.1195603444706097, \"Smoothness\": -1.3616401249773238, \"Compactness\": -0.3186916351591533, \"Concavity\": -0.3627619820713364, \"Concave_Points\": -0.6988958146853459, \"Symmetry\": 1.9310423072449656, \"Fractal_Dimension\": 0.9677109174799144}, {\"ID\": 859464, \"Class\": \"Benign\", \"Radius\": -1.322992946413276, \"Texture\": 0.3999853957462029, \"Perimeter\": -1.3111263118853869, \"Area\": -1.0954067248936803, \"Smoothness\": 0.5716471526866276, \"Compactness\": -0.503874162693458, \"Concavity\": -0.8414384944526507, \"Concave_Points\": -0.873109845242575, \"Symmetry\": -0.3451435695657471, \"Fractal_Dimension\": 0.8770640175152864}, {\"ID\": 859465, \"Class\": \"Benign\", \"Radius\": -0.799447419382894, \"Texture\": -0.0580438107487696, \"Perimeter\": -0.8300361796960825, \"Area\": -0.7410589176886113, \"Smoothness\": -1.0644300911179887, \"Compactness\": -1.0855517951938498, \"Concavity\": -0.648638232521288, \"Concave_Points\": -0.6860101615376218, \"Symmetry\": -1.0783380587307356, \"Fractal_Dimension\": -0.8678888068037953}, {\"ID\": 859471, \"Class\": \"Benign\", \"Radius\": -1.4467142742101573, \"Texture\": -0.4556224620718165, \"Perimeter\": -1.3654495774533837, \"Area\": -1.1491130084235586, \"Smoothness\": 0.7280734862968034, \"Compactness\": 0.6998122662795216, \"Concavity\": 2.812358531921282, \"Concave_Points\": -0.1332156415002607, \"Symmetry\": 1.09206353854871, \"Fractal_Dimension\": 2.501626427818849}, {\"ID\": 859487, \"Class\": \"Benign\", \"Radius\": -0.3823135848383626, \"Texture\": -0.6509242557041903, \"Perimeter\": -0.4361925043281057, \"Area\": -0.4330292280251833, \"Smoothness\": 0.1386306201020944, \"Compactness\": -0.9846292111695308, \"Concavity\": -0.6556628354283514, \"Concave_Points\": -0.5226200796244811, \"Symmetry\": -0.8084057592371579, \"Fractal_Dimension\": -0.8877178161710587}, {\"ID\": 859711, \"Class\": \"Benign\", \"Radius\": -1.486725070584837, \"Texture\": -1.0810532059659654, \"Perimeter\": -1.3654495774533837, \"Area\": -1.1675834233941516, \"Smoothness\": 0.1045012382235099, \"Compactness\": 0.9232431277217296, \"Concavity\": -0.0343617961661264, \"Concave_Points\": -0.5205583751208452, \"Symmetry\": 0.3296871791681987, \"Fractal_Dimension\": 3.8245046241776346}, {\"ID\": 8610175, \"Class\": \"Benign\", \"Radius\": -0.5156829060872943, \"Texture\": -0.643949191645891, \"Perimeter\": -0.5259082004934339, \"Area\": -0.5228238608052971, \"Smoothness\": -0.329937351939297, \"Compactness\": -0.6826188518472242, \"Concavity\": -0.6909112893012941, \"Concave_Points\": -0.6751862128935338, \"Symmetry\": -0.3342003682349266, \"Fractal_Dimension\": -0.5180484272528113}, {\"ID\": 8610629, \"Class\": \"Benign\", \"Radius\": -0.1694901998666628, \"Texture\": -1.9413111064895168, \"Perimeter\": -0.1670454158321221, \"Area\": -0.2719103774355488, \"Smoothness\": 2.3278882618554237, \"Compactness\": 0.0067978994333512, \"Concavity\": -0.2512464109217062, \"Concave_Points\": 0.4288565488034621, \"Symmetry\": 2.1572018014152614, \"Fractal_Dimension\": 0.5116437020328811}, {\"ID\": 8610908, \"Class\": \"Benign\", \"Radius\": -0.3596124237747146, \"Texture\": -0.2998460314364703, \"Perimeter\": -0.3612922442267771, \"Area\": -0.4222311392731443, \"Smoothness\": 0.2118665853832216, \"Compactness\": -0.1681598259671572, \"Concavity\": -0.6260591517485845, \"Concave_Points\": -0.664104551186491, \"Symmetry\": -0.3414958357888062, \"Fractal_Dimension\": -0.4004907288611841}, {\"ID\": 861103, \"Class\": \"Benign\", \"Radius\": -0.7597203875215104, \"Texture\": 0.3906853103351368, \"Perimeter\": -0.7473166616720872, \"Area\": -0.720031060645167, \"Smoothness\": 0.9840438503861832, \"Compactness\": -0.2029998924971286, \"Concavity\": -0.5380007367350408, \"Concave_Points\": -0.6852370223487584, \"Symmetry\": 0.1108231525517838, \"Fractal_Dimension\": 1.0271979455817015}, {\"ID\": 8611161, \"Class\": \"Benign\", \"Radius\": -0.2234054573928266, \"Texture\": -0.7974006009284704, \"Perimeter\": -0.2254840803067853, \"Area\": -0.3833011877197406, \"Smoothness\": 0.8133969409932637, \"Compactness\": 0.9308170552282448, \"Concavity\": 0.3524931210728605, \"Concave_Points\": 0.5399308789368432, \"Symmetry\": 0.4755965302458086, \"Fractal_Dimension\": 0.8813130909511286}, {\"ID\": 8612080, \"Class\": \"Benign\", \"Radius\": -0.6036499052089304, \"Texture\": -0.8462260493365638, \"Perimeter\": -0.6180931360027615, \"Area\": -0.6012520843727381, \"Smoothness\": 0.0618395108752798, \"Compactness\": -0.6189978607924937, \"Concavity\": -0.5931940452905382, \"Concave_Points\": -0.7805908556419163, \"Symmetry\": 0.9753360576866216, \"Fractal_Dimension\": -0.4415651054076568}, {\"ID\": 861597, \"Class\": \"Benign\", \"Radius\": -0.5014946804225145, \"Texture\": 0.5836620826147448, \"Perimeter\": -0.5016273469441019, \"Area\": -0.5364635518605041, \"Smoothness\": -0.6143488675941632, \"Compactness\": -0.1872839929211089, \"Concavity\": -0.3593751199554308, \"Concave_Points\": -0.2955748711615836, \"Symmetry\": 0.4318237249225254, \"Fractal_Dimension\": 0.1759669006013696}, {\"ID\": 861598, \"Class\": \"Benign\", \"Radius\": 0.1454884098914532, \"Texture\": -0.9415519247999844, \"Perimeter\": 0.1564249382318585, \"Area\": -0.008493843931861, \"Smoothness\": 1.1973524871273318, \"Compactness\": 0.5596946074089841, \"Concavity\": 0.1362357030054112, \"Concave_Points\": 0.559774784784338, \"Symmetry\": 1.110302207433411, \"Fractal_Dimension\": 0.0938181475084262}, {\"ID\": 861648, \"Class\": \"Benign\", \"Radius\": 0.1398131196255408, \"Texture\": 1.0998168229288754, \"Perimeter\": 0.1070401513518613, \"Area\": 0.0221954609423552, \"Smoothness\": -0.4707210521884563, \"Compactness\": -0.3461471223702722, \"Concavity\": -0.7247799104603493, \"Concave_Points\": -0.4986527647697144, \"Symmetry\": -0.4618710504278343, \"Fractal_Dimension\": -0.5860336022262813}, {\"ID\": 861853, \"Class\": \"Benign\", \"Radius\": -0.2432689733235187, \"Texture\": -1.0531529497327694, \"Perimeter\": -0.2975035611734477, \"Area\": -0.29322239470931, \"Smoothness\": -1.6218766618015257, \"Compactness\": -1.0185225367611876, \"Concavity\": -0.7048350557777945, \"Concave_Points\": -0.5782861012226489, \"Symmetry\": -1.5525434497329678, \"Fractal_Dimension\": -1.3621976831734066}, {\"ID\": 862009, \"Class\": \"Benign\", \"Radius\": -0.1921913609303108, \"Texture\": -0.2300953908534795, \"Perimeter\": -0.2209571415094522, \"Area\": -0.2835609468785383, \"Smoothness\": 0.4152208190764508, \"Compactness\": -0.4296496731296057, \"Concavity\": -0.6153968080503635, \"Concave_Points\": -0.5442679769126575, \"Symmetry\": -0.6333145379440261, \"Fractal_Dimension\": -0.8069854208900621}, {\"ID\": 86211, \"Class\": \"Benign\", \"Radius\": -0.5525722928157224, \"Texture\": -0.337046373080732, \"Perimeter\": -0.5835237851867635, \"Area\": -0.5790875864080265, \"Smoothness\": 0.5787574405779985, \"Compactness\": -0.6394474650600855, \"Concavity\": -0.8015487850875411, \"Concave_Points\": -0.502776173776986, \"Symmetry\": 0.322391711614318, \"Fractal_Dimension\": 0.5031455551611986}, {\"ID\": 862261, \"Class\": \"Benign\", \"Radius\": -1.2316207731320925, \"Texture\": 0.1512081110002028, \"Perimeter\": -1.2288183337520586, \"Area\": -1.0240825070841597, \"Smoothness\": 0.4294413948591945, \"Compactness\": -0.9719428825961172, \"Concavity\": -1.028230212111722, \"Concave_Points\": -1.0561634338591426, \"Symmetry\": -1.6838618657028162, \"Fractal_Dimension\": 0.8643167972077616}, {\"ID\": 862485, \"Class\": \"Benign\", \"Radius\": -0.7171557105271703, \"Texture\": -1.4995570494639097, \"Perimeter\": -0.7255050474667551, \"Area\": -0.6884892750800005, \"Smoothness\": -0.4643217930862223, \"Compactness\": -0.5508325132338542, \"Concavity\": -0.5875492750973623, \"Concave_Points\": -0.3973715310286034, \"Symmetry\": -0.6989737459289503, \"Fractal_Dimension\": 0.4280785911279909}, {\"ID\": 862722, \"Class\": \"Benign\", \"Radius\": -2.0278639974395456, \"Texture\": -1.3623807896506948, \"Perimeter\": -1.9827594134533468, \"Area\": -1.453164454862551, \"Smoothness\": 1.4675434269994545, \"Compactness\": -0.54269054116435, \"Concavity\": -1.1138927357766064, \"Concave_Points\": -1.260710291926114, \"Symmetry\": 0.4318237249225254, \"Fractal_Dimension\": 2.178696846694862}, {\"ID\": 862965, \"Class\": \"Benign\", \"Radius\": -0.5525722928157224, \"Texture\": 0.286059349460651, \"Perimeter\": -0.6069815589547624, \"Area\": -0.5574914089039485, \"Smoothness\": -1.1540197185492722, \"Compactness\": -1.2110896436143448, \"Concavity\": -0.8149707942135371, \"Concave_Points\": -0.804558170496683, \"Symmetry\": -0.2648934264730615, \"Fractal_Dimension\": -0.8537252286843218}, {\"ID\": 862980, \"Class\": \"Benign\", \"Radius\": -1.2063657314487843, \"Texture\": 0.025656957950819, \"Perimeter\": -1.1530949938693962, \"Area\": -1.0132844183321206, \"Smoothness\": 0.2943459249231333, \"Compactness\": -0.1395682496300612, \"Concavity\": -0.3419390520253987, \"Concave_Points\": -0.4800974242369918, \"Symmetry\": 0.4865397315766291, \"Fractal_Dimension\": 0.0598255600216902}, {\"ID\": 862989, \"Class\": \"Benign\", \"Radius\": -1.032134320285286, \"Texture\": 8.172307038927801e-05, \"Perimeter\": -1.0107021916987384, \"Area\": -0.9058718512723644, \"Smoothness\": 0.2509731687857653, \"Compactness\": -0.351448871624833, \"Concavity\": -0.7382019195863452, \"Concave_Points\": -0.9511969033177826, \"Symmetry\": 1.4787233189043758, \"Fractal_Dimension\": 0.2850264521213133}, {\"ID\": 863031, \"Class\": \"Benign\", \"Radius\": -0.7058051299953461, \"Texture\": -0.223120326795181, \"Perimeter\": -0.6913472365414238, \"Area\": -0.6887734353103173, \"Smoothness\": 1.2684553660410482, \"Compactness\": -0.0500065568655152, \"Concavity\": -0.227036618759863, \"Concave_Points\": -0.3625802675297485, \"Symmetry\": -0.0387339323027659, \"Fractal_Dimension\": 0.3402644067872565}, {\"ID\": 863270, \"Class\": \"Benign\", \"Radius\": -0.5014946804225145, \"Texture\": -0.1742948783870873, \"Perimeter\": -0.5333159185254331, \"Area\": -0.5347585904786033, \"Smoothness\": -0.8241023603896274, \"Compactness\": -0.6852697264745046, \"Concavity\": -0.7823565664307432, \"Concave_Points\": -0.7656434979905565, \"Symmetry\": -0.7646329539138746, \"Fractal_Dimension\": -0.3027620398368195}, {\"ID\": 864018, \"Class\": \"Benign\", \"Radius\": -0.7909344839840262, \"Texture\": 0.4581109295653618, \"Perimeter\": -0.8020514671307505, \"Area\": -0.7342390721610078, \"Smoothness\": -0.6235922418529467, \"Compactness\": -0.7307132915135978, \"Concavity\": -0.4700126157416781, \"Concave_Points\": -0.771313185375555, \"Symmetry\": -1.1841223382620032, \"Fractal_Dimension\": 0.3530116270947832}, {\"ID\": 864033, \"Class\": \"Benign\", \"Radius\": -1.2344584182650484, \"Texture\": -0.5346731880658726, \"Perimeter\": -1.2127682780160594, \"Area\": -1.0363013969877828, \"Smoothness\": 0.5218751374470256, \"Compactness\": -0.3843954562781754, \"Concavity\": -0.5702386465049564, \"Concave_Points\": -0.8024964659930471, \"Symmetry\": -0.8302921618987988, \"Fractal_Dimension\": 1.1121794142985406}, {\"ID\": 86408, \"Class\": \"Benign\", \"Radius\": -0.4248782618327022, \"Texture\": 0.341859861927044, \"Perimeter\": -0.4040923928561075, \"Area\": -0.4958286389251996, \"Smoothness\": 0.2111555565940847, \"Compactness\": 0.3135419634472297, \"Concavity\": 0.2220362099416845, \"Concave_Points\": 0.2909800601228147, \"Symmetry\": -0.2794843615808229, \"Fractal_Dimension\": 1.1192612033582765}, {\"ID\": 86409, \"Class\": \"Benign\", \"Radius\": 0.0376578948391251, \"Texture\": 0.0837824917699779, \"Perimeter\": 0.2412021557091869, \"Area\": -0.0710090946015604, \"Smoothness\": -1.279160785437412, \"Compactness\": 2.2524674051152034, \"Concavity\": 2.6530505731360963, \"Concave_Points\": 0.7489361729929269, \"Symmetry\": -0.3925641086659702, \"Fractal_Dimension\": 2.109295313909444}, {\"ID\": 864292, \"Class\": \"Benign\", \"Radius\": -1.026459030019374, \"Texture\": 0.2093336448193617, \"Perimeter\": -0.9600827851467412, \"Area\": -0.911270895648384, \"Smoothness\": 1.1262496082136153, \"Compactness\": 0.4915292598503446, \"Concavity\": -0.3015475853097846, \"Concave_Points\": -0.4700466147817669, \"Symmetry\": 0.4026418547070036, \"Fractal_Dimension\": 2.12770796546476}, {\"ID\": 864496, \"Class\": \"Benign\", \"Radius\": -1.5326949217387238, \"Texture\": -0.8043756649867694, \"Perimeter\": -1.4868538452000428, \"Area\": -1.2048084135656545, \"Smoothness\": 1.325337669172022, \"Compactness\": -0.4228331383737418, \"Concavity\": -0.5955773927054349, \"Concave_Points\": -0.764870358801693, \"Symmetry\": -0.5931894663976838, \"Fractal_Dimension\": 1.91667065148461}, {\"ID\": 864685, \"Class\": \"Benign\", \"Radius\": -0.6235134211396224, \"Texture\": 0.5208865060900533, \"Perimeter\": -0.6353778114107606, \"Area\": -0.6146076151976284, \"Smoothness\": 0.0938358063864516, \"Compactness\": -0.4894837004310783, \"Concavity\": -0.6964306201568438, \"Concave_Points\": -0.7432224615135166, \"Symmetry\": -0.4509278490970137, \"Fractal_Dimension\": -0.1214682399075656}, {\"ID\": 864726, \"Class\": \"Benign\", \"Radius\": -1.4691316707605098, \"Texture\": -0.820650814456134, \"Perimeter\": -1.3675072769067167, \"Area\": -1.1641735006303495, \"Smoothness\": -0.1237390030895192, \"Compactness\": 0.3779203472526117, \"Concavity\": 0.0480518486542413, \"Concave_Points\": -0.6659085426271724, \"Symmetry\": -1.8480098856651277, \"Fractal_Dimension\": 1.250982479869376}, {\"ID\": 865137, \"Class\": \"Benign\", \"Radius\": -0.7710709680533342, \"Texture\": -1.9692113627227128, \"Perimeter\": -0.7666590365334193, \"Area\": -0.7149161764994643, \"Smoothness\": -0.187020565322728, \"Compactness\": -0.7098849908706799, \"Concavity\": -0.6733497820336357, \"Concave_Points\": -0.584728927796511, \"Symmetry\": -0.5275302584127596, \"Fractal_Dimension\": -0.2361932226752972}, {\"ID\": 865432, \"Class\": \"Benign\", \"Radius\": 0.1057613780300691, \"Texture\": -1.9529362132533488, \"Perimeter\": 0.0951054945225291, \"Area\": -0.0403197897273441, \"Smoothness\": 0.9769335624948112, \"Compactness\": 0.1052589570180529, \"Concavity\": -0.0047581124863595, \"Concave_Points\": 0.2283557858248758, \"Symmetry\": 0.1618914254289467, \"Fractal_Dimension\": 0.1731341849774761}, {\"ID\": 865468, \"Class\": \"Benign\", \"Radius\": -0.2148925219939588, \"Texture\": -0.6741744692318534, \"Perimeter\": -0.2415341360427844, \"Area\": -0.2881075105636074, \"Smoothness\": -1.7925235711944452, \"Compactness\": -0.5887021507664318, \"Concavity\": -0.0988376157059574, \"Concave_Points\": -0.5391137156535679, \"Symmetry\": -1.4212250337631191, \"Fractal_Dimension\": -0.6469369881400164}, {\"ID\": 86561, \"Class\": \"Benign\", \"Radius\": -0.0786855556120708, \"Texture\": -0.4835227183050122, \"Perimeter\": -0.14523380162679, \"Area\": -0.1880831094920882, \"Smoothness\": -0.6051054933353807, \"Compactness\": -0.8138371458976055, \"Concavity\": -0.9357688763475008, \"Concave_Points\": -0.9666596870950512, \"Symmetry\": -0.7208601485905924, \"Fractal_Dimension\": -0.5520410147395463}, {\"ID\": 866458, \"Class\": \"Benign\", \"Radius\": 0.2760200860074289, \"Texture\": -0.6741744692318534, \"Perimeter\": 0.3132216365758493, \"Area\": 0.0557263681197393, \"Smoothness\": 1.325337669172022, \"Compactness\": 1.4458441256713004, \"Concavity\": 0.3136069264087599, \"Concave_Points\": 0.9386129873274248, \"Symmetry\": 0.6908128230852826, \"Fractal_Dimension\": 0.2651974427540508}, {\"ID\": 866714, \"Class\": \"Benign\", \"Radius\": -0.5497346476827665, \"Texture\": -1.3949310885894235, \"Perimeter\": -0.5304351392907669, \"Area\": -0.5657320555831362, \"Smoothness\": 0.7280734862968034, \"Compactness\": -0.1751657089106843, \"Concavity\": -0.7557634268540036, \"Concave_Points\": -0.5179812444913005, \"Symmetry\": 0.249437036075513, \"Fractal_Dimension\": 0.2708628740018398}, {\"ID\": 867387, \"Class\": \"Benign\", \"Radius\": 0.4491164391177451, \"Texture\": -1.246129722012377, \"Perimeter\": 0.4128142901171767, \"Area\": 0.3035140889560026, \"Smoothness\": -0.1237390030895192, \"Compactness\": -0.1840650737308397, \"Concavity\": -0.2188830618141645, \"Concave_Points\": 0.2683013105828202, \"Symmetry\": 0.0159820743513377, \"Fractal_Dimension\": -0.7885727693347473}, {\"ID\": 868223, \"Class\": \"Benign\", \"Radius\": -0.685941614064654, \"Texture\": -0.6090738713543952, \"Perimeter\": -0.7098665316214229, \"Area\": -0.6572316497451507, \"Smoothness\": 0.6214191679262286, \"Compactness\": -0.821600421591784, \"Concavity\": -0.6633146350235453, \"Concave_Points\": -0.5906563282444639, \"Symmetry\": -1.7239869372491596, \"Fractal_Dimension\": -0.4741413350824441}, {\"ID\": 868682, \"Class\": \"Benign\", \"Radius\": -0.7653956777874222, \"Texture\": -0.9066766045084887, \"Perimeter\": -0.7781821534720853, \"Area\": -0.7248617845605528, \"Smoothness\": 0.0021130925877584, \"Compactness\": -0.671257960587451, \"Concavity\": -0.6744787360722709, \"Concave_Points\": -0.5197852359319818, \"Symmetry\": -0.2831320953577627, \"Fractal_Dimension\": -0.587449960038229}, {\"ID\": 868871, \"Class\": \"Benign\", \"Radius\": -0.8079603547817623, \"Texture\": -1.37168087506176, \"Perimeter\": -0.7806513928160853, \"Area\": -0.7674858191080752, \"Smoothness\": 1.424881699651225, \"Compactness\": 0.1753177864533217, \"Concavity\": -0.532481405879491, \"Concave_Points\": -0.0247184419964241, \"Symmetry\": -0.1481659456109733, \"Fractal_Dimension\": -0.294263892965136}, {\"ID\": 868999, \"Class\": \"Benign\", \"Radius\": -1.2455252342835772, \"Texture\": -1.7018339071545825, \"Perimeter\": -1.2646223042400562, \"Area\": -1.0411321209031683, \"Smoothness\": -0.274477106386599, \"Compactness\": -1.19897135960392, \"Concavity\": -1.1138927357766064, \"Concave_Points\": -1.260710291926114, \"Symmetry\": 0.3333349129451385, \"Fractal_Dimension\": 0.2014613412164211}, {\"ID\": 869218, \"Class\": \"Benign\", \"Radius\": -0.7653956777874222, \"Texture\": -0.4602725047773491, \"Perimeter\": -0.753489760032087, \"Area\": -0.7299766687062555, \"Smoothness\": 0.9129409714724666, \"Compactness\": -0.1795207172269306, \"Concavity\": -0.8591254410579353, \"Concave_Points\": -0.7811062817678254, \"Symmetry\": -0.6077804015054442, \"Fractal_Dimension\": 0.3997514348890439}, {\"ID\": 869224, \"Class\": \"Benign\", \"Radius\": -0.3482618432428904, \"Texture\": -0.7834504728118722, \"Perimeter\": -0.3386575502401119, \"Area\": -0.4054656856844521, \"Smoothness\": -0.6818966025621943, \"Compactness\": -0.1751657089106843, \"Concavity\": -0.4999926174343232, \"Concave_Points\": -0.4648923535226774, \"Symmetry\": -0.1226318091723914, \"Fractal_Dimension\": -0.0633975696177249}, {\"ID\": 869254, \"Class\": \"Benign\", \"Radius\": -0.95835554682843, \"Texture\": -1.0043275013246755, \"Perimeter\": -0.9757213009920734, \"Area\": -0.8513130870515357, \"Smoothness\": -1.310446052159448, \"Compactness\": -1.0026172889975051, \"Concavity\": -0.8315287867801864, \"Concave_Points\": -1.0577612548494604, \"Symmetry\": -1.5051229106327446, \"Fractal_Dimension\": -0.8381452927529035}, {\"ID\": 869476, \"Class\": \"Benign\", \"Radius\": -0.6320263565384902, \"Texture\": -1.0787281846131993, \"Perimeter\": -0.5703545086854312, \"Area\": -0.6310889085560037, \"Smoothness\": 1.3395582449547647, \"Compactness\": 0.4782748867139423, \"Concavity\": -0.6485127931836618, \"Concave_Points\": -0.4867979638738082, \"Symmetry\": 0.6689264204236415, \"Fractal_Dimension\": 2.2084403607457563}, {\"ID\": 86973701, \"Class\": \"Benign\", \"Radius\": 0.2334554090130888, \"Texture\": -0.120819387273461, \"Perimeter\": 0.2416136955998537, \"Area\": 0.0983504026672616, \"Smoothness\": -1.0651411199071266, \"Compactness\": 0.2340157246288168, \"Concavity\": 0.0213332697398755, \"Concave_Points\": -0.3427363616822535, \"Symmetry\": -0.2466547575883602, \"Fractal_Dimension\": 0.3020227458646803}, {\"ID\": 86973702, \"Class\": \"Benign\", \"Radius\": 0.088735507232333, \"Texture\": -0.9555020529165824, \"Perimeter\": 0.0823477579118631, \"Area\": -0.0420247511092451, \"Smoothness\": 0.2374636217921595, \"Compactness\": -0.0424326293589997, \"Concavity\": -0.0492890773436359, \"Concave_Points\": 0.1649583723380736, \"Symmetry\": -0.3196094331271652, \"Fractal_Dimension\": -0.2815166726576102}, {\"ID\": 869931, \"Class\": \"Benign\", \"Radius\": -0.1098996520745866, \"Texture\": -0.3207712236113675, \"Perimeter\": -0.1584030781281222, \"Area\": -0.1985970380138105, \"Smoothness\": -1.2030807049997363, \"Compactness\": -0.7683935808585125, \"Concavity\": -0.7525020040757241, \"Concave_Points\": -0.9182096312596092, \"Symmetry\": -1.235190611139167, \"Fractal_Dimension\": -0.9911119364432116}, {\"ID\": 871001501, \"Class\": \"Benign\", \"Radius\": -0.3198853919133305, \"Texture\": 0.3465099046325766, \"Perimeter\": -0.3481229677254442, \"Area\": -0.3850061491016416, \"Smoothness\": 1.2186833508014474, \"Compactness\": -0.5387142292234293, \"Concavity\": -0.7205149729810608, \"Concave_Points\": -0.5790592404115124, \"Symmetry\": 2.6569413288560746, \"Fractal_Dimension\": -0.2730185257859258}, {\"ID\": 871001502, \"Class\": \"Benign\", \"Radius\": -1.6765635299795931, \"Texture\": 0.3279097338104454, \"Perimeter\": -1.59261959710137, \"Area\": -1.2815316757511943, \"Smoothness\": -0.1642676440703387, \"Compactness\": 0.4953162236036025, \"Concavity\": 0.5431609142645789, \"Concave_Points\": -0.7019883714407996, \"Symmetry\": 1.496961987789077, \"Fractal_Dimension\": 2.8061433573875205}, {\"ID\": 8710441, \"Class\": \"Benign\", \"Radius\": -1.2475115858766463, \"Texture\": -0.9183017112723209, \"Perimeter\": -1.1600911720107292, \"Area\": -1.0078853739561011, \"Smoothness\": 0.7707352136450335, \"Compactness\": 1.051999895332493, \"Concavity\": 4.039155253904839, \"Concave_Points\": 0.7641412437072415, \"Symmetry\": 2.686123199071597, \"Fractal_Dimension\": 4.272073692752984}, {\"ID\": 87106, \"Class\": \"Benign\", \"Radius\": -0.84484974151019, \"Texture\": -1.4437565369975172, \"Perimeter\": -0.8683093895280799, \"Area\": -0.7757264657872629, \"Smoothness\": 0.0838814033385322, \"Compactness\": -1.00754034187674, \"Concavity\": -0.8652719686016156, \"Concave_Points\": -0.8004347614894113, \"Symmetry\": 0.0670503472285006, \"Fractal_Dimension\": -0.2475240851708752}, {\"ID\": 8711002, \"Class\": \"Benign\", \"Radius\": -0.2773207149189904, \"Texture\": -0.9183017112723209, \"Perimeter\": -0.2740457874054487, \"Area\": -0.3295949041898625, \"Smoothness\": -0.1791992486422193, \"Compactness\": -0.366596726637864, \"Concavity\": 0.0518150287830253, \"Concave_Points\": -0.3630956936556574, \"Symmetry\": 0.0378684770129788, \"Fractal_Dimension\": -0.1030555883522489}, {\"ID\": 8711003, \"Class\": \"Benign\", \"Radius\": -0.5327087768850304, \"Texture\": -0.3137961595530681, \"Perimeter\": -0.5637698704347651, \"Area\": -0.5529448452188794, \"Smoothness\": -0.6982502647123496, \"Compactness\": -0.7110210799966573, \"Concavity\": -0.626560909099089, \"Concave_Points\": -0.6599811421792193, \"Symmetry\": 0.5777330760001343, \"Fractal_Dimension\": -0.0733120743013571}, {\"ID\": 8711216, \"Class\": \"Benign\", \"Radius\": 0.7697703391417726, \"Texture\": 0.0396070860674177, \"Perimeter\": 0.6761998201438278, \"Area\": 0.640243961881429, \"Smoothness\": -1.557884070779181, \"Compactness\": -0.6080156659080466, \"Concavity\": -0.4678801470020338, \"Concave_Points\": -0.5465873944792478, \"Symmetry\": 0.1181186201056645, \"Fractal_Dimension\": -1.4330155737707722}, {\"ID\": 871122, \"Class\": \"Benign\", \"Radius\": -0.5866240344111942, \"Texture\": -1.5228072629915732, \"Perimeter\": -0.6226200748000946, \"Area\": -0.5861915921659469, \"Smoothness\": -0.2311043502492319, \"Compactness\": -0.9833037738558904, \"Concavity\": -0.8665263619778769, \"Concave_Points\": -0.7548195493464682, \"Symmetry\": -0.8084057592371579, \"Fractal_Dimension\": -0.5279629319364416}, {\"ID\": 871149, \"Class\": \"Benign\", \"Radius\": -0.91579086983409, \"Texture\": -1.4716567932307132, \"Perimeter\": -0.958025085693408, \"Area\": -0.8186346605651019, \"Smoothness\": -1.5081120555395802, \"Compactness\": -1.2716810636664688, \"Concavity\": -1.0751319804501325, \"Concave_Points\": -1.090928926051702, \"Symmetry\": -1.3482703582243143, \"Fractal_Dimension\": -0.7602456130958014}, {\"ID\": 8711561, \"Class\": \"Benign\", \"Radius\": -0.6745910335328302, \"Texture\": 0.207008623466595, \"Perimeter\": -0.6530740267094265, \"Area\": -0.6680297384971897, \"Smoothness\": 0.891610107798351, \"Compactness\": 0.1847851958364658, \"Concavity\": -0.2555113484009947, \"Concave_Points\": -0.2973788626022648, \"Symmetry\": 0.6616309528697608, \"Fractal_Dimension\": 0.2453684333867863}, {\"ID\": 8712064, \"Class\": \"Benign\", \"Radius\": -0.5071699706884264, \"Texture\": 0.6813129794309313, \"Perimeter\": -0.4987465677094357, \"Area\": -0.5410101155455732, \"Smoothness\": 0.3441179401627343, \"Compactness\": -0.0537935206187728, \"Concavity\": -0.4402834927242851, \"Concave_Points\": -0.5334440282685693, \"Symmetry\": -0.9506673765378278, \"Fractal_Dimension\": 0.681606639466559}, {\"ID\": 8712291, \"Class\": \"Benign\", \"Radius\": 0.2391306992790012, \"Texture\": 0.1093577266504085, \"Perimeter\": 0.1453133611838593, \"Area\": 0.1003395242794795, \"Smoothness\": -0.8639199725813079, \"Compactness\": -0.9622861250253096, \"Concavity\": -0.8696623454185302, \"Concave_Points\": -0.7610046628573758, \"Symmetry\": -1.0819857925076763, \"Fractal_Dimension\": -1.4358482893946656}, {\"ID\": 87127, \"Class\": \"Benign\", \"Radius\": -0.94416732116365, \"Texture\": -2.2272887328797784, \"Perimeter\": -0.954732766568075, \"Area\": -0.844777401754249, \"Smoothness\": -0.0298832029234144, \"Compactness\": -0.8895764209627608, \"Concavity\": -0.7964057722448699, \"Concave_Points\": -0.8231135110294056, \"Symmetry\": -1.570782118617669, \"Fractal_Dimension\": 0.1703014693535806}, {\"ID\": 8712853, \"Class\": \"Benign\", \"Radius\": 0.2391306992790012, \"Texture\": -0.5439732734769378, \"Perimeter\": 0.1749442333118575, \"Area\": 0.0881206343758562, \"Smoothness\": 0.1556953110413856, \"Compactness\": -0.4826671656752143, \"Concavity\": -0.7874995792734146, \"Concave_Points\": -0.2862972008952221, \"Symmetry\": -0.1153363416185107, \"Fractal_Dimension\": -0.8919668896069001}, {\"ID\": 87139402, \"Class\": \"Benign\", \"Radius\": -0.5128452609543384, \"Texture\": -1.6041830103383954, \"Perimeter\": -0.5399005567760999, \"Area\": -0.5421467564668404, \"Smoothness\": 0.4578825464246809, \"Compactness\": -0.6538379273224653, \"Concavity\": -0.6137660966612237, \"Concave_Points\": -0.307171958994535, \"Symmetry\": 0.537608004453792, \"Fractal_Dimension\": -0.4599777569629716}, {\"ID\": 871641, \"Class\": \"Benign\", \"Radius\": -0.8647132574408821, \"Texture\": -1.064778056496601, \"Perimeter\": -0.8954710223120786, \"Area\": -0.80186920697641, \"Smoothness\": 0.3014562128145042, \"Compactness\": -0.8882509836491207, \"Concavity\": -0.8174795809660599, \"Concave_Points\": -0.5950374503146901, \"Symmetry\": -0.8959513698837241, \"Fractal_Dimension\": 0.5513017207674061}, {\"ID\": 871642, \"Class\": \"Benign\", \"Radius\": -0.983894353025034, \"Texture\": -0.9624771169748816, \"Perimeter\": -1.0074098725734053, \"Area\": -0.8675102201795942, \"Smoothness\": -0.6001282918114205, \"Compactness\": -1.1611017220713424, \"Concavity\": -1.1138927357766064, \"Concave_Points\": -1.260710291926114, \"Symmetry\": 0.4245282573686447, \"Fractal_Dimension\": -0.4316506007240256}, {\"ID\": 872113, \"Class\": \"Benign\", \"Radius\": -1.5483019699699825, \"Texture\": -1.1252286116685266, \"Perimeter\": -1.545292509674706, \"Area\": -1.2153223420873764, \"Smoothness\": -0.3541123307699621, \"Compactness\": -1.1660247749505774, \"Concavity\": -1.1138927357766064, \"Concave_Points\": -1.260710291926114, \"Symmetry\": -0.3269049006810459, \"Fractal_Dimension\": 0.6292014004245073}, {\"ID\": 872608, \"Class\": \"Benign\", \"Radius\": -1.1984203250765075, \"Texture\": -0.2858959033198725, \"Perimeter\": -1.1263449009760649, \"Area\": -1.0016338488891312, \"Smoothness\": 0.0447748199359875, \"Compactness\": 0.4744879229606845, \"Concavity\": 0.5255994069969209, \"Concave_Points\": -0.3030485499872633, \"Symmetry\": -0.5202347908588788, \"Fractal_Dimension\": 2.60077147465516}, {\"ID\": 873357, \"Class\": \"Benign\", \"Radius\": -0.3170477467803746, \"Texture\": 0.6813129794309313, \"Perimeter\": -0.4098539513254405, \"Area\": -0.3651149329794645, \"Smoothness\": -2.406852445008956, \"Compactness\": -1.6087208377064095, \"Concavity\": -1.0938851614252387, \"Concave_Points\": -1.212981832666944, \"Symmetry\": -1.519713845740505, \"Fractal_Dimension\": -1.4811717393769803}, {\"ID\": 873586, \"Class\": \"Benign\", \"Radius\": -0.3738006494394943, \"Texture\": -1.4484065797030496, \"Perimeter\": -0.4394848234534387, \"Area\": -0.4151271335152239, \"Smoothness\": -0.6378128176356904, \"Compactness\": -1.2610775651573474, \"Concavity\": -0.9985763526969044, \"Concave_Points\": -0.9179519181966546, \"Symmetry\": -1.260724747577748, \"Fractal_Dimension\": -0.2078660664363513}, {\"ID\": 873843, \"Class\": \"Benign\", \"Radius\": -0.7710709680533342, \"Texture\": -1.0159526080885075, \"Perimeter\": -0.7588397786107532, \"Area\": -0.7186102594935829, \"Smoothness\": -0.410283605111797, \"Compactness\": -0.4315431550062347, \"Concavity\": -0.3385521899094931, \"Concave_Points\": -0.652249750290585, \"Symmetry\": -2.3513971468828814, \"Fractal_Dimension\": -0.0888920102327764}, {\"ID\": 874158, \"Class\": \"Benign\", \"Radius\": -1.148477770736482, \"Texture\": -0.9717772023859472, \"Perimeter\": -1.1609142517920623, \"Area\": -0.958725654111292, \"Smoothness\": -0.2623896169712669, \"Compactness\": -1.086687884319827, \"Concavity\": -1.0938600735577133, \"Concave_Points\": -1.1987560715918568, \"Symmetry\": -0.39621184244291, \"Fractal_Dimension\": -0.3282564804518729}, {\"ID\": 874373, \"Class\": \"Benign\", \"Radius\": -0.685941614064654, \"Texture\": -0.4881727610105448, \"Perimeter\": -0.7115126911840891, \"Area\": -0.6666089373456057, \"Smoothness\": 0.0981019791212749, \"Compactness\": -0.8128904049592912, \"Concavity\": -0.636094298758675, \"Concave_Points\": -0.4259776810165509, \"Symmetry\": -1.0783380587307356, \"Fractal_Dimension\": -0.2616876632903487}, {\"ID\": 874662, \"Class\": \"Benign\", \"Radius\": -0.6575651627350941, \"Texture\": -0.4416723339552179, \"Perimeter\": -0.6872318376347577, \"Area\": -0.6421711575383596, \"Smoothness\": 0.308566500705876, \"Compactness\": -0.9225230056161032, \"Concavity\": -0.8187339743423212, \"Concave_Points\": -0.8604819051578053, \"Symmetry\": -0.3414958357888062, \"Fractal_Dimension\": -0.7078403740537507}, {\"ID\": 874839, \"Class\": \"Benign\", \"Radius\": -0.5185205512202502, \"Texture\": -0.7881005155174048, \"Perimeter\": -0.540723636557433, \"Area\": -0.5432833973881078, \"Smoothness\": -1.106380789677082, \"Compactness\": -0.6023352202781597, \"Concavity\": -0.6317039219417604, \"Concave_Points\": -0.8344528857994028, \"Symmetry\": -0.5275302584127596, \"Fractal_Dimension\": -1.1412458645096268}, {\"ID\": 875093, \"Class\": \"Benign\", \"Radius\": -0.3851512299713186, \"Texture\": 0.4929862498568568, \"Perimeter\": -0.4094424114347743, \"Area\": -0.4191053767396595, \"Smoothness\": -0.6307025297443185, \"Compactness\": -0.7257902386343626, \"Concavity\": -0.7235255170840881, \"Concave_Points\": -0.5226200796244811, \"Symmetry\": -0.4290414464353726, \"Fractal_Dimension\": 0.010253036603536}, {\"ID\": 875099, \"Class\": \"Benign\", \"Radius\": -1.2506329955228976, \"Texture\": -0.2486955616756108, \"Perimeter\": -1.2856108386640552, \"Area\": -1.0422687618244355, \"Smoothness\": -1.9098433214020771, \"Compactness\": -1.5318454735152771, \"Concavity\": -1.1138927357766064, \"Concave_Points\": -1.260710291926114, \"Symmetry\": -0.5785985312899224, \"Fractal_Dimension\": 0.2368702865151038}, {\"ID\": 875878, \"Class\": \"Benign\", \"Radius\": -0.3454241981099344, \"Texture\": -0.688124597348452, \"Perimeter\": -0.3884538770107753, \"Area\": -0.393530956011146, \"Smoothness\": -1.205213791367147, \"Compactness\": -0.9596352503980294, \"Concavity\": -0.6280661811506026, \"Concave_Points\": -0.6481263412833133, \"Symmetry\": 0.0634026134515608, \"Fractal_Dimension\": -0.8678888068037953}, {\"ID\": 877501, \"Class\": \"Benign\", \"Radius\": -0.5383840671509422, \"Texture\": 0.0628572995950807, \"Perimeter\": -0.5526582933867653, \"Area\": -0.5509557236066618, \"Smoothness\": -0.0355714332365114, \"Compactness\": -0.4444188317673108, \"Concavity\": -0.5886782291359977, \"Concave_Points\": -0.2022827423720616, \"Symmetry\": 0.610562679992597, \"Fractal_Dimension\": -0.3778290038700281}, {\"ID\": 87930, \"Class\": \"Benign\", \"Radius\": -0.4702805839599982, \"Texture\": -0.1603447502704887, \"Perimeter\": -0.4477156212667717, \"Area\": -0.4915662354704474, \"Smoothness\": 0.233908477846474, \"Compactness\": 0.0276262000762689, \"Concavity\": -0.1097508380794309, \"Concave_Points\": -0.2759886783770429, \"Symmetry\": 0.4135850560378242, \"Fractal_Dimension\": 0.1320598084310024}, {\"ID\": 879804, \"Class\": \"Benign\", \"Radius\": -1.2063657314487843, \"Texture\": -0.4695725901884143, \"Perimeter\": -1.1954836026080604, \"Area\": -1.0215250650113084, \"Smoothness\": 0.891610107798351, \"Compactness\": -0.6063115322190802, \"Concavity\": -0.8936212589051212, \"Concave_Points\": -0.7576543930389675, \"Symmetry\": 0.4464146600302858, \"Fractal_Dimension\": 0.0074203209796405}, {\"ID\": 8810158, \"Class\": \"Benign\", \"Radius\": -0.2886712954508147, \"Texture\": 0.7557136627194547, \"Perimeter\": -0.2036724661014532, \"Area\": -0.35659012606996, \"Smoothness\": 0.2730150612490177, \"Compactness\": 0.8323559976435428, \"Concavity\": -0.0219433017411394, \"Concave_Points\": 0.0541417552676467, \"Symmetry\": 0.1400050227673056, \"Fractal_Dimension\": 1.4591870782256302}, {\"ID\": 8810436, \"Class\": \"Benign\", \"Radius\": 0.3242600532676808, \"Texture\": -1.4832818999945452, \"Perimeter\": 0.2551945119918529, \"Area\": 0.2006480855813152, \"Smoothness\": -1.0338558531850903, \"Compactness\": -0.7960384162572941, \"Concavity\": -0.3748041584834448, \"Concave_Points\": -0.4471101521788182, \"Symmetry\": -1.6510322617103546, \"Fractal_Dimension\": -1.067595258288366}, {\"ID\": 8810528, \"Class\": \"Benign\", \"Radius\": -0.6490522273362264, \"Texture\": -0.0812940242764326, \"Perimeter\": -0.6773548802587579, \"Area\": -0.6447285996112109, \"Smoothness\": -0.5439570174695846, \"Compactness\": -0.669175130523159, \"Concavity\": -0.7790951436524639, \"Concave_Points\": -0.9017159952305224, \"Symmetry\": -1.016326584522752, \"Fractal_Dimension\": -0.3155092601443452}, {\"ID\": 8811523, \"Class\": \"Benign\", \"Radius\": -0.6348640016714462, \"Texture\": -0.2184702840896475, \"Perimeter\": -0.6028661600480962, \"Area\": -0.6327938699379047, \"Smoothness\": -0.1941308532140999, \"Compactness\": 0.2094004602326414, \"Concavity\": -0.2814772912896037, \"Concave_Points\": -0.4509758481231355, \"Symmetry\": 0.5667898746693147, \"Fractal_Dimension\": 0.0484946975261122}, {\"ID\": 8811779, \"Class\": \"Benign\", \"Radius\": -1.1144260291410102, \"Texture\": -0.4207471417803207, \"Perimeter\": -1.1078256058960658, \"Area\": -0.94821172558957, \"Smoothness\": -1.1248675381946478, \"Compactness\": -0.8571978808724069, \"Concavity\": -0.3896060003233283, \"Concave_Points\": -0.9846996015018652, \"Symmetry\": 0.5558466733384932, \"Fractal_Dimension\": 0.049911055338059}, {\"ID\": 8812816, \"Class\": \"Benign\", \"Radius\": -0.1354384582711905, \"Texture\": -1.425156366175386, \"Perimeter\": -0.168280035504122, \"Area\": -0.2443468350948179, \"Smoothness\": 0.0070902941117186, \"Compactness\": -0.3262655626656687, \"Concavity\": -0.6261845910862107, \"Concave_Points\": -0.6001917115737798, \"Symmetry\": -1.6473845279334138, \"Fractal_Dimension\": 0.0909854318845307}, {\"ID\": 8812818, \"Class\": \"Benign\", \"Radius\": -0.1609772644677945, \"Texture\": -1.253104786070676, \"Perimeter\": -0.1390607032667901, \"Area\": -0.2659430125988959, \"Smoothness\": 0.6214191679262286, \"Compactness\": 0.2813527715445389, \"Concavity\": -0.1279395420352198, \"Concave_Points\": -0.11362944871572, \"Symmetry\": 0.5485512057846136, \"Fractal_Dimension\": 0.03291476159469}, {\"ID\": 8812844, \"Class\": \"Benign\", \"Radius\": -1.120101319406922, \"Texture\": -0.4091220350164887, \"Perimeter\": -1.104944826661399, \"Area\": -0.971228704245232, \"Smoothness\": 0.6925220468399451, \"Compactness\": -0.3658393338872125, \"Concavity\": -0.8921159868536075, \"Concave_Points\": -0.7671897763682833, \"Symmetry\": 0.3588690493837204, \"Fractal_Dimension\": 0.8898112378228111}, {\"ID\": 8813129, \"Class\": \"Benign\", \"Radius\": -0.2432689733235187, \"Texture\": -0.5276981240075732, \"Perimeter\": -0.3053228190961138, \"Area\": -0.3082828869161014, \"Smoothness\": -0.8468552816420167, \"Compactness\": -1.030072776208624, \"Concavity\": -0.6680813298533383, \"Concave_Points\": -0.6277670093099093, \"Symmetry\": -1.1512927342695405, \"Fractal_Dimension\": -0.857974302120165}, {\"ID\": 88143502, \"Class\": \"Benign\", \"Radius\": 0.0603590559027731, \"Texture\": -1.3530807042396291, \"Perimeter\": 0.0222629338745336, \"Area\": -0.03889898857576, \"Smoothness\": 0.1919577792873818, \"Compactness\": -0.5320870426552281, \"Concavity\": -0.3958779672046348, \"Concave_Points\": -0.0744570631466389, \"Symmetry\": 0.9607451225788604, \"Fractal_Dimension\": -1.178071167620257}, {\"ID\": 88147101, \"Class\": \"Benign\", \"Radius\": -1.046322545950066, \"Texture\": -0.8904014550391244, \"Perimeter\": -1.0432138430614026, \"Area\": -0.9243422662429572, \"Smoothness\": 0.6356397437089722, \"Compactness\": -0.513530920264265, \"Concavity\": -1.030563383791568, \"Concave_Points\": -0.9473312073734654, \"Symmetry\": -0.0861544714029899, \"Fractal_Dimension\": 0.241119359950946}, {\"ID\": 88147102, \"Class\": \"Benign\", \"Radius\": 0.247643634677869, \"Texture\": -0.8787763482752928, \"Perimeter\": 0.2255636398638547, \"Area\": 0.0841423911514209, \"Smoothness\": -0.8994714120381663, \"Compactness\": 0.0995785113881664, \"Concavity\": -0.2979098445186268, \"Concave_Points\": -0.2865549139581766, \"Symmetry\": 0.2530847698524529, \"Fractal_Dimension\": -0.5279629319364416}, {\"ID\": 88147202, \"Class\": \"Benign\", \"Radius\": -0.4277159069656587, \"Texture\": 1.0881917161650434, \"Perimeter\": -0.4370155841094393, \"Area\": -0.4503630020745091, \"Smoothness\": -1.2322328853543605, \"Compactness\": -0.5500751204832026, \"Concavity\": -0.4317536177657082, \"Concave_Points\": -0.7360064957507911, \"Symmetry\": -1.0856335262846162, \"Fractal_Dimension\": -0.3693308569983436}, {\"ID\": 88199202, \"Class\": \"Benign\", \"Radius\": -0.7966097742499381, \"Texture\": 1.81127335687538, \"Perimeter\": -0.8316823392587487, \"Area\": -0.7365123540035423, \"Smoothness\": -1.957482250274268, \"Compactness\": -1.2536929858384944, \"Concavity\": -0.9090502974331351, \"Concave_Points\": -1.1801749597528386, \"Symmetry\": 0.2093119645291707, \"Fractal_Dimension\": -0.9231267614697416}, {\"ID\": 88203002, \"Class\": \"Benign\", \"Radius\": -0.824986225579498, \"Texture\": 3.376012727287138, \"Perimeter\": -0.8716017086534129, \"Area\": -0.7618026145017389, \"Smoothness\": -1.3196894264182315, \"Compactness\": -1.2989472026899247, \"Concavity\": -1.0515870167777075, \"Concave_Points\": -1.094897707221201, \"Symmetry\": 0.1217663538826043, \"Fractal_Dimension\": -0.6398551990802798}, {\"ID\": 882488, \"Class\": \"Benign\", \"Radius\": -1.2940489660571246, \"Texture\": -0.7857754941646385, \"Perimeter\": -1.3070109129787204, \"Area\": -1.0664223814013651, \"Smoothness\": -0.8333457346484109, \"Compactness\": -1.201811582418863, \"Concavity\": -0.9066669500182386, \"Concave_Points\": -0.8311026159809947, \"Symmetry\": -0.9506673765378278, \"Fractal_Dimension\": 0.1745505427894209}, {\"ID\": 88249602, \"Class\": \"Benign\", \"Radius\": -0.0276079432188629, \"Texture\": 0.455785908212595, \"Perimeter\": -0.0896759163867929, \"Area\": -0.1463115556355165, \"Smoothness\": -0.4024622884312883, \"Compactness\": -0.6606544620783292, \"Concavity\": -0.9305004241672036, \"Concave_Points\": -0.7720863245644184, \"Symmetry\": -1.0746903249537958, \"Fractal_Dimension\": -0.6299406943966485}, {\"ID\": 883270, \"Class\": \"Benign\", \"Radius\": 0.0263073143073013, \"Texture\": 1.9903000010383896, \"Perimeter\": 0.0239090934371998, \"Area\": -0.0880587084205693, \"Smoothness\": -1.0047036728304672, \"Compactness\": -0.0083499555796797, \"Concavity\": 0.2697031582396141, \"Concave_Points\": -0.1247111104227627, \"Symmetry\": -1.713043735918338, \"Fractal_Dimension\": -0.2135314976841403}, {\"ID\": 88350402, \"Class\": \"Benign\", \"Radius\": -0.1382761034041465, \"Texture\": -0.8578511561003956, \"Perimeter\": -0.1888570300374541, \"Area\": -0.2261605803545417, \"Smoothness\": -0.1514691258658698, \"Compactness\": -0.720299141192139, \"Concavity\": -0.5237006522456619, \"Concave_Points\": -0.2991828540429462, \"Symmetry\": -0.3451435695657471, \"Fractal_Dimension\": -0.8778033114874275}, {\"ID\": 883539, \"Class\": \"Benign\", \"Radius\": -0.4844688096247784, \"Texture\": -0.9880523518553116, \"Perimeter\": -0.5497775141520991, \"Area\": -0.5069108879075553, \"Smoothness\": -1.2158792232042053, \"Compactness\": -1.3332192246569077, \"Concavity\": -0.9818051132562908, \"Concave_Points\": -0.9751642181725492, \"Symmetry\": -0.9689060454225292, \"Fractal_Dimension\": -0.7446656771643801}, {\"ID\": 883852, \"Class\": \"Benign\", \"Radius\": -0.8022850645158499, \"Texture\": -0.2556706257339093, \"Perimeter\": -0.7423781829840873, \"Area\": -0.7544144485135018, \"Smoothness\": -0.0313052605016881, \"Compactness\": 0.5331858611361802, \"Concavity\": 0.8279082106758954, \"Concave_Points\": -0.5251972102540259, \"Symmetry\": 0.8841427132631156, \"Fractal_Dimension\": 1.967659532714713}, {\"ID\": 88411702, \"Class\": \"Benign\", \"Radius\": -0.1070620069416306, \"Texture\": 1.0416912891097163, \"Perimeter\": -0.1411184027201232, \"Area\": -0.1843890264979697, \"Smoothness\": -1.1326888548751566, \"Compactness\": -0.6867845119758076, \"Concavity\": -0.524704166946671, \"Concave_Points\": -0.6566308723608111, \"Symmetry\": -0.1408704780570926, \"Fractal_Dimension\": -1.2049819660472556}, {\"ID\": 884437, \"Class\": \"Benign\", \"Radius\": -1.034971965418242, \"Texture\": 0.1326079401780716, \"Perimeter\": -1.0390984441547366, \"Area\": -0.9013252875872954, \"Smoothness\": 0.7565146378622898, \"Compactness\": -0.8450795968619822, \"Concavity\": -0.5078952957047694, \"Concave_Points\": -0.469531188655858, \"Symmetry\": -0.2721888940269422, \"Fractal_Dimension\": 0.2269557818314726}, {\"ID\": 884448, \"Class\": \"Benign\", \"Radius\": -0.2631324892542108, \"Texture\": -0.4323722485441526, \"Perimeter\": -0.3226074945041128, \"Area\": -0.3219225779713084, \"Smoothness\": -1.7214206922807287, \"Compactness\": -1.1190664244101811, \"Concavity\": -0.5699877678297041, \"Concave_Points\": -0.9759373573614126, \"Symmetry\": -1.1841223382620032, \"Fractal_Dimension\": -0.9132122567861104}, {\"ID\": 884626, \"Class\": \"Benign\", \"Radius\": -0.3510994883758463, \"Texture\": -1.2042793376625829, \"Perimeter\": -0.2888612234694478, \"Area\": -0.4054656856844521, \"Smoothness\": -0.6228812130638098, \"Compactness\": 0.5729489805453865, \"Concavity\": 0.6096437632064281, \"Concave_Points\": -0.2350123013672805, \"Symmetry\": -0.7865193565755167, \"Fractal_Dimension\": 0.1830486896611054}, {\"ID\": 88466802, \"Class\": \"Benign\", \"Radius\": -0.98673199815799, \"Texture\": 1.378819385260838, \"Perimeter\": -0.9860097982587396, \"Area\": -0.8748983861678314, \"Smoothness\": 0.0149116107922273, \"Compactness\": -0.6059328358437545, \"Concavity\": -0.8154725515640416, \"Concave_Points\": -0.8445036952546277, \"Symmetry\": 0.3114485102834974, \"Fractal_Dimension\": 0.0697400647053214}, {\"ID\": 884689, \"Class\": \"Benign\", \"Radius\": -0.7398568715908184, \"Texture\": -1.0136275867357414, \"Perimeter\": -0.7448474223280872, \"Area\": -0.7063913695899598, \"Smoothness\": 0.3512282280541061, \"Compactness\": -0.4972469761252568, \"Concavity\": -0.5709912825307132, \"Concave_Points\": -0.50586873053244, \"Symmetry\": 0.2603802374063336, \"Fractal_Dimension\": -0.1582935430181951}, {\"ID\": 88518501, \"Class\": \"Benign\", \"Radius\": -0.7455321618567302, \"Texture\": -0.1952200705619845, \"Perimeter\": -0.7691282758774193, \"Area\": -0.703265607056475, \"Smoothness\": -0.2069293714185678, \"Compactness\": -0.8412926331087243, \"Concavity\": -0.7829837631188739, \"Concave_Points\": -0.7275019646732933, \"Symmetry\": 0.081641282336262, \"Fractal_Dimension\": -0.4897212710138653}, {\"ID\": 8910251, \"Class\": \"Benign\", \"Radius\": -1.00092022382277, \"Texture\": -0.0789690029236667, \"Perimeter\": -0.933744232144076, \"Area\": -0.8766033475497325, \"Smoothness\": 0.0369535032554788, \"Compactness\": 0.1961460870962391, \"Concavity\": -0.3127116863585101, \"Concave_Points\": -0.5798323796003758, \"Symmetry\": 0.4026418547070036, \"Fractal_Dimension\": 0.2991900302407848}, {\"ID\": 8910499, \"Class\": \"Benign\", \"Radius\": -0.1524643290689267, \"Texture\": 0.59296216802581, \"Perimeter\": -0.1979109076321202, \"Area\": -0.2667954932898462, \"Smoothness\": -1.1945483595300896, \"Compactness\": -0.4118509434892943, \"Concavity\": -0.6031037529630026, \"Concave_Points\": -0.7086889110776162, \"Symmetry\": -0.6442577392748466, \"Fractal_Dimension\": -0.5959481069099135}, {\"ID\": 8910506, \"Class\": \"Benign\", \"Radius\": -0.3567747786417587, \"Texture\": -0.7160248535816477, \"Perimeter\": -0.3946269753707752, \"Area\": -0.4054656856844521, \"Smoothness\": -0.150047068287595, \"Compactness\": -0.798121246321586, \"Concavity\": -0.6246793190346971, \"Concave_Points\": -0.8445036952546277, \"Symmetry\": 0.7236424270777453, \"Fractal_Dimension\": -0.7234203099851709}, {\"ID\": 8910720, \"Class\": \"Benign\", \"Radius\": -0.9697061273602536, \"Texture\": 0.2558340718746886, \"Perimeter\": -0.92469035454941, \"Area\": -0.8808657510044847, \"Smoothness\": 0.8418380925587501, \"Compactness\": 0.46502051357754, \"Concavity\": -0.054181211511055, \"Concave_Points\": -0.5218469404356177, \"Symmetry\": -0.5238825246358186, \"Fractal_Dimension\": 0.8246587784732367}, {\"ID\": 8910721, \"Class\": \"Benign\", \"Radius\": 0.0461708302379929, \"Texture\": -0.5741985510629002, \"Perimeter\": -0.0686873819627946, \"Area\": -0.0633367683830063, \"Smoothness\": -2.2802893205425407, \"Compactness\": -1.4691712233988612, \"Concavity\": -1.0229492159976616, \"Concave_Points\": -1.0996396275795637, \"Symmetry\": -1.1075199289462585, \"Fractal_Dimension\": -1.2800489300804625}, {\"ID\": 8910748, \"Class\": \"Benign\", \"Radius\": -0.8051227096488064, \"Texture\": -1.4530566224085828, \"Perimeter\": -0.8123399643974165, \"Area\": -0.7583926917379371, \"Smoothness\": 0.1407637064695051, \"Compactness\": -0.5351166136578345, \"Concavity\": -0.70433329842729, \"Concave_Points\": -0.5507108034865195, \"Symmetry\": -0.155461413164854, \"Fractal_Dimension\": -0.0138250461995687}, {\"ID\": 8910996, \"Class\": \"Benign\", \"Radius\": -1.2443901762303944, \"Texture\": -0.8415760066310312, \"Perimeter\": -1.2539222670827237, \"Area\": -1.0371538776787332, \"Smoothness\": -0.4259262384728146, \"Compactness\": -1.0878239734458046, \"Concavity\": -0.9755331463749845, \"Concave_Points\": -0.8981080123491596, \"Symmetry\": 0.9826315252405023, \"Fractal_Dimension\": 0.0456619819022187}, {\"ID\": 8911164, \"Class\": \"Benign\", \"Radius\": -0.6348640016714462, \"Texture\": -0.4486473980135172, \"Perimeter\": -0.6489586278027597, \"Area\": -0.6231324221071328, \"Smoothness\": 1.8586092610248952, \"Compactness\": -0.6104771923476638, \"Concavity\": -0.3701629029912781, \"Concave_Points\": 0.6473972261888614, \"Symmetry\": 0.7418810959624464, \"Fractal_Dimension\": -0.5732863819187565}, {\"ID\": 8911230, \"Class\": \"Benign\", \"Radius\": -0.7937721291169821, \"Texture\": -1.1926542308987509, \"Perimeter\": -0.8304477195867487, \"Area\": -0.733954911930691, \"Smoothness\": -0.1827543925879047, \"Compactness\": -1.2425214427663844, \"Concavity\": -1.0952399062716007, \"Concave_Points\": -1.1748145280433857, \"Symmetry\": 0.5193693355690907, \"Fractal_Dimension\": -0.64976970376391}, {\"ID\": 8911800, \"Class\": \"Benign\", \"Radius\": -0.1524643290689267, \"Texture\": -0.337046373080732, \"Perimeter\": -0.2357725775734513, \"Area\": -0.2346853872640462, \"Smoothness\": -1.2002365898431877, \"Compactness\": -1.2084387689870644, \"Concavity\": -0.8633903785372237, \"Concave_Points\": -0.9416615199884668, \"Symmetry\": -0.8704172334451422, \"Fractal_Dimension\": -1.0760934051600504}, {\"ID\": 8911834, \"Class\": \"Benign\", \"Radius\": -0.0786855556120708, \"Texture\": -0.9555020529165824, \"Perimeter\": -0.1225991076401248, \"Area\": -0.191777192486207, \"Smoothness\": -0.0853434484761124, \"Compactness\": -0.5199687586448035, \"Concavity\": -0.5520499425491675, \"Concave_Points\": -0.3043371153020358, \"Symmetry\": 1.08841580477177, \"Fractal_Dimension\": -0.604446253781597}, {\"ID\": 8912055, \"Class\": \"Benign\", \"Radius\": -0.6774286786657862, \"Texture\": -1.2252045298374798, \"Perimeter\": -0.7296204463734218, \"Area\": -0.6467177212234286, \"Smoothness\": -1.2962254763767052, \"Compactness\": -1.1539064909401526, \"Concavity\": -0.8322814228059433, \"Concave_Points\": -0.5486490989828836, \"Symmetry\": 1.055586200779307, \"Fractal_Dimension\": -0.2361932226752972}, {\"ID\": 8912284, \"Class\": \"Benign\", \"Radius\": -0.3510994883758463, \"Texture\": -0.8346009425727322, \"Perimeter\": -0.3246651939574459, \"Area\": -0.3929626355505123, \"Smoothness\": -1.292670332431019, \"Compactness\": -0.1617219875866192, \"Concavity\": 0.2847558787547499, \"Concave_Points\": -0.3870630085104242, \"Symmetry\": -1.3847476959937168, \"Fractal_Dimension\": -0.4883049132019176}, {\"ID\": 8912521, \"Class\": \"Benign\", \"Radius\": -0.4390664874974824, \"Texture\": -0.2068451773258164, \"Perimeter\": -0.4995696474907688, \"Area\": -0.4713908591179534, \"Smoothness\": -0.8838287786771497, \"Compactness\": -1.1773856662103506, \"Concavity\": -1.0905610189781465, \"Concave_Points\": -1.1853549923182238, \"Symmetry\": -0.4180982451045521, \"Fractal_Dimension\": -0.6016135381577025}, {\"ID\": 8912909, \"Class\": \"Benign\", \"Radius\": -0.6206757760066665, \"Texture\": 0.341859861927044, \"Perimeter\": -0.5802314660614304, \"Area\": -0.6077877696700249, \"Smoothness\": -0.73309067538007, \"Compactness\": -0.0613674481252885, \"Concavity\": -0.2892545302224238, \"Concave_Points\": -0.2837200702656774, \"Symmetry\": -0.8157012267910385, \"Fractal_Dimension\": 0.6886884285262947}, {\"ID\": 8913, \"Class\": \"Benign\", \"Radius\": -0.3510994883758463, \"Texture\": -1.4344564515864515, \"Perimeter\": -0.4147924300134404, \"Area\": -0.3949517571627301, \"Smoothness\": -1.906288177456392, \"Compactness\": -1.2695982336021772, \"Concavity\": -0.8303998327415514, \"Concave_Points\": -0.9589282952064172, \"Symmetry\": -1.7312824048030393, \"Fractal_Dimension\": -0.9896955786312636}, {\"ID\": 8913049, \"Class\": \"Benign\", \"Radius\": -0.8136356450476743, \"Texture\": 0.1558581537057354, \"Perimeter\": -0.7510205206880871, \"Area\": -0.7410589176886113, \"Smoothness\": -1.149042517025312, \"Compactness\": 0.2605244709016211, \"Concavity\": 0.0494316813681289, \"Concave_Points\": 0.1793903038635243, \"Symmetry\": 2.857566686587788, \"Fractal_Dimension\": -0.0662302852416204}, {\"ID\": 89143601, \"Class\": \"Benign\", \"Radius\": -0.7824215485851584, \"Texture\": -0.0929191310402646, \"Perimeter\": -0.8148092037414165, \"Area\": -0.7356598733125919, \"Smoothness\": -0.6562995661532565, \"Compactness\": -1.0274219015813433, \"Concavity\": -0.8129637648115191, \"Concave_Points\": -0.7006998061260272, \"Symmetry\": 0.7345856284085658, \"Fractal_Dimension\": -0.4599777569629716}, {\"ID\": 89143602, \"Class\": \"Benign\", \"Radius\": 0.0802225718334652, \"Texture\": 0.1023826625921092, \"Perimeter\": 0.1671249753891914, \"Area\": -0.0110512860047123, \"Smoothness\": -0.6250142994312204, \"Compactness\": 1.1977979998329171, \"Concavity\": 0.5945910426912924, \"Concave_Points\": 0.4407113496993682, \"Symmetry\": -0.3560867708965677, \"Fractal_Dimension\": 1.292056856415848}, {\"ID\": 8915, \"Class\": \"Benign\", \"Radius\": 0.2362930541460453, \"Texture\": -0.0440936826321709, \"Perimeter\": 0.2082789644558556, \"Area\": 0.0920988776002916, \"Smoothness\": -0.4579225339839874, \"Compactness\": -0.1157103779845374, \"Concavity\": -0.3687830702773906, \"Concave_Points\": -0.0187910415484712, \"Symmetry\": 0.2457893022985731, \"Fractal_Dimension\": -0.6058626115935437}, {\"ID\": 891670, \"Class\": \"Benign\", \"Radius\": -0.3340736175781107, \"Texture\": -0.7602002592842088, \"Perimeter\": -0.3633499436801102, \"Area\": -0.4012032822296998, \"Smoothness\": 0.2943459249231333, \"Compactness\": -0.4716849707907669, \"Concavity\": -0.3418136126877725, \"Concave_Points\": -0.3922172697695138, \"Symmetry\": -0.2977230304655231, \"Fractal_Dimension\": 0.269446516189891}, {\"ID\": 891703, \"Class\": \"Benign\", \"Radius\": -0.6462145822032704, \"Texture\": -0.4253971844858533, \"Perimeter\": -0.6761202605867579, \"Area\": -0.6313730687863206, \"Smoothness\": -0.8987603832490293, \"Compactness\": -0.9073751506030724, \"Concavity\": -0.7767117962375674, \"Concave_Points\": -0.6731245083898978, \"Symmetry\": 0.2311983671908118, \"Fractal_Dimension\": -0.7999036318303253}, {\"ID\": 891716, \"Class\": \"Benign\", \"Radius\": -0.3993394556360983, \"Texture\": -1.2810050423038724, \"Perimeter\": -0.4193193688107735, \"Area\": -0.4625818919781321, \"Smoothness\": 0.0220218986835992, \"Compactness\": -0.3864782863424674, \"Concavity\": -0.9523268689141502, \"Concave_Points\": -0.764870358801693, \"Symmetry\": -0.6333145379440261, \"Fractal_Dimension\": -0.254605874230612}, {\"ID\": 891923, \"Class\": \"Benign\", \"Radius\": -0.1013867166757188, \"Texture\": -1.3995811312949564, \"Perimeter\": -0.1608723174721222, \"Area\": -0.2051327233110971, \"Smoothness\": -0.311450603421732, \"Compactness\": -0.7977425499462601, \"Concavity\": -0.9805507198800296, \"Concave_Points\": -0.7666743502423744, \"Symmetry\": -0.8011102916832771, \"Fractal_Dimension\": -0.5208811428767048}, {\"ID\": 891936, \"Class\": \"Benign\", \"Radius\": -0.912953224701134, \"Texture\": -1.613483095749461, \"Perimeter\": -0.9395057906134092, \"Area\": -0.8274436277049233, \"Smoothness\": -0.7949501800350041, \"Compactness\": -1.081764831440592, \"Concavity\": -0.9588497144707092, \"Concave_Points\": -0.9079011087414298, \"Symmetry\": -1.3227362217857324, \"Fractal_Dimension\": -0.3523345632549757}, {\"ID\": 892214, \"Class\": \"Benign\", \"Radius\": 0.0376578948391251, \"Texture\": -0.2603206684394419, \"Perimeter\": -0.0308257120214634, \"Area\": -0.0619159672314222, \"Smoothness\": -2.1757680885393773, \"Compactness\": -0.987280085796811, \"Concavity\": -0.8034303751519333, \"Concave_Points\": -0.9066125434266574, \"Symmetry\": -0.6442577392748466, \"Fractal_Dimension\": -0.982613789571528}, {\"ID\": 892399, \"Class\": \"Benign\", \"Radius\": -1.026459030019374, \"Texture\": 0.8835898371216044, \"Perimeter\": -1.0337484255760705, \"Area\": -0.911270895648384, \"Smoothness\": 0.3654488038368498, \"Compactness\": -0.6886779938524366, \"Concavity\": -0.8009215883994106, \"Concave_Points\": -0.7774982988864626, \"Symmetry\": -0.4253937126584318, \"Fractal_Dimension\": 0.3912532880173615}, {\"ID\": 892604, \"Class\": \"Benign\", \"Radius\": -0.4731182290929542, \"Texture\": 0.1395830042363709, \"Perimeter\": -0.4748772540507699, \"Area\": -0.5216872198840298, \"Smoothness\": -0.8425891089071934, \"Compactness\": -0.0556870024954017, \"Concavity\": -0.2571420597901344, \"Concave_Points\": -0.4620575098301782, \"Symmetry\": -0.1116886078415708, \"Fractal_Dimension\": -0.0435685602504634}, {\"ID\": 892657, \"Class\": \"Benign\", \"Radius\": -1.032134320285286, \"Texture\": -0.1580197289177228, \"Perimeter\": -1.0333368856854035, \"Area\": -0.9109867354180672, \"Smoothness\": 0.7422940620795471, \"Compactness\": -0.7112104281843205, \"Concavity\": -0.8257585772493846, \"Concave_Points\": -0.8019810398671382, \"Symmetry\": -1.2023610071467044, \"Fractal_Dimension\": 0.4535730317430424}, {\"ID\": 89296, \"Class\": \"Benign\", \"Radius\": -0.7568827423885539, \"Texture\": -0.2626456897922086, \"Perimeter\": -0.7563705392667532, \"Area\": -0.7154844969600979, \"Smoothness\": -0.5567555356740534, \"Compactness\": -0.5188326695188261, \"Concavity\": -0.6944235907548257, \"Concave_Points\": -0.8736252713684839, \"Symmetry\": -1.4613501053094615, \"Fractal_Dimension\": -0.0520667071221479}, {\"ID\": 893061, \"Class\": \"Benign\", \"Radius\": -0.7171557105271703, \"Texture\": 1.2090928265088938, \"Perimeter\": -0.7300319862640882, \"Area\": -0.675417904485427, \"Smoothness\": -1.5372642358942037, \"Compactness\": -0.8986651339705796, \"Concavity\": -0.8662754833026245, \"Concave_Points\": -0.9223330402668808, \"Symmetry\": 0.4500623938072267, \"Fractal_Dimension\": -0.5690373084829142}, {\"ID\": 89344, \"Class\": \"Benign\", \"Radius\": -0.2631324892542108, \"Texture\": -0.8067006863395357, \"Perimeter\": -0.3250767338481128, \"Area\": -0.3341414678749316, \"Smoothness\": -0.7999273815589633, \"Compactness\": -0.9814102919792616, \"Concavity\": -1.0955660485494287, \"Concave_Points\": -1.176670062096658, \"Symmetry\": -0.6552009406056672, \"Fractal_Dimension\": -0.5463755834917573}, {\"ID\": 89346, \"Class\": \"Benign\", \"Radius\": -1.4549434450957297, \"Texture\": -1.1368537184323582, \"Perimeter\": -1.4654537708853776, \"Area\": -1.161047738096865, \"Smoothness\": -1.8707367379995337, \"Compactness\": -1.3856686726395273, \"Concavity\": -1.0677185155964275, \"Concave_Points\": -1.1712323164683185, \"Symmetry\": -0.0861544714029899, \"Fractal_Dimension\": 0.7835844019267649}, {\"ID\": 893526, \"Class\": \"Benign\", \"Radius\": -0.1780031352655306, \"Texture\": -1.529782327049872, \"Perimeter\": -0.2584072715601165, \"Area\": -0.2520191613133717, \"Smoothness\": -1.606945057229645, \"Compactness\": -1.2913732751834095, \"Concavity\": -1.0792965664593197, \"Concave_Points\": -1.146826889406529, \"Symmetry\": -1.6291458590487125, \"Fractal_Dimension\": -1.338119600370302}, {\"ID\": 893548, \"Class\": \"Benign\", \"Radius\": -0.3056971662485503, \"Texture\": -1.267054914187274, \"Perimeter\": -0.3810461589787761, \"Area\": -0.3531802033061581, \"Smoothness\": -0.912980959031772, \"Compactness\": -1.2684621444761996, \"Concavity\": -1.0567049417528531, \"Concave_Points\": -1.0331754286436028, \"Symmetry\": -1.308145286677971, \"Fractal_Dimension\": -1.0789261207839458}, {\"ID\": 893783, \"Class\": \"Benign\", \"Radius\": -0.6887792591976104, \"Texture\": -0.041768661279405, \"Perimeter\": -0.7259165873574219, \"Area\": -0.6711555010306748, \"Smoothness\": -0.584485658450403, \"Compactness\": -0.981031595603936, \"Concavity\": -0.9153222643144416, \"Concave_Points\": -0.96485569565437, \"Symmetry\": 0.4537101275841665, \"Fractal_Dimension\": -0.214947855496088}, {\"ID\": 89382601, \"Class\": \"Benign\", \"Radius\": 0.1369754744925849, \"Texture\": -0.8369259639254985, \"Perimeter\": 0.0292591120158666, \"Area\": 0.0284469860093249, \"Smoothness\": -1.434876090258452, \"Compactness\": -1.3101187457620351, \"Concavity\": -0.9323820142315956, \"Concave_Points\": -0.7769828727605537, \"Symmetry\": -0.6552009406056672, \"Fractal_Dimension\": -1.4514282253260868}, {\"ID\": 89382602, \"Class\": \"Benign\", \"Radius\": -0.3879888751042745, \"Texture\": -1.3763309177672929, \"Perimeter\": -0.3983308343867745, \"Area\": -0.4284826643401142, \"Smoothness\": -0.5987062342331457, \"Compactness\": -0.4707382298524525, \"Concavity\": -0.6056125397155252, \"Concave_Points\": -0.6040574075180969, \"Symmetry\": -0.7682806876908155, \"Fractal_Dimension\": -0.197951561752719}, {\"ID\": 893988, \"Class\": \"Benign\", \"Radius\": -0.7341815813249064, \"Texture\": -1.9924615762503768, \"Perimeter\": -0.7506089807974202, \"Area\": -0.6984348831410889, \"Smoothness\": -0.7387789056931672, \"Compactness\": -0.8454582932373079, \"Concavity\": -0.942417161241686, \"Concave_Points\": -1.031165266752558, \"Symmetry\": 0.0779935485593211, \"Fractal_Dimension\": -0.254605874230612}, {\"ID\": 894047, \"Class\": \"Benign\", \"Radius\": -1.569300543953856, \"Texture\": -0.1603447502704887, \"Perimeter\": -1.5588733260667054, \"Area\": -1.2323719559063857, \"Smoothness\": 0.7849557894277762, \"Compactness\": -0.8685587721321802, \"Concavity\": -1.1138927357766064, \"Concave_Points\": -1.260710291926114, \"Symmetry\": 1.281745694949602, \"Fractal_Dimension\": 1.528588611011049}, {\"ID\": 894089, \"Class\": \"Benign\", \"Radius\": -0.4646052936940864, \"Texture\": -0.5672234870046009, \"Perimeter\": -0.5259082004934339, \"Area\": -0.4924187161613977, \"Smoothness\": -0.7999273815589633, \"Compactness\": -1.249716673897574, \"Concavity\": -1.0577837200564382, \"Concave_Points\": -1.095181191590451, \"Symmetry\": -2.17630592558975, \"Fractal_Dimension\": -0.8593906599321128}, {\"ID\": 894090, \"Class\": \"Benign\", \"Radius\": -0.5525722928157224, \"Texture\": -1.2112544017208815, \"Perimeter\": -0.6057469392827624, \"Area\": -0.5498190826853946, \"Smoothness\": -1.3523967507185413, \"Compactness\": -1.3674912466238904, \"Concavity\": -0.9730243596224616, \"Concave_Points\": -1.1305394238278057, \"Symmetry\": -0.5056438557511175, \"Fractal_Dimension\": -0.8933832474188478}, {\"ID\": 894329, \"Class\": \"Benign\", \"Radius\": -1.4430253355373146, \"Texture\": -0.0905941096874987, \"Perimeter\": -1.3127724714480535, \"Area\": -1.1661626222425674, \"Smoothness\": 0.2360415642138847, \"Compactness\": 1.7582686353150654, \"Concavity\": 1.363534182339473, \"Concave_Points\": 0.0041454210544775, \"Symmetry\": 1.8909172356986237, \"Fractal_Dimension\": 3.488827822746121}, {\"ID\": 894335, \"Class\": \"Benign\", \"Radius\": -0.4816311644918224, \"Texture\": -0.5323481667131058, \"Perimeter\": -0.550189054042766, \"Area\": -0.5046376060650208, \"Smoothness\": -1.478248846395819, \"Compactness\": -1.3216689852094714, \"Concavity\": -0.9455531446823392, \"Concave_Points\": -0.822855797966451, \"Symmetry\": -1.238838344916107, \"Fractal_Dimension\": -1.0180227348702109}, {\"ID\": 894604, \"Class\": \"Benign\", \"Radius\": -1.10023780347623, \"Texture\": -0.7229999176399471, \"Perimeter\": -1.0473292419680695, \"Area\": -0.9396869186800656, \"Smoothness\": 0.6925220468399451, \"Compactness\": 0.1279807395375996, \"Concavity\": -0.2701877509032519, \"Concave_Points\": -0.2388779973115978, \"Symmetry\": -0.2503024913653001, \"Fractal_Dimension\": 1.415279986055263}, {\"ID\": 894855, \"Class\": \"Benign\", \"Radius\": -0.3596124237747146, \"Texture\": -1.3879560245311244, \"Perimeter\": -0.376519220181443, \"Area\": -0.4264935427278966, \"Smoothness\": 1.2115730629100754, \"Compactness\": -0.3029757355831336, \"Concavity\": -0.6372232527973102, \"Concave_Points\": -0.3844858778808793, \"Symmetry\": -0.9798492467533496, \"Fractal_Dimension\": 0.2779446630615755}, {\"ID\": 89511501, \"Class\": \"Benign\", \"Radius\": -0.5468970025498106, \"Texture\": -0.9485269888582832, \"Perimeter\": -0.5744699075920974, \"Area\": -0.5597646907464832, \"Smoothness\": -0.6847407177187428, \"Compactness\": -0.7363937371434846, \"Concavity\": -0.8637666965501021, \"Concave_Points\": -0.8246597894071326, \"Symmetry\": -0.6333145379440261, \"Fractal_Dimension\": -0.2135314976841403}, {\"ID\": 89511502, \"Class\": \"Benign\", \"Radius\": -0.4135276813008784, \"Texture\": -0.462597526130115, \"Perimeter\": -0.4411309830161055, \"Area\": -0.4688334170451022, \"Smoothness\": 0.4578825464246809, \"Compactness\": -0.5245131151487127, \"Concavity\": -0.7133649307363714, \"Concave_Points\": -0.7177088682810231, \"Symmetry\": -0.3816209073351496, \"Fractal_Dimension\": -0.4189033804164999}, {\"ID\": 89524, \"Class\": \"Benign\", \"Radius\": -0.0049067821552149, \"Texture\": -1.490256964052844, \"Perimeter\": -0.0797989590107937, \"Area\": -0.1090865654640136, \"Smoothness\": -0.2325264078275067, \"Compactness\": -0.9709961416578028, \"Concavity\": -0.8924923048664859, \"Concave_Points\": -0.5563804908715181, \"Symmetry\": -1.599963988833191, \"Fractal_Dimension\": -0.8211489990095345}, {\"ID\": 895299, \"Class\": \"Benign\", \"Radius\": -0.5951369698100625, \"Texture\": -0.3161211809058349, \"Perimeter\": -0.6534855666000927, \"Area\": -0.5935797581541841, \"Smoothness\": -1.3886592189645364, \"Compactness\": -1.2387344790131265, \"Concavity\": -1.0944998141796063, \"Concave_Points\": -1.1165971471219684, \"Symmetry\": -1.567134384840729, \"Fractal_Dimension\": -0.2970966085890315}, {\"ID\": 896864, \"Class\": \"Benign\", \"Radius\": -0.3255606821792424, \"Texture\": 0.0140318511869879, \"Perimeter\": -0.3065574387681137, \"Area\": -0.4003508015387496, \"Smoothness\": -0.0405486347604716, \"Compactness\": 0.1544894858104039, \"Concavity\": -0.222395363267696, \"Concave_Points\": -0.5004567562103958, \"Symmetry\": -0.1846432833803758, \"Fractal_Dimension\": 0.3685915630262035}, {\"ID\": 897132, \"Class\": \"Benign\", \"Radius\": -0.824986225579498, \"Texture\": 0.1326079401780716, \"Perimeter\": -0.8242746212267494, \"Area\": -0.7603818133501548, \"Smoothness\": 0.6427500316003432, \"Compactness\": -0.6920862612303685, \"Concavity\": -1.0510978033609657, \"Concave_Points\": -1.0652864762877312, \"Symmetry\": 0.4683010626919269, \"Fractal_Dimension\": -0.3565836366908189}, {\"ID\": 897137, \"Class\": \"Benign\", \"Radius\": -0.8164732901806302, \"Texture\": -1.048502907027237, \"Perimeter\": -0.8473208551040815, \"Area\": -0.7527094871316008, \"Smoothness\": -0.9456882833320818, \"Compactness\": -1.1315634047959318, \"Concavity\": -1.1016787074719503, \"Concave_Points\": -1.184916880111201, \"Symmetry\": -0.1408704780570926, \"Fractal_Dimension\": -0.2815166726576102}, {\"ID\": 897374, \"Class\": \"Benign\", \"Radius\": -0.5185205512202502, \"Texture\": -0.0626938534543022, \"Perimeter\": -0.5798199261707642, \"Area\": -0.5412942757758902, \"Smoothness\": -0.9407110818081226, \"Compactness\": -1.180036540837631, \"Concavity\": -1.0166019855137796, \"Concave_Points\": -1.0407521926944647, \"Symmetry\": -0.99444018186111, \"Fractal_Dimension\": -0.4741413350824441}, {\"ID\": 897604, \"Class\": \"Benign\", \"Radius\": -0.3227230370462864, \"Texture\": -1.1763790814293862, \"Perimeter\": -0.3246651939574459, \"Area\": -0.3994983208477992, \"Smoothness\": -0.1237390030895192, \"Compactness\": -0.0888229353364072, \"Concavity\": -0.6450004917301302, \"Concave_Points\": -0.7200282858476132, \"Symmetry\": -0.5822462650668623, \"Fractal_Dimension\": 1.357209315765424}, {\"ID\": 897880, \"Class\": \"Benign\", \"Radius\": -1.1569907061353495, \"Texture\": -0.4091220350164887, \"Perimeter\": -1.134164158898731, \"Area\": -0.9777643895425188, \"Smoothness\": 0.308566500705876, \"Compactness\": -0.5885128025787687, \"Concavity\": -0.7989145589973926, \"Concave_Points\": -0.8032696051819107, \"Symmetry\": 0.2859143738449145, \"Fractal_Dimension\": 0.0725727803292169}, {\"ID\": 89813, \"Class\": \"Benign\", \"Radius\": 0.0830602169664211, \"Texture\": -0.6392991489403584, \"Perimeter\": 0.0897554759438629, \"Area\": -0.03889898857576, \"Smoothness\": 0.0817483169711205, \"Compactness\": 0.1809982320832082, \"Concavity\": -0.1094999594041785, \"Concave_Points\": -0.1723880270693416, \"Symmetry\": 0.3661645169376011, \"Fractal_Dimension\": 0.1872977630969496}, {\"ID\": 898143, \"Class\": \"Benign\", \"Radius\": -1.2829821500385965, \"Texture\": -0.5695485083573676, \"Perimeter\": -1.2481607086133906, \"Area\": -1.0638649393285138, \"Smoothness\": -0.8212582452330788, \"Compactness\": -0.2283725496439557, \"Concavity\": -0.0574426342893343, \"Concave_Points\": -0.6700319516344441, \"Symmetry\": 0.8184835052781912, \"Fractal_Dimension\": 1.1971608830153777}, {\"ID\": 89827, \"Class\": \"Benign\", \"Radius\": -0.870388547706794, \"Texture\": -1.006652522677442, \"Perimeter\": -0.8427939163067485, \"Area\": -0.7984592842126081, \"Smoothness\": 0.4934339858815392, \"Compactness\": -0.2531771622277939, \"Concavity\": -0.4368966306083794, \"Concave_Points\": -0.3996909485951937, \"Symmetry\": -0.1299272767262721, \"Fractal_Dimension\": 0.8883948800108663}, {\"ID\": 89864002, \"Class\": \"Benign\", \"Radius\": -0.685941614064654, \"Texture\": -0.8927264763918911, \"Perimeter\": -0.6971087950107568, \"Area\": -0.6666089373456057, \"Smoothness\": 1.325337669172022, \"Compactness\": -0.5970334710235988, \"Concavity\": -0.6113827492463272, \"Concave_Points\": -0.4231428373240515, \"Symmetry\": 0.7199946933008043, \"Fractal_Dimension\": 0.320435397419996}, {\"ID\": 898677, \"Class\": \"Benign\", \"Radius\": -1.097400158343274, \"Texture\": -1.064778056496601, \"Perimeter\": -1.0604985184694018, \"Area\": -0.9470750846683026, \"Smoothness\": 0.1748930883480895, \"Compactness\": -0.2414375745926952, \"Concavity\": -0.6646944677374327, \"Concave_Points\": -0.7357487826878367, \"Symmetry\": -0.6515532068287273, \"Fractal_Dimension\": 1.0271979455817015}, {\"ID\": 898678, \"Class\": \"Benign\", \"Radius\": -0.5866240344111942, \"Texture\": -0.0905941096874987, \"Perimeter\": -0.6300277928320944, \"Area\": -0.5955688797664018, \"Smoothness\": -0.8888059802011089, \"Compactness\": -0.8785942260783134, \"Concavity\": -1.0196877932193824, \"Concave_Points\": -1.041963444090351, \"Symmetry\": -0.9360764414300664, \"Fractal_Dimension\": -0.3282564804518729}, {\"ID\": 89869, \"Class\": \"Benign\", \"Radius\": 0.179540151486925, \"Texture\": -1.057802992438302, \"Perimeter\": 0.1193863480718611, \"Area\": 0.0392450747613641, \"Smoothness\": -0.541112902313036, \"Compactness\": -0.5025487253798178, \"Concavity\": -0.5358682679953966, \"Concave_Points\": -0.3514986058227058, \"Symmetry\": -1.0600993898460342, \"Fractal_Dimension\": -0.5208811428767048}, {\"ID\": 898690, \"Class\": \"Benign\", \"Radius\": -0.754045097255598, \"Texture\": -0.7578752379314421, \"Perimeter\": -0.7798283130347522, \"Area\": -0.7166211378813653, \"Smoothness\": -0.398196115696465, \"Compactness\": -0.8611741928133276, \"Concavity\": -0.7893811693378066, \"Concave_Points\": -0.6623005597458097, \"Symmetry\": -0.6479054730517875, \"Fractal_Dimension\": 0.1306434506190557}, {\"ID\": 899147, \"Class\": \"Benign\", \"Radius\": -0.6178381308737105, \"Texture\": -1.006652522677442, \"Perimeter\": -0.6065700190640955, \"Area\": -0.6484226826053295, \"Smoothness\": 1.3822199723029949, \"Compactness\": 0.3078615178173431, \"Concavity\": -0.9670032714164076, \"Concave_Points\": -0.8001770484264569, \"Symmetry\": 2.3614748929239147, \"Fractal_Dimension\": 0.4266622333160442}, {\"ID\": 899187, \"Class\": \"Benign\", \"Radius\": -0.7001298397294342, \"Texture\": -0.5160730172437413, \"Perimeter\": -0.7518436004694202, \"Area\": -0.664619815733388, \"Smoothness\": -1.4754047312392704, \"Compactness\": -1.288343704180803, \"Concavity\": -1.0097028219443422, \"Concave_Points\": -0.9612477127730074, \"Symmetry\": -0.5129393233049981, \"Fractal_Dimension\": -0.7772419068391684}, {\"ID\": 901011, \"Class\": \"Benign\", \"Radius\": -0.847687386643146, \"Texture\": -1.213579423073648, \"Perimeter\": -0.8530824135734145, \"Area\": -0.7680541395687088, \"Smoothness\": -1.6794699937216364, \"Compactness\": -0.8274702154093335, \"Concavity\": -0.548788519770888, \"Concave_Points\": -0.8816143763200728, \"Symmetry\": -0.443632381543134, \"Fractal_Dimension\": -0.2786839570337167}, {\"ID\": 9010258, \"Class\": \"Benign\", \"Radius\": -0.4447417777633943, \"Texture\": -0.0510687466904702, \"Perimeter\": -0.4135578103414404, \"Area\": -0.4804839864880915, \"Smoothness\": -0.6228812130638098, \"Compactness\": -0.0102434374563086, \"Concavity\": 0.1781324417725389, \"Concave_Points\": -0.1290922324929888, \"Symmetry\": -1.016326584522752, \"Fractal_Dimension\": -0.1356318180270381}, {\"ID\": 9010259, \"Class\": \"Benign\", \"Radius\": -0.3056971662485503, \"Texture\": -0.1626697716232554, \"Perimeter\": -0.2830996650001148, \"Area\": -0.4060340061450859, \"Smoothness\": 0.8418380925587501, \"Compactness\": 0.4934227417269732, \"Concavity\": 0.0907012234471257, \"Concave_Points\": 0.1832559998078416, \"Symmetry\": 0.8148357715012504, \"Fractal_Dimension\": 0.3133536083602583}, {\"ID\": 901028, \"Class\": \"Benign\", \"Radius\": -0.0730102653461589, \"Texture\": -0.7160248535816477, \"Perimeter\": -0.1419414825014569, \"Area\": -0.1738750979762474, \"Smoothness\": -0.6349687024791418, \"Compactness\": -0.9357773787525054, \"Concavity\": -0.9254828506621582, \"Concave_Points\": -0.722605416477158, \"Symmetry\": -1.4139295662092386, \"Fractal_Dimension\": -0.5619555194231786}, {\"ID\": 9010333, \"Class\": \"Benign\", \"Radius\": -1.4895627157177929, \"Texture\": -0.8834263909808254, \"Perimeter\": -1.4498152550400452, \"Area\": -1.176108230303656, \"Smoothness\": -0.9549316575908664, \"Compactness\": -0.5180752767681747, \"Concavity\": -0.5216936228436438, \"Concave_Points\": -0.6470954890314954, \"Symmetry\": 0.4318237249225254, \"Fractal_Dimension\": 0.4833165457939361}, {\"ID\": 901034301, \"Class\": \"Benign\", \"Radius\": -1.331222117298848, \"Texture\": -0.2254453481479469, \"Perimeter\": -1.3230609687147197, \"Area\": -1.0692639837045332, \"Smoothness\": 0.3227870764886197, \"Compactness\": -0.8479198196769254, \"Concavity\": -0.7739521308097925, \"Concave_Points\": -0.898365725412114, \"Symmetry\": -1.114815396500138, \"Fractal_Dimension\": 0.9620454862321252}, {\"ID\": 901034302, \"Class\": \"Benign\", \"Radius\": -0.4504170680293067, \"Texture\": -0.2835708819671058, \"Perimeter\": -0.516442783008101, \"Area\": -0.4631502124387658, \"Smoothness\": -1.564283329881416, \"Compactness\": -1.4739049280904335, \"Concavity\": -1.0989152788640464, \"Concave_Points\": -1.1202824439222174, \"Symmetry\": -1.0345652534074534, \"Fractal_Dimension\": -1.5505732721623982}, {\"ID\": 901041, \"Class\": \"Benign\", \"Radius\": -0.2347560379246503, \"Texture\": 0.5301865915011185, \"Perimeter\": -0.2769265666401156, \"Area\": -0.3091353676070517, \"Smoothness\": -0.7494443375302244, \"Compactness\": -0.7689616254215013, \"Concavity\": -0.6944235907548257, \"Concave_Points\": -0.6360138273244526, \"Symmetry\": 0.0123343405743969, \"Fractal_Dimension\": -0.8268144302573236}, {\"ID\": 9010598, \"Class\": \"Benign\", \"Radius\": -0.3879888751042745, \"Texture\": -0.1045442378040965, \"Perimeter\": -0.4156155097947736, \"Area\": -0.4497946816138754, \"Smoothness\": 0.0284211577858331, \"Compactness\": -0.4699808371018008, \"Concavity\": -0.7767117962375674, \"Concave_Points\": -0.8017233268041838, \"Symmetry\": -0.1919387509342565, \"Fractal_Dimension\": -0.1370481758389858}, {\"ID\": 9010872, \"Class\": \"Benign\", \"Radius\": 0.6732904046212687, \"Texture\": -0.2324204122062462, \"Perimeter\": 0.6021226398238319, \"Area\": 0.5206125049180496, \"Smoothness\": 0.035531445677205, \"Compactness\": -0.3722771722677508, \"Concavity\": -0.3785673386122287, \"Concave_Points\": -0.0146676325411995, \"Symmetry\": -1.1549404680464814, \"Fractal_Dimension\": -0.9726992848878976}, {\"ID\": 9010877, \"Class\": \"Benign\", \"Radius\": -0.2063795865950905, \"Texture\": -0.5439732734769378, \"Perimeter\": -0.2670496092641158, \"Area\": -0.2912332730970924, \"Smoothness\": -1.2080579065236954, \"Compactness\": -0.8971503484692763, \"Concavity\": -0.8403095404140156, \"Concave_Points\": -0.8810989501941638, \"Symmetry\": -0.5895417326207429, \"Fractal_Dimension\": -0.8197326411975868}, {\"ID\": 9011495, \"Class\": \"Benign\", \"Radius\": -0.5440593574168541, \"Texture\": -0.2951959887309377, \"Perimeter\": -0.5621237108720982, \"Area\": -0.5583438895948991, \"Smoothness\": -0.2879866533802048, \"Compactness\": -0.617104378915865, \"Concavity\": -0.5629631649226408, \"Concave_Points\": -0.7383259133173815, \"Symmetry\": -0.4253937126584318, \"Fractal_Dimension\": -0.5152157116289158}, {\"ID\": 9012568, \"Class\": \"Benign\", \"Radius\": 0.3015588922040328, \"Texture\": -1.4135312594115543, \"Perimeter\": 0.2337944376771876, \"Area\": 0.1617181340279114, \"Smoothness\": -1.1895711580061303, \"Compactness\": -0.662737292142621, \"Concavity\": -0.6882770632111452, \"Concave_Points\": -0.5759666836560586, \"Symmetry\": -0.3305526344579858, \"Fractal_Dimension\": -1.0421008176733153}, {\"ID\": 9013005, \"Class\": \"Benign\", \"Radius\": -0.1240878777393668, \"Texture\": -0.7485751525203768, \"Perimeter\": -0.1699261950667883, \"Area\": -0.2153624916025026, \"Smoothness\": -0.9485323984886304, \"Compactness\": -0.7687722772338385, \"Concavity\": -0.7932697888042166, \"Concave_Points\": -0.7372950610655636, \"Symmetry\": 0.2202551658599912, \"Fractal_Dimension\": -0.8650560911799018}, {\"ID\": 901303, \"Class\": \"Benign\", \"Radius\": 0.5796481152337213, \"Texture\": -0.7485751525203768, \"Perimeter\": 0.5897764431038327, \"Area\": 0.379669030680909, \"Smoothness\": 0.1734710307698148, \"Compactness\": 0.7471493131952437, \"Concavity\": -0.2795957012252117, \"Concave_Points\": 0.1301671088392188, \"Symmetry\": 0.6506877515389393, \"Fractal_Dimension\": 0.4139150130085174}, {\"ID\": 901315, \"Class\": \"Benign\", \"Radius\": -1.009433159221638, \"Texture\": 0.2163087088776602, \"Perimeter\": -0.897940261656078, \"Area\": -0.8996203262053944, \"Smoothness\": -0.4003292020638777, \"Compactness\": 1.1675022898068552, \"Concavity\": 1.7461241620991717, \"Concave_Points\": 0.2703630150864564, \"Symmetry\": 1.3729390393731082, \"Fractal_Dimension\": 3.073834983845562}, {\"ID\": 9013579, \"Class\": \"Benign\", \"Radius\": -0.1893537157973543, \"Texture\": 2.0740007697379785, \"Perimeter\": -0.2501764737467836, \"Area\": -0.2636697307563612, \"Smoothness\": -1.506689997961305, \"Compactness\": -1.0808180905022775, \"Concavity\": -0.9544593376537944, \"Concave_Points\": -0.972844800605959, \"Symmetry\": -1.424872767540059, \"Fractal_Dimension\": -0.7319184568568554}, {\"ID\": 9013594, \"Class\": \"Benign\", \"Radius\": -0.1326008131382346, \"Texture\": -0.9624771169748816, \"Perimeter\": -0.152229979768123, \"Area\": -0.2111000881477503, \"Smoothness\": -0.9727073773192954, \"Compactness\": -0.5464775049176078, \"Concavity\": -0.5809009902031775, \"Concave_Points\": -0.6239013133655921, \"Symmetry\": -0.0715635362952285, \"Fractal_Dimension\": -0.5421265100559151}, {\"ID\": 901549, \"Class\": \"Benign\", \"Radius\": -0.8107979999147182, \"Texture\": -1.4716567932307132, \"Perimeter\": -0.7740667545654192, \"Area\": -0.763223415653323, \"Smoothness\": 1.9439327157213555, \"Compactness\": 0.1279807395375996, \"Concavity\": -0.1229219685301745, \"Concave_Points\": 0.1695972074712542, \"Symmetry\": 0.752824297293267, \"Fractal_Dimension\": 0.8983093846944956}, {\"ID\": 901836, \"Class\": \"Benign\", \"Radius\": -0.8760638379727064, \"Texture\": -1.0136275867357414, \"Perimeter\": -0.8765401873414128, \"Area\": -0.80186920697641, \"Smoothness\": -1.1725064670668373, \"Compactness\": -0.6352818049315023, \"Concavity\": -0.6690848445543472, \"Concave_Points\": -0.7262133993585208, \"Symmetry\": 0.6981082906391634, \"Fractal_Dimension\": -0.0478176336863046}, {\"ID\": 90250, \"Class\": \"Benign\", \"Radius\": -0.5894616795441501, \"Texture\": 0.797564047069249, \"Perimeter\": -0.5440159556827661, \"Area\": -0.5884648740084814, \"Smoothness\": -1.920508753239136, \"Compactness\": 0.0560284282257022, \"Concavity\": -0.1175280770122509, \"Concave_Points\": -0.4932407904476703, \"Symmetry\": -2.2200787309130323, \"Fractal_Dimension\": 0.5371381426479326}, {\"ID\": 90251, \"Class\": \"Benign\", \"Radius\": -0.4929817450236462, \"Texture\": -0.4207471417803207, \"Perimeter\": -0.4662349163467707, \"Area\": -0.5455566792306423, \"Smoothness\": 0.5574265769038839, \"Compactness\": 0.4801683685905715, \"Concavity\": -0.3748041584834448, \"Concave_Points\": -0.5184966706172094, \"Symmetry\": -0.1189840753954515, \"Fractal_Dimension\": 0.4365767379996734}, {\"ID\": 902727, \"Class\": \"Benign\", \"Radius\": -0.2404313281905628, \"Texture\": -1.2949551704204705, \"Perimeter\": -0.2542918726534498, \"Area\": -0.321354257510675, \"Smoothness\": -0.9051596423512644, \"Compactness\": -0.3520169161878215, \"Concavity\": -0.4770372186487414, \"Concave_Points\": -0.5226200796244811, \"Symmetry\": -0.709916947259771, \"Fractal_Dimension\": -0.97128292707595}, {\"ID\": 902975, \"Class\": \"Benign\", \"Radius\": -0.5440593574168541, \"Texture\": -1.2089293803681151, \"Perimeter\": -0.5427813360107661, \"Area\": -0.5481141213034937, \"Smoothness\": -1.086471983581241, \"Compactness\": -0.4944067533103136, \"Concavity\": -0.2560131057514992, \"Concave_Points\": -0.6076653903994597, \"Symmetry\": -0.6041326677285044, \"Fractal_Dimension\": -0.1781225523854575}, {\"ID\": 902976, \"Class\": \"Benign\", \"Radius\": -0.0701726202132025, \"Texture\": -0.7276499603454797, \"Perimeter\": -0.1481145808614562, \"Area\": -0.1656344512970599, \"Smoothness\": -1.855805133427653, \"Compactness\": -1.0609365307976744, \"Concavity\": -0.8573692903311694, \"Concave_Points\": -1.0414737892707373, \"Symmetry\": -0.7463942850291734, \"Fractal_Dimension\": -1.1412458645096268}, {\"ID\": 903011, \"Class\": \"Benign\", \"Radius\": -0.8107979999147182, \"Texture\": -0.8811013696280591, \"Perimeter\": -0.765012876970753, \"Area\": -0.7470262825252645, \"Smoothness\": -0.9037375847729896, \"Compactness\": 0.1336611851674861, \"Concavity\": 0.1492813941185288, \"Concave_Points\": -0.5501953773606106, \"Symmetry\": -0.0059043283103032, \"Fractal_Dimension\": 1.3770383251326868}, {\"ID\": 90317302, \"Class\": \"Benign\", \"Radius\": -1.097400158343274, \"Texture\": -1.6437083733354234, \"Perimeter\": -1.0790178135494009, \"Area\": -0.9470750846683026, \"Smoothness\": 0.2559503703097265, \"Compactness\": -0.547613594043585, \"Concavity\": -0.8726728895215573, \"Concave_Points\": -0.7535309840316958, \"Symmetry\": -0.0423816660797067, \"Fractal_Dimension\": 0.4096659395726752}, {\"ID\": 903483, \"Class\": \"Benign\", \"Radius\": -1.5304248056323593, \"Texture\": -0.5695485083573676, \"Perimeter\": -1.5103116189680414, \"Area\": -1.1951469657348823, \"Smoothness\": 0.5360957132297693, \"Compactness\": -0.5691992874371543, \"Concavity\": -1.1138927357766064, \"Concave_Points\": -1.260710291926114, \"Symmetry\": 0.632449082654239, \"Fractal_Dimension\": 1.1589192220928013}, {\"ID\": 903554, \"Class\": \"Benign\", \"Radius\": -0.5752734538793705, \"Texture\": -0.3649466293139285, \"Perimeter\": -0.572000668248098, \"Area\": -0.5930114376935505, \"Smoothness\": 0.4649928343160528, \"Compactness\": -0.1280180101826251, \"Concavity\": -0.5139163839108237, \"Concave_Points\": -0.4035566445395108, \"Symmetry\": 0.4573578613611073, \"Fractal_Dimension\": -0.1682080477018253}, {\"ID\": 903811, \"Class\": \"Benign\", \"Radius\": -0.0190950078199946, \"Texture\": -0.4904977823633115, \"Perimeter\": -0.0913220759494598, \"Area\": -0.1301144225074579, \"Smoothness\": -1.1312667972968828, \"Compactness\": -0.9605819913363438, \"Concavity\": -0.7775898716009503, \"Concave_Points\": -0.4228851242610969, \"Symmetry\": -0.6223713366132055, \"Fractal_Dimension\": -0.7305020990449076}, {\"ID\": 90401601, \"Class\": \"Benign\", \"Radius\": -0.1751654901325747, \"Texture\": -0.0929191310402646, \"Perimeter\": -0.159226157909456, \"Area\": -0.2750361399690338, \"Smoothness\": 0.6783014710572014, \"Compactness\": 0.1961460870962391, \"Concavity\": -0.0376232189444057, \"Concave_Points\": 0.1260436998319471, \"Symmetry\": -0.0204952634180646, \"Fractal_Dimension\": -0.2843493882815057}, {\"ID\": 90401602, \"Class\": \"Benign\", \"Radius\": -0.3766382945724503, \"Texture\": -0.4253971844858533, \"Perimeter\": -0.3670538026961101, \"Area\": -0.416547934666808, \"Smoothness\": -1.1319778260860198, \"Compactness\": -0.2914254961356974, \"Concavity\": -0.1868960307195012, \"Concave_Points\": -0.208467855882969, \"Symmetry\": -0.8667694996682014, \"Fractal_Dimension\": -0.7503311084121691}, {\"ID\": 904302, \"Class\": \"Benign\", \"Radius\": -0.870388547706794, \"Texture\": -1.036877800263405, \"Perimeter\": -0.8913556234054119, \"Area\": -0.7862403943089851, \"Smoothness\": -1.34741954919458, \"Compactness\": -1.0728654666204365, \"Concavity\": -0.7737012521345402, \"Concave_Points\": -1.0739714065092971, \"Symmetry\": -1.0090311169688717, \"Fractal_Dimension\": -0.0931410836686186}, {\"ID\": 904357, \"Class\": \"Benign\", \"Radius\": -0.6604028078680501, \"Texture\": -0.4718976115411802, \"Perimeter\": -0.6876433775254239, \"Area\": -0.6336463506288552, \"Smoothness\": -0.3903747990159563, \"Compactness\": -0.7956597198819683, \"Concavity\": -0.7560143055292559, \"Concave_Points\": -0.8385762948066744, \"Symmetry\": 0.129061821436485, \"Fractal_Dimension\": -0.3693308569983436}, {\"ID\": 904647, \"Class\": \"Benign\", \"Radius\": -0.6235134211396224, \"Texture\": -1.948286170547816, \"Perimeter\": -0.6514278671467596, \"Area\": -0.602957045754639, \"Smoothness\": -0.5432459886804466, \"Compactness\": -0.9831144256682276, \"Concavity\": -0.7869978219229101, \"Concave_Points\": -0.7978576308598665, \"Symmetry\": -0.7682806876908155, \"Fractal_Dimension\": -1.0463498911091569}, {\"ID\": 904689, \"Class\": \"Benign\", \"Radius\": -0.3312359724451543, \"Texture\": -0.2324204122062462, \"Perimeter\": -0.3205497950507792, \"Area\": -0.3685248557432661, \"Smoothness\": -1.6247207769580745, \"Compactness\": -0.4800162910479339, \"Concavity\": -0.6049853430273945, \"Concave_Points\": -0.7754365943828267, \"Symmetry\": 0.2275506334138719, \"Fractal_Dimension\": -0.5392937944320205}, {\"ID\": 9047, \"Class\": \"Benign\", \"Radius\": -0.3369112627110666, \"Texture\": -0.7253249389927129, \"Perimeter\": -0.3617037841174433, \"Area\": -0.4185370562790257, \"Smoothness\": 0.1727600019806779, \"Compactness\": -0.3025970392078077, \"Concavity\": -0.7004446789608799, \"Concave_Points\": -0.6447760714649049, \"Symmetry\": -0.2794843615808229, \"Fractal_Dimension\": -0.1129700930358811}, {\"ID\": 904969, \"Class\": \"Benign\", \"Radius\": -0.5071699706884264, \"Texture\": -1.008977544030209, \"Perimeter\": -0.5629467906534313, \"Area\": -0.5279387449509997, \"Smoothness\": -0.6783414586165079, \"Compactness\": -1.1101670595900257, \"Concavity\": -0.8493411727230971, \"Concave_Points\": -0.7313676606176105, \"Symmetry\": -0.8777127009990229, \"Fractal_Dimension\": -0.8098181365139566}, {\"ID\": 904971, \"Class\": \"Benign\", \"Radius\": -0.9044402893022664, \"Texture\": -0.1626697716232554, \"Perimeter\": -0.8880633042800788, \"Area\": -0.8095415331949639, \"Smoothness\": 0.2872356370317614, \"Compactness\": -0.5631401454319418, \"Concavity\": -0.4937206505530167, \"Concave_Points\": -0.5050955913435764, \"Symmetry\": -1.187770072038943, \"Fractal_Dimension\": 0.4748183989222516}, {\"ID\": 905189, \"Class\": \"Benign\", \"Radius\": 0.571135179834853, \"Texture\": -1.029902736205106, \"Perimeter\": 0.5074684649705042, \"Area\": 0.4123474571673428, \"Smoothness\": -0.100275053047993, \"Compactness\": -0.3660286820748753, \"Concavity\": -0.4239763788328881, \"Concave_Points\": -0.093785542868225, \"Symmetry\": -0.2794843615808229, \"Fractal_Dimension\": -0.5732863819187565}, {\"ID\": 905190, \"Class\": \"Benign\", \"Radius\": -0.3624500689076706, \"Texture\": 0.4836861644457916, \"Perimeter\": -0.3843384781041091, \"Area\": -0.3989300003871655, \"Smoothness\": -1.482515019130641, \"Compactness\": -0.4010580967925097, \"Concavity\": -0.3454513534789303, \"Concave_Points\": -0.7795600033900985, \"Symmetry\": -0.8448830970065603, \"Fractal_Dimension\": -0.2347768648633495}, {\"ID\": 905501, \"Class\": \"Benign\", \"Radius\": -0.5270334866191185, \"Texture\": -0.3184462022586007, \"Perimeter\": -0.5580083119654321, \"Area\": -0.5364635518605041, \"Smoothness\": -0.6762083722490972, \"Compactness\": -0.7399913527090793, \"Concavity\": -0.7111070226591011, \"Concave_Points\": -0.5769975359078765, \"Symmetry\": 0.5631421408923739, \"Fractal_Dimension\": -0.9670338536401069}, {\"ID\": 905502, \"Class\": \"Benign\", \"Radius\": -0.7852591937181144, \"Texture\": -0.3998219496054235, \"Perimeter\": -0.8016399272400843, \"Area\": -0.7248617845605528, \"Smoothness\": -0.553200391728368, \"Compactness\": -0.9696707043441626, \"Concavity\": -0.764795059163085, \"Concave_Points\": -0.7195128597217043, \"Symmetry\": -0.7682806876908155, \"Fractal_Dimension\": -0.519464785064759}, {\"ID\": 905520, \"Class\": \"Benign\", \"Radius\": -0.8760638379727064, \"Texture\": -0.5718735297101343, \"Perimeter\": -0.8662516900747468, \"Area\": -0.8004484058248258, \"Smoothness\": 0.8062866531018917, \"Compactness\": -0.4980043688759084, \"Concavity\": -0.7318045133674126, \"Concave_Points\": -0.6215818957990017, \"Symmetry\": -0.3560867708965677, \"Fractal_Dimension\": 0.0853200006367417}, {\"ID\": 905539, \"Class\": \"Benign\", \"Radius\": -1.3422889333173764, \"Texture\": 0.5557618263815483, \"Perimeter\": -1.325941747949386, \"Area\": -1.0971116862755812, \"Smoothness\": -1.1853049852713071, \"Compactness\": -0.8295530454736254, \"Concavity\": -0.6453768097430086, \"Concave_Points\": -1.1285550332430565, \"Symmetry\": -1.9610896327502747, \"Fractal_Dimension\": 0.6292014004245073}, {\"ID\": 905557, \"Class\": \"Benign\", \"Radius\": 0.2448059895449131, \"Texture\": 0.6557377445505015, \"Perimeter\": 0.2288559589891877, \"Area\": 0.110285132340568, \"Smoothness\": -0.7970832664024148, \"Compactness\": -0.0348587018524842, \"Concavity\": -0.2535043189989766, \"Concave_Points\": -0.2618144599145465, \"Symmetry\": 0.4828919977996883, \"Fractal_Dimension\": -0.519464785064759}, {\"ID\": 905686, \"Class\": \"Benign\", \"Radius\": -0.6348640016714462, \"Texture\": 0.4371857373904646, \"Perimeter\": -0.6411393698800936, \"Area\": -0.6282473062528355, \"Smoothness\": 0.097390950332138, \"Compactness\": -0.4381703415744358, \"Concavity\": -0.7933952281418427, \"Concave_Points\": -0.6991535277483004, \"Symmetry\": 0.7564720310702069, \"Fractal_Dimension\": 0.0145021100393762}, {\"ID\": 905978, \"Class\": \"Benign\", \"Radius\": -1.340018817211012, \"Texture\": 0.5604118690870808, \"Perimeter\": -1.3321148463093857, \"Area\": -1.0902918407479776, \"Smoothness\": 0.5716471526866276, \"Compactness\": -0.8094821375813592, \"Concavity\": -0.8571184116559171, \"Concave_Points\": -0.9367649717923318, \"Symmetry\": 0.778358433731849, \"Fractal_Dimension\": 0.4549893895549892}, {\"ID\": 906024, \"Class\": \"Benign\", \"Radius\": -0.4050147459020107, \"Texture\": -1.6553334800992554, \"Perimeter\": -0.4563579589707715, \"Area\": -0.4543412452989445, \"Smoothness\": -0.6051054933353807, \"Compactness\": -0.8785942260783134, \"Concavity\": -0.8178558989789383, \"Concave_Points\": -0.6416835147094512, \"Symmetry\": -0.8339398956757398, \"Fractal_Dimension\": -0.0067432571398329}, {\"ID\": 906290, \"Class\": \"Benign\", \"Radius\": -0.8420120963772341, \"Texture\": 0.4929862498568568, \"Perimeter\": -0.8650170704027468, \"Area\": -0.7802730294723319, \"Smoothness\": 0.3867796675109644, \"Compactness\": -0.8437541595483421, \"Concavity\": -1.0015618089324063, \"Concave_Points\": -0.9834110361870928, \"Symmetry\": -0.7172124148136516, \"Fractal_Dimension\": -0.192286130504931}, {\"ID\": 906539, \"Class\": \"Benign\", \"Radius\": -0.7256686459260382, \"Texture\": -0.0580438107487696, \"Perimeter\": -0.731266605936088, \"Area\": -0.6967299217591881, \"Smoothness\": -0.7750413739391623, \"Compactness\": -0.513530920264265, \"Concavity\": -0.42585796889728, \"Concave_Points\": -0.8926960380271154, \"Symmetry\": 0.8002448363934901, \"Fractal_Dimension\": -0.0180741196354109}, {\"ID\": 906564, \"Class\": \"Benign\", \"Radius\": 0.1596766355562329, \"Texture\": -1.234504615248545, \"Perimeter\": 0.257252211445186, \"Area\": 0.0034408857414453, \"Smoothness\": 0.4792134100987955, \"Compactness\": 1.5007551000935382, \"Concavity\": 0.7049776598022873, \"Concave_Points\": 0.3628820046871148, \"Symmetry\": 1.0008701941252036, \"Fractal_Dimension\": 1.595157428172572}, {\"ID\": 906616, \"Class\": \"Benign\", \"Radius\": -0.7143180653942144, \"Texture\": -0.7602002592842088, \"Perimeter\": -0.6794125797120916, \"Area\": -0.7009923252139404, \"Smoothness\": 0.8844998199069792, \"Compactness\": 0.2359092065054457, \"Concavity\": -0.2236497566439574, \"Concave_Points\": -0.101774647819814, \"Symmetry\": 0.2713234387371541, \"Fractal_Dimension\": 0.0569928443977967}, {\"ID\": 906878, \"Class\": \"Benign\", \"Radius\": -0.1326008131382346, \"Texture\": -0.0371186185738724, \"Perimeter\": -0.1032567327787926, \"Area\": -0.2261605803545417, \"Smoothness\": -0.4117056626900718, \"Compactness\": 0.1961460870962391, \"Concavity\": 0.0974749476789369, \"Concave_Points\": -0.0205950329891526, \"Symmetry\": 0.1327095552134249, \"Fractal_Dimension\": -0.1398808914628793}, {\"ID\": 907145, \"Class\": \"Benign\", \"Radius\": -1.2443901762303944, \"Texture\": -0.0394436399266383, \"Perimeter\": -1.236226051784058, \"Area\": -1.0377221981393667, \"Smoothness\": 0.7920660773191481, \"Compactness\": -0.3978391776022405, \"Concavity\": -1.0018252315414211, \"Concave_Points\": -0.7537886970946504, \"Symmetry\": 2.649645861302195, \"Fractal_Dimension\": 1.0611905330684357}, {\"ID\": 907367, \"Class\": \"Benign\", \"Radius\": -1.162665996401262, \"Texture\": 0.4627609722708944, \"Perimeter\": -1.1843720255600612, \"Area\": -0.9877099976036072, \"Smoothness\": -1.080072724479006, \"Compactness\": -1.2349475152598686, \"Concavity\": -1.082909219382952, \"Concave_Points\": -1.1277561227478974, \"Symmetry\": -0.6624964081595479, \"Fractal_Dimension\": 0.2255394240195258}, {\"ID\": 907409, \"Class\": \"Benign\", \"Radius\": -1.034971965418242, \"Texture\": -1.0020024799719094, \"Perimeter\": -1.0074098725734053, \"Area\": -0.9129758570302848, \"Smoothness\": 0.1279651882650361, \"Compactness\": -0.0575804843720307, \"Concavity\": -0.3192345319150689, \"Concave_Points\": -0.6891027182930756, \"Symmetry\": 0.4135850560378242, \"Fractal_Dimension\": 0.8997257425064443}, {\"ID\": 90745, \"Class\": \"Benign\", \"Radius\": -0.94416732116365, \"Texture\": 0.6255124669645391, \"Perimeter\": -0.9539096867867414, \"Area\": -0.8382417164569623, \"Smoothness\": -0.5937290327091855, \"Compactness\": -0.8882509836491207, \"Concavity\": -0.6605549695957704, \"Concave_Points\": -0.8988811515380231, \"Symmetry\": 0.7455288297393863, \"Fractal_Dimension\": -0.4288178851001301}, {\"ID\": 90769601, \"Class\": \"Benign\", \"Radius\": -0.850525031776102, \"Texture\": -0.6206989781182272, \"Perimeter\": -0.8847709851547457, \"Area\": -0.7779997476297973, \"Smoothness\": -1.055897745648343, \"Compactness\": -1.249716673897574, \"Concavity\": -0.9421662825664336, \"Concave_Points\": -0.9076433956784752, \"Symmetry\": -1.0965767276154368, \"Fractal_Dimension\": -0.186620699257142}, {\"ID\": 90769602, \"Class\": \"Benign\", \"Radius\": -0.3993394556360983, \"Texture\": -0.3765717360777597, \"Perimeter\": -0.4522425600641047, \"Area\": -0.4364391507889851, \"Smoothness\": -1.2372100868783198, \"Compactness\": -1.119445120785507, \"Concavity\": -0.9380267844247712, \"Concave_Points\": -0.7878068214046418, \"Symmetry\": -1.2862588840163298, \"Fractal_Dimension\": -1.0421008176733153}, {\"ID\": 907915, \"Class\": \"Benign\", \"Radius\": -0.4901440998906903, \"Texture\": -0.3742467147249937, \"Perimeter\": -0.4320771054214395, \"Area\": -0.5316328279451183, \"Smoothness\": 0.6427500316003432, \"Compactness\": 0.51614452424652, \"Concavity\": -0.1428668232127292, \"Concave_Points\": -0.5393714287165224, \"Symmetry\": -0.0022565945333634, \"Fractal_Dimension\": 1.1645846533405904}, {\"ID\": 908469, \"Class\": \"Benign\", \"Radius\": 0.2079166028164849, \"Texture\": -0.5462982948297037, \"Perimeter\": 0.1202094278531942, \"Area\": 0.0534530862772049, \"Smoothness\": -0.5062724916453146, \"Compactness\": -0.6362285458698167, \"Concavity\": -0.6941727120795734, \"Concave_Points\": -0.5192698098060728, \"Symmetry\": -0.8704172334451422, \"Fractal_Dimension\": -0.8168999255736933}, {\"ID\": 908916, \"Class\": \"Benign\", \"Radius\": -0.3567747786417587, \"Texture\": 0.0582072568895481, \"Perimeter\": -0.3826923185414423, \"Area\": -0.4139904925939567, \"Smoothness\": -0.3555343883482359, \"Compactness\": -0.4830458620505402, \"Concavity\": -0.8884782460624497, \"Concave_Points\": -0.7220899903512492, \"Symmetry\": 0.1801300943136479, \"Fractal_Dimension\": 0.0952345053203729}, {\"ID\": 909220, \"Class\": \"Benign\", \"Radius\": -0.024770298085907, \"Texture\": -0.769500344695274, \"Perimeter\": -0.0900874562774598, \"Area\": -0.1241470576708047, \"Smoothness\": -0.8376119073832342, \"Compactness\": -0.8594700591243616, \"Concavity\": -0.6705901166058609, \"Concave_Points\": -0.5020030345881227, \"Symmetry\": -0.3560867708965677, \"Fractal_Dimension\": -0.5407101522439683}, {\"ID\": 909231, \"Class\": \"Benign\", \"Radius\": -0.0786855556120708, \"Texture\": 0.0721573850061468, \"Perimeter\": -0.1353568442507902, \"Area\": -0.1770008605097325, \"Smoothness\": -0.6769194010382341, \"Compactness\": -0.7771035974910054, \"Concavity\": -0.9455531446823392, \"Concave_Points\": -0.6697742385714895, \"Symmetry\": -0.9360764414300664, \"Fractal_Dimension\": -0.8593906599321128}, {\"ID\": 909410, \"Class\": \"Benign\", \"Radius\": -0.0304455883518188, \"Texture\": -0.8439010279837974, \"Perimeter\": -0.0979067142001259, \"Area\": -0.1375025884956952, \"Smoothness\": -1.1874380716387178, \"Compactness\": -0.9189253900505084, \"Concavity\": -0.8521008381508719, \"Concave_Points\": -0.577255248970831, \"Symmetry\": -0.8120534930140977, \"Fractal_Dimension\": -0.982613789571528}, {\"ID\": 909411, \"Class\": \"Benign\", \"Radius\": -0.895927353903398, \"Texture\": -0.4858477396577789, \"Perimeter\": -0.8329169589307487, \"Area\": -0.8052791297402117, \"Smoothness\": -0.5126717507475496, \"Compactness\": 0.1317677032908572, \"Concavity\": 0.0723870801537107, \"Concave_Points\": -0.3295929954715749, \"Symmetry\": -1.1768268707081224, \"Fractal_Dimension\": 0.5102273442209344}, {\"ID\": 90944601, \"Class\": \"Benign\", \"Radius\": -0.0985490715427628, \"Texture\": -0.813675750397835, \"Perimeter\": -0.1481145808614562, \"Area\": -0.1960395959409592, \"Smoothness\": -0.5823525720829913, \"Compactness\": -0.7036365006778049, \"Concavity\": -0.9815542345810386, \"Concave_Points\": -1.0046208212682464, \"Symmetry\": -1.4832365079711027, \"Fractal_Dimension\": -0.6115280428413338}, {\"ID\": 909777, \"Class\": \"Benign\", \"Radius\": -1.009433159221638, \"Texture\": -0.2254453481479469, \"Perimeter\": -1.0349830452480704, \"Area\": -0.8922321602171573, \"Smoothness\": -1.0622970047505769, \"Compactness\": -1.1308060120452803, \"Concavity\": -0.8638921358877281, \"Concave_Points\": -0.9743910789836858, \"Symmetry\": 2.044122054330113, \"Fractal_Dimension\": -0.7248366677971186}, {\"ID\": 9110720, \"Class\": \"Benign\", \"Radius\": -0.6064875503418863, \"Texture\": 1.3020936806195484, \"Perimeter\": -0.5909315032187633, \"Area\": -0.6069352889790744, \"Smoothness\": 0.4721031222074247, \"Compactness\": -0.2302660315205846, \"Concavity\": -0.4313772997528298, \"Concave_Points\": -0.1592446608586632, \"Symmetry\": 0.0305730094590981, \"Fractal_Dimension\": 0.8076624847298697}, {\"ID\": 9110944, \"Class\": \"Benign\", \"Radius\": 0.1908907320187493, \"Texture\": -0.3788967574305263, \"Perimeter\": 0.1609518770291916, \"Area\": 0.0565788488106896, \"Smoothness\": -0.3249601504153378, \"Compactness\": -0.2923722370740118, \"Concavity\": -0.6034800709758811, \"Concave_Points\": -0.6782787696489875, \"Symmetry\": 0.2968575751757361, \"Fractal_Dimension\": -0.5577064459873353}, {\"ID\": 911150, \"Class\": \"Benign\", \"Radius\": 0.1142743134289369, \"Texture\": 0.0117068298342212, \"Perimeter\": 0.0938708748505291, \"Area\": 0.0136706540328507, \"Smoothness\": -0.8873839226228352, \"Compactness\": -0.4987617616265599, \"Concavity\": -0.0078940959270128, \"Concave_Points\": -0.5068995827842577, \"Symmetry\": -1.235190611139167, \"Fractal_Dimension\": -0.7559965396599582}, {\"ID\": 9111596, \"Class\": \"Benign\", \"Radius\": -0.6405392919373585, \"Texture\": 0.5232115274428192, \"Perimeter\": -0.6230316146907614, \"Area\": -0.6333621903985382, \"Smoothness\": -2.1494600233413026, \"Compactness\": 0.038987091336042, \"Concavity\": -0.012911669432058, \"Concave_Points\": -0.6458069237167229, \"Symmetry\": -1.687509599479757, \"Fractal_Dimension\": 0.4705693254864094}, {\"ID\": 9111843, \"Class\": \"Benign\", \"Radius\": -0.6036499052089304, \"Texture\": 2.0786508124435112, \"Perimeter\": -0.6255008540347614, \"Area\": -0.6035253662152726, \"Smoothness\": -0.8525435119551138, \"Compactness\": -0.7543818149714587, \"Concavity\": -0.6052362217026468, \"Concave_Points\": -0.759458384479649, \"Symmetry\": -0.7172124148136516, \"Fractal_Dimension\": -0.248940442982823}, {\"ID\": 911201, \"Class\": \"Benign\", \"Radius\": 0.1142743134289369, \"Texture\": -1.234504615248545, \"Perimeter\": 0.07782081911453, \"Area\": -0.0303741816662556, \"Smoothness\": 0.9627129867120676, \"Compactness\": -0.2257216750166752, \"Concavity\": -0.2489885028444359, \"Concave_Points\": 0.4131360519632384, \"Symmetry\": -0.5895417326207429, \"Fractal_Dimension\": -0.2248623601797183}, {\"ID\": 911202, \"Class\": \"Benign\", \"Radius\": -0.4277159069656587, \"Texture\": -0.4974728464216109, \"Perimeter\": -0.4670579961281038, \"Area\": -0.4603086101355977, \"Smoothness\": -0.7487333087410885, \"Compactness\": -0.9475169663876044, \"Concavity\": -0.741839660377503, \"Concave_Points\": -0.6751862128935338, \"Symmetry\": -0.0460293998566466, \"Fractal_Dimension\": -0.6426879147041742}, {\"ID\": 9112085, \"Class\": \"Benign\", \"Radius\": -0.2120548768610023, \"Texture\": 2.6575811292823333, \"Perimeter\": -0.2316571786667846, \"Area\": -0.2775935820418851, \"Smoothness\": -0.2780322503322844, \"Compactness\": -0.5695779838124799, \"Concavity\": -0.7602792430085443, \"Concave_Points\": -0.4195348544426889, \"Symmetry\": -1.59266852127931, \"Fractal_Dimension\": -0.3735799304341849}, {\"ID\": 9112366, \"Class\": \"Benign\", \"Radius\": -0.708642775128302, \"Texture\": 2.3251030758367444, \"Perimeter\": -0.703693433261423, \"Area\": -0.6813852693220801, \"Smoothness\": -0.1983970259489222, \"Compactness\": -0.3522062643754846, \"Concavity\": -0.2157470783735113, \"Concave_Points\": -0.7409030439469263, \"Symmetry\": -0.0460293998566466, \"Fractal_Dimension\": -0.1611262586420896}, {\"ID\": 9112367, \"Class\": \"Benign\", \"Radius\": -0.2602948441212543, \"Texture\": 1.3857944493191372, \"Perimeter\": -0.3238421141761128, \"Area\": -0.3324365064930307, \"Smoothness\": -0.6008393206005573, \"Compactness\": -0.9901203086117544, \"Concavity\": -0.7661748918769725, \"Concave_Points\": -0.7277596777362477, \"Symmetry\": -0.7026214797058913, \"Fractal_Dimension\": -0.9854465051954224}, {\"ID\": 9112594, \"Class\": \"Benign\", \"Radius\": -0.3198853919133305, \"Texture\": 1.3578941930859407, \"Perimeter\": -0.3851615578854422, \"Area\": -0.3827328672591069, \"Smoothness\": -0.900893469616441, \"Compactness\": -1.0151142693832556, \"Concavity\": -0.962612894599493, \"Concave_Points\": -0.806619875000319, \"Symmetry\": -0.5275302584127596, \"Fractal_Dimension\": -1.1766548098083096}, {\"ID\": 9112712, \"Class\": \"Benign\", \"Radius\": -1.2407012375575517, \"Texture\": 2.071675748385212, \"Perimeter\": -1.246514549050724, \"Area\": -1.0343122753755651, \"Smoothness\": -1.1746395534342498, \"Compactness\": -1.0997529092685665, \"Concavity\": -0.9205907164947392, \"Concave_Points\": -0.9919155672645904, \"Symmetry\": -0.6953260121520105, \"Fractal_Dimension\": -0.4642268303988128}, {\"ID\": 9113156, \"Class\": \"Benign\", \"Radius\": 0.0773849267005092, \"Texture\": 1.7903481647004826, \"Perimeter\": 0.0115628967172007, \"Area\": -0.0249751372902361, \"Smoothness\": -1.8778470258909052, \"Compactness\": -0.9867120412338224, \"Concavity\": -0.6778655981881765, \"Concave_Points\": -0.813062701574181, \"Symmetry\": -0.3816209073351496, \"Fractal_Dimension\": -1.1993165347994663}, {\"ID\": 911320501, \"Class\": \"Benign\", \"Radius\": -0.7171557105271703, \"Texture\": -0.2161452627368816, \"Perimeter\": -0.744435882437421, \"Area\": -0.6882051148496837, \"Smoothness\": -0.8020604679263759, \"Compactness\": -0.8670439866308772, \"Concavity\": -0.6915384859894247, \"Concave_Points\": -0.8027541790560018, \"Symmetry\": -1.0783380587307356, \"Fractal_Dimension\": -0.5959481069099135}, {\"ID\": 911320502, \"Class\": \"Benign\", \"Radius\": -0.2716454246530786, \"Texture\": -0.2486955616756108, \"Perimeter\": -0.3164343961441129, \"Area\": -0.3341414678749316, \"Smoothness\": -1.5429524662073004, \"Compactness\": -0.8407245885457357, \"Concavity\": -0.5043829942512379, \"Concave_Points\": -0.5210738012467542, \"Symmetry\": -1.3044975529010312, \"Fractal_Dimension\": -1.0350190286135788}, {\"ID\": 9113239, \"Class\": \"Benign\", \"Radius\": -0.2517819087223865, \"Texture\": 0.195383516702763, \"Perimeter\": -0.2098455644614525, \"Area\": -0.3182284949771899, \"Smoothness\": -0.9613309166931002, \"Compactness\": 0.3400507097200343, \"Concavity\": 0.1530445742473126, \"Concave_Points\": -0.53060918457607, \"Symmetry\": -0.7682806876908155, \"Fractal_Dimension\": 0.2156249193358946}, {\"ID\": 9113455, \"Class\": \"Benign\", \"Radius\": -0.2801583600519464, \"Texture\": 0.3372098192215106, \"Perimeter\": -0.2464726147307837, \"Area\": -0.3352781087961988, \"Smoothness\": -0.683318660140469, \"Compactness\": 0.0863241382517641, \"Concavity\": 0.2471240774669107, \"Concave_Points\": -0.3561374409558865, \"Symmetry\": -0.9105423049914846, \"Fractal_Dimension\": -0.3679144991863969}, {\"ID\": 9113514, \"Class\": \"Benign\", \"Radius\": -1.265388750214269, \"Texture\": -0.2765958179088064, \"Perimeter\": -1.2720300222720555, \"Area\": -1.0473836459701384, \"Smoothness\": -0.9421331393863964, \"Compactness\": -0.9478956627629304, \"Concavity\": -0.9283679554275592, \"Concave_Points\": -1.1120356259076742, \"Symmetry\": -0.4801097193125355, \"Fractal_Dimension\": 0.1872977630969496}, {\"ID\": 911366, \"Class\": \"Benign\", \"Radius\": -0.7114804202612585, \"Texture\": -0.257995647086676, \"Perimeter\": -0.6415509097707605, \"Area\": -0.6992873638320395, \"Smoothness\": 1.5030948664563124, \"Compactness\": 0.8323559976435428, \"Concavity\": 0.1655885080099257, \"Concave_Points\": 0.1732051903526168, \"Symmetry\": 0.5303125368999123, \"Fractal_Dimension\": 1.381287398568529}, {\"ID\": 9113778, \"Class\": \"Benign\", \"Radius\": -1.2656725147275647, \"Texture\": -0.1859199851509193, \"Perimeter\": -1.2543338069733905, \"Area\": -1.0394271595212676, \"Smoothness\": -0.4906298582842971, \"Compactness\": -0.7907366670027334, \"Concavity\": -0.7440975684547734, \"Concave_Points\": -0.8705327146130301, \"Symmetry\": 1.5553257282201205, \"Fractal_Dimension\": 0.1887141209088944}, {\"ID\": 9113816, \"Class\": \"Benign\", \"Radius\": -0.5922993246771066, \"Texture\": 2.057725620268614, \"Perimeter\": -0.6222085349094283, \"Area\": -0.5824975091718284, \"Smoothness\": -0.6285694433769069, \"Compactness\": -0.8395884994197584, \"Concavity\": -0.8169778236155554, \"Concave_Points\": -0.6481263412833133, \"Symmetry\": 0.154595957875067, \"Fractal_Dimension\": -0.8239817146334301}, {\"ID\": 911384, \"Class\": \"Benign\", \"Radius\": 0.224942473614221, \"Texture\": -1.0136275867357414, \"Perimeter\": 0.1844096507971905, \"Area\": 0.0909622366790244, \"Smoothness\": -1.0935822714726129, \"Compactness\": -0.3569399690670568, \"Concavity\": -0.419084244665469, \"Concave_Points\": -0.4306165161497314, \"Symmetry\": -0.4545755828739546, \"Fractal_Dimension\": -0.8650560911799018}, {\"ID\": 9113846, \"Class\": \"Benign\", \"Radius\": -0.5270334866191185, \"Texture\": 2.4832045278248565, \"Perimeter\": -0.5987507611414294, \"Area\": -0.538452673472722, \"Smoothness\": -1.3772827583383411, \"Compactness\": -1.332272483718593, \"Concavity\": -1.1138927357766064, \"Concave_Points\": -1.260710291926114, \"Symmetry\": -0.4035073099967907, \"Fractal_Dimension\": -0.4528959679032349}, {\"ID\": 911391, \"Class\": \"Benign\", \"Radius\": -0.9214661601000018, \"Texture\": -0.853201113394863, \"Perimeter\": -0.8872402244987457, \"Area\": -0.8410833187601305, \"Smoothness\": 0.308566500705876, \"Compactness\": 0.0484545007191864, \"Concavity\": -0.4722705238189483, \"Concave_Points\": -0.8558430700246247, \"Symmetry\": 0.1801300943136479, \"Fractal_Dimension\": 0.7892498331745539}, {\"ID\": 911408, \"Class\": \"Benign\", \"Radius\": -0.3681253591735824, \"Texture\": -0.8276258785144328, \"Perimeter\": -0.3736384409467762, \"Area\": -0.4205261778912435, \"Smoothness\": -0.4237931521054039, \"Compactness\": -0.4099574616126654, \"Concavity\": -0.3819542007281343, \"Concave_Points\": -0.4674694841522221, \"Symmetry\": -0.3889163748890293, \"Fractal_Dimension\": -0.519464785064759}, {\"ID\": 911654, \"Class\": \"Benign\", \"Radius\": 0.020632024041389, \"Texture\": 0.2883843708134178, \"Perimeter\": 0.0181475349678668, \"Area\": -0.1036875210879942, \"Smoothness\": -0.5012952901213544, \"Compactness\": 0.1223002939077128, \"Concavity\": -0.4787933693755071, \"Concave_Points\": -0.4726237454113118, \"Symmetry\": -1.114815396500138, \"Fractal_Dimension\": -0.3834944351178171}, {\"ID\": 911673, \"Class\": \"Benign\", \"Radius\": -0.0644973299472906, \"Texture\": -0.6206989781182272, \"Perimeter\": -0.1234221874214579, \"Area\": -0.1576779648481891, \"Smoothness\": -1.9965888336768125, \"Compactness\": -0.9685346152181852, \"Concavity\": -0.834915648896092, \"Concave_Points\": -0.9156325006300644, \"Symmetry\": 0.0050388730205162, \"Fractal_Dimension\": -1.0534316801688934}, {\"ID\": 911685, \"Class\": \"Benign\", \"Radius\": -0.7483698069896861, \"Texture\": -1.0926783127297974, \"Perimeter\": -0.739908943640088, \"Area\": -0.7103696128143954, \"Smoothness\": 0.5858677284693703, \"Compactness\": -0.4177207373068439, \"Concavity\": -0.4480607316571052, \"Concave_Points\": -0.7532732709687414, \"Symmetry\": -0.1189840753954515, \"Fractal_Dimension\": 0.416747728632411}, {\"ID\": 912193, \"Class\": \"Benign\", \"Radius\": -0.5582475830816344, \"Texture\": -0.292870967378171, \"Perimeter\": -0.5629467906534313, \"Area\": -0.5671528567347203, \"Smoothness\": -0.3903747990159563, \"Compactness\": -0.4915665304953703, \"Concavity\": -0.7481116272588095, \"Concave_Points\": -0.8671824447946219, \"Symmetry\": -1.2680202151316289, \"Fractal_Dimension\": 0.0060039631676917}, {\"ID\": 91227, \"Class\": \"Benign\", \"Radius\": -0.0644973299472906, \"Texture\": -0.0115433836934426, \"Perimeter\": -0.1332991447974571, \"Area\": -0.1477323567871006, \"Smoothness\": -1.1696623519102889, \"Compactness\": -0.9672091779045447, \"Concavity\": -0.7382019195863452, \"Concave_Points\": -0.7272442516103388, \"Symmetry\": -0.8485308307835001, \"Fractal_Dimension\": -0.97128292707595}, {\"ID\": 912519, \"Class\": \"Benign\", \"Radius\": -0.1865160706643984, \"Texture\": -1.2159044444264142, \"Perimeter\": -0.1913262693814541, \"Area\": -0.3085670471464183, \"Smoothness\": 0.7636249257536617, \"Compactness\": 0.2112939421092704, \"Concavity\": -0.3881007282718147, \"Concave_Points\": 0.0964066975921818, \"Symmetry\": -0.1189840753954515, \"Fractal_Dimension\": 0.5088109864089876}, {\"ID\": 912558, \"Class\": \"Benign\", \"Radius\": -0.1212502326064109, \"Texture\": -0.383546800136059, \"Perimeter\": -0.1732185141921213, \"Area\": -0.2380953100278478, \"Smoothness\": 0.2232430460094167, \"Compactness\": -0.4690340961634864, \"Concavity\": -0.5433946282529645, \"Concave_Points\": -0.4463370129899547, \"Symmetry\": -0.2904275629116434, \"Fractal_Dimension\": -0.27160216797398}, {\"ID\": 912600, \"Class\": \"Benign\", \"Radius\": 0.454791729383657, \"Texture\": -1.8622603804954607, \"Perimeter\": 0.445737481370508, \"Area\": 0.2623108555600643, \"Smoothness\": 0.5645368647952558, \"Compactness\": 0.4839553323438288, \"Concavity\": 0.3800897753506091, \"Concave_Points\": 0.3399455420841662, \"Symmetry\": -0.1007454065107503, \"Fractal_Dimension\": -0.0294049821309909}, {\"ID\": 913063, \"Class\": \"Benign\", \"Radius\": -0.4759558742259106, \"Texture\": -0.6695244265263208, \"Perimeter\": -0.375284600509443, \"Area\": -0.5063425674469217, \"Smoothness\": -0.0867655060543872, \"Compactness\": 0.885373490189152, \"Concavity\": 0.8228906371708504, \"Concave_Points\": -0.0118327888487001, \"Symmetry\": 0.9862792590174424, \"Fractal_Dimension\": 1.4804324454048394}, {\"ID\": 913102, \"Class\": \"Benign\", \"Radius\": 0.1454884098914532, \"Texture\": -0.5672234870046009, \"Perimeter\": 0.0922247152878623, \"Area\": 0.03157274854281, \"Smoothness\": -0.7074936389711322, \"Compactness\": -0.7074234644310625, \"Concavity\": -0.4626116948217362, \"Concave_Points\": -0.5414331332201582, \"Symmetry\": -1.4686455728633423, \"Fractal_Dimension\": -1.309792444131356}, {\"ID\": 913512, \"Class\": \"Benign\", \"Radius\": -0.6944545494635224, \"Texture\": -0.7253249389927129, \"Perimeter\": -0.6781779600400916, \"Area\": -0.6660406168849721, \"Smoothness\": 1.1689113355618452, \"Compactness\": -0.2217453630757548, \"Concavity\": -0.5771378100743937, \"Concave_Points\": -0.4535529787526802, \"Symmetry\": 0.1509482240981261, \"Fractal_Dimension\": 0.1717178271655274}, {\"ID\": 91376701, \"Class\": \"Benign\", \"Radius\": -0.5327087768850304, \"Texture\": 0.7324634491917916, \"Perimeter\": -0.5674737294507644, \"Area\": -0.5353269109392369, \"Smoothness\": -1.0267455652937187, \"Compactness\": -0.9910670495500687, \"Concavity\": -0.8988897110854186, \"Concave_Points\": -0.935734119540514, \"Symmetry\": -0.9762015129764088, \"Fractal_Dimension\": -0.4302342429120779}, {\"ID\": 91376702, \"Class\": \"Benign\", \"Radius\": 1.0563724975703288, \"Texture\": -1.4088812167060216, \"Perimeter\": 0.9313545523571456, \"Area\": 0.9582192596059456, \"Smoothness\": -1.2784497566482762, \"Compactness\": -0.7984999426969116, \"Concavity\": -0.5563148800284559, \"Concave_Points\": -0.1839851149022934, \"Symmetry\": -2.1580672567050483, \"Fractal_Dimension\": -1.4684245190694547}, {\"ID\": 914101, \"Class\": \"Benign\", \"Radius\": -0.4731182290929542, \"Texture\": -1.501882070816676, \"Perimeter\": -0.540723636557433, \"Area\": -0.5046376060650208, \"Smoothness\": -1.6097891723861937, \"Compactness\": -1.2101429026760302, \"Concavity\": -1.023915098897383, \"Concave_Points\": -0.9645979825914156, \"Symmetry\": -0.7245078823675323, \"Fractal_Dimension\": -0.3778290038700281}, {\"ID\": 914102, \"Class\": \"Benign\", \"Radius\": -0.2744830697860345, \"Texture\": 0.2907093921661837, \"Perimeter\": -0.325488273738779, \"Area\": -0.330163224650496, \"Smoothness\": -1.6360972375842695, \"Compactness\": -0.9768659354753524, \"Concavity\": -0.8881019280495713, \"Concave_Points\": -0.9370226848552862, \"Symmetry\": -0.3597345046735075, \"Fractal_Dimension\": -0.5548737303634418}, {\"ID\": 914333, \"Class\": \"Benign\", \"Radius\": 0.2107542479494408, \"Texture\": 0.2139836875248943, \"Perimeter\": 0.1708288344051914, \"Area\": 0.0739126228600154, \"Smoothness\": -0.0348604044473736, \"Compactness\": -0.395566999350286, \"Concavity\": -0.2578946958158912, \"Concave_Points\": 0.0152270827615204, \"Symmetry\": -1.1841223382620032, \"Fractal_Dimension\": -0.7531638240360646}, {\"ID\": 914366, \"Class\": \"Benign\", \"Radius\": -0.4192029715667903, \"Texture\": -0.2603206684394419, \"Perimeter\": -0.3818692387601092, \"Area\": -0.4810523069487251, \"Smoothness\": 0.7991763652105199, \"Compactness\": 0.5502271980258397, \"Concavity\": -0.1082455660279172, \"Concave_Points\": 0.0469257895049214, \"Symmetry\": -0.6223713366132055, \"Fractal_Dimension\": 0.8133279159776586}, {\"ID\": 914580, \"Class\": \"Benign\", \"Radius\": -0.4702805839599982, \"Texture\": -0.4602725047773491, \"Perimeter\": -0.4740541742694368, \"Area\": -0.4966811196161499, \"Smoothness\": -0.503428376488766, \"Compactness\": -0.5309509535292507, \"Concavity\": -0.6611821662839011, \"Concave_Points\": -0.6501880457869491, \"Symmetry\": -1.041860720961333, \"Fractal_Dimension\": -0.3310891960757665}, {\"ID\": 914862, \"Class\": \"Benign\", \"Radius\": 0.2589942152096928, \"Texture\": -0.5927987218850315, \"Perimeter\": 0.2782407458691849, \"Area\": 0.0980662424369448, \"Smoothness\": 0.1756041171372264, \"Compactness\": 0.6070316543247062, \"Concavity\": -0.1453756099652519, \"Concave_Points\": 0.3221633407403069, \"Symmetry\": -0.5238825246358186, \"Fractal_Dimension\": 0.8345732831568679}, {\"ID\": 91505, \"Class\": \"Benign\", \"Radius\": -0.4504170680293067, \"Texture\": -0.6904496187012179, \"Perimeter\": -0.4411309830161055, \"Area\": -0.5074792083681889, \"Smoothness\": 1.3822199723029949, \"Compactness\": 0.0787502107452486, \"Concavity\": -0.3702883423289043, \"Concave_Points\": -0.4156691584983715, \"Symmetry\": 0.4792442640227484, \"Fractal_Dimension\": 0.4705693254864094}, {\"ID\": 915186, \"Class\": \"Benign\", \"Radius\": -1.3788945555325092, \"Texture\": -1.4925819854056108, \"Perimeter\": -1.2543338069733905, \"Area\": -1.154227892569261, \"Smoothness\": 4.766717008595898, \"Compactness\": 2.2638282963749767, \"Concavity\": 0.1066320193256444, \"Concave_Points\": 0.0927987147108191, \"Symmetry\": 2.066008456991755, \"Fractal_Dimension\": 4.56384340201413}, {\"ID\": 915276, \"Class\": \"Benign\", \"Radius\": -1.263118634107904, \"Texture\": -1.4298064088809188, \"Perimeter\": -1.1460988157280632, \"Area\": -1.086597757753859, \"Smoothness\": 2.0719178977660446, \"Compactness\": 2.1975564306929662, \"Concavity\": 0.3763265952218253, \"Concave_Points\": 0.5530742451475216, \"Symmetry\": 0.895085914593936, \"Fractal_Dimension\": 4.667237522286283}, {\"ID\": 91544001, \"Class\": \"Benign\", \"Radius\": -0.5412217122838981, \"Texture\": 0.1744583245278659, \"Perimeter\": -0.5143850835547679, \"Area\": -0.5734043818016902, \"Smoothness\": 0.941382123037953, \"Compactness\": 0.2056134964793836, \"Concavity\": -0.0884261506829886, \"Concave_Points\": -0.7025037975667087, \"Symmetry\": 1.1394840776489328, \"Fractal_Dimension\": 0.8699822284555506}, {\"ID\": 91544002, \"Class\": \"Benign\", \"Radius\": -0.870388547706794, \"Texture\": -0.5044479104799093, \"Perimeter\": -0.8526708736827476, \"Area\": -0.8194871412560525, \"Smoothness\": 1.6381903363923749, \"Compactness\": 0.0522414644724443, \"Concavity\": -0.6042327070016378, \"Concave_Points\": -0.16079093923639, \"Symmetry\": 0.5193693355690907, \"Fractal_Dimension\": 2.402481380982537}, {\"ID\": 915452, \"Class\": \"Benign\", \"Radius\": 0.616537501962149, \"Texture\": -0.8346009425727322, \"Perimeter\": 0.5239300605971702, \"Area\": 0.4686111827700722, \"Smoothness\": -0.1486250107093202, \"Compactness\": -0.7047725898037821, \"Concavity\": -0.4207149560546086, \"Concave_Points\": -0.0847655856648181, \"Symmetry\": -0.3670299722273882, \"Fractal_Dimension\": -0.8820523849232688}, {\"ID\": 91550, \"Class\": \"Benign\", \"Radius\": -0.6774286786657862, \"Texture\": -1.069428099202134, \"Perimeter\": -0.6444316890054267, \"Area\": -0.6504118042175472, \"Smoothness\": -1.092871242683476, \"Compactness\": -0.1463847843859252, \"Concavity\": -0.2701877509032519, \"Concave_Points\": -0.5806055187892394, \"Symmetry\": -1.14034953293872, \"Fractal_Dimension\": 0.6773575660307167}, {\"ID\": 915664, \"Class\": \"Benign\", \"Radius\": 0.1937283771517052, \"Texture\": -1.0671030778493678, \"Perimeter\": 0.1107440103678613, \"Area\": 0.073344302399382, \"Smoothness\": -0.8276575043353128, \"Compactness\": -1.02590711608004, \"Concavity\": -0.6853919584457443, \"Concave_Points\": -0.6058613989587784, \"Symmetry\": -0.5567121286282813, \"Fractal_Dimension\": -1.3197069488149882}, {\"ID\": 915940, \"Class\": \"Benign\", \"Radius\": 0.1284625390937171, \"Texture\": -1.3089052985370684, \"Perimeter\": 0.0955170344131959, \"Area\": 0.0111132119599991, \"Smoothness\": 0.1393416488912313, \"Compactness\": -0.2870704878194511, \"Concavity\": -0.0825305018145605, \"Concave_Points\": -0.1399161811370771, \"Symmetry\": -0.2648934264730615, \"Fractal_Dimension\": -0.9061304677263736}, {\"ID\": 916221, \"Class\": \"Benign\", \"Radius\": -0.7909344839840262, \"Texture\": -0.1580197289177228, \"Perimeter\": -0.7905283501920845, \"Area\": -0.7492995643677991, \"Smoothness\": 0.6071985921434849, \"Compactness\": -0.3664073784502012, \"Concavity\": -0.5742527053089926, \"Concave_Points\": -0.5922026066221909, \"Symmetry\": 0.4208805235917048, \"Fractal_Dimension\": -0.0973901571044599}, {\"ID\": 917062, \"Class\": \"Benign\", \"Radius\": -0.3539371335088023, \"Texture\": -0.2486955616756108, \"Perimeter\": -0.30943821800278, \"Area\": -0.4597402896749639, \"Smoothness\": 1.808837245785294, \"Compactness\": 1.1693957716834835, \"Concavity\": -0.5086479317305262, \"Concave_Points\": 0.1059420809214973, \"Symmetry\": -0.3743254397812689, \"Fractal_Dimension\": 1.3784546829446334}, {\"ID\": 917080, \"Class\": \"Benign\", \"Radius\": -0.3908265202372304, \"Texture\": -0.6020988072960967, \"Perimeter\": -0.3892769567921084, \"Area\": -0.4577511680627462, \"Smoothness\": 1.1475804718877307, \"Compactness\": 0.1393416307973727, \"Concavity\": -0.6271881057872196, \"Concave_Points\": -0.4888596683774441, \"Symmetry\": 1.1248931425411717, \"Fractal_Dimension\": 0.4861492614178296}, {\"ID\": 917092, \"Class\": \"Benign\", \"Radius\": -1.3712329136735275, \"Texture\": -1.253104786070676, \"Perimeter\": -1.3172994102453863, \"Area\": -1.128369311610431, \"Smoothness\": 2.896711293165156, \"Compactness\": 0.3438376734732919, \"Concavity\": -0.6959288628063394, \"Concave_Points\": -0.6367869665133161, \"Symmetry\": 1.4057686433655707, \"Fractal_Dimension\": 2.0059011936372912}, {\"ID\": 91789, \"Class\": \"Benign\", \"Radius\": -0.8136356450476743, \"Texture\": 0.1256328761197722, \"Perimeter\": -0.8506131742294145, \"Area\": -0.7581085315076203, \"Smoothness\": -0.7999273815589633, \"Compactness\": -1.1400840732407618, \"Concavity\": -1.050332623401446, \"Concave_Points\": -1.114741613068696, \"Symmetry\": -0.636962271720966, \"Fractal_Dimension\": 0.0895690740725839}, {\"ID\": 917896, \"Class\": \"Benign\", \"Radius\": -0.1184125874734544, \"Texture\": -0.1417445794483582, \"Perimeter\": -0.1332991447974571, \"Area\": -0.2383794702581647, \"Smoothness\": 0.1990680671787527, \"Compactness\": 0.0503479825958154, \"Concavity\": -0.4384019026598931, \"Concave_Points\": -0.2857817747693132, \"Symmetry\": -0.3560867708965677, \"Fractal_Dimension\": 0.7977479800462365}, {\"ID\": 917897, \"Class\": \"Benign\", \"Radius\": -1.2145949023343563, \"Texture\": -0.8392509852782648, \"Perimeter\": -1.1921912834827273, \"Area\": -1.0277765900782785, \"Smoothness\": -0.1024081394154047, \"Compactness\": -0.3815552334632321, \"Concavity\": -0.8216190791077221, \"Concave_Points\": -0.6380755318280884, \"Symmetry\": -1.548895715956028, \"Fractal_Dimension\": 0.8657331550197084}, {\"ID\": 91805, \"Class\": \"Benign\", \"Radius\": -1.576678421299542, \"Texture\": -1.4391064942919845, \"Perimeter\": -1.540765570877373, \"Area\": -1.2320877956760683, \"Smoothness\": 0.5147648495556538, \"Compactness\": -0.5305722571539251, \"Concavity\": -0.7921408347655814, \"Concave_Points\": -0.871563566864848, \"Symmetry\": -0.4874051868664162, \"Fractal_Dimension\": 1.1985772408273263}, {\"ID\": 91813701, \"Class\": \"Benign\", \"Radius\": -0.1893537157973543, \"Texture\": -0.1254694299789937, \"Perimeter\": -0.1863877906934542, \"Area\": -0.2949273560912109, \"Smoothness\": 0.7920660773191481, \"Compactness\": 0.1791047502065793, \"Concavity\": -0.5869220784092317, \"Concave_Points\": -0.4483987174935906, \"Symmetry\": -0.323257166904105, \"Fractal_Dimension\": 0.0527437709619544}, {\"ID\": 91813702, \"Class\": \"Benign\", \"Radius\": -0.5071699706884264, \"Texture\": -1.632083266571592, \"Perimeter\": -0.5361966977600999, \"Area\": -0.5296437063329006, \"Smoothness\": -0.4501012173034787, \"Compactness\": -0.7814586058072518, \"Concavity\": -0.742843175078512, \"Concave_Points\": -0.5785438142856034, \"Symmetry\": -0.4472801153200739, \"Fractal_Dimension\": -0.6681823553192267}, {\"ID\": 918192, \"Class\": \"Benign\", \"Radius\": -0.0531467494154668, \"Texture\": -1.42283134482262, \"Perimeter\": -0.0682758420721277, \"Area\": -0.1724542968246634, \"Smoothness\": 2.0221458825264427, \"Compactness\": -0.1285860547456138, \"Concavity\": 0.1530445742473126, \"Concave_Points\": 0.4440616195177763, \"Symmetry\": 0.5996194786617765, \"Fractal_Dimension\": 0.2510338646345773}, {\"ID\": 918465, \"Class\": \"Benign\", \"Radius\": -0.5837863892782382, \"Texture\": -1.3600557682979284, \"Perimeter\": -0.5818776256240972, \"Area\": -0.5958530399967187, \"Smoothness\": 0.9698232746034394, \"Compactness\": -0.2698398027421281, \"Concavity\": -0.6396066002122066, \"Concave_Points\": -0.5396291417794767, \"Symmetry\": -0.564007596182162, \"Fractal_Dimension\": 0.4649038942386204}, {\"ID\": 91858, \"Class\": \"Benign\", \"Radius\": -0.6745910335328302, \"Texture\": -0.4021469709581902, \"Perimeter\": -0.6617163644134257, \"Area\": -0.6592207713573686, \"Smoothness\": 0.7778455015364054, \"Compactness\": -0.1365386786274551, \"Concavity\": -0.4513221544353845, \"Concave_Points\": -0.1164642924082193, \"Symmetry\": -0.779223889021636, \"Fractal_Dimension\": 0.562632583262986}, {\"ID\": 91903901, \"Class\": \"Benign\", \"Radius\": -0.6972921945964783, \"Texture\": 0.1698082818223333, \"Perimeter\": -0.6897010769787576, \"Area\": -0.6782595067885951, \"Smoothness\": 0.3725590917282207, \"Compactness\": -0.1857692074198061, \"Concavity\": -0.5870475177468578, \"Concave_Points\": -0.704823215133299, \"Symmetry\": 0.1728346267597682, \"Fractal_Dimension\": 0.2566992958823663}, {\"ID\": 91903902, \"Class\": \"Benign\", \"Radius\": -0.1269255228723227, \"Texture\": -0.688124597348452, \"Perimeter\": -0.1732185141921213, \"Area\": -0.225592259893908, \"Smoothness\": -0.2552793290798951, \"Compactness\": -0.6019565239028338, \"Concavity\": -0.8941230162556257, \"Concave_Points\": -0.7762097335716901, \"Symmetry\": -0.6588486743826081, \"Fractal_Dimension\": -0.1767061945735098}, {\"ID\": 919537, \"Class\": \"Benign\", \"Radius\": -0.8987649990363539, \"Texture\": -0.3881968428415916, \"Perimeter\": -0.8716017086534129, \"Area\": -0.8220445833289037, \"Smoothness\": 0.0362424744663419, \"Compactness\": -0.1291540993086022, \"Concavity\": -0.4537055018502811, \"Concave_Points\": -0.5422062724090215, \"Symmetry\": -0.7026214797058913, \"Fractal_Dimension\": 0.1816323318491586}, {\"ID\": 919812, \"Class\": \"Benign\", \"Radius\": -0.6916169043305664, \"Texture\": 1.1974677197450627, \"Perimeter\": -0.6419624496614267, \"Area\": -0.7061072093596431, \"Smoothness\": 1.9368224278299837, \"Compactness\": 0.963006247130936, \"Concavity\": -0.5475341263946267, \"Concave_Points\": -0.0930124036793615, \"Symmetry\": 1.1650182140875147, \"Fractal_Dimension\": 1.5937410703606252}, {\"ID\": 921092, \"Class\": \"Benign\", \"Radius\": -1.815608141494437, \"Texture\": 1.4415949617855293, \"Perimeter\": -1.810324199264024, \"Area\": -1.3528558935607151, \"Smoothness\": -1.0935822714726129, \"Compactness\": -1.0520371659775187, \"Concavity\": -1.1138927357766064, \"Concave_Points\": -1.260710291926114, \"Symmetry\": 0.2129596983061105, \"Fractal_Dimension\": 1.4237781329269474}, {\"ID\": 921362, \"Class\": \"Benign\", \"Radius\": -1.82639119299967, \"Texture\": 1.4299698550216982, \"Perimeter\": -1.7955087632000244, \"Area\": -1.3767253529073278, \"Smoothness\": -0.6882958616644292, \"Compactness\": 0.2946071446809412, \"Concavity\": 0.046672015940354, \"Concave_Points\": -0.9091896740562022, \"Symmetry\": 0.8221312390551311, \"Fractal_Dimension\": 2.0838008732943925}, {\"ID\": 921385, \"Class\": \"Benign\", \"Radius\": -0.7341815813249064, \"Texture\": -1.127553633021293, \"Perimeter\": -0.7127473108560891, \"Area\": -0.7160528174207317, \"Smoothness\": 0.2474180248400798, \"Compactness\": 0.1450220764272592, \"Concavity\": -0.2688079181893645, \"Concave_Points\": -0.5922026066221909, \"Symmetry\": 0.0232775419052174, \"Fractal_Dimension\": 0.7113501535174527}, {\"ID\": 921386, \"Class\": \"Benign\", \"Radius\": 0.0972484426312013, \"Texture\": 1.3253438941472115, \"Perimeter\": 0.1580710977945253, \"Area\": 0.0042933664323956, \"Smoothness\": -0.5681319963002477, \"Compactness\": 0.3533050828564366, \"Concavity\": 0.1517901808710515, \"Concave_Points\": -0.2582064770331839, \"Symmetry\": 0.2202551658599912, \"Fractal_Dimension\": 0.0867363584486904}, {\"ID\": 921644, \"Class\": \"Benign\", \"Radius\": 0.1738648612210131, \"Texture\": 1.4253198123161657, \"Perimeter\": 0.1123901699305281, \"Area\": 0.0389609145310472, \"Smoothness\": -0.9677301757953344, \"Compactness\": -0.6097197995970124, \"Concavity\": -0.5989642548213403, \"Concave_Points\": -0.4806128503629007, \"Symmetry\": 0.1035276849979031, \"Fractal_Dimension\": -0.8494761552484805}, {\"ID\": 922296, \"Class\": \"Benign\", \"Radius\": -0.2602948441212543, \"Texture\": 2.0391254494464826, \"Perimeter\": -0.2917420027041146, \"Area\": -0.3310157053414466, \"Smoothness\": -0.6861627752970176, \"Compactness\": -0.6735301388394056, \"Concavity\": -0.7392054342873544, \"Concave_Points\": -0.4167000107501895, \"Symmetry\": -0.6697918757134286, \"Fractal_Dimension\": -0.706424016241803}, {\"ID\": 922297, \"Class\": \"Benign\", \"Radius\": -0.0730102653461589, \"Texture\": 0.3279097338104454, \"Perimeter\": -0.0904989961681266, \"Area\": -0.1991653584744443, \"Smoothness\": -0.0412596635496095, \"Compactness\": -0.0481130749888863, \"Concavity\": -0.6512724586114367, \"Concave_Points\": -0.6501880457869491, \"Symmetry\": -0.6989737459289503, \"Fractal_Dimension\": 0.5782125191944043}, {\"ID\": 922576, \"Class\": \"Benign\", \"Radius\": -0.1439513936700588, \"Texture\": 0.9161401360603336, \"Perimeter\": -0.1966762879601202, \"Area\": -0.2321279451911946, \"Smoothness\": -0.2773212215431475, \"Compactness\": -0.6981454032355809, \"Concavity\": -0.740836145676494, \"Concave_Points\": -0.6311172791283175, \"Symmetry\": -0.5384734597435801, \"Fractal_Dimension\": -0.678096860002857}, {\"ID\": 922577, \"Class\": \"Benign\", \"Radius\": -1.0803742875455378, \"Texture\": -0.6834745546429186, \"Perimeter\": -1.097125568738733, \"Area\": -0.9376977970678476, \"Smoothness\": -0.143647809185361, \"Compactness\": -1.030072776208624, \"Concavity\": -0.9869481260989622, \"Concave_Points\": -1.119096963832627, \"Symmetry\": 0.2676757049602142, \"Fractal_Dimension\": -0.1115537352239333}, {\"ID\": 922840, \"Class\": \"Benign\", \"Radius\": -1.097400158343274, \"Texture\": -0.6299990635292931, \"Perimeter\": -1.0749024146427346, \"Area\": -0.9493483665108372, \"Smoothness\": -0.5396908447347613, \"Compactness\": -0.4483951437082317, \"Concavity\": -0.5672281024019292, \"Concave_Points\": -0.6324058444430898, \"Symmetry\": -0.5202347908588788, \"Fractal_Dimension\": 0.6150378223050338}, {\"ID\": 923169, \"Class\": \"Benign\", \"Radius\": -1.261132282514835, \"Texture\": 0.0117068298342212, \"Perimeter\": -1.2724415621627228, \"Area\": -1.0490886073520391, \"Smoothness\": -0.814147957341707, \"Compactness\": -1.02325624145276, \"Concavity\": -0.8207410037443392, \"Concave_Points\": -1.0129191818953809, \"Symmetry\": -0.8448830970065603, \"Fractal_Dimension\": -0.0633975696177249}, {\"ID\": 923465, \"Class\": \"Benign\", \"Radius\": -0.938492030897738, \"Texture\": 1.1439922286314363, \"Perimeter\": -0.9497942878800752, \"Area\": -0.8334109925415764, \"Smoothness\": -1.0267455652937187, \"Compactness\": -0.7256008904466996, \"Concavity\": -0.9197126411313564, \"Concave_Points\": -1.0504164325552576, \"Symmetry\": 0.5996194786617765, \"Fractal_Dimension\": 0.0683237068933727}, {\"ID\": 923748, \"Class\": \"Benign\", \"Radius\": -0.9271414503659142, \"Texture\": 0.5092613993262214, \"Perimeter\": -0.9654328037254074, \"Area\": -0.8365367550750614, \"Smoothness\": -1.5678384738271014, \"Compactness\": -1.175302836146059, \"Concavity\": -1.1138927357766064, \"Concave_Points\": -1.260710291926114, \"Symmetry\": -0.5494166610744006, \"Fractal_Dimension\": -0.4698922616466028}, {\"ID\": 923780, \"Class\": \"Benign\", \"Radius\": -0.850525031776102, \"Texture\": 0.7324634491917916, \"Perimeter\": -0.8427939163067485, \"Area\": -0.7856720738483515, \"Smoothness\": -0.0497920090192542, \"Compactness\": -0.424158575687382, \"Concavity\": -0.5087733710681523, \"Concave_Points\": -0.6790519088378509, \"Symmetry\": 0.7965971026165501, \"Fractal_Dimension\": 0.3855878567695724}, {\"ID\": 924084, \"Class\": \"Benign\", \"Radius\": -0.3851512299713186, \"Texture\": 2.3576533747754733, \"Perimeter\": -0.4370155841094393, \"Area\": -0.4176845755880753, \"Smoothness\": -0.9670191470061972, \"Compactness\": -1.1739773988324187, \"Concavity\": -0.8633903785372237, \"Concave_Points\": -0.8743984105573472, \"Symmetry\": -0.99444018186111, \"Fractal_Dimension\": -0.9103795411622148}, {\"ID\": 924342, \"Class\": \"Benign\", \"Radius\": -1.3604498621682948, \"Texture\": 0.6162123815534739, \"Perimeter\": -1.3563956998587177, \"Area\": -1.1107513773307884, \"Smoothness\": -0.2815873942779708, \"Compactness\": -0.9143810335465992, \"Concavity\": -0.6126371426225885, \"Concave_Points\": -0.9303221452184696, \"Symmetry\": -0.4363369139892533, \"Fractal_Dimension\": 0.4195804442563065}, {\"ID\": 924632, \"Class\": \"Benign\", \"Radius\": -0.3539371335088023, \"Texture\": 2.23907728578439, \"Perimeter\": -0.3896884966827753, \"Area\": -0.3994983208477992, \"Smoothness\": -1.0758065517441835, \"Compactness\": -0.8729137804484267, \"Concavity\": -0.3367960391827273, \"Concave_Points\": -0.6568885854237656, \"Symmetry\": -0.8959513698837241, \"Fractal_Dimension\": -0.8098181365139566}, {\"ID\": 924934, \"Class\": \"Benign\", \"Radius\": -1.0888872229444062, \"Texture\": 1.9344994885719968, \"Perimeter\": -1.0823101326747335, \"Area\": -0.9476434051289364, \"Smoothness\": -0.4309034399967748, \"Compactness\": -0.5256492042746901, \"Concavity\": -0.3613821493574489, \"Concave_Points\": -0.5550919255567456, \"Symmetry\": -0.7974625579063372, \"Fractal_Dimension\": -0.2163642133080338}, {\"ID\": 924964, \"Class\": \"Benign\", \"Radius\": -1.125776609672834, \"Texture\": 0.0698323636533801, \"Perimeter\": -1.120994882397398, \"Area\": -0.9752069474696674, \"Smoothness\": 0.2801253491403896, \"Compactness\": -0.5548088251747748, \"Concavity\": -1.050859468619476, \"Concave_Points\": -0.9731025136689134, \"Symmetry\": -0.0752112700721684, \"Fractal_Dimension\": 0.0725727803292169}, {\"ID\": 925236, \"Class\": \"Benign\", \"Radius\": -1.334911055971691, \"Texture\": 1.9972750650966884, \"Perimeter\": -1.3461072025920515, \"Area\": -1.0900076805176608, \"Smoothness\": -1.0758065517441835, \"Compactness\": -1.0344277845248702, \"Concavity\": -1.1138927357766064, \"Concave_Points\": -1.260710291926114, \"Symmetry\": -0.2539502251422409, \"Fractal_Dimension\": -0.3126765445204517}, {\"ID\": 925277, \"Class\": \"Benign\", \"Radius\": 0.131300184226673, \"Texture\": 0.7882639616581838, \"Perimeter\": 0.1819404114531905, \"Area\": 0.0062824880446135, \"Smoothness\": -0.826946475546176, \"Compactness\": 0.5426532705193245, \"Concavity\": 0.1768780483962776, \"Concave_Points\": -0.2978942887281737, \"Symmetry\": -1.3044975529010312, \"Fractal_Dimension\": -0.1880370570690878}, {\"ID\": 925291, \"Class\": \"Benign\", \"Radius\": -0.7426945167237743, \"Texture\": 1.0788916307539782, \"Perimeter\": -0.7180973294347558, \"Area\": -0.7143478560388307, \"Smoothness\": -0.2666557897060902, \"Compactness\": -0.0424326293589997, \"Concavity\": 0.2809926986259659, \"Concave_Points\": -0.2027981684979703, \"Symmetry\": -1.545247982179087, \"Fractal_Dimension\": 0.411082297384622}, {\"ID\": 925292, \"Class\": \"Benign\", \"Radius\": -0.0219326529529505, \"Texture\": 1.8275485063447443, \"Perimeter\": -0.0242410737707973, \"Area\": -0.154836362545021, \"Smoothness\": 0.2083114414375362, \"Compactness\": 0.1563829676870329, \"Concavity\": -0.5541824112888116, \"Concave_Points\": -0.1515132689700289, \"Symmetry\": -1.0017356494149907, \"Fractal_Dimension\": -0.1540444695823528}, {\"ID\": 925311, \"Class\": \"Benign\", \"Radius\": -0.8306615158454104, \"Texture\": 2.343703246658876, \"Perimeter\": -0.8765401873414128, \"Area\": -0.7640758963442734, \"Smoothness\": -1.5550399556226324, \"Compactness\": -1.301976773692531, \"Concavity\": -1.1138927357766064, \"Concave_Points\": -1.260710291926114, \"Symmetry\": -2.741704661015488, \"Fractal_Dimension\": -1.101587845775101}, {\"ID\": 92751, \"Class\": \"Benign\", \"Radius\": -1.8068114415822731, \"Texture\": 1.2207179332727258, \"Perimeter\": -1.812793438608024, \"Area\": -1.3466043684937452, \"Smoothness\": -3.109348888676475, \"Compactness\": -1.149740830811569, \"Concavity\": -1.1138927357766064, \"Concave_Points\": -1.260710291926114, \"Symmetry\": -0.8193489605679783, \"Fractal_Dimension\": -0.5605391616112307}, {\"ID\": 842302, \"Class\": \"Malignant\", \"Radius\": 1.096099529431712, \"Texture\": -2.071512302244433, \"Perimeter\": 1.268817262703792, \"Area\": 0.983509520104142, \"Smoothness\": 1.5670874574786582, \"Compactness\": 3.2806280641246857, \"Concavity\": 2.650541786383573, \"Concave_Points\": 2.530248864134298, \"Symmetry\": 2.215565541846305, \"Fractal_Dimension\": 2.25376381072807}, {\"ID\": 842517, \"Class\": \"Malignant\", \"Radius\": 1.82821197373436, \"Texture\": -0.3533215225500966, \"Perimeter\": 1.684472552277101, \"Area\": 1.9070302686337923, \"Smoothness\": -0.826235446757039, \"Compactness\": -0.486643477616135, \"Concavity\": -0.0238248918055313, \"Concave_Points\": 0.5476622708254778, \"Symmetry\": 0.0013911392435763, \"Fractal_Dimension\": -0.8678888068037953}, {\"ID\": 84300903, \"Class\": \"Malignant\", \"Radius\": 1.5784992020342323, \"Texture\": 0.455785908212595, \"Perimeter\": 1.5651259839837746, \"Area\": 1.557513185344109, \"Smoothness\": 0.941382123037953, \"Compactness\": 1.051999895332493, \"Concavity\": 1.362279788963212, \"Concave_Points\": 2.0354397832616957, \"Symmetry\": 0.9388587199172193, \"Fractal_Dimension\": -0.3976580132372906}]}}, {\"mode\": \"vega-lite\"});\n",
       "</script>"
      ],
      "text/plain": [
       "alt.Chart(...)"
      ]
     },
     "execution_count": 48,
     "metadata": {},
     "output_type": "execute_result"
    }
   ],
   "source": [
    "cancer = pd.read_csv(\"data/wdbc.csv\")\n",
    "rare_cancer = pd.concat(\n",
    "    (cancer.query(\"Class == 'B'\"), cancer.query(\"Class == 'M'\").head(3))\n",
    ")\n",
    "colors = [\"#86bfef\", \"#efb13f\"]\n",
    "rare_cancer[\"Class\"] = rare_cancer[\"Class\"].apply(\n",
    "    lambda x: \"Malignant\" if (x == \"M\") else \"Benign\"\n",
    ")\n",
    "rare_plot = (\n",
    "    alt.Chart(\n",
    "        rare_cancer\n",
    "    )\n",
    "    .mark_point(opacity=0.6, filled=True, size=40)\n",
    "    .encode(\n",
    "        x=alt.X(\"Perimeter\", title=\"Perimeter (standardized)\"),\n",
    "        y=alt.Y(\"Concavity\", title=\"Concavity (standardized)\"),\n",
    "        color=alt.Color(\"Class\", scale=alt.Scale(range=colors), title=\"Diagnosis\"),\n",
    "    )\n",
    ")\n",
    "rare_plot"
   ]
  },
  {
   "cell_type": "markdown",
   "id": "b9afdd75",
   "metadata": {},
   "source": [
    "```{figure} data:image/gif;base64,R0lGODlhAQABAIAAAAAAAP///yH5BAEAAAAALAAAAAABAAEAAAIBRAA7\n",
    ":name: fig:05-unbalanced\n",
    ":figclass: caption-hack\n",
    "\n",
    "Imbalanced data.\n",
    "```"
   ]
  },
  {
   "cell_type": "markdown",
   "id": "26b8778f",
   "metadata": {},
   "source": [
    "Suppose we now decided to use $K = 7$ in $K$-nearest neighbor classification.\n",
    "With only 3 observations of malignant tumors, the classifier \n",
    "will *always predict that the tumor is benign, no matter what its concavity and perimeter\n",
    "are!* This is because in a majority vote of 7 observations, at most 3 will be\n",
    "malignant (we only have 3 total malignant observations), so at least 4 must be\n",
    "benign, and the benign vote will always win. For example, {numref}`fig:05-upsample`\n",
    "shows what happens for a new tumor observation that is quite close to three observations\n",
    "in the training data that were tagged as malignant."
   ]
  },
  {
   "cell_type": "code",
   "execution_count": 49,
   "id": "3d13e3bf",
   "metadata": {
    "tags": [
     "remove-cell"
    ]
   },
   "outputs": [
    {
     "ename": "NameError",
     "evalue": "name 'euclidean_distances' is not defined",
     "output_type": "error",
     "traceback": [
      "\u001b[0;31m---------------------------------------------------------------------------\u001b[0m",
      "\u001b[0;31mNameError\u001b[0m                                 Traceback (most recent call last)",
      "Input \u001b[0;32mIn [49]\u001b[0m, in \u001b[0;36m<cell line: 8>\u001b[0;34m()\u001b[0m\n\u001b[1;32m      6\u001b[0m rare_cancer[\u001b[38;5;124m\"\u001b[39m\u001b[38;5;124mClass\u001b[39m\u001b[38;5;124m\"\u001b[39m] \u001b[38;5;241m=\u001b[39m rare_cancer[\u001b[38;5;124m\"\u001b[39m\u001b[38;5;124mClass\u001b[39m\u001b[38;5;124m\"\u001b[39m]\u001b[38;5;241m.\u001b[39mapply(class_dscp)\n\u001b[1;32m      7\u001b[0m rare_cancer_with_new_df \u001b[38;5;241m=\u001b[39m pd\u001b[38;5;241m.\u001b[39mconcat((rare_cancer, new_point_df), ignore_index\u001b[38;5;241m=\u001b[39m\u001b[38;5;28;01mTrue\u001b[39;00m)\n\u001b[0;32m----> 8\u001b[0m my_distances \u001b[38;5;241m=\u001b[39m \u001b[43meuclidean_distances\u001b[49m(rare_cancer_with_new_df\u001b[38;5;241m.\u001b[39mloc[:, attrs])[\n\u001b[1;32m      9\u001b[0m     \u001b[38;5;28mlen\u001b[39m(rare_cancer)\n\u001b[1;32m     10\u001b[0m ][:\u001b[38;5;241m-\u001b[39m\u001b[38;5;241m1\u001b[39m]\n\u001b[1;32m     12\u001b[0m \u001b[38;5;66;03m# First layer: scatter plot, with unknwon point labeled as red \"unknown\" diamond\u001b[39;00m\n\u001b[1;32m     13\u001b[0m rare_plot \u001b[38;5;241m=\u001b[39m (\n\u001b[1;32m     14\u001b[0m     alt\u001b[38;5;241m.\u001b[39mChart(\n\u001b[1;32m     15\u001b[0m         rare_cancer_with_new_df\n\u001b[0;32m   (...)\u001b[0m\n\u001b[1;32m     30\u001b[0m     )\n\u001b[1;32m     31\u001b[0m )\n",
      "\u001b[0;31mNameError\u001b[0m: name 'euclidean_distances' is not defined"
     ]
    }
   ],
   "source": [
    "attrs = [\"Perimeter\", \"Concavity\"]\n",
    "new_point = [2, 2]\n",
    "new_point_df = pd.DataFrame(\n",
    "    {\"Class\": [\"Unknwon\"], \"Perimeter\": new_point[0], \"Concavity\": new_point[1]}\n",
    ")\n",
    "rare_cancer[\"Class\"] = rare_cancer[\"Class\"].apply(class_dscp)\n",
    "rare_cancer_with_new_df = pd.concat((rare_cancer, new_point_df), ignore_index=True)\n",
    "my_distances = euclidean_distances(rare_cancer_with_new_df.loc[:, attrs])[\n",
    "    len(rare_cancer)\n",
    "][:-1]\n",
    "\n",
    "# First layer: scatter plot, with unknwon point labeled as red \"unknown\" diamond\n",
    "rare_plot = (\n",
    "    alt.Chart(\n",
    "        rare_cancer_with_new_df\n",
    "    )\n",
    "    .mark_point(opacity=0.6, filled=True, size=40)\n",
    "    .encode(\n",
    "        x=alt.X(\"Perimeter\", title=\"Perimeter (standardized)\"),\n",
    "        y=alt.Y(\"Concavity\", title=\"Concavity (standardized)\"),\n",
    "        color=alt.Color(\n",
    "            \"Class\",\n",
    "            scale=alt.Scale(range=[\"#86bfef\", \"#efb13f\", \"red\"]),\n",
    "            title=\"Diagnosis\",\n",
    "        ),\n",
    "        shape=alt.Shape(\n",
    "            \"Class\", scale=alt.Scale(range=[\"circle\", \"circle\", \"diamond\"])\n",
    "        ),\n",
    "        size=alt.condition(\"datum.Class == 'Unknown'\", alt.value(80), alt.value(30))\n",
    "    )\n",
    ")\n",
    "\n",
    "# Find the 7 NNs\n",
    "min_7_idx = np.argpartition(my_distances, 7)[:7]\n",
    "\n",
    "# For loop: each iteration adds a line segment of corresponding color\n",
    "for i in range(7):\n",
    "    clr = \"#86bfef\"\n",
    "    if rare_cancer.iloc[min_7_idx[i], :][\"Class\"] == \"Malignant\":\n",
    "        clr = \"#efb13f\"\n",
    "    neighbor = pd.concat(\n",
    "        (\n",
    "            rare_cancer.iloc[min_7_idx[i], :][attrs],\n",
    "            new_point_df[attrs].T,\n",
    "        ),\n",
    "        axis=1,\n",
    "    ).T\n",
    "    rare_plot = rare_plot + (\n",
    "        alt.Chart(neighbor)\n",
    "        .mark_line(opacity=0.3)\n",
    "        .encode(x=\"Perimeter\", y=\"Concavity\", color=alt.value(clr))\n",
    "    )\n",
    "\n",
    "glue('fig:05-upsample', rare_plot)"
   ]
  },
  {
   "cell_type": "markdown",
   "id": "de0583f7",
   "metadata": {},
   "source": [
    ":::{glue:figure} fig:05-upsample\n",
    ":name: fig:05-upsample\n",
    "\n",
    "Imbalanced data with 7 nearest neighbors to a new observation highlighted.\n",
    ":::"
   ]
  },
  {
   "cell_type": "markdown",
   "id": "5325e225",
   "metadata": {},
   "source": [
    "{numref}`fig:05-upsample-2` shows what happens if we set the background color of \n",
    "each area of the plot to the predictions the $K$-nearest neighbor \n",
    "classifier would make. We can see that the decision is \n",
    "always \"benign,\" corresponding to the blue color."
   ]
  },
  {
   "cell_type": "code",
   "execution_count": 50,
   "id": "1ee38b55",
   "metadata": {
    "tags": [
     "remove-cell"
    ]
   },
   "outputs": [
    {
     "ename": "NameError",
     "evalue": "name 'np' is not defined",
     "output_type": "error",
     "traceback": [
      "\u001b[0;31m---------------------------------------------------------------------------\u001b[0m",
      "\u001b[0;31mNameError\u001b[0m                                 Traceback (most recent call last)",
      "Input \u001b[0;32mIn [50]\u001b[0m, in \u001b[0;36m<cell line: 5>\u001b[0;34m()\u001b[0m\n\u001b[1;32m      2\u001b[0m knn_spec\u001b[38;5;241m.\u001b[39mfit(X\u001b[38;5;241m=\u001b[39mrare_cancer\u001b[38;5;241m.\u001b[39mloc[:, [\u001b[38;5;124m\"\u001b[39m\u001b[38;5;124mPerimeter\u001b[39m\u001b[38;5;124m\"\u001b[39m, \u001b[38;5;124m\"\u001b[39m\u001b[38;5;124mConcavity\u001b[39m\u001b[38;5;124m\"\u001b[39m]], y\u001b[38;5;241m=\u001b[39mrare_cancer[\u001b[38;5;124m\"\u001b[39m\u001b[38;5;124mClass\u001b[39m\u001b[38;5;124m\"\u001b[39m])\n\u001b[1;32m      4\u001b[0m \u001b[38;5;66;03m# create a prediction pt grid\u001b[39;00m\n\u001b[0;32m----> 5\u001b[0m per_grid \u001b[38;5;241m=\u001b[39m \u001b[43mnp\u001b[49m\u001b[38;5;241m.\u001b[39mlinspace(\n\u001b[1;32m      6\u001b[0m     rare_cancer[\u001b[38;5;124m\"\u001b[39m\u001b[38;5;124mPerimeter\u001b[39m\u001b[38;5;124m\"\u001b[39m]\u001b[38;5;241m.\u001b[39mmin(), rare_cancer[\u001b[38;5;124m\"\u001b[39m\u001b[38;5;124mPerimeter\u001b[39m\u001b[38;5;124m\"\u001b[39m]\u001b[38;5;241m.\u001b[39mmax(), \u001b[38;5;241m100\u001b[39m\n\u001b[1;32m      7\u001b[0m )\n\u001b[1;32m      8\u001b[0m con_grid \u001b[38;5;241m=\u001b[39m np\u001b[38;5;241m.\u001b[39mlinspace(\n\u001b[1;32m      9\u001b[0m     rare_cancer[\u001b[38;5;124m\"\u001b[39m\u001b[38;5;124mConcavity\u001b[39m\u001b[38;5;124m\"\u001b[39m]\u001b[38;5;241m.\u001b[39mmin(), rare_cancer[\u001b[38;5;124m\"\u001b[39m\u001b[38;5;124mConcavity\u001b[39m\u001b[38;5;124m\"\u001b[39m]\u001b[38;5;241m.\u001b[39mmax(), \u001b[38;5;241m100\u001b[39m\n\u001b[1;32m     10\u001b[0m )\n\u001b[1;32m     11\u001b[0m pcgrid \u001b[38;5;241m=\u001b[39m np\u001b[38;5;241m.\u001b[39marray(np\u001b[38;5;241m.\u001b[39mmeshgrid(per_grid, con_grid))\u001b[38;5;241m.\u001b[39mreshape(\u001b[38;5;241m2\u001b[39m, \u001b[38;5;241m-\u001b[39m\u001b[38;5;241m1\u001b[39m)\u001b[38;5;241m.\u001b[39mT\n",
      "\u001b[0;31mNameError\u001b[0m: name 'np' is not defined"
     ]
    }
   ],
   "source": [
    "knn_spec = KNeighborsClassifier(n_neighbors=7)\n",
    "knn_spec.fit(X=rare_cancer.loc[:, [\"Perimeter\", \"Concavity\"]], y=rare_cancer[\"Class\"])\n",
    "\n",
    "# create a prediction pt grid\n",
    "per_grid = np.linspace(\n",
    "    rare_cancer[\"Perimeter\"].min(), rare_cancer[\"Perimeter\"].max(), 100\n",
    ")\n",
    "con_grid = np.linspace(\n",
    "    rare_cancer[\"Concavity\"].min(), rare_cancer[\"Concavity\"].max(), 100\n",
    ")\n",
    "pcgrid = np.array(np.meshgrid(per_grid, con_grid)).reshape(2, -1).T\n",
    "pcgrid = pd.DataFrame(pcgrid, columns=[\"Perimeter\", \"Concavity\"])\n",
    "knnPredGrid = knn_spec.predict(pcgrid)\n",
    "prediction_table = pcgrid.copy()\n",
    "prediction_table[\"Class\"] = knnPredGrid\n",
    "\n",
    "# create the scatter plot\n",
    "rare_plot = (\n",
    "    alt.Chart(\n",
    "        rare_cancer,\n",
    "    )\n",
    "    .mark_point(opacity=0.6, filled=True, size=40)\n",
    "    .encode(\n",
    "        x=alt.X(\"Perimeter\", title=\"Perimeter (standardized)\"),\n",
    "        y=alt.Y(\"Concavity\", title=\"Concavity (standardized)\"),\n",
    "        color=alt.Color(\"Class\", scale=alt.Scale(range=colors), title=\"Diagnosis\"),\n",
    "    )\n",
    ")\n",
    "\n",
    "# add a prediction layer, also scatter plot\n",
    "prediction_plot = (\n",
    "    alt.Chart(\n",
    "        prediction_table,\n",
    "        title=\"Imbalanced data\",\n",
    "    )\n",
    "    .mark_point(opacity=0.02, filled=True, size=200)\n",
    "    .encode(\n",
    "        x=alt.X(\n",
    "            \"Perimeter\",\n",
    "            title=\"Perimeter (standardized)\",\n",
    "            scale=alt.Scale(\n",
    "                domain=(rare_cancer[\"Perimeter\"].min(), rare_cancer[\"Perimeter\"].max())\n",
    "            ),\n",
    "        ),\n",
    "        y=alt.Y(\n",
    "            \"Concavity\",\n",
    "            title=\"Concavity (standardized)\",\n",
    "            scale=alt.Scale(\n",
    "                domain=(rare_cancer[\"Concavity\"].min(), rare_cancer[\"Concavity\"].max())\n",
    "            ),\n",
    "        ),\n",
    "        color=alt.Color(\"Class\", scale=alt.Scale(range=colors), title=\"Diagnosis\"),\n",
    "    )\n",
    ")\n",
    "rare_plot + prediction_plot\n",
    "glue(\"fig:05-upsample-2\", (rare_plot + prediction_plot))"
   ]
  },
  {
   "cell_type": "markdown",
   "id": "fe496402",
   "metadata": {},
   "source": [
    ":::{glue:figure} fig:05-upsample-2\n",
    ":name: fig:05-upsample-2\n",
    "\n",
    "Imbalanced data with background color indicating the decision of the classifier and the points represent the labeled data.\n",
    ":::"
   ]
  },
  {
   "cell_type": "markdown",
   "id": "ba74006e",
   "metadata": {},
   "source": [
    "Despite the simplicity of the problem, solving it in a statistically sound manner is actually\n",
    "fairly nuanced, and a careful treatment would require a lot more detail and mathematics than we will cover in this textbook.\n",
    "For the present purposes, it will suffice to rebalance the data by *oversampling* the rare class. \\index{oversampling}\n",
    "In other words, we will replicate rare observations multiple times in our data set to give them more\n",
    "voting power in the $K$-nearest neighbor algorithm. In order to do this, we will need an oversampling\n",
    "step with the `resample` function from the `sklearn` Python package. \\index{recipe!step\\_upsample}\n",
    "We show below how to do this, and also\n",
    "use the `.groupby()` and `.count()` methods to see that our classes are now balanced:"
   ]
  },
  {
   "cell_type": "code",
   "execution_count": 51,
   "id": "1f77b124",
   "metadata": {
    "tags": [
     "remove-cell"
    ]
   },
   "outputs": [],
   "source": [
    "# Despite the simplicity of the problem, solving it in a statistically sound manner is actually\n",
    "# fairly nuanced, and a careful treatment would require a lot more detail and mathematics than we will cover in this textbook.\n",
    "# For the present purposes, it will suffice to rebalance the data by *oversampling* the rare class. \\index{oversampling}\n",
    "# In other words, we will replicate rare observations multiple times in our data set to give them more\n",
    "# voting power in the $K$-nearest neighbor algorithm. In order to do this, we will add an oversampling\n",
    "# step to the earlier `uc_recipe` recipe with the `step_upsample` function from the `themis` R package. \\index{recipe!step\\_upsample}\n",
    "# We show below how to do this, and also\n",
    "# use the `group_by` and `summarize` functions to see that our classes are now balanced:"
   ]
  },
  {
   "cell_type": "code",
   "execution_count": 52,
   "id": "e3955d6b",
   "metadata": {},
   "outputs": [
    {
     "data": {
      "text/plain": [
       "Benign       357\n",
       "Malignant      3\n",
       "Name: Class, dtype: int64"
      ]
     },
     "execution_count": 52,
     "metadata": {},
     "output_type": "execute_result"
    }
   ],
   "source": [
    "rare_cancer['Class'].value_counts()"
   ]
  },
  {
   "cell_type": "code",
   "execution_count": 53,
   "id": "89f133ab",
   "metadata": {},
   "outputs": [
    {
     "data": {
      "text/plain": [
       "Class\n",
       "Benign       357\n",
       "Malignant    357\n",
       "Name: Class, dtype: int64"
      ]
     },
     "execution_count": 53,
     "metadata": {},
     "output_type": "execute_result"
    }
   ],
   "source": [
    "from sklearn.utils import resample\n",
    "\n",
    "malignant_cancer = rare_cancer[rare_cancer[\"Class\"] == \"Malignant\"]\n",
    "benign_cancer = rare_cancer[rare_cancer[\"Class\"] == \"Benign\"]\n",
    "malignant_cancer_upsample = resample(\n",
    "    malignant_cancer, n_samples=len(benign_cancer), random_state=100\n",
    ")\n",
    "upsampled_cancer = pd.concat((malignant_cancer_upsample, benign_cancer))\n",
    "upsampled_cancer.groupby(by='Class')['Class'].count()"
   ]
  },
  {
   "cell_type": "markdown",
   "id": "dee738b8",
   "metadata": {},
   "source": [
    "Now suppose we train our $K$-nearest neighbor classifier with $K=7$ on this *balanced* data. \n",
    "{numref}`fig:05-upsample-plot` shows what happens now when we set the background color \n",
    "of each area of our scatter plot to the decision the $K$-nearest neighbor \n",
    "classifier would make. We can see that the decision is more reasonable; when the points are close\n",
    "to those labeled malignant, the classifier predicts a malignant tumor, and vice versa when they are \n",
    "closer to the benign tumor observations."
   ]
  },
  {
   "cell_type": "code",
   "execution_count": 54,
   "id": "32e042ad",
   "metadata": {
    "tags": [
     "remove-cell"
    ]
   },
   "outputs": [
    {
     "ename": "NameError",
     "evalue": "name 'pcgrid' is not defined",
     "output_type": "error",
     "traceback": [
      "\u001b[0;31m---------------------------------------------------------------------------\u001b[0m",
      "\u001b[0;31mNameError\u001b[0m                                 Traceback (most recent call last)",
      "Input \u001b[0;32mIn [54]\u001b[0m, in \u001b[0;36m<cell line: 7>\u001b[0;34m()\u001b[0m\n\u001b[1;32m      2\u001b[0m knn_spec\u001b[38;5;241m.\u001b[39mfit(\n\u001b[1;32m      3\u001b[0m     X\u001b[38;5;241m=\u001b[39mupsampled_cancer\u001b[38;5;241m.\u001b[39mloc[:, [\u001b[38;5;124m\"\u001b[39m\u001b[38;5;124mPerimeter\u001b[39m\u001b[38;5;124m\"\u001b[39m, \u001b[38;5;124m\"\u001b[39m\u001b[38;5;124mConcavity\u001b[39m\u001b[38;5;124m\"\u001b[39m]], y\u001b[38;5;241m=\u001b[39mupsampled_cancer[\u001b[38;5;124m\"\u001b[39m\u001b[38;5;124mClass\u001b[39m\u001b[38;5;124m\"\u001b[39m]\n\u001b[1;32m      4\u001b[0m )\n\u001b[1;32m      6\u001b[0m \u001b[38;5;66;03m# create a prediction pt grid\u001b[39;00m\n\u001b[0;32m----> 7\u001b[0m knnPredGrid \u001b[38;5;241m=\u001b[39m knn_spec\u001b[38;5;241m.\u001b[39mpredict(\u001b[43mpcgrid\u001b[49m)\n\u001b[1;32m      8\u001b[0m prediction_table \u001b[38;5;241m=\u001b[39m pcgrid\n\u001b[1;32m      9\u001b[0m prediction_table[\u001b[38;5;124m\"\u001b[39m\u001b[38;5;124mClass\u001b[39m\u001b[38;5;124m\"\u001b[39m] \u001b[38;5;241m=\u001b[39m knnPredGrid\n",
      "\u001b[0;31mNameError\u001b[0m: name 'pcgrid' is not defined"
     ]
    }
   ],
   "source": [
    "knn_spec = KNeighborsClassifier(n_neighbors=7)\n",
    "knn_spec.fit(\n",
    "    X=upsampled_cancer.loc[:, [\"Perimeter\", \"Concavity\"]], y=upsampled_cancer[\"Class\"]\n",
    ")\n",
    "\n",
    "# create a prediction pt grid\n",
    "knnPredGrid = knn_spec.predict(pcgrid)\n",
    "prediction_table = pcgrid\n",
    "prediction_table[\"Class\"] = knnPredGrid\n",
    "\n",
    "# create the scatter plot\n",
    "rare_plot = (\n",
    "    alt.Chart(rare_cancer)\n",
    "    .mark_point(opacity=0.6, filled=True, size=40)\n",
    "    .encode(\n",
    "        x=alt.X(\n",
    "            \"Perimeter\",\n",
    "            title=\"Perimeter (standardized)\",\n",
    "            scale=alt.Scale(\n",
    "                domain=(rare_cancer[\"Perimeter\"].min(), rare_cancer[\"Perimeter\"].max())\n",
    "            ),\n",
    "        ),\n",
    "        y=alt.Y(\n",
    "            \"Concavity\",\n",
    "            title=\"Concavity (standardized)\",\n",
    "            scale=alt.Scale(\n",
    "                domain=(rare_cancer[\"Concavity\"].min(), rare_cancer[\"Concavity\"].max())\n",
    "            ),\n",
    "        ),\n",
    "        color=alt.Color(\"Class\", scale=alt.Scale(range=colors), title=\"Diagnosis\"),\n",
    "    )\n",
    ")\n",
    "\n",
    "# add a prediction layer, also scatter plot\n",
    "upsampled_plot = (\n",
    "    alt.Chart(prediction_table)\n",
    "    .mark_point(opacity=0.02, filled=True, size=200)\n",
    "    .encode(\n",
    "        x=alt.X(\"Perimeter\", title=\"Perimeter (standardized)\"),\n",
    "        y=alt.Y(\"Concavity\", title=\"Concavity (standardized)\"),\n",
    "        color=alt.Color(\"Class\", scale=alt.Scale(range=colors), title=\"Diagnosis\"),\n",
    "    )\n",
    ")\n",
    "rare_plot + upsampled_plot\n",
    "glue(\"fig:05-upsample-plot\", (rare_plot + upsampled_plot))"
   ]
  },
  {
   "cell_type": "markdown",
   "id": "0483eec7",
   "metadata": {},
   "source": [
    ":::{glue:figure} fig:05-upsample-plot\n",
    ":name: fig:05-upsample-plot\n",
    "\n",
    "Upsampled data with background color indicating the decision of the classifier.\n",
    ":::"
   ]
  },
  {
   "cell_type": "markdown",
   "id": "4b446d38",
   "metadata": {},
   "source": [
    "(08:puttingittogetherworkflow)=\n",
    "## Putting it together in a `pipeline`\n",
    "\n",
    "The `scikit-learn` package collection also provides the `pipeline`, a way to chain together multiple data analysis steps without a lot of otherwise necessary code for intermediate steps.\n",
    "To illustrate the whole pipeline, let's start from scratch with the `unscaled_wdbc.csv` data.\n",
    "First we will load the data, create a model, and specify a preprocessor for how the data should be preprocessed:"
   ]
  },
  {
   "cell_type": "code",
   "execution_count": 55,
   "id": "a7881bb7",
   "metadata": {
    "tags": [
     "remove-cell"
    ]
   },
   "outputs": [],
   "source": [
    "# The `tidymodels` package collection also provides the `workflow`, \n",
    "# a way to chain\\index{tidymodels!workflow}\\index{workflow|see{tidymodels}} \n",
    "# together multiple data analysis steps without a lot of otherwise necessary code \n",
    "# for intermediate steps.\n",
    "# To illustrate the whole pipeline, let's start from scratch with the `unscaled_wdbc.csv` data.\n",
    "# First we will load the data, create a model, \n",
    "# and specify a recipe for how the data should be preprocessed:"
   ]
  },
  {
   "cell_type": "code",
   "execution_count": 56,
   "id": "f5c9d4ef",
   "metadata": {},
   "outputs": [
    {
     "ename": "NameError",
     "evalue": "name 'make_column_transformer' is not defined",
     "output_type": "error",
     "traceback": [
      "\u001b[0;31m---------------------------------------------------------------------------\u001b[0m",
      "\u001b[0;31mNameError\u001b[0m                                 Traceback (most recent call last)",
      "Input \u001b[0;32mIn [56]\u001b[0m, in \u001b[0;36m<cell line: 8>\u001b[0;34m()\u001b[0m\n\u001b[1;32m      5\u001b[0m knn_spec \u001b[38;5;241m=\u001b[39m KNeighborsClassifier(n_neighbors\u001b[38;5;241m=\u001b[39m\u001b[38;5;241m7\u001b[39m)\n\u001b[1;32m      7\u001b[0m \u001b[38;5;66;03m# create the centering / scaling preprocessor\u001b[39;00m\n\u001b[0;32m----> 8\u001b[0m preprocessor \u001b[38;5;241m=\u001b[39m \u001b[43mmake_column_transformer\u001b[49m(\n\u001b[1;32m      9\u001b[0m     (StandardScaler(), [\u001b[38;5;124m\"\u001b[39m\u001b[38;5;124mArea\u001b[39m\u001b[38;5;124m\"\u001b[39m, \u001b[38;5;124m\"\u001b[39m\u001b[38;5;124mSmoothness\u001b[39m\u001b[38;5;124m\"\u001b[39m]),\n\u001b[1;32m     10\u001b[0m )\n",
      "\u001b[0;31mNameError\u001b[0m: name 'make_column_transformer' is not defined"
     ]
    }
   ],
   "source": [
    "# load the unscaled cancer data\n",
    "unscaled_cancer = pd.read_csv(\"data/unscaled_wdbc.csv\")\n",
    "\n",
    "# create the KNN model\n",
    "knn_spec = KNeighborsClassifier(n_neighbors=7)\n",
    "\n",
    "# create the centering / scaling preprocessor\n",
    "preprocessor = make_column_transformer(\n",
    "    (StandardScaler(), [\"Area\", \"Smoothness\"]),\n",
    ")"
   ]
  },
  {
   "cell_type": "markdown",
   "id": "98f5ddcf",
   "metadata": {},
   "source": [
    "You will also notice that we did not call `.fit()` on the preprocessor; this is unnecessary when it is\n",
    "placed in a `Pipeline`.\n",
    "\n",
    "We will now place these steps in a `Pipeline` using the `make_pipeline` function, \n",
    "and finally we will call `.fit()` to run the whole `Pipeline` on the `unscaled_cancer` data."
   ]
  },
  {
   "cell_type": "code",
   "execution_count": 57,
   "id": "fd9436bc",
   "metadata": {
    "tags": [
     "remove-cell"
    ]
   },
   "outputs": [],
   "source": [
    "# Note that each of these steps is exactly the same as earlier, except for one major difference:\n",
    "# we did not use the `select` function to extract the relevant variables from the data frame,\n",
    "# and instead simply specified the relevant variables to use via the \n",
    "# formula `Class ~ Area + Smoothness` (instead of `Class ~ .`) in the recipe.\n",
    "# You will also notice that we did not call `prep()` on the recipe; this is unnecessary when it is\n",
    "# placed in a workflow.\n",
    "\n",
    "# We will now place these steps in a `workflow` using the `add_recipe` and `add_model` functions, \\index{tidymodels!add\\_recipe}\\index{tidymodels!add\\_model}\n",
    "# and finally we will use the `fit` function to run the whole workflow on the `unscaled_cancer` data.\n",
    "# Note another difference from earlier here: we do not include a formula in the `fit` function. This \\index{tidymodels!fit}\n",
    "# is again because we included the formula in the recipe, so there is no need to respecify it:"
   ]
  },
  {
   "cell_type": "code",
   "execution_count": 58,
   "id": "9918bdae",
   "metadata": {},
   "outputs": [
    {
     "ename": "NameError",
     "evalue": "name 'make_pipeline' is not defined",
     "output_type": "error",
     "traceback": [
      "\u001b[0;31m---------------------------------------------------------------------------\u001b[0m",
      "\u001b[0;31mNameError\u001b[0m                                 Traceback (most recent call last)",
      "Input \u001b[0;32mIn [58]\u001b[0m, in \u001b[0;36m<cell line: 1>\u001b[0;34m()\u001b[0m\n\u001b[0;32m----> 1\u001b[0m knn_fit \u001b[38;5;241m=\u001b[39m \u001b[43mmake_pipeline\u001b[49m(preprocessor, knn_spec)\u001b[38;5;241m.\u001b[39mfit(\n\u001b[1;32m      2\u001b[0m     X\u001b[38;5;241m=\u001b[39munscaled_cancer\u001b[38;5;241m.\u001b[39mloc[:, [\u001b[38;5;124m\"\u001b[39m\u001b[38;5;124mArea\u001b[39m\u001b[38;5;124m\"\u001b[39m, \u001b[38;5;124m\"\u001b[39m\u001b[38;5;124mSmoothness\u001b[39m\u001b[38;5;124m\"\u001b[39m]], y\u001b[38;5;241m=\u001b[39munscaled_cancer[\u001b[38;5;124m\"\u001b[39m\u001b[38;5;124mClass\u001b[39m\u001b[38;5;124m\"\u001b[39m]\n\u001b[1;32m      3\u001b[0m )\n\u001b[1;32m      5\u001b[0m knn_fit\n",
      "\u001b[0;31mNameError\u001b[0m: name 'make_pipeline' is not defined"
     ]
    }
   ],
   "source": [
    "knn_fit = make_pipeline(preprocessor, knn_spec).fit(\n",
    "    X=unscaled_cancer.loc[:, [\"Area\", \"Smoothness\"]], y=unscaled_cancer[\"Class\"]\n",
    ")\n",
    "\n",
    "knn_fit"
   ]
  },
  {
   "cell_type": "markdown",
   "id": "685aba83",
   "metadata": {},
   "source": [
    "As before, the fit object lists the function that trains the model. But now the fit object also includes information about\n",
    "the overall workflow, including the standardizing preprocessing step.\n",
    "In other words, when we use the `predict` function with the `knn_fit` object to make a prediction for a new\n",
    "observation, it will first apply the same preprocessing steps to the new observation. \n",
    "As an example, we will predict the class label of two new observations:\n",
    "one with `Area = 500` and `Smoothness = 0.075`, and one with `Area = 1500` and `Smoothness = 0.1`."
   ]
  },
  {
   "cell_type": "code",
   "execution_count": 59,
   "id": "cd428422",
   "metadata": {
    "tags": [
     "remove-cell"
    ]
   },
   "outputs": [],
   "source": [
    "# As before, the fit object lists the function that trains the model as well as the \"best\" settings\n",
    "# for the number of neighbors and weight function (for now, these are just the values we chose\n",
    "#  manually when we created `knn_spec` above). But now the fit object also includes information about\n",
    "# the overall workflow, including the centering and scaling preprocessing steps.\n",
    "# In other words, when we use the `predict` function with the `knn_fit` object to make a prediction for a new\n",
    "# observation, it will first apply the same recipe steps to the new observation. \n",
    "# As an example, we will predict the class label of two new observations:\n",
    "# one with `Area = 500` and `Smoothness = 0.075`, and one with `Area = 1500` and `Smoothness = 0.1`."
   ]
  },
  {
   "cell_type": "code",
   "execution_count": 60,
   "id": "011d4797",
   "metadata": {},
   "outputs": [
    {
     "ename": "NameError",
     "evalue": "name 'knn_fit' is not defined",
     "output_type": "error",
     "traceback": [
      "\u001b[0;31m---------------------------------------------------------------------------\u001b[0m",
      "\u001b[0;31mNameError\u001b[0m                                 Traceback (most recent call last)",
      "Input \u001b[0;32mIn [60]\u001b[0m, in \u001b[0;36m<cell line: 2>\u001b[0;34m()\u001b[0m\n\u001b[1;32m      1\u001b[0m new_observation \u001b[38;5;241m=\u001b[39m pd\u001b[38;5;241m.\u001b[39mDataFrame({\u001b[38;5;124m\"\u001b[39m\u001b[38;5;124mArea\u001b[39m\u001b[38;5;124m\"\u001b[39m: [\u001b[38;5;241m500\u001b[39m, \u001b[38;5;241m1500\u001b[39m], \u001b[38;5;124m\"\u001b[39m\u001b[38;5;124mSmoothness\u001b[39m\u001b[38;5;124m\"\u001b[39m: [\u001b[38;5;241m0.075\u001b[39m, \u001b[38;5;241m0.1\u001b[39m]})\n\u001b[0;32m----> 2\u001b[0m prediction \u001b[38;5;241m=\u001b[39m \u001b[43mknn_fit\u001b[49m\u001b[38;5;241m.\u001b[39mpredict(new_observation)\n\u001b[1;32m      3\u001b[0m prediction\n",
      "\u001b[0;31mNameError\u001b[0m: name 'knn_fit' is not defined"
     ]
    }
   ],
   "source": [
    "new_observation = pd.DataFrame({\"Area\": [500, 1500], \"Smoothness\": [0.075, 0.1]})\n",
    "prediction = knn_fit.predict(new_observation)\n",
    "prediction"
   ]
  },
  {
   "cell_type": "markdown",
   "id": "9af11e67",
   "metadata": {},
   "source": [
    "The classifier predicts that the first observation is benign (\"B\"), while the second is\n",
    "malignant (\"M\"). {numref}`fig:05-workflow-plot-show` visualizes the predictions that this \n",
    "trained $K$-nearest neighbor model will make on a large range of new observations.\n",
    "Although you have seen colored prediction map visualizations like this a few times now,\n",
    "we have not included the code to generate them, as it is a little bit complicated.\n",
    "For the interested reader who wants a learning challenge, we now include it below. \n",
    "The basic idea is to create a grid of synthetic new observations using the `numpy.meshgrid` function, \n",
    "predict the label of each, and visualize the predictions with a colored scatter having a very high transparency \n",
    "(low `opacity` value) and large point radius. See if you can figure out what each line is doing!\n",
    "\n",
    "> **Note:** Understanding this code is not required for the remainder of the\n",
    "> textbook. It is included for those readers who would like to use similar\n",
    "> visualizations in their own data analyses."
   ]
  },
  {
   "cell_type": "code",
   "execution_count": 61,
   "id": "8eede850",
   "metadata": {},
   "outputs": [
    {
     "ename": "NameError",
     "evalue": "name 'np' is not defined",
     "output_type": "error",
     "traceback": [
      "\u001b[0;31m---------------------------------------------------------------------------\u001b[0m",
      "\u001b[0;31mNameError\u001b[0m                                 Traceback (most recent call last)",
      "Input \u001b[0;32mIn [61]\u001b[0m, in \u001b[0;36m<cell line: 2>\u001b[0;34m()\u001b[0m\n\u001b[1;32m      1\u001b[0m \u001b[38;5;66;03m# create the grid of area/smoothness vals, and arrange in a data frame\u001b[39;00m\n\u001b[0;32m----> 2\u001b[0m are_grid \u001b[38;5;241m=\u001b[39m \u001b[43mnp\u001b[49m\u001b[38;5;241m.\u001b[39mlinspace(\n\u001b[1;32m      3\u001b[0m     unscaled_cancer[\u001b[38;5;124m\"\u001b[39m\u001b[38;5;124mArea\u001b[39m\u001b[38;5;124m\"\u001b[39m]\u001b[38;5;241m.\u001b[39mmin(), unscaled_cancer[\u001b[38;5;124m\"\u001b[39m\u001b[38;5;124mArea\u001b[39m\u001b[38;5;124m\"\u001b[39m]\u001b[38;5;241m.\u001b[39mmax(), \u001b[38;5;241m100\u001b[39m\n\u001b[1;32m      4\u001b[0m )\n\u001b[1;32m      5\u001b[0m smo_grid \u001b[38;5;241m=\u001b[39m np\u001b[38;5;241m.\u001b[39mlinspace(\n\u001b[1;32m      6\u001b[0m     unscaled_cancer[\u001b[38;5;124m\"\u001b[39m\u001b[38;5;124mSmoothness\u001b[39m\u001b[38;5;124m\"\u001b[39m]\u001b[38;5;241m.\u001b[39mmin(), unscaled_cancer[\u001b[38;5;124m\"\u001b[39m\u001b[38;5;124mSmoothness\u001b[39m\u001b[38;5;124m\"\u001b[39m]\u001b[38;5;241m.\u001b[39mmax(), \u001b[38;5;241m100\u001b[39m\n\u001b[1;32m      7\u001b[0m )\n\u001b[1;32m      8\u001b[0m asgrid \u001b[38;5;241m=\u001b[39m np\u001b[38;5;241m.\u001b[39marray(np\u001b[38;5;241m.\u001b[39mmeshgrid(are_grid, smo_grid))\u001b[38;5;241m.\u001b[39mreshape(\u001b[38;5;241m2\u001b[39m, \u001b[38;5;241m-\u001b[39m\u001b[38;5;241m1\u001b[39m)\u001b[38;5;241m.\u001b[39mT\n",
      "\u001b[0;31mNameError\u001b[0m: name 'np' is not defined"
     ]
    }
   ],
   "source": [
    "# create the grid of area/smoothness vals, and arrange in a data frame\n",
    "are_grid = np.linspace(\n",
    "    unscaled_cancer[\"Area\"].min(), unscaled_cancer[\"Area\"].max(), 100\n",
    ")\n",
    "smo_grid = np.linspace(\n",
    "    unscaled_cancer[\"Smoothness\"].min(), unscaled_cancer[\"Smoothness\"].max(), 100\n",
    ")\n",
    "asgrid = np.array(np.meshgrid(are_grid, smo_grid)).reshape(2, -1).T\n",
    "asgrid = pd.DataFrame(asgrid, columns=[\"Area\", \"Smoothness\"])\n",
    "\n",
    "# use the fit workflow to make predictions at the grid points\n",
    "knnPredGrid = knn_fit.predict(asgrid)\n",
    "\n",
    "# bind the predictions as a new column with the grid points\n",
    "prediction_table = asgrid.copy()\n",
    "prediction_table[\"Class\"] = knnPredGrid\n",
    "\n",
    "# plot:\n",
    "# 1. the colored scatter of the original data\n",
    "unscaled_plot = (\n",
    "    alt.Chart(\n",
    "        unscaled_cancer,\n",
    "    )\n",
    "    .mark_point(opacity=0.6, filled=True, size=40)\n",
    "    .encode(\n",
    "        x=alt.X(\n",
    "            \"Area\",\n",
    "            title=\"Area (standardized)\",\n",
    "            scale=alt.Scale(\n",
    "                domain=(unscaled_cancer[\"Area\"].min(), unscaled_cancer[\"Area\"].max())\n",
    "            ),\n",
    "        ),\n",
    "        y=alt.Y(\n",
    "            \"Smoothness\",\n",
    "            title=\"Smoothness (standardized)\",\n",
    "            scale=alt.Scale(\n",
    "                domain=(\n",
    "                    unscaled_cancer[\"Smoothness\"].min(),\n",
    "                    unscaled_cancer[\"Smoothness\"].max(),\n",
    "                )\n",
    "            ),\n",
    "        ),\n",
    "        color=alt.Color(\"Class\", scale=alt.Scale(range=colors), title=\"Diagnosis\"),\n",
    "    )\n",
    ")\n",
    "\n",
    "# 2. the faded colored scatter for the grid points\n",
    "prediction_plot = (\n",
    "    alt.Chart(prediction_table)\n",
    "    .mark_point(opacity=0.02, filled=True, size=200)\n",
    "    .encode(\n",
    "        x=alt.X(\"Area\"),\n",
    "        y=alt.Y(\"Smoothness\"),\n",
    "        color=alt.Color(\"Class\", scale=alt.Scale(range=colors), title=\"Diagnosis\"),\n",
    "    )\n",
    ")\n",
    "\n",
    "unscaled_plot + prediction_plot"
   ]
  },
  {
   "cell_type": "markdown",
   "id": "3c5eb781",
   "metadata": {},
   "source": [
    "```{figure} data:image/gif;base64,R0lGODlhAQABAIAAAAAAAP///yH5BAEAAAAALAAAAAABAAEAAAIBRAA7\n",
    ":name: fig:05-workflow-plot-show\n",
    ":figclass: caption-hack\n",
    "\n",
    "Scatter plot of smoothness versus area where background color indicates the decision of the classifier.\n",
    "```"
   ]
  },
  {
   "cell_type": "markdown",
   "id": "9c692c35",
   "metadata": {},
   "source": [
    "## Exercises\n",
    "\n",
    "Practice exercises for the material covered in this chapter \n",
    "can be found in the accompanying \n",
    "[worksheets repository](https://github.com/UBC-DSCI/data-science-a-first-intro-worksheets#readme)\n",
    "in the \"Classification I: training and predicting\" row.\n",
    "You can launch an interactive version of the worksheet in your browser by clicking the \"launch binder\" button.\n",
    "You can also preview a non-interactive version of the worksheet by clicking \"view worksheet.\"\n",
    "If you instead decide to download the worksheet and run it on your own machine,\n",
    "make sure to follow the instructions for computer setup\n",
    "found in Chapter \\@ref(move-to-your-own-machine). This will ensure that the automated feedback\n",
    "and guidance that the worksheets provide will function as intended."
   ]
  },
  {
   "cell_type": "markdown",
   "id": "28e9811b",
   "metadata": {},
   "source": [
    "```{bibliography}\n",
    "```"
   ]
  }
 ],
 "metadata": {
  "jupytext": {
   "formats": "py:percent,md:myst,ipynb",
   "text_representation": {
    "extension": ".md",
    "format_name": "myst",
    "format_version": 0.13,
    "jupytext_version": "1.13.5"
   }
  },
  "kernelspec": {
   "display_name": "Python 3 (ipykernel)",
   "language": "python",
   "name": "python3"
  },
  "language_info": {
   "codemirror_mode": {
    "name": "ipython",
    "version": 3
   },
   "file_extension": ".py",
   "mimetype": "text/x-python",
   "name": "python",
   "nbconvert_exporter": "python",
   "pygments_lexer": "ipython3",
   "version": "3.9.12"
  },
  "source_map": [
   13,
   18,
   48,
   76,
   137,
   145,
   147,
   155,
   158,
   188,
   195,
   197,
   201,
   206,
   210,
   249,
   258,
   264,
   274,
   291,
   300,
   318,
   322,
   338,
   355,
   379,
   387,
   399,
   406,
   416,
   424,
   442,
   482,
   491,
   499,
   520,
   534,
   544,
   552,
   559,
   573,
   586,
   618,
   626,
   637,
   644,
   657,
   670,
   676,
   692,
   700,
   733,
   746,
   752,
   773,
   791,
   843,
   847,
   856,
   867,
   881,
   900,
   902,
   911,
   914,
   925,
   943,
   946,
   952,
   972,
   976,
   987,
   994,
   997,
   1005,
   1024,
   1049,
   1053,
   1068,
   1080,
   1085,
   1097,
   1113,
   1136,
   1143,
   1162,
   1181,
   1199,
   1282,
   1358,
   1367,
   1375,
   1384,
   1392,
   1418,
   1426,
   1449,
   1462,
   1483,
   1492,
   1503,
   1560,
   1568,
   1575,
   1634,
   1642,
   1653,
   1666,
   1670,
   1680,
   1689,
   1737,
   1745,
   1754,
   1766,
   1777,
   1785,
   1801,
   1807,
   1816,
   1829,
   1833,
   1849,
   1908,
   1917,
   1932
  ]
 },
 "nbformat": 4,
 "nbformat_minor": 5
}